{
 "cells": [
  {
   "cell_type": "code",
   "execution_count": 1,
   "metadata": {
    "collapsed": true
   },
   "outputs": [],
   "source": [
    "import tensorflow as tf"
   ]
  },
  {
   "cell_type": "code",
   "execution_count": 2,
   "outputs": [],
   "source": [
    "from etl.load_dataset import DatasetProcessor\n",
    "\n",
    "target_dir = '../test_files/EGGIMazing/Dataset'\n",
    "batch_size = 16\n",
    "num_epochs = 10\n",
    "learning_rate = 1e-4\n",
    "\n",
    "dp = DatasetProcessor(target_dir)\n",
    "df = dp.process()\n",
    "# df = df[~df.isna().any(axis=1)].reset_index(drop=True)\n",
    "X, y = df['image_directory'], df['eggim_square']"
   ],
   "metadata": {
    "collapsed": false
   }
  },
  {
   "cell_type": "code",
   "execution_count": 4,
   "outputs": [],
   "source": [
    "from custom_models.cnns import simple_cnn\n",
    "from etl.load_dataset import get_tf_eggim_patch_dataset\n",
    "\n",
    "split = dp.stratified_k_splits(X, y, k=1, train_size=0.8, val_size=0.1, test_size=0.1, random_state=42)\n",
    "train_idx, val_idx, test_idx = next(split)\n",
    "# df_train = df.loc[train_idx]\n",
    "tf_train_df = get_tf_eggim_patch_dataset(df.loc[train_idx], num_classes=3)\n",
    "tf_val_df = get_tf_eggim_patch_dataset(df.loc[val_idx], num_classes=3)\n",
    "tf_test_df = get_tf_eggim_patch_dataset(df.loc[test_idx], num_classes=3)\n",
    "\n",
    "tf_train_df = tf_train_df.batch(batch_size)\n",
    "tf_val_df = tf_val_df.batch(batch_size)\n",
    "tf_test_df = tf_test_df.batch(batch_size)\n",
    "\n",
    "n_classes = 3  # Replace with the number of classes you have\n",
    "model = simple_cnn(input_shape=(224, 224, 3), n_classes=n_classes)"
   ],
   "metadata": {
    "collapsed": false
   }
  },
  {
   "cell_type": "code",
   "execution_count": 50,
   "outputs": [],
   "source": [
    "checkpoint_dir = '../test_scripts/test_simple_cnn_20240812-143310'\n",
    "model.load_weights(f'{checkpoint_dir}/weights.h5')\n"
   ],
   "metadata": {
    "collapsed": false
   }
  },
  {
   "cell_type": "code",
   "execution_count": 51,
   "outputs": [
    {
     "name": "stdout",
     "output_type": "stream",
     "text": [
      "2/2 [==============================] - 0s 100ms/step\n"
     ]
    }
   ],
   "source": [
    "import numpy as np\n",
    "y_true = np.concatenate([y for (_, y) in tf_test_df])\n",
    "y_pred = model.predict(tf_test_df)"
   ],
   "metadata": {
    "collapsed": false
   }
  },
  {
   "cell_type": "code",
   "execution_count": 52,
   "outputs": [],
   "source": [
    "y_true_ordinal = np.argmax(y_true, axis=-1) # [0 0 1] -> 2\n",
    "y_pred_ordinal = np.argmax(y_pred, axis=-1)\n",
    "y_pred_one_hot = np.zeros_like(y_pred)\n",
    "y_pred_one_hot[np.arange(len(y_pred)), np.argmax(y_pred, axis=1)] = 1 # [0.2, 0.2, 0.6] -> [0, 0, 1]"
   ],
   "metadata": {
    "collapsed": false
   }
  },
  {
   "cell_type": "code",
   "execution_count": 53,
   "outputs": [
    {
     "name": "stdout",
     "output_type": "stream",
     "text": [
      "Categorical Accuracy: 0.8095\n",
      "Precision: 0.8363\n",
      "Recall: 0.8095\n",
      "AUC: 0.8180\n",
      "Confusion Matrix:\n",
      "[[13  0  0]\n",
      " [ 2  2  1]\n",
      " [ 1  0  2]]\n"
     ]
    }
   ],
   "source": [
    "from sklearn.metrics import precision_score, recall_score, roc_auc_score, confusion_matrix\n",
    "\n",
    "\n",
    "def categorical_accuracy(y_true, y_pred):\n",
    "    return np.mean(np.all(y_true == y_pred, axis=1))\n",
    "\n",
    "accuracy = categorical_accuracy(y_true, y_pred_one_hot)\n",
    "print(f'Categorical Accuracy: {accuracy:.4f}')\n",
    "\n",
    "\n",
    "# Precision and Recall\n",
    "precision = precision_score(y_true_ordinal, y_pred_ordinal, average='weighted')\n",
    "recall = recall_score(y_true_ordinal, y_pred_ordinal, average='weighted')\n",
    "\n",
    "print(f'Precision: {precision:.4f}')\n",
    "print(f'Recall: {recall:.4f}')\n",
    "\n",
    "# AUC\n",
    "auc = roc_auc_score(y_true, y_pred, multi_class='ovr')\n",
    "print(f'AUC: {auc:.4f}')\n",
    "\n",
    "# Confusion Matrix\n",
    "conf_matrix = confusion_matrix(y_true_ordinal, y_pred_ordinal)\n",
    "print('Confusion Matrix:')\n",
    "print(conf_matrix)"
   ],
   "metadata": {
    "collapsed": false
   }
  },
  {
   "cell_type": "code",
   "execution_count": 54,
   "outputs": [],
   "source": [
    "def categorical_accuracy(y_true, y_pred):\n",
    "    return np.mean(np.all(y_true == y_pred, axis=1))\n",
    "\n",
    "def specificity_per_class(conf_matrix):\n",
    "    specificity_per_class = []\n",
    "    # Number of classes\n",
    "    num_classes = conf_matrix.shape[0]\n",
    "\n",
    "    for i in range(num_classes):\n",
    "        # True Positives for class i\n",
    "        TP = conf_matrix[i, i]\n",
    "\n",
    "        # False Positives for class i\n",
    "        FP = np.sum(conf_matrix[:, i]) - TP\n",
    "\n",
    "        # False Negatives for class i\n",
    "        FN = np.sum(conf_matrix[i, :]) - TP\n",
    "\n",
    "        # True Negatives for class i\n",
    "        TN = np.sum(conf_matrix) - (TP + FP + FN)\n",
    "\n",
    "        # Specificity for class i\n",
    "        specificity = TN / (TN + FP)\n",
    "        specificity_per_class.append(specificity)\n",
    "    specificity_per_class = np.array(specificity_per_class)\n",
    "    return specificity_per_class, np.mean(specificity_per_class)"
   ],
   "metadata": {
    "collapsed": false
   }
  },
  {
   "cell_type": "code",
   "execution_count": 55,
   "outputs": [],
   "source": [
    "def sensitivity_per_class(conf_matrix):\n",
    "    # Initialize an array to store sensitivity for each class\n",
    "    sensitivity_per_class = []\n",
    "\n",
    "    # Number of classes\n",
    "    num_classes = conf_matrix.shape[0]\n",
    "\n",
    "    for i in range(num_classes):\n",
    "        # True Positives for class i\n",
    "        TP = conf_matrix[i, i]\n",
    "\n",
    "        # False Negatives for class i\n",
    "        FN = np.sum(conf_matrix[i, :]) - TP\n",
    "\n",
    "        # Sensitivity for class i\n",
    "        sensitivity = TP / (TP + FN)\n",
    "        sensitivity_per_class.append(sensitivity)\n",
    "    return np.array(sensitivity_per_class), np.mean(sensitivity_per_class)"
   ],
   "metadata": {
    "collapsed": false
   }
  },
  {
   "cell_type": "code",
   "execution_count": 56,
   "outputs": [
    {
     "data": {
      "text/plain": "((array([0.625     , 1.        , 0.94444444]), 0.8564814814814815),\n (array([1.        , 0.4       , 0.66666667]), 0.6888888888888888))"
     },
     "execution_count": 56,
     "metadata": {},
     "output_type": "execute_result"
    }
   ],
   "source": [
    "specificity_per_class(conf_matrix), sensitivity_per_class(conf_matrix)"
   ],
   "metadata": {
    "collapsed": false
   }
  },
  {
   "cell_type": "code",
   "execution_count": null,
   "outputs": [],
   "source": [],
   "metadata": {
    "collapsed": false
   }
  }
 ],
 "metadata": {
  "kernelspec": {
   "display_name": "Python 3",
   "language": "python",
   "name": "python3"
  },
  "language_info": {
   "codemirror_mode": {
    "name": "ipython",
    "version": 2
   },
   "file_extension": ".py",
   "mimetype": "text/x-python",
   "name": "python",
   "nbconvert_exporter": "python",
   "pygments_lexer": "ipython2",
   "version": "2.7.6"
  }
 },
 "nbformat": 4,
 "nbformat_minor": 0
}
