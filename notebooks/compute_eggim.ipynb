{
 "cells": [
  {
   "cell_type": "code",
   "execution_count": 2,
   "metadata": {
    "collapsed": true
   },
   "outputs": [],
   "source": [
    "import matplotlib.pyplot as plt\n",
    "import numpy as np\n",
    "import os\n",
    "import pandas as pd\n",
    "import tensorflow as tf\n",
    "\n",
    "from keras.metrics import Precision, Recall, AUC, CategoricalAccuracy\n",
    "from sklearn.model_selection import GroupShuffleSplit, StratifiedShuffleSplit\n",
    "\n",
    "from custom_models.cnns import simple_cnn_bn\n",
    "from etl.load_dataset import DatasetProcessor, get_tf_eggim_patch_dataset\n",
    "from evaluation.metrics import categorical_accuracy, sensitivity_per_class, specificity_per_class"
   ]
  },
  {
   "cell_type": "code",
   "execution_count": 16,
   "outputs": [],
   "source": [
    "num_folds = 5\n",
    "target_dir = '../test_files/EGGIMazing/Dataset'\n",
    "dp = DatasetProcessor(target_dir)\n",
    "df = dp.process()\n",
    "def replace_landmark_name(landmark):\n",
    "    new_landmark_name = {'ii': 'distal body',\n",
    "                    'ix': 'distal lc',\n",
    "                    'vi': 'proximal ant lc',\n",
    "                    'vii': 'proximal ant gc/pw',\n",
    "                    'viii': 'incisura r',\n",
    "                    'x': 'upper body r',\n",
    "                    'xii': 'upper body ant'}\n",
    "    landmark_number = landmark.split('.')[0]\n",
    "    return new_landmark_name[landmark_number]\n",
    "df['landmark'] = df['landmark'].apply(replace_landmark_name)\n",
    "togas_ids_boolean = np.array([x.startswith('PT') for x in df['patient_id'].values])\n",
    "df_togas = df[togas_ids_boolean].reset_index(drop=True)\n",
    "df_ipo = df[~togas_ids_boolean].reset_index(drop=True)"
   ],
   "metadata": {
    "collapsed": false
   }
  },
  {
   "cell_type": "markdown",
   "source": [
    "Threshold de decisão EGGIM = 5\n",
    " EGGIM = EGGIM score vi. proximal antrum - lesser curvature + EGGIM score vii. proximal antrum - greater curvature, posterior wall + EGGIM score viii. incisura in retroflexion + [(EGGIM score ii. distal body in anteversion + EGGIM score xii. upper body in anteversion)/2] + [(EGGIM score ix. distal lesser curvature in retroflexion + EGGIM score x. upper body in retroflexion)/2]"
   ],
   "metadata": {
    "collapsed": false
   }
  },
  {
   "cell_type": "code",
   "execution_count": 135,
   "outputs": [
    {
     "data": {
      "text/plain": "       eggim_square  eggim_global\nPT004           1.0           1.0\nPT005           4.0           3.0\nPT006           1.0           1.0\nPT009           8.0           8.5\nPT016           0.0           0.0\nPT020           1.0           2.0\nPT021          10.0          10.0\nPT022           8.0           8.0",
      "text/html": "<div>\n<style scoped>\n    .dataframe tbody tr th:only-of-type {\n        vertical-align: middle;\n    }\n\n    .dataframe tbody tr th {\n        vertical-align: top;\n    }\n\n    .dataframe thead th {\n        text-align: right;\n    }\n</style>\n<table border=\"1\" class=\"dataframe\">\n  <thead>\n    <tr style=\"text-align: right;\">\n      <th></th>\n      <th>eggim_square</th>\n      <th>eggim_global</th>\n    </tr>\n  </thead>\n  <tbody>\n    <tr>\n      <th>PT004</th>\n      <td>1.0</td>\n      <td>1.0</td>\n    </tr>\n    <tr>\n      <th>PT005</th>\n      <td>4.0</td>\n      <td>3.0</td>\n    </tr>\n    <tr>\n      <th>PT006</th>\n      <td>1.0</td>\n      <td>1.0</td>\n    </tr>\n    <tr>\n      <th>PT009</th>\n      <td>8.0</td>\n      <td>8.5</td>\n    </tr>\n    <tr>\n      <th>PT016</th>\n      <td>0.0</td>\n      <td>0.0</td>\n    </tr>\n    <tr>\n      <th>PT020</th>\n      <td>1.0</td>\n      <td>2.0</td>\n    </tr>\n    <tr>\n      <th>PT021</th>\n      <td>10.0</td>\n      <td>10.0</td>\n    </tr>\n    <tr>\n      <th>PT022</th>\n      <td>8.0</td>\n      <td>8.0</td>\n    </tr>\n  </tbody>\n</table>\n</div>"
     },
     "execution_count": 135,
     "metadata": {},
     "output_type": "execute_result"
    }
   ],
   "source": [
    "\n",
    "\n",
    "def compute_eggim_patient(patient_df, target_variable):\n",
    "    eggim_landmarks = ['proximal ant lc',\n",
    "     'proximal ant gc/pw',\n",
    "     'incisura r',\n",
    "     'distal body',\n",
    "     'upper body ant',\n",
    "     'distal lc',\n",
    "     'upper body r']\n",
    "\n",
    "    df = patient_df[['landmark', target_variable]].value_counts()\n",
    "    # we use index[0] to assume first landmark/score pair is correct\n",
    "    eggim_antrum_incisura = df['proximal ant lc'].index[0] + df['proximal ant gc/pw'].index[0] + df['incisura r'].index[0]\n",
    "    eggim_body_1 = (df['distal body'].index[0] + df['upper body ant'].index[0]) / 2\n",
    "    eggim_body_2 = (df['distal lc'].index[0]+ df['upper body r'].index[0]) / 2\n",
    "    return eggim_antrum_incisura + eggim_body_1 + eggim_body_2\n",
    "\n",
    "\n",
    "\n",
    "def get_eggim_df(df):\n",
    "    eggim_scores = {}\n",
    "    patient_ids = np.unique(df['patient_id'].values)\n",
    "    for i in range(len(patient_ids)):\n",
    "        try:\n",
    "            eggim_square = compute_eggim_patient(df[df.patient_id == patient_ids[i]],\n",
    "                                          target_variable='eggim_square')\n",
    "            eggim_global = compute_eggim_patient(df[df.patient_id == patient_ids[i]],\n",
    "                                          target_variable='eggim_global')\n",
    "            eggim_scores[patient_ids[i]] = {'eggim_square': eggim_square, 'eggim_global': eggim_global}\n",
    "        except:\n",
    "            continue\n",
    "    return eggim_scores\n",
    "# 2, 3, 4\n",
    "pd.DataFrame(get_eggim_df(df_togas)).T"
   ],
   "metadata": {
    "collapsed": false
   }
  },
  {
   "cell_type": "markdown",
   "source": [],
   "metadata": {
    "collapsed": false
   }
  },
  {
   "cell_type": "code",
   "execution_count": 113,
   "outputs": [
    {
     "name": "stdout",
     "output_type": "stream",
     "text": [
      "landmark            eggim_square\n",
      "distal body         0               2\n",
      "distal lc           0               2\n",
      "incisura r          1               1\n",
      "                    2               1\n",
      "proximal ant gc/pw  0               1\n",
      "proximal ant lc     0               1\n",
      "                    2               1\n",
      "upper body ant      0               1\n",
      "upper body r        0               1\n",
      "Name: count, dtype: int64\n"
     ]
    },
    {
     "data": {
      "text/plain": "1.0"
     },
     "execution_count": 113,
     "metadata": {},
     "output_type": "execute_result"
    }
   ],
   "source": [],
   "metadata": {
    "collapsed": false
   }
  },
  {
   "cell_type": "code",
   "execution_count": 56,
   "outputs": [
    {
     "data": {
      "text/plain": "                    bbox  eggim_global  eggim_square            landmark  \\\n32  [341, 202, 565, 426]             1             1          incisura r   \n33  [209, 137, 433, 361]             0             0         distal body   \n34  [222, 215, 446, 439]             0             0        upper body r   \n35  [220, 234, 444, 458]             1             0           distal lc   \n36  [222, 179, 446, 403]             0             0      upper body ant   \n37  [284, 165, 508, 389]             0             0         distal body   \n38  [183, 108, 407, 332]             0             0           distal lc   \n39  [250, 101, 475, 326]             0             0          incisura r   \n40  [256, 140, 481, 364]             1             1  proximal ant gc/pw   \n41  [240, 138, 464, 362]             0             0     proximal ant lc   \n\n                                      image_directory patient_id  \n32  ../test_files/EGGIMazing/Dataset/2024012416234...      PT006  \n33  ../test_files/EGGIMazing/Dataset/2024012416241...      PT006  \n34  ../test_files/EGGIMazing/Dataset/2024012416243...      PT006  \n35  ../test_files/EGGIMazing/Dataset/2024012416250...      PT006  \n36  ../test_files/EGGIMazing/Dataset/2024012416252...      PT006  \n37  ../test_files/EGGIMazing/Dataset/2024012416263...      PT006  \n38  ../test_files/EGGIMazing/Dataset/2024012416271...      PT006  \n39  ../test_files/EGGIMazing/Dataset/2024012416280...      PT006  \n40  ../test_files/EGGIMazing/Dataset/2024012416284...      PT006  \n41  ../test_files/EGGIMazing/Dataset/2024012416291...      PT006  ",
      "text/html": "<div>\n<style scoped>\n    .dataframe tbody tr th:only-of-type {\n        vertical-align: middle;\n    }\n\n    .dataframe tbody tr th {\n        vertical-align: top;\n    }\n\n    .dataframe thead th {\n        text-align: right;\n    }\n</style>\n<table border=\"1\" class=\"dataframe\">\n  <thead>\n    <tr style=\"text-align: right;\">\n      <th></th>\n      <th>bbox</th>\n      <th>eggim_global</th>\n      <th>eggim_square</th>\n      <th>landmark</th>\n      <th>image_directory</th>\n      <th>patient_id</th>\n    </tr>\n  </thead>\n  <tbody>\n    <tr>\n      <th>32</th>\n      <td>[341, 202, 565, 426]</td>\n      <td>1</td>\n      <td>1</td>\n      <td>incisura r</td>\n      <td>../test_files/EGGIMazing/Dataset/2024012416234...</td>\n      <td>PT006</td>\n    </tr>\n    <tr>\n      <th>33</th>\n      <td>[209, 137, 433, 361]</td>\n      <td>0</td>\n      <td>0</td>\n      <td>distal body</td>\n      <td>../test_files/EGGIMazing/Dataset/2024012416241...</td>\n      <td>PT006</td>\n    </tr>\n    <tr>\n      <th>34</th>\n      <td>[222, 215, 446, 439]</td>\n      <td>0</td>\n      <td>0</td>\n      <td>upper body r</td>\n      <td>../test_files/EGGIMazing/Dataset/2024012416243...</td>\n      <td>PT006</td>\n    </tr>\n    <tr>\n      <th>35</th>\n      <td>[220, 234, 444, 458]</td>\n      <td>1</td>\n      <td>0</td>\n      <td>distal lc</td>\n      <td>../test_files/EGGIMazing/Dataset/2024012416250...</td>\n      <td>PT006</td>\n    </tr>\n    <tr>\n      <th>36</th>\n      <td>[222, 179, 446, 403]</td>\n      <td>0</td>\n      <td>0</td>\n      <td>upper body ant</td>\n      <td>../test_files/EGGIMazing/Dataset/2024012416252...</td>\n      <td>PT006</td>\n    </tr>\n    <tr>\n      <th>37</th>\n      <td>[284, 165, 508, 389]</td>\n      <td>0</td>\n      <td>0</td>\n      <td>distal body</td>\n      <td>../test_files/EGGIMazing/Dataset/2024012416263...</td>\n      <td>PT006</td>\n    </tr>\n    <tr>\n      <th>38</th>\n      <td>[183, 108, 407, 332]</td>\n      <td>0</td>\n      <td>0</td>\n      <td>distal lc</td>\n      <td>../test_files/EGGIMazing/Dataset/2024012416271...</td>\n      <td>PT006</td>\n    </tr>\n    <tr>\n      <th>39</th>\n      <td>[250, 101, 475, 326]</td>\n      <td>0</td>\n      <td>0</td>\n      <td>incisura r</td>\n      <td>../test_files/EGGIMazing/Dataset/2024012416280...</td>\n      <td>PT006</td>\n    </tr>\n    <tr>\n      <th>40</th>\n      <td>[256, 140, 481, 364]</td>\n      <td>1</td>\n      <td>1</td>\n      <td>proximal ant gc/pw</td>\n      <td>../test_files/EGGIMazing/Dataset/2024012416284...</td>\n      <td>PT006</td>\n    </tr>\n    <tr>\n      <th>41</th>\n      <td>[240, 138, 464, 362]</td>\n      <td>0</td>\n      <td>0</td>\n      <td>proximal ant lc</td>\n      <td>../test_files/EGGIMazing/Dataset/2024012416291...</td>\n      <td>PT006</td>\n    </tr>\n  </tbody>\n</table>\n</div>"
     },
     "execution_count": 56,
     "metadata": {},
     "output_type": "execute_result"
    }
   ],
   "source": [
    "df_togas[df_togas.patient_id == patient_ids[4]]"
   ],
   "metadata": {
    "collapsed": false
   }
  },
  {
   "cell_type": "code",
   "execution_count": 59,
   "outputs": [
    {
     "data": {
      "text/plain": "                   bbox  eggim_global  eggim_square         landmark  \\\n0  [218, 113, 442, 338]             0             0      distal body   \n1  [213, 228, 438, 452]             0             0        distal lc   \n2  [190, 231, 415, 455]             0             0        distal lc   \n3  [169, 234, 393, 458]             1             0     upper body r   \n4  [232, 129, 456, 353]             0             0      distal body   \n5  [222, 133, 446, 358]             0             0        distal lc   \n6  [207, 125, 431, 349]             2             2  proximal ant lc   \n\n                                     image_directory patient_id  \n0  ../test_files/EGGIMazing/Dataset/2024011716000...      PT002  \n1  ../test_files/EGGIMazing/Dataset/2024011716033...      PT002  \n2  ../test_files/EGGIMazing/Dataset/2024011716040...      PT002  \n3  ../test_files/EGGIMazing/Dataset/2024011716043...      PT002  \n4  ../test_files/EGGIMazing/Dataset/2024011716074...      PT002  \n5  ../test_files/EGGIMazing/Dataset/2024011716081...      PT002  \n6  ../test_files/EGGIMazing/Dataset/2024011716114...      PT002  ",
      "text/html": "<div>\n<style scoped>\n    .dataframe tbody tr th:only-of-type {\n        vertical-align: middle;\n    }\n\n    .dataframe tbody tr th {\n        vertical-align: top;\n    }\n\n    .dataframe thead th {\n        text-align: right;\n    }\n</style>\n<table border=\"1\" class=\"dataframe\">\n  <thead>\n    <tr style=\"text-align: right;\">\n      <th></th>\n      <th>bbox</th>\n      <th>eggim_global</th>\n      <th>eggim_square</th>\n      <th>landmark</th>\n      <th>image_directory</th>\n      <th>patient_id</th>\n    </tr>\n  </thead>\n  <tbody>\n    <tr>\n      <th>0</th>\n      <td>[218, 113, 442, 338]</td>\n      <td>0</td>\n      <td>0</td>\n      <td>distal body</td>\n      <td>../test_files/EGGIMazing/Dataset/2024011716000...</td>\n      <td>PT002</td>\n    </tr>\n    <tr>\n      <th>1</th>\n      <td>[213, 228, 438, 452]</td>\n      <td>0</td>\n      <td>0</td>\n      <td>distal lc</td>\n      <td>../test_files/EGGIMazing/Dataset/2024011716033...</td>\n      <td>PT002</td>\n    </tr>\n    <tr>\n      <th>2</th>\n      <td>[190, 231, 415, 455]</td>\n      <td>0</td>\n      <td>0</td>\n      <td>distal lc</td>\n      <td>../test_files/EGGIMazing/Dataset/2024011716040...</td>\n      <td>PT002</td>\n    </tr>\n    <tr>\n      <th>3</th>\n      <td>[169, 234, 393, 458]</td>\n      <td>1</td>\n      <td>0</td>\n      <td>upper body r</td>\n      <td>../test_files/EGGIMazing/Dataset/2024011716043...</td>\n      <td>PT002</td>\n    </tr>\n    <tr>\n      <th>4</th>\n      <td>[232, 129, 456, 353]</td>\n      <td>0</td>\n      <td>0</td>\n      <td>distal body</td>\n      <td>../test_files/EGGIMazing/Dataset/2024011716074...</td>\n      <td>PT002</td>\n    </tr>\n    <tr>\n      <th>5</th>\n      <td>[222, 133, 446, 358]</td>\n      <td>0</td>\n      <td>0</td>\n      <td>distal lc</td>\n      <td>../test_files/EGGIMazing/Dataset/2024011716081...</td>\n      <td>PT002</td>\n    </tr>\n    <tr>\n      <th>6</th>\n      <td>[207, 125, 431, 349]</td>\n      <td>2</td>\n      <td>2</td>\n      <td>proximal ant lc</td>\n      <td>../test_files/EGGIMazing/Dataset/2024011716114...</td>\n      <td>PT002</td>\n    </tr>\n  </tbody>\n</table>\n</div>"
     },
     "execution_count": 59,
     "metadata": {},
     "output_type": "execute_result"
    }
   ],
   "source": [
    "df_togas[df_togas.patient_id == patient_ids[0]]"
   ],
   "metadata": {
    "collapsed": false
   }
  },
  {
   "cell_type": "code",
   "execution_count": 76,
   "outputs": [
    {
     "data": {
      "text/plain": "landmark            eggim_square\ndistal body         0               2\ndistal lc           0               2\nincisura r          1               1\n                    2               1\nproximal ant gc/pw  0               1\nproximal ant lc     0               1\n                    2               1\nupper body ant      0               1\nupper body r        0               1\nName: count, dtype: int64"
     },
     "execution_count": 76,
     "metadata": {},
     "output_type": "execute_result"
    }
   ],
   "source": [
    "d_ = df_togas[df_togas.patient_id == patient_ids[2]][['landmark', 'eggim_square']].value_counts()\n",
    "d_"
   ],
   "metadata": {
    "collapsed": false
   }
  },
  {
   "cell_type": "code",
   "execution_count": 103,
   "outputs": [
    {
     "data": {
      "text/plain": "eggim_square\n1    1\n2    1\nName: count, dtype: int64"
     },
     "execution_count": 103,
     "metadata": {},
     "output_type": "execute_result"
    }
   ],
   "source": [
    "d_['incisura r'].index[0]"
   ],
   "metadata": {
    "collapsed": false
   }
  },
  {
   "cell_type": "code",
   "execution_count": 105,
   "outputs": [
    {
     "data": {
      "text/plain": "2"
     },
     "execution_count": 105,
     "metadata": {},
     "output_type": "execute_result"
    }
   ],
   "source": [
    "d_['proximal ant lc'].index[1]"
   ],
   "metadata": {
    "collapsed": false
   }
  },
  {
   "cell_type": "code",
   "execution_count": null,
   "outputs": [],
   "source": [],
   "metadata": {
    "collapsed": false
   }
  }
 ],
 "metadata": {
  "kernelspec": {
   "display_name": "Python 3",
   "language": "python",
   "name": "python3"
  },
  "language_info": {
   "codemirror_mode": {
    "name": "ipython",
    "version": 2
   },
   "file_extension": ".py",
   "mimetype": "text/x-python",
   "name": "python",
   "nbconvert_exporter": "python",
   "pygments_lexer": "ipython2",
   "version": "2.7.6"
  }
 },
 "nbformat": 4,
 "nbformat_minor": 0
}
