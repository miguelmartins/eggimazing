{
 "cells": [
  {
   "cell_type": "code",
   "execution_count": 5,
   "outputs": [],
   "source": [
    "import itertools\n",
    "\n",
    "import numpy as np\n",
    "import pandas as pd\n",
    "import tensorflow as tf\n",
    "from keras.metrics import Precision, Recall, AUC, CategoricalAccuracy\n",
    "\n",
    "from tensorflow.keras import backend as K\n",
    "from custom_models.cnns import base_resnet50\n",
    "from custom_models.augmentation import basic_augmentation, basic_plus_color_augmentation\n",
    "from custom_models.optimization_utilities import get_standard_callbacks\n",
    "from etl.load_dataset import DatasetProcessor, get_tf_eggim_patch_dataset\n",
    "import os\n"
   ],
   "metadata": {
    "collapsed": false
   }
  },
  {
   "cell_type": "code",
   "execution_count": 6,
   "outputs": [],
   "source": [
    "target_dir = '../../test_files/EGGIMazing/Dataset'\n",
    "model_weights_directory = '../../experiments/logs'\n",
    "batch_size = 32\n",
    "num_epochs = 100\n",
    "learning_rate = 1e-4\n",
    "num_folds = 5\n",
    "name = f'resnet_binary_full_9_1{num_folds}'\n",
    "model_fold_dir = sorted(os.listdir(model_weights_directory))\n",
    "model_dirs = [os.path.join(os.path.join(model_weights_directory, x), 'weights.h5')\n",
    "              for x in model_fold_dir if x.startswith(name)]"
   ],
   "metadata": {
    "collapsed": false
   }
  },
  {
   "cell_type": "code",
   "execution_count": 7,
   "outputs": [
    {
     "data": {
      "text/plain": "['../../experiments/logs/resnet_binary_full_9_15fold_0_20240817-161243/weights.h5',\n '../../experiments/logs/resnet_binary_full_9_15fold_1_20240817-161411/weights.h5',\n '../../experiments/logs/resnet_binary_full_9_15fold_2_20240817-161547/weights.h5',\n '../../experiments/logs/resnet_binary_full_9_15fold_3_20240817-161717/weights.h5',\n '../../experiments/logs/resnet_binary_full_9_15fold_4_20240817-161850/weights.h5']"
     },
     "execution_count": 7,
     "metadata": {},
     "output_type": "execute_result"
    }
   ],
   "source": [
    "model_dirs"
   ],
   "metadata": {
    "collapsed": false
   }
  },
  {
   "cell_type": "code",
   "execution_count": 8,
   "outputs": [
    {
     "name": "stderr",
     "output_type": "stream",
     "text": [
      "2024-08-17 16:26:30.326527: I tensorflow/compiler/xla/stream_executor/cuda/cuda_dnn.cc:442] Loaded cuDNN version 8700\n"
     ]
    },
    {
     "name": "stdout",
     "output_type": "stream",
     "text": [
      "1/1 [==============================] - 3s 3s/step - loss: 0.0000e+00 - accuracy: 0.8148 - precision: 0.3333 - recall: 0.6667 - auc: 0.9306\n",
      "1/1 [==============================] - 1s 542ms/step\n",
      "1/1 [==============================] - 1s 1s/step - loss: 0.0000e+00 - accuracy: 0.7931 - precision: 0.7895 - recall: 0.8824 - auc: 0.8627\n",
      "1/1 [==============================] - 1s 834ms/step\n",
      "1/1 [==============================] - 1s 1s/step - loss: 0.0000e+00 - accuracy: 0.7333 - precision: 0.8235 - recall: 0.7368 - auc: 0.8230\n",
      "1/1 [==============================] - 1s 532ms/step\n",
      "1/1 [==============================] - 1s 1s/step - loss: 0.0000e+00 - accuracy: 0.7419 - precision: 0.6500 - recall: 0.9286 - auc: 0.7437\n",
      "1/1 [==============================] - 1s 533ms/step\n",
      "WARNING:tensorflow:5 out of the last 5 calls to <function Model.make_test_function.<locals>.test_function at 0x7f1698453010> triggered tf.function retracing. Tracing is expensive and the excessive number of tracings could be due to (1) creating @tf.function repeatedly in a loop, (2) passing tensors with different shapes, (3) passing Python objects instead of tensors. For (1), please define your @tf.function outside of the loop. For (2), @tf.function has reduce_retracing=True option that can avoid unnecessary retracing. For (3), please refer to https://www.tensorflow.org/guide/function#controlling_retracing and https://www.tensorflow.org/api_docs/python/tf/function for  more details.\n",
      "1/1 [==============================] - 1s 1s/step - loss: 0.0000e+00 - accuracy: 0.5000 - precision: 0.2500 - recall: 1.0000 - auc: 0.7688\n",
      "WARNING:tensorflow:5 out of the last 5 calls to <function Model.make_predict_function.<locals>.predict_function at 0x7f16984503a0> triggered tf.function retracing. Tracing is expensive and the excessive number of tracings could be due to (1) creating @tf.function repeatedly in a loop, (2) passing tensors with different shapes, (3) passing Python objects instead of tensors. For (1), please define your @tf.function outside of the loop. For (2), @tf.function has reduce_retracing=True option that can avoid unnecessary retracing. For (3), please refer to https://www.tensorflow.org/guide/function#controlling_retracing and https://www.tensorflow.org/api_docs/python/tf/function for  more details.\n",
      "1/1 [==============================] - 1s 519ms/step\n"
     ]
    }
   ],
   "source": [
    "from etl.load_dataset import get_tf_eggim_full_image_dataset\n",
    "\n",
    "n_classes = 2  # Replace with the number of classes you have\n",
    "target_variable = 'eggim_global'\n",
    "dp = DatasetProcessor(target_dir)\n",
    "df = dp.process(merge_eggim_global=True)\n",
    "\n",
    "togas_ids_boolean = np.array([x.startswith('PT') for x in df['patient_id'].values])\n",
    "df_togas = df[togas_ids_boolean].reset_index(drop=True)\n",
    "df_ipo = df[~togas_ids_boolean].reset_index(drop=True)\n",
    "\n",
    "split = dp.smarter_multiple_ds_group_k_splits(df_togas,\n",
    "                                                  df_ipo,\n",
    "                                                  k=num_folds,\n",
    "                                                  train_size=0.9,\n",
    "                                                  test_size=0.1,\n",
    "                                                  internal_train_size=0.5,\n",
    "                                                  target_variable=target_variable,\n",
    "                                                  random_state=42)\n",
    "\n",
    "y_preds = []\n",
    "y_trues = []\n",
    "for fold, (df_train, df_val, df_test) in enumerate(split):\n",
    "    model = base_resnet50(input_shape=(224, 224, 3), n_classes=n_classes)\n",
    "    model.compile(optimizer=tf.keras.optimizers.Adam(learning_rate=learning_rate),\n",
    "                  metrics=['accuracy', Precision(name='precision'), Recall(name='recall'),\n",
    "                               AUC(name='auc')])\n",
    "\n",
    "    name_fold = name + f'fold_{fold}'\n",
    "    checkpoint_dir, callbacks = get_standard_callbacks(name_fold, learning_rate)\n",
    "    tf_test_df = get_tf_eggim_full_image_dataset(df_test,\n",
    "                                                 num_classes=n_classes,\n",
    "                                                 preprocess_fn=tf.keras.applications.resnet.preprocess_input)\n",
    "    tf_test_df = tf_test_df.batch(batch_size)\n",
    "    # around 70 no class weight\n",
    "    model.load_weights(model_dirs[fold])\n",
    "    model.evaluate(tf_test_df)\n",
    "    y_preds.append(model.predict(tf_test_df))\n",
    "    y_trues.append(np.concatenate([y for (_, y) in tf_test_df]))"
   ],
   "metadata": {
    "collapsed": false
   }
  },
  {
   "cell_type": "code",
   "execution_count": 9,
   "outputs": [],
   "source": [
    "from evaluation.metrics import specificity_per_class\n",
    "from evaluation.metrics import sensitivity_per_class\n",
    "from sklearn.metrics import accuracy_score, balanced_accuracy_score, confusion_matrix\n",
    "metrics = []\n",
    "for y_true, y_pred in zip(y_trues, y_preds):\n",
    "    y_pred = [1 if y_ > 0.5 else 0 for y_ in y_pred ]\n",
    "    conf_matrix = confusion_matrix(y_true, y_pred)\n",
    "\n",
    "    metrics.append([accuracy_score(y_true, y_pred),\n",
    "                    balanced_accuracy_score(y_true, y_pred),\n",
    "                    sensitivity_per_class(conf_matrix),\n",
    "                    specificity_per_class(conf_matrix),\n",
    "                    conf_matrix])"
   ],
   "metadata": {
    "collapsed": false
   }
  },
  {
   "cell_type": "code",
   "execution_count": 10,
   "outputs": [],
   "source": [
    "acc = np.array([x[0] for x in metrics])\n",
    "bal_acc = np.array([x[1] for x in metrics])\n",
    "spec = np.array([x[2] for x in metrics])\n",
    "sens = np.array([x[3] for x in metrics])\n",
    "confs = np.array([x[4] for x in metrics])"
   ],
   "metadata": {
    "collapsed": false
   }
  },
  {
   "cell_type": "code",
   "execution_count": 11,
   "outputs": [
    {
     "data": {
      "text/plain": "(array([0.81481481, 0.79310345, 0.73333333, 0.74193548, 0.5       ]),\n array([0.75      , 0.7745098 , 0.73205742, 0.75840336, 0.7       ]),\n array([0.75      , 0.7745098 , 0.73205742, 0.75840336, 0.7       ]))"
     },
     "execution_count": 11,
     "metadata": {},
     "output_type": "execute_result"
    }
   ],
   "source": [
    "acc, bal_acc, np.mean(sens,axis=1)"
   ],
   "metadata": {
    "collapsed": false
   }
  },
  {
   "cell_type": "code",
   "execution_count": 12,
   "outputs": [
    {
     "name": "stderr",
     "output_type": "stream",
     "text": [
      "/tmp/ipykernel_3895586/1032877647.py:6: MatplotlibDeprecationWarning: The 'labels' parameter of boxplot() has been renamed 'tick_labels' since Matplotlib 3.9; support for the old name will be dropped in 3.11.\n",
      "  plt.boxplot(data, labels=['Acc.', 'Bal Acc.'])\n"
     ]
    },
    {
     "data": {
      "text/plain": "<Figure size 800x600 with 1 Axes>",
      "image/png": "[encoded data removed]"
     },
     "metadata": {},
     "output_type": "display_data"
    }
   ],
   "source": [
    "import matplotlib.pyplot as plt\n",
    "data = [acc, bal_acc]\n",
    "\n",
    "# Create the box plot\n",
    "plt.figure(figsize=(8, 6))\n",
    "plt.boxplot(data, labels=['Acc.', 'Bal Acc.'])\n",
    "plt.title('Box Plot of Metrics')\n",
    "plt.ylabel('Values')\n",
    "plt.grid(True)\n",
    "\n",
    "# Show the plot\n",
    "plt.show()"
   ],
   "metadata": {
    "collapsed": false
   }
  },
  {
   "cell_type": "code",
   "execution_count": null,
   "outputs": [],
   "source": [],
   "metadata": {
    "collapsed": false
   }
  }
 ],
 "metadata": {
  "kernelspec": {
   "display_name": "Python 3",
   "language": "python",
   "name": "python3"
  },
  "language_info": {
   "codemirror_mode": {
    "name": "ipython",
    "version": 2
   },
   "file_extension": ".py",
   "mimetype": "text/x-python",
   "name": "python",
   "nbconvert_exporter": "python",
   "pygments_lexer": "ipython2",
   "version": "2.7.6"
  }
 },
 "nbformat": 4,
 "nbformat_minor": 0
}
