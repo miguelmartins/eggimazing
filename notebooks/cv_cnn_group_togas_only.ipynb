{
 "cells": [
  {
   "cell_type": "code",
   "execution_count": 29,
   "outputs": [],
   "source": [
    "import matplotlib.pyplot as plt\n",
    "import numpy as np\n",
    "import os\n",
    "import tensorflow as tf\n",
    "\n",
    "from keras.metrics import Precision, Recall, AUC, CategoricalAccuracy\n",
    "\n",
    "from custom_models.cnns import simple_cnn, simple_cnn_bn\n",
    "from custom_models.optimization_utilities import get_standard_callbacks\n",
    "from etl.load_dataset import DatasetProcessor, get_tf_eggim_patch_dataset\n",
    "from evaluation.metrics import categorical_accuracy, sensitivity_per_class, specificity_per_class"
   ],
   "metadata": {
    "collapsed": false
   }
  },
  {
   "cell_type": "code",
   "execution_count": 11,
   "outputs": [
    {
     "data": {
      "text/plain": "['../logs/crossvalidation/cnn_togas_only/cnn_togas_only_cv_5fold_0_20240813-151050/weights.h5',\n '../logs/crossvalidation/cnn_togas_only/cnn_togas_only_cv_5fold_1_20240813-151122/weights.h5',\n '../logs/crossvalidation/cnn_togas_only/cnn_togas_only_cv_5fold_2_20240813-151153/weights.h5',\n '../logs/crossvalidation/cnn_togas_only/cnn_togas_only_cv_5fold_3_20240813-151232/weights.h5',\n '../logs/crossvalidation/cnn_togas_only/cnn_togas_only_cv_5fold_4_20240813-151303/weights.h5']"
     },
     "execution_count": 11,
     "metadata": {},
     "output_type": "execute_result"
    }
   ],
   "source": [
    "target_dir = '../test_files/EGGIMazing/Dataset'\n",
    "model_weights_directory = '../logs/crossvalidation/cnn_togas_only'\n",
    "batch_size = 32\n",
    "num_epochs = 100\n",
    "learning_rate = 1e-4\n",
    "num_folds = 5\n",
    "name = f'cnn_togas_only_cv_{num_folds}'\n",
    "model_fold_dir = sorted(os.listdir(model_weights_directory))\n",
    "model_dirs = [os.path.join(os.path.join(model_weights_directory, x), 'weights.h5')\n",
    "              for x in model_fold_dir]"
   ],
   "metadata": {
    "collapsed": false
   }
  },
  {
   "cell_type": "code",
   "execution_count": 12,
   "outputs": [
    {
     "name": "stdout",
     "output_type": "stream",
     "text": [
      "Metal device set to: Apple M1\n"
     ]
    },
    {
     "name": "stderr",
     "output_type": "stream",
     "text": [
      "2024-08-13 15:29:21.165670: I tensorflow/core/common_runtime/pluggable_device/pluggable_device_factory.cc:305] Could not identify NUMA node of platform GPU ID 0, defaulting to 0. Your kernel may not have been built with NUMA support.\n",
      "2024-08-13 15:29:21.166964: I tensorflow/core/common_runtime/pluggable_device/pluggable_device_factory.cc:271] Created TensorFlow device (/job:localhost/replica:0/task:0/device:GPU:0 with 0 MB memory) -> physical PluggableDevice (device: 0, name: METAL, pci bus id: <undefined>)\n",
      "2024-08-13 15:29:22.319976: W tensorflow/core/platform/profile_utils/cpu_utils.cc:128] Failed to get CPU frequency: 0 Hz\n",
      "2024-08-13 15:29:22.457104: I tensorflow/core/grappler/optimizers/custom_graph_optimizer_registry.cc:113] Plugin optimizer for device_type GPU is enabled.\n"
     ]
    },
    {
     "name": "stdout",
     "output_type": "stream",
     "text": [
      "2/2 [==============================] - 1s 150ms/step\n",
      "1/2 [==============>...............] - ETA: 0s"
     ]
    },
    {
     "name": "stderr",
     "output_type": "stream",
     "text": [
      "2024-08-13 15:29:23.359308: I tensorflow/core/grappler/optimizers/custom_graph_optimizer_registry.cc:113] Plugin optimizer for device_type GPU is enabled.\n"
     ]
    },
    {
     "name": "stdout",
     "output_type": "stream",
     "text": [
      "2/2 [==============================] - 0s 128ms/step\n",
      "1/2 [==============>...............] - ETA: 0s"
     ]
    },
    {
     "name": "stderr",
     "output_type": "stream",
     "text": [
      "2024-08-13 15:29:23.982279: I tensorflow/core/grappler/optimizers/custom_graph_optimizer_registry.cc:113] Plugin optimizer for device_type GPU is enabled.\n"
     ]
    },
    {
     "name": "stdout",
     "output_type": "stream",
     "text": [
      "2/2 [==============================] - 0s 170ms/step\n",
      "1/2 [==============>...............] - ETA: 0s"
     ]
    },
    {
     "name": "stderr",
     "output_type": "stream",
     "text": [
      "2024-08-13 15:29:24.526755: I tensorflow/core/grappler/optimizers/custom_graph_optimizer_registry.cc:113] Plugin optimizer for device_type GPU is enabled.\n"
     ]
    },
    {
     "name": "stdout",
     "output_type": "stream",
     "text": [
      "2/2 [==============================] - 0s 187ms/step\n",
      "WARNING:tensorflow:5 out of the last 9 calls to <function Model.make_predict_function.<locals>.predict_function at 0x311e0c3a0> triggered tf.function retracing. Tracing is expensive and the excessive number of tracings could be due to (1) creating @tf.function repeatedly in a loop, (2) passing tensors with different shapes, (3) passing Python objects instead of tensors. For (1), please define your @tf.function outside of the loop. For (2), @tf.function has reduce_retracing=True option that can avoid unnecessary retracing. For (3), please refer to https://www.tensorflow.org/guide/function#controlling_retracing and https://www.tensorflow.org/api_docs/python/tf/function for  more details.\n",
      "2/2 [==============================] - 0s 102ms/step\n"
     ]
    },
    {
     "name": "stderr",
     "output_type": "stream",
     "text": [
      "2024-08-13 15:29:25.114799: I tensorflow/core/grappler/optimizers/custom_graph_optimizer_registry.cc:113] Plugin optimizer for device_type GPU is enabled.\n"
     ]
    }
   ],
   "source": [
    "from sklearn.metrics import confusion_matrix\n",
    "\n",
    "dp = DatasetProcessor(target_dir)\n",
    "df = dp.process()\n",
    "df_togas = df[[x.startswith('2024') for x in df['patient_id'].values]].reset_index(drop=True)\n",
    "# df = df[~df.isna().any(axis=1)].reset_index(drop=True)\n",
    "X, y = df_togas['image_directory'], df_togas['eggim_square']\n",
    "\n",
    "# TODO: make sure this works on one-hot-encoded\n",
    "# TODO: make this deterministic\n",
    "split = dp.group_k_splits(df_togas, k=num_folds, train_size=0.7, val_size=0.1, test_size=0.2, random_state=42)\n",
    "metrics = []\n",
    "\n",
    "for fold, (train_idx, val_idx, test_idx) in enumerate(split):\n",
    "    tf_train_df = get_tf_eggim_patch_dataset(df_togas.loc[train_idx], num_classes=3)\n",
    "    tf_val_df = get_tf_eggim_patch_dataset(df_togas.loc[val_idx], num_classes=3)\n",
    "    tf_test_df = get_tf_eggim_patch_dataset(df_togas.loc[test_idx], num_classes=3)\n",
    "\n",
    "    tf_train_df = tf_train_df.batch(batch_size)\n",
    "    tf_val_df = tf_val_df.batch(batch_size)\n",
    "    tf_test_df = tf_test_df.batch(batch_size)\n",
    "\n",
    "    n_classes = 3  # Replace with the number of classes you have\n",
    "    model = simple_cnn_bn(input_shape=(224, 224, 3), n_classes=n_classes)\n",
    "    # Compile the model with Adam optimizer\n",
    "    model.compile(optimizer=tf.keras.optimizers.Adam(learning_rate=learning_rate),\n",
    "                  loss='categorical_crossentropy',\n",
    "                  metrics=[CategoricalAccuracy(name='cat_accuracy'), Precision(name='precision'), Recall(name='recall'),\n",
    "                           AUC(name='auc')])\n",
    "\n",
    "    name_fold = name + f'fold_{fold}'\n",
    "\n",
    "    model.load_weights(model_dirs[fold])\n",
    "\n",
    "    y_true = np.concatenate([y for (_, y) in tf_test_df])\n",
    "    y_pred = model.predict(tf_test_df)\n",
    "    y_true_ordinal = np.argmax(y_true, axis=-1) # [0 0 1] -> 2\n",
    "    y_pred_ordinal = np.argmax(y_pred, axis=-1)\n",
    "    y_pred_one_hot = np.zeros_like(y_pred)\n",
    "    y_pred_one_hot[np.arange(len(y_pred)), np.argmax(y_pred, axis=1)] = 1 # [0.2, 0.2, 0.6] -> [0, 0, 1]\n",
    "    conf_matrix = confusion_matrix(y_true_ordinal, y_pred_ordinal)\n",
    "    metrics.append([categorical_accuracy(y_true, y_pred_one_hot),\n",
    "                    specificity_per_class(conf_matrix), sensitivity_per_class(conf_matrix),\n",
    "                    conf_matrix])"
   ],
   "metadata": {
    "collapsed": false
   }
  },
  {
   "cell_type": "code",
   "execution_count": null,
   "outputs": [],
   "source": [
    "# acc, spec, sens, conf"
   ],
   "metadata": {
    "collapsed": false
   }
  },
  {
   "cell_type": "code",
   "execution_count": 26,
   "outputs": [],
   "source": [
    "cat_acc = np.array([x[0] for x in metrics])\n",
    "spec = np.array([x[1] for x in metrics])\n",
    "sens = np.array([x[2] for x in metrics])\n",
    "confs = np.array([x[3] for x in metrics])"
   ],
   "metadata": {
    "collapsed": false
   }
  },
  {
   "cell_type": "code",
   "execution_count": 17,
   "outputs": [
    {
     "name": "stdout",
     "output_type": "stream",
     "text": [
      "[0.91891892 0.93877551 1.         0.91304348 0.78571429]\n"
     ]
    }
   ],
   "source": [
    "print(cat_acc)"
   ],
   "metadata": {
    "collapsed": false
   }
  },
  {
   "cell_type": "code",
   "execution_count": 19,
   "outputs": [
    {
     "name": "stdout",
     "output_type": "stream",
     "text": [
      "[0.96936275 0.96472053 1.         0.925      0.69469469]\n"
     ]
    }
   ],
   "source": [
    "print(np.mean(spec, axis=1))"
   ],
   "metadata": {
    "collapsed": false
   }
  },
  {
   "cell_type": "code",
   "execution_count": 20,
   "outputs": [
    {
     "name": "stdout",
     "output_type": "stream",
     "text": [
      "[0.96551724 0.95071685 1.         0.85961768 0.33333333]\n"
     ]
    }
   ],
   "source": [
    "print(np.mean(sens, axis=1))"
   ],
   "metadata": {
    "collapsed": false
   }
  },
  {
   "cell_type": "code",
   "execution_count": 22,
   "outputs": [
    {
     "name": "stdout",
     "output_type": "stream",
     "text": [
      "[[0.89655172 1.         1.        ]\n",
      " [0.93548387 1.         0.91666667]\n",
      " [1.         1.         1.        ]\n",
      " [0.96774194 0.83333333 0.77777778]\n",
      " [1.         0.         0.        ]]\n"
     ]
    }
   ],
   "source": [
    "print(sens)"
   ],
   "metadata": {
    "collapsed": false
   }
  },
  {
   "cell_type": "code",
   "execution_count": 30,
   "outputs": [
    {
     "data": {
      "text/plain": "<Figure size 800x600 with 1 Axes>",
      "image/png": "[encoded data removed]"
     },
     "metadata": {},
     "output_type": "display_data"
    }
   ],
   "source": [
    "data = [cat_acc, np.mean(spec, axis=1), np.mean(sens, axis=1)]\n",
    "\n",
    "# Create the box plot\n",
    "plt.figure(figsize=(8, 6))\n",
    "plt.boxplot(data, labels=['Cat Acc', 'Spec', 'Sens'])\n",
    "plt.title('Box Plot of Metrics')\n",
    "plt.ylabel('Values')\n",
    "plt.grid(True)\n",
    "\n",
    "# Show the plot\n",
    "plt.show()"
   ],
   "metadata": {
    "collapsed": false
   }
  },
  {
   "cell_type": "code",
   "execution_count": 36,
   "outputs": [
    {
     "data": {
      "text/plain": "array([1, 0, 1, 0, 1, 0, 0, 0, 0, 2, 1, 0, 0, 0, 0, 0, 0, 0, 2, 0, 0, 0,\n       0, 0, 0, 0, 0, 2, 0, 1, 0, 0, 0, 2, 0, 0, 0, 0, 0, 0, 0, 0])"
     },
     "execution_count": 36,
     "metadata": {},
     "output_type": "execute_result"
    }
   ],
   "source": [],
   "metadata": {
    "collapsed": false
   }
  },
  {
   "cell_type": "code",
   "execution_count": null,
   "outputs": [],
   "source": [
    "# 0: [1, 0, 0]\n",
    "# 1: [0, 1, 0]\n",
    "# 2: [0, 0, 1]"
   ],
   "metadata": {
    "collapsed": false
   }
  },
  {
   "cell_type": "code",
   "execution_count": 42,
   "outputs": [
    {
     "data": {
      "text/plain": "array([[33,  0,  0],\n       [ 5,  0,  0],\n       [ 3,  1,  0]])"
     },
     "execution_count": 42,
     "metadata": {},
     "output_type": "execute_result"
    }
   ],
   "source": [
    "confs[4]"
   ],
   "metadata": {
    "collapsed": false
   }
  },
  {
   "cell_type": "code",
   "execution_count": null,
   "outputs": [],
   "source": [],
   "metadata": {
    "collapsed": false
   }
  }
 ],
 "metadata": {
  "kernelspec": {
   "display_name": "Python 3",
   "language": "python",
   "name": "python3"
  },
  "language_info": {
   "codemirror_mode": {
    "name": "ipython",
    "version": 2
   },
   "file_extension": ".py",
   "mimetype": "text/x-python",
   "name": "python",
   "nbconvert_exporter": "python",
   "pygments_lexer": "ipython2",
   "version": "2.7.6"
  }
 },
 "nbformat": 4,
 "nbformat_minor": 0
}
