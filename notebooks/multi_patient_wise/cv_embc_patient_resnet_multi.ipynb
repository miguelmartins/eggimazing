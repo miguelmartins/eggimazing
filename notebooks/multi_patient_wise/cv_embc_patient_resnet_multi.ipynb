{
 "cells": [
  {
   "cell_type": "raw",
   "source": [],
   "metadata": {
    "collapsed": false,
    "pycharm": {
     "name": ""
    }
   }
  },
  {
   "cell_type": "code",
   "execution_count": 1,
   "metadata": {
    "collapsed": true
   },
   "outputs": [
    {
     "name": "stderr",
     "output_type": "stream",
     "text": [
      "2024-11-12 13:19:47.118202: E tensorflow/compiler/xla/stream_executor/cuda/cuda_dnn.cc:9342] Unable to register cuDNN factory: Attempting to register factory for plugin cuDNN when one has already been registered\n",
      "2024-11-12 13:19:47.118279: E tensorflow/compiler/xla/stream_executor/cuda/cuda_fft.cc:609] Unable to register cuFFT factory: Attempting to register factory for plugin cuFFT when one has already been registered\n",
      "2024-11-12 13:19:47.118308: E tensorflow/compiler/xla/stream_executor/cuda/cuda_blas.cc:1518] Unable to register cuBLAS factory: Attempting to register factory for plugin cuBLAS when one has already been registered\n",
      "2024-11-12 13:19:47.125679: I tensorflow/core/platform/cpu_feature_guard.cc:182] This TensorFlow binary is optimized to use available CPU instructions in performance-critical operations.\n",
      "To enable the following instructions: AVX2 FMA, in other operations, rebuild TensorFlow with the appropriate compiler flags.\n"
     ]
    }
   ],
   "source": [
    "import matplotlib.pyplot as plt\n",
    "import numpy as np\n",
    "import os\n",
    "import tensorflow as tf\n",
    "from keras.metrics import Precision, Recall, AUC, CategoricalAccuracy\n",
    "\n",
    "from custom_models.augmentation import basic_plus_color_augmentation, basic_augmentation\n",
    "from custom_models.bilinear_cnns import fe_resnet\n",
    "from custom_models.cnns import simple_cnn_bn, base_resnet50\n",
    "from custom_models.optimization_utilities import get_standard_callbacks\n",
    "from etl.load_dataset import DatasetProcessor, get_tf_eggim_patch_dataset\n",
    "from optimization.custom_losses import weighted_categorical_crossentropy"
   ]
  },
  {
   "cell_type": "code",
   "execution_count": 2,
   "outputs": [],
   "source": [
    "target_dir = '../../test_files/EGGIMazing/Dataset01'\n",
    "model_weights_directory = '../../logs/'\n",
    "batch_size = 32\n",
    "num_epochs = 100\n",
    "learning_rate = 1e-4\n",
    "num_folds = 5\n",
    "name = f'cv_embc2_patient_resnet_multi'\n",
    "model_fold_dir = sorted(os.listdir(model_weights_directory))\n",
    "model_dirs = [os.path.join(os.path.join(model_weights_directory, x), 'weights.h5')\n",
    "              for x in model_fold_dir if x.startswith(name)]"
   ],
   "metadata": {
    "collapsed": false
   }
  },
  {
   "cell_type": "code",
   "execution_count": 3,
   "outputs": [],
   "source": [
    "dp = DatasetProcessor(target_dir)\n",
    "df = dp.process()\n",
    "patient_ids = np.load('../../configs/test_patient_ids_2.npy', allow_pickle=True)\n",
    "\n",
    "togas_ids_boolean = np.array([x.startswith('PT') for x in df['patient_id'].values])\n",
    "df_togas = df[togas_ids_boolean].reset_index(drop=True)\n",
    "df_ipo = df[~togas_ids_boolean].reset_index(drop=True)\n"
   ],
   "metadata": {
    "collapsed": false
   }
  },
  {
   "cell_type": "code",
   "execution_count": 4,
   "outputs": [
    {
     "name": "stderr",
     "output_type": "stream",
     "text": [
      "2024-11-12 13:19:49.149603: I tensorflow/compiler/xla/stream_executor/cuda/cuda_gpu_executor.cc:894] successful NUMA node read from SysFS had negative value (-1), but there must be at least one NUMA node, so returning NUMA node zero. See more at https://github.com/torvalds/linux/blob/v6.0/Documentation/ABI/testing/sysfs-bus-pci#L344-L355\n",
      "2024-11-12 13:19:49.149862: I tensorflow/compiler/xla/stream_executor/cuda/cuda_gpu_executor.cc:894] successful NUMA node read from SysFS had negative value (-1), but there must be at least one NUMA node, so returning NUMA node zero. See more at https://github.com/torvalds/linux/blob/v6.0/Documentation/ABI/testing/sysfs-bus-pci#L344-L355\n",
      "2024-11-12 13:19:49.203084: I tensorflow/compiler/xla/stream_executor/cuda/cuda_gpu_executor.cc:894] successful NUMA node read from SysFS had negative value (-1), but there must be at least one NUMA node, so returning NUMA node zero. See more at https://github.com/torvalds/linux/blob/v6.0/Documentation/ABI/testing/sysfs-bus-pci#L344-L355\n",
      "2024-11-12 13:19:49.203549: I tensorflow/compiler/xla/stream_executor/cuda/cuda_gpu_executor.cc:894] successful NUMA node read from SysFS had negative value (-1), but there must be at least one NUMA node, so returning NUMA node zero. See more at https://github.com/torvalds/linux/blob/v6.0/Documentation/ABI/testing/sysfs-bus-pci#L344-L355\n",
      "2024-11-12 13:19:49.203795: I tensorflow/compiler/xla/stream_executor/cuda/cuda_gpu_executor.cc:894] successful NUMA node read from SysFS had negative value (-1), but there must be at least one NUMA node, so returning NUMA node zero. See more at https://github.com/torvalds/linux/blob/v6.0/Documentation/ABI/testing/sysfs-bus-pci#L344-L355\n",
      "2024-11-12 13:19:49.204017: I tensorflow/compiler/xla/stream_executor/cuda/cuda_gpu_executor.cc:894] successful NUMA node read from SysFS had negative value (-1), but there must be at least one NUMA node, so returning NUMA node zero. See more at https://github.com/torvalds/linux/blob/v6.0/Documentation/ABI/testing/sysfs-bus-pci#L344-L355\n",
      "2024-11-12 13:19:49.356431: I tensorflow/compiler/xla/stream_executor/cuda/cuda_gpu_executor.cc:894] successful NUMA node read from SysFS had negative value (-1), but there must be at least one NUMA node, so returning NUMA node zero. See more at https://github.com/torvalds/linux/blob/v6.0/Documentation/ABI/testing/sysfs-bus-pci#L344-L355\n",
      "2024-11-12 13:19:49.356740: I tensorflow/compiler/xla/stream_executor/cuda/cuda_gpu_executor.cc:894] successful NUMA node read from SysFS had negative value (-1), but there must be at least one NUMA node, so returning NUMA node zero. See more at https://github.com/torvalds/linux/blob/v6.0/Documentation/ABI/testing/sysfs-bus-pci#L344-L355\n",
      "2024-11-12 13:19:49.356972: I tensorflow/compiler/xla/stream_executor/cuda/cuda_gpu_executor.cc:894] successful NUMA node read from SysFS had negative value (-1), but there must be at least one NUMA node, so returning NUMA node zero. See more at https://github.com/torvalds/linux/blob/v6.0/Documentation/ABI/testing/sysfs-bus-pci#L344-L355\n",
      "2024-11-12 13:19:49.357180: I tensorflow/compiler/xla/stream_executor/cuda/cuda_gpu_executor.cc:894] successful NUMA node read from SysFS had negative value (-1), but there must be at least one NUMA node, so returning NUMA node zero. See more at https://github.com/torvalds/linux/blob/v6.0/Documentation/ABI/testing/sysfs-bus-pci#L344-L355\n",
      "2024-11-12 13:19:49.357399: I tensorflow/compiler/xla/stream_executor/cuda/cuda_gpu_executor.cc:894] successful NUMA node read from SysFS had negative value (-1), but there must be at least one NUMA node, so returning NUMA node zero. See more at https://github.com/torvalds/linux/blob/v6.0/Documentation/ABI/testing/sysfs-bus-pci#L344-L355\n",
      "2024-11-12 13:19:49.357609: I tensorflow/compiler/xla/stream_executor/cuda/cuda_gpu_executor.cc:894] successful NUMA node read from SysFS had negative value (-1), but there must be at least one NUMA node, so returning NUMA node zero. See more at https://github.com/torvalds/linux/blob/v6.0/Documentation/ABI/testing/sysfs-bus-pci#L344-L355\n",
      "2024-11-12 13:19:49.367382: I tensorflow/compiler/xla/stream_executor/cuda/cuda_gpu_executor.cc:894] successful NUMA node read from SysFS had negative value (-1), but there must be at least one NUMA node, so returning NUMA node zero. See more at https://github.com/torvalds/linux/blob/v6.0/Documentation/ABI/testing/sysfs-bus-pci#L344-L355\n",
      "2024-11-12 13:19:49.367624: I tensorflow/compiler/xla/stream_executor/cuda/cuda_gpu_executor.cc:894] successful NUMA node read from SysFS had negative value (-1), but there must be at least one NUMA node, so returning NUMA node zero. See more at https://github.com/torvalds/linux/blob/v6.0/Documentation/ABI/testing/sysfs-bus-pci#L344-L355\n",
      "2024-11-12 13:19:49.367848: I tensorflow/compiler/xla/stream_executor/cuda/cuda_gpu_executor.cc:894] successful NUMA node read from SysFS had negative value (-1), but there must be at least one NUMA node, so returning NUMA node zero. See more at https://github.com/torvalds/linux/blob/v6.0/Documentation/ABI/testing/sysfs-bus-pci#L344-L355\n",
      "2024-11-12 13:19:49.368064: I tensorflow/compiler/xla/stream_executor/cuda/cuda_gpu_executor.cc:894] successful NUMA node read from SysFS had negative value (-1), but there must be at least one NUMA node, so returning NUMA node zero. See more at https://github.com/torvalds/linux/blob/v6.0/Documentation/ABI/testing/sysfs-bus-pci#L344-L355\n",
      "2024-11-12 13:19:49.368301: I tensorflow/compiler/xla/stream_executor/cuda/cuda_gpu_executor.cc:894] successful NUMA node read from SysFS had negative value (-1), but there must be at least one NUMA node, so returning NUMA node zero. See more at https://github.com/torvalds/linux/blob/v6.0/Documentation/ABI/testing/sysfs-bus-pci#L344-L355\n",
      "2024-11-12 13:19:49.368518: I tensorflow/core/common_runtime/gpu/gpu_device.cc:1886] Created device /job:localhost/replica:0/task:0/device:GPU:0 with 753 MB memory:  -> device: 0, name: NVIDIA RTX A6000, pci bus id: 0000:01:00.0, compute capability: 8.6\n",
      "2024-11-12 13:19:49.369242: I tensorflow/compiler/xla/stream_executor/cuda/cuda_gpu_executor.cc:894] successful NUMA node read from SysFS had negative value (-1), but there must be at least one NUMA node, so returning NUMA node zero. See more at https://github.com/torvalds/linux/blob/v6.0/Documentation/ABI/testing/sysfs-bus-pci#L344-L355\n",
      "2024-11-12 13:19:49.369436: I tensorflow/core/common_runtime/gpu/gpu_device.cc:1886] Created device /job:localhost/replica:0/task:0/device:GPU:1 with 21683 MB memory:  -> device: 1, name: NVIDIA GeForce RTX 3090, pci bus id: 0000:02:00.0, compute capability: 8.6\n"
     ]
    },
    {
     "name": "stdout",
     "output_type": "stream",
     "text": [
      "1/1 [==============================] - 1s 748ms/step\n",
      "1/1 [==============================] - 1s 721ms/step\n",
      "1/1 [==============================] - 1s 690ms/step\n",
      "1/1 [==============================] - 1s 786ms/step\n",
      "WARNING:tensorflow:5 out of the last 5 calls to <function Model.make_predict_function.<locals>.predict_function at 0x74dadc077370> triggered tf.function retracing. Tracing is expensive and the excessive number of tracings could be due to (1) creating @tf.function repeatedly in a loop, (2) passing tensors with different shapes, (3) passing Python objects instead of tensors. For (1), please define your @tf.function outside of the loop. For (2), @tf.function has reduce_retracing=True option that can avoid unnecessary retracing. For (3), please refer to https://www.tensorflow.org/guide/function#controlling_retracing and https://www.tensorflow.org/api_docs/python/tf/function for  more details.\n",
      "1/1 [==============================] - 1s 727ms/step\n"
     ]
    },
    {
     "name": "stderr",
     "output_type": "stream",
     "text": [
      "/home/miguelmartins/Projects/eggimazing/evaluation/metrics.py:28: RuntimeWarning: invalid value encountered in scalar divide\n",
      "  specificity = TN / (TN + FP)\n"
     ]
    },
    {
     "name": "stdout",
     "output_type": "stream",
     "text": [
      "WARNING:tensorflow:6 out of the last 6 calls to <function Model.make_predict_function.<locals>.predict_function at 0x74da684d04c0> triggered tf.function retracing. Tracing is expensive and the excessive number of tracings could be due to (1) creating @tf.function repeatedly in a loop, (2) passing tensors with different shapes, (3) passing Python objects instead of tensors. For (1), please define your @tf.function outside of the loop. For (2), @tf.function has reduce_retracing=True option that can avoid unnecessary retracing. For (3), please refer to https://www.tensorflow.org/guide/function#controlling_retracing and https://www.tensorflow.org/api_docs/python/tf/function for  more details.\n",
      "1/1 [==============================] - 1s 782ms/step\n",
      "1/1 [==============================] - 1s 710ms/step\n",
      "1/1 [==============================] - 1s 774ms/step\n",
      "1/1 [==============================] - 1s 779ms/step\n",
      "1/1 [==============================] - 1s 777ms/step\n"
     ]
    },
    {
     "name": "stderr",
     "output_type": "stream",
     "text": [
      "/home/miguelmartins/Projects/eggimazing/evaluation/metrics.py:28: RuntimeWarning: invalid value encountered in scalar divide\n",
      "  specificity = TN / (TN + FP)\n"
     ]
    },
    {
     "name": "stdout",
     "output_type": "stream",
     "text": [
      "1/1 [==============================] - 1s 783ms/step\n",
      "1/1 [==============================] - 1s 820ms/step\n",
      "1/1 [==============================] - 1s 765ms/step\n",
      "1/1 [==============================] - 1s 757ms/step\n",
      "1/1 [==============================] - 1s 762ms/step\n",
      "1/1 [==============================] - 1s 785ms/step\n",
      "1/1 [==============================] - 1s 800ms/step\n",
      "1/1 [==============================] - 1s 743ms/step\n",
      "1/1 [==============================] - 1s 774ms/step\n",
      "1/1 [==============================] - 1s 810ms/step\n",
      "1/1 [==============================] - 1s 763ms/step\n",
      "1/1 [==============================] - 1s 791ms/step\n",
      "1/1 [==============================] - 1s 736ms/step\n",
      "1/1 [==============================] - 1s 915ms/step\n",
      "1/1 [==============================] - 1s 807ms/step\n",
      "1/1 [==============================] - 1s 769ms/step\n"
     ]
    }
   ],
   "source": [
    "from sklearn.metrics import confusion_matrix\n",
    "\n",
    "from evaluation.metrics import categorical_accuracy\n",
    "\n",
    "from evaluation.metrics import specificity_per_class\n",
    "\n",
    "from evaluation.metrics import sensitivity_per_class\n",
    "\n",
    "metrics = []\n",
    "y_true_ordinals = []\n",
    "y_pred_ordinals = []\n",
    "split = dp.patient_wise_split(df_togas,\n",
    "                                      df_ipo,\n",
    "                                      patient_ids,\n",
    "                                      internal_train_size=0.9,\n",
    "                                      target_variable='eggim_square',\n",
    "                                      random_state=42)\n",
    "with tf.device('cpu'):\n",
    "    for fold, (df_train, df_val, df_test) in enumerate(split):\n",
    "        tf_test_df = get_tf_eggim_patch_dataset(df_test,\n",
    "                                                num_classes=3,\n",
    "                                                preprocess_fn=tf.keras.applications.resnet.preprocess_input)\n",
    "\n",
    "        tf_test_df = tf_test_df.batch(batch_size)\n",
    "\n",
    "        n_classes = 3  # Replace with the number of classes you have\n",
    "        model = base_resnet50(input_shape=(224, 224, 3), n_classes=n_classes)\n",
    "        # Compile the model with Adam optimizer 13:21\n",
    "        model.compile(optimizer=tf.keras.optimizers.Adam(learning_rate=learning_rate),\n",
    "                      metrics=[CategoricalAccuracy(name='cat_accuracy'), Precision(name='precision'),\n",
    "                               Recall(name='recall'),\n",
    "                               AUC(name='auc')])\n",
    "\n",
    "\n",
    "        model.load_weights(model_dirs[fold])\n",
    "\n",
    "        y_true = np.concatenate([y for (_, y) in tf_test_df])\n",
    "        y_pred = model.predict(tf_test_df)\n",
    "        y_true_ordinal = np.argmax(y_true, axis=-1) # [0 0 1] -> 2\n",
    "        y_pred_ordinal = np.argmax(y_pred, axis=-1)\n",
    "        y_true_ordinals.append(y_true_ordinal)\n",
    "        y_pred_ordinals.append(y_pred_ordinal)\n",
    "        y_pred_one_hot = np.zeros_like(y_pred)\n",
    "        y_pred_one_hot[np.arange(len(y_pred)), np.argmax(y_pred, axis=1)] = 1 # [0.2, 0.2, 0.6] -> [0, 0, 1]\n",
    "        conf_matrix = confusion_matrix(y_true_ordinal, y_pred_ordinal,\n",
    "                                       labels=[0, 1, 2])\n",
    "        metrics.append([categorical_accuracy(y_true, y_pred_one_hot),\n",
    "                        specificity_per_class(conf_matrix), sensitivity_per_class(conf_matrix),\n",
    "                        conf_matrix])"
   ],
   "metadata": {
    "collapsed": false
   }
  },
  {
   "cell_type": "code",
   "execution_count": 5,
   "outputs": [],
   "source": [
    "cat_acc = np.array([x[0] for x in metrics])\n",
    "spec = np.array([x[1] for x in metrics])\n",
    "sens = np.array([x[2] for x in metrics])\n",
    "confs = np.array([x[3] for x in metrics], dtype=object)"
   ],
   "metadata": {
    "collapsed": false
   }
  },
  {
   "cell_type": "code",
   "execution_count": 6,
   "outputs": [
    {
     "data": {
      "text/plain": "array([0.45454545, 0.72727273, 0.5       , 0.5       , 0.63636364,\n       0.84615385, 1.        , 0.91666667, 0.69230769, 0.92307692,\n       0.75      , 0.78571429, 0.58333333, 0.5       , 0.83333333,\n       1.        , 0.76923077, 0.45454545, 0.91666667, 0.83333333,\n       0.72727273, 0.66666667, 0.72727273, 0.6       , 0.75      ,\n       0.45454545])"
     },
     "execution_count": 6,
     "metadata": {},
     "output_type": "execute_result"
    }
   ],
   "source": [
    "cat_acc"
   ],
   "metadata": {
    "collapsed": false
   }
  },
  {
   "cell_type": "code",
   "execution_count": 7,
   "outputs": [
    {
     "name": "stderr",
     "output_type": "stream",
     "text": [
      "/tmp/ipykernel_2419974/3063742170.py:5: MatplotlibDeprecationWarning: The 'labels' parameter of boxplot() has been renamed 'tick_labels' since Matplotlib 3.9; support for the old name will be dropped in 3.11.\n",
      "  plt.boxplot(data, labels=['Cat Acc', 'Spec', 'Sens'])\n"
     ]
    },
    {
     "data": {
      "text/plain": "<Figure size 800x600 with 1 Axes>",
      "image/png": "[encoded data removed]"
     },
     "metadata": {},
     "output_type": "display_data"
    }
   ],
   "source": [
    "data = [cat_acc, np.nanmean(spec, axis=1), np.nanmean(sens, axis=1)]\n",
    "\n",
    "# Create the box plot\n",
    "plt.figure(figsize=(8, 6))\n",
    "plt.boxplot(data, labels=['Cat Acc', 'Spec', 'Sens'])\n",
    "plt.title('Box Plot of Metrics')\n",
    "plt.ylabel('Values')\n",
    "plt.grid(True)\n",
    "plt.savefig('')\n",
    "# Show the plot\n",
    "plt.show()"
   ],
   "metadata": {
    "collapsed": false
   }
  },
  {
   "cell_type": "code",
   "execution_count": 8,
   "outputs": [
    {
     "data": {
      "text/plain": "(array([0.71339622, 0.8338075 , 0.57395553]),\n array([0.16696946, 0.10199029, 0.19137457]))"
     },
     "execution_count": 8,
     "metadata": {},
     "output_type": "execute_result"
    }
   ],
   "source": [
    "np.mean(data, axis=1), np.std(data, axis=1)"
   ],
   "metadata": {
    "collapsed": false
   }
  },
  {
   "cell_type": "code",
   "execution_count": 9,
   "outputs": [],
   "source": [
    "from evaluation.eggim import *\n",
    "def replace_landmark_name(landmark):\n",
    "    new_landmark_name = {'ii': 'distal body',\n",
    "                    'ix': 'distal lc',\n",
    "                    'vi': 'proximal ant lc',\n",
    "                    'vii': 'proximal ant gc/pw',\n",
    "                    'viii': 'incisura r',\n",
    "                    'x': 'upper body r',\n",
    "                    'xii': 'upper body ant'}\n",
    "    landmark_number = landmark.split('.')[0]\n",
    "    return new_landmark_name[landmark_number]\n",
    "\n",
    "dp = DatasetProcessor(target_dir)\n",
    "df = dp.process()\n",
    "df['landmark'] = df['landmark'].apply(replace_landmark_name)\n",
    "patient_ids = np.load('../../configs/test_patient_ids_2.npy', allow_pickle=True)\n",
    "\n",
    "togas_ids_boolean = np.array([x.startswith('PT') for x in df['patient_id'].values])\n",
    "df_togas = df[togas_ids_boolean].reset_index(drop=True)\n",
    "df_ipo = df[~togas_ids_boolean].reset_index(drop=True)\n"
   ],
   "metadata": {
    "collapsed": false
   }
  },
  {
   "cell_type": "code",
   "execution_count": 10,
   "outputs": [
    {
     "data": {
      "text/plain": "[array([0.45454545, 0.72727273, 0.5       , 0.5       , 0.63636364,\n        0.84615385, 1.        , 0.91666667, 0.69230769, 0.92307692,\n        0.75      , 0.78571429, 0.58333333, 0.5       , 0.83333333,\n        1.        , 0.76923077, 0.45454545, 0.91666667, 0.83333333,\n        0.72727273, 0.66666667, 0.72727273, 0.6       , 0.75      ,\n        0.45454545]),\n array([0.71481481, 0.85714286, 0.8       , 0.80555556, 0.81818182,\n        0.93939394, 0.66666667, 0.83333333, 0.72435897, 0.96153846,\n        0.88888889, 0.90555556, 0.77128427, 0.75036075, 0.91666667,\n        1.        , 0.90909091, 0.8       , 0.93333333, 0.88636364,\n        0.90909091, 0.83333333, 0.88571429, 0.8531746 , 0.8030303 ,\n        0.51212121]),\n array([0.625     , 0.69444444, 0.45833333, 0.48484848, 0.21212121,\n        0.60606061, 0.33333333, 0.5       , 0.37962963, 0.30769231,\n        0.83333333, 0.875     , 0.7       , 0.63333333, 0.83333333,\n        0.66666667, 0.81111111, 0.58333333, 0.6       , 0.84722222,\n        0.42592593, 0.68888889, 0.55555556, 0.65656566, 0.44444444,\n        0.16666667])]"
     },
     "execution_count": 10,
     "metadata": {},
     "output_type": "execute_result"
    }
   ],
   "source": [
    "data"
   ],
   "metadata": {
    "collapsed": false
   }
  },
  {
   "cell_type": "code",
   "execution_count": 11,
   "outputs": [
    {
     "name": "stdout",
     "output_type": "stream",
     "text": [
      "PT004\n",
      "PT005\n",
      "PT006\n",
      "PT009\n",
      "PT016\n",
      "PT020\n",
      "PT021\n",
      "PT022\n",
      "PT024\n",
      "PT025\n",
      "PT028\n",
      "PT029\n",
      "PT030\n",
      "PT031\n",
      "PT034\n",
      "PT035\n",
      "PT037\n",
      "PT039\n",
      "PT040\n",
      "PT041\n",
      "PT045\n",
      "PT046\n",
      "PT048\n",
      "PT049\n",
      "PT051\n",
      "PT053\n"
     ]
    },
    {
     "name": "stderr",
     "output_type": "stream",
     "text": [
      "/tmp/ipykernel_2419974/760769985.py:13: SettingWithCopyWarning: \n",
      "A value is trying to be set on a copy of a slice from a DataFrame.\n",
      "Try using .loc[row_indexer,col_indexer] = value instead\n",
      "\n",
      "See the caveats in the documentation: https://pandas.pydata.org/pandas-docs/stable/user_guide/indexing.html#returning-a-view-versus-a-copy\n",
      "  df_patient['pred'] = y_pred_ordinals[i]\n",
      "/tmp/ipykernel_2419974/760769985.py:13: SettingWithCopyWarning: \n",
      "A value is trying to be set on a copy of a slice from a DataFrame.\n",
      "Try using .loc[row_indexer,col_indexer] = value instead\n",
      "\n",
      "See the caveats in the documentation: https://pandas.pydata.org/pandas-docs/stable/user_guide/indexing.html#returning-a-view-versus-a-copy\n",
      "  df_patient['pred'] = y_pred_ordinals[i]\n",
      "/tmp/ipykernel_2419974/760769985.py:13: SettingWithCopyWarning: \n",
      "A value is trying to be set on a copy of a slice from a DataFrame.\n",
      "Try using .loc[row_indexer,col_indexer] = value instead\n",
      "\n",
      "See the caveats in the documentation: https://pandas.pydata.org/pandas-docs/stable/user_guide/indexing.html#returning-a-view-versus-a-copy\n",
      "  df_patient['pred'] = y_pred_ordinals[i]\n",
      "/tmp/ipykernel_2419974/760769985.py:13: SettingWithCopyWarning: \n",
      "A value is trying to be set on a copy of a slice from a DataFrame.\n",
      "Try using .loc[row_indexer,col_indexer] = value instead\n",
      "\n",
      "See the caveats in the documentation: https://pandas.pydata.org/pandas-docs/stable/user_guide/indexing.html#returning-a-view-versus-a-copy\n",
      "  df_patient['pred'] = y_pred_ordinals[i]\n",
      "/tmp/ipykernel_2419974/760769985.py:13: SettingWithCopyWarning: \n",
      "A value is trying to be set on a copy of a slice from a DataFrame.\n",
      "Try using .loc[row_indexer,col_indexer] = value instead\n",
      "\n",
      "See the caveats in the documentation: https://pandas.pydata.org/pandas-docs/stable/user_guide/indexing.html#returning-a-view-versus-a-copy\n",
      "  df_patient['pred'] = y_pred_ordinals[i]\n",
      "/tmp/ipykernel_2419974/760769985.py:13: SettingWithCopyWarning: \n",
      "A value is trying to be set on a copy of a slice from a DataFrame.\n",
      "Try using .loc[row_indexer,col_indexer] = value instead\n",
      "\n",
      "See the caveats in the documentation: https://pandas.pydata.org/pandas-docs/stable/user_guide/indexing.html#returning-a-view-versus-a-copy\n",
      "  df_patient['pred'] = y_pred_ordinals[i]\n",
      "/tmp/ipykernel_2419974/760769985.py:13: SettingWithCopyWarning: \n",
      "A value is trying to be set on a copy of a slice from a DataFrame.\n",
      "Try using .loc[row_indexer,col_indexer] = value instead\n",
      "\n",
      "See the caveats in the documentation: https://pandas.pydata.org/pandas-docs/stable/user_guide/indexing.html#returning-a-view-versus-a-copy\n",
      "  df_patient['pred'] = y_pred_ordinals[i]\n",
      "/tmp/ipykernel_2419974/760769985.py:13: SettingWithCopyWarning: \n",
      "A value is trying to be set on a copy of a slice from a DataFrame.\n",
      "Try using .loc[row_indexer,col_indexer] = value instead\n",
      "\n",
      "See the caveats in the documentation: https://pandas.pydata.org/pandas-docs/stable/user_guide/indexing.html#returning-a-view-versus-a-copy\n",
      "  df_patient['pred'] = y_pred_ordinals[i]\n",
      "/tmp/ipykernel_2419974/760769985.py:13: SettingWithCopyWarning: \n",
      "A value is trying to be set on a copy of a slice from a DataFrame.\n",
      "Try using .loc[row_indexer,col_indexer] = value instead\n",
      "\n",
      "See the caveats in the documentation: https://pandas.pydata.org/pandas-docs/stable/user_guide/indexing.html#returning-a-view-versus-a-copy\n",
      "  df_patient['pred'] = y_pred_ordinals[i]\n",
      "/tmp/ipykernel_2419974/760769985.py:13: SettingWithCopyWarning: \n",
      "A value is trying to be set on a copy of a slice from a DataFrame.\n",
      "Try using .loc[row_indexer,col_indexer] = value instead\n",
      "\n",
      "See the caveats in the documentation: https://pandas.pydata.org/pandas-docs/stable/user_guide/indexing.html#returning-a-view-versus-a-copy\n",
      "  df_patient['pred'] = y_pred_ordinals[i]\n",
      "/tmp/ipykernel_2419974/760769985.py:13: SettingWithCopyWarning: \n",
      "A value is trying to be set on a copy of a slice from a DataFrame.\n",
      "Try using .loc[row_indexer,col_indexer] = value instead\n",
      "\n",
      "See the caveats in the documentation: https://pandas.pydata.org/pandas-docs/stable/user_guide/indexing.html#returning-a-view-versus-a-copy\n",
      "  df_patient['pred'] = y_pred_ordinals[i]\n",
      "/tmp/ipykernel_2419974/760769985.py:13: SettingWithCopyWarning: \n",
      "A value is trying to be set on a copy of a slice from a DataFrame.\n",
      "Try using .loc[row_indexer,col_indexer] = value instead\n",
      "\n",
      "See the caveats in the documentation: https://pandas.pydata.org/pandas-docs/stable/user_guide/indexing.html#returning-a-view-versus-a-copy\n",
      "  df_patient['pred'] = y_pred_ordinals[i]\n",
      "/tmp/ipykernel_2419974/760769985.py:13: SettingWithCopyWarning: \n",
      "A value is trying to be set on a copy of a slice from a DataFrame.\n",
      "Try using .loc[row_indexer,col_indexer] = value instead\n",
      "\n",
      "See the caveats in the documentation: https://pandas.pydata.org/pandas-docs/stable/user_guide/indexing.html#returning-a-view-versus-a-copy\n",
      "  df_patient['pred'] = y_pred_ordinals[i]\n",
      "/tmp/ipykernel_2419974/760769985.py:13: SettingWithCopyWarning: \n",
      "A value is trying to be set on a copy of a slice from a DataFrame.\n",
      "Try using .loc[row_indexer,col_indexer] = value instead\n",
      "\n",
      "See the caveats in the documentation: https://pandas.pydata.org/pandas-docs/stable/user_guide/indexing.html#returning-a-view-versus-a-copy\n",
      "  df_patient['pred'] = y_pred_ordinals[i]\n",
      "/tmp/ipykernel_2419974/760769985.py:13: SettingWithCopyWarning: \n",
      "A value is trying to be set on a copy of a slice from a DataFrame.\n",
      "Try using .loc[row_indexer,col_indexer] = value instead\n",
      "\n",
      "See the caveats in the documentation: https://pandas.pydata.org/pandas-docs/stable/user_guide/indexing.html#returning-a-view-versus-a-copy\n",
      "  df_patient['pred'] = y_pred_ordinals[i]\n",
      "/tmp/ipykernel_2419974/760769985.py:13: SettingWithCopyWarning: \n",
      "A value is trying to be set on a copy of a slice from a DataFrame.\n",
      "Try using .loc[row_indexer,col_indexer] = value instead\n",
      "\n",
      "See the caveats in the documentation: https://pandas.pydata.org/pandas-docs/stable/user_guide/indexing.html#returning-a-view-versus-a-copy\n",
      "  df_patient['pred'] = y_pred_ordinals[i]\n",
      "/tmp/ipykernel_2419974/760769985.py:13: SettingWithCopyWarning: \n",
      "A value is trying to be set on a copy of a slice from a DataFrame.\n",
      "Try using .loc[row_indexer,col_indexer] = value instead\n",
      "\n",
      "See the caveats in the documentation: https://pandas.pydata.org/pandas-docs/stable/user_guide/indexing.html#returning-a-view-versus-a-copy\n",
      "  df_patient['pred'] = y_pred_ordinals[i]\n",
      "/tmp/ipykernel_2419974/760769985.py:13: SettingWithCopyWarning: \n",
      "A value is trying to be set on a copy of a slice from a DataFrame.\n",
      "Try using .loc[row_indexer,col_indexer] = value instead\n",
      "\n",
      "See the caveats in the documentation: https://pandas.pydata.org/pandas-docs/stable/user_guide/indexing.html#returning-a-view-versus-a-copy\n",
      "  df_patient['pred'] = y_pred_ordinals[i]\n",
      "/tmp/ipykernel_2419974/760769985.py:13: SettingWithCopyWarning: \n",
      "A value is trying to be set on a copy of a slice from a DataFrame.\n",
      "Try using .loc[row_indexer,col_indexer] = value instead\n",
      "\n",
      "See the caveats in the documentation: https://pandas.pydata.org/pandas-docs/stable/user_guide/indexing.html#returning-a-view-versus-a-copy\n",
      "  df_patient['pred'] = y_pred_ordinals[i]\n",
      "/tmp/ipykernel_2419974/760769985.py:13: SettingWithCopyWarning: \n",
      "A value is trying to be set on a copy of a slice from a DataFrame.\n",
      "Try using .loc[row_indexer,col_indexer] = value instead\n",
      "\n",
      "See the caveats in the documentation: https://pandas.pydata.org/pandas-docs/stable/user_guide/indexing.html#returning-a-view-versus-a-copy\n",
      "  df_patient['pred'] = y_pred_ordinals[i]\n",
      "/tmp/ipykernel_2419974/760769985.py:13: SettingWithCopyWarning: \n",
      "A value is trying to be set on a copy of a slice from a DataFrame.\n",
      "Try using .loc[row_indexer,col_indexer] = value instead\n",
      "\n",
      "See the caveats in the documentation: https://pandas.pydata.org/pandas-docs/stable/user_guide/indexing.html#returning-a-view-versus-a-copy\n",
      "  df_patient['pred'] = y_pred_ordinals[i]\n",
      "/tmp/ipykernel_2419974/760769985.py:13: SettingWithCopyWarning: \n",
      "A value is trying to be set on a copy of a slice from a DataFrame.\n",
      "Try using .loc[row_indexer,col_indexer] = value instead\n",
      "\n",
      "See the caveats in the documentation: https://pandas.pydata.org/pandas-docs/stable/user_guide/indexing.html#returning-a-view-versus-a-copy\n",
      "  df_patient['pred'] = y_pred_ordinals[i]\n",
      "/tmp/ipykernel_2419974/760769985.py:13: SettingWithCopyWarning: \n",
      "A value is trying to be set on a copy of a slice from a DataFrame.\n",
      "Try using .loc[row_indexer,col_indexer] = value instead\n",
      "\n",
      "See the caveats in the documentation: https://pandas.pydata.org/pandas-docs/stable/user_guide/indexing.html#returning-a-view-versus-a-copy\n",
      "  df_patient['pred'] = y_pred_ordinals[i]\n",
      "/tmp/ipykernel_2419974/760769985.py:13: SettingWithCopyWarning: \n",
      "A value is trying to be set on a copy of a slice from a DataFrame.\n",
      "Try using .loc[row_indexer,col_indexer] = value instead\n",
      "\n",
      "See the caveats in the documentation: https://pandas.pydata.org/pandas-docs/stable/user_guide/indexing.html#returning-a-view-versus-a-copy\n",
      "  df_patient['pred'] = y_pred_ordinals[i]\n",
      "/tmp/ipykernel_2419974/760769985.py:13: SettingWithCopyWarning: \n",
      "A value is trying to be set on a copy of a slice from a DataFrame.\n",
      "Try using .loc[row_indexer,col_indexer] = value instead\n",
      "\n",
      "See the caveats in the documentation: https://pandas.pydata.org/pandas-docs/stable/user_guide/indexing.html#returning-a-view-versus-a-copy\n",
      "  df_patient['pred'] = y_pred_ordinals[i]\n",
      "/tmp/ipykernel_2419974/760769985.py:13: SettingWithCopyWarning: \n",
      "A value is trying to be set on a copy of a slice from a DataFrame.\n",
      "Try using .loc[row_indexer,col_indexer] = value instead\n",
      "\n",
      "See the caveats in the documentation: https://pandas.pydata.org/pandas-docs/stable/user_guide/indexing.html#returning-a-view-versus-a-copy\n",
      "  df_patient['pred'] = y_pred_ordinals[i]\n"
     ]
    }
   ],
   "source": [
    "def compute_eggim_patient(patient_df, target_variable):\n",
    "    df = patient_df[['landmark', target_variable]].value_counts()\n",
    "    # we use index[0] to assume first landmark/score pair is correct\n",
    "    eggim_antrum_incisura = df['proximal ant lc'].index[0] + df['proximal ant gc/pw'].index[0] + df['incisura r'].index[0]\n",
    "    eggim_body_1 = (df['distal body'].index[0] + df['upper body ant'].index[0]) / 2\n",
    "    eggim_body_2 = (df['distal lc'].index[0]+ df['upper body r'].index[0]) / 2\n",
    "    return eggim_antrum_incisura + eggim_body_1 + eggim_body_2\n",
    "\n",
    "eggim_scores = {}\n",
    "for i, patient_id in enumerate(patient_ids):\n",
    "    print(patient_id)\n",
    "    df_patient = df_togas[df_togas['patient_id'] == patient_id]\n",
    "    df_patient['pred'] = y_pred_ordinals[i]\n",
    "    eggim_square = compute_eggim_patient(df_patient,\n",
    "                                          target_variable='eggim_square')\n",
    "    eggim_global = compute_eggim_patient(df_patient,\n",
    "                                  target_variable='eggim_global')\n",
    "    eggim_pred = compute_eggim_patient(df_patient,\n",
    "                                  target_variable='pred')\n",
    "    eggim_scores[patient_ids[i]] = {'eggim_square': eggim_square, 'eggim_global': eggim_global,\n",
    "                                    'eggim_pred': eggim_pred}\n",
    "eggim_df = pd.DataFrame(eggim_scores).T"
   ],
   "metadata": {
    "collapsed": false
   }
  },
  {
   "cell_type": "code",
   "execution_count": 12,
   "outputs": [
    {
     "data": {
      "text/plain": "       eggim_square  eggim_global  eggim_pred\nPT004           1.0           1.0         3.0\nPT005           4.0           3.0         6.5\nPT006           1.0           1.0         2.5\nPT009           8.0           8.5         5.0\nPT016           0.0           0.0         2.0\nPT020           1.0           2.0         1.0\nPT021          10.0          10.0        10.0\nPT022           8.0           8.0         9.0\nPT024           7.0           7.0         9.0\nPT025          10.0          10.0         9.5\nPT028           3.0           3.5         6.5\nPT029           7.5           7.5         5.0\nPT030           6.0           6.0         4.0\nPT031           5.0           5.0         4.0\nPT034           2.5           3.0         3.5\nPT035           9.0           9.5         9.0\nPT037           3.0           3.0         2.0\nPT039           5.0           4.5         4.0\nPT040           6.0           6.0         7.0\nPT041           2.0           2.0         0.5\nPT045           8.0           8.0         7.0\nPT046           2.0           2.5         3.0\nPT048           1.5           1.5         2.5\nPT049           1.0           0.5         3.0\nPT051           2.5           3.5         0.5\nPT053           8.0           8.0         5.5",
      "text/html": "<div>\n<style scoped>\n    .dataframe tbody tr th:only-of-type {\n        vertical-align: middle;\n    }\n\n    .dataframe tbody tr th {\n        vertical-align: top;\n    }\n\n    .dataframe thead th {\n        text-align: right;\n    }\n</style>\n<table border=\"1\" class=\"dataframe\">\n  <thead>\n    <tr style=\"text-align: right;\">\n      <th></th>\n      <th>eggim_square</th>\n      <th>eggim_global</th>\n      <th>eggim_pred</th>\n    </tr>\n  </thead>\n  <tbody>\n    <tr>\n      <th>PT004</th>\n      <td>1.0</td>\n      <td>1.0</td>\n      <td>3.0</td>\n    </tr>\n    <tr>\n      <th>PT005</th>\n      <td>4.0</td>\n      <td>3.0</td>\n      <td>6.5</td>\n    </tr>\n    <tr>\n      <th>PT006</th>\n      <td>1.0</td>\n      <td>1.0</td>\n      <td>2.5</td>\n    </tr>\n    <tr>\n      <th>PT009</th>\n      <td>8.0</td>\n      <td>8.5</td>\n      <td>5.0</td>\n    </tr>\n    <tr>\n      <th>PT016</th>\n      <td>0.0</td>\n      <td>0.0</td>\n      <td>2.0</td>\n    </tr>\n    <tr>\n      <th>PT020</th>\n      <td>1.0</td>\n      <td>2.0</td>\n      <td>1.0</td>\n    </tr>\n    <tr>\n      <th>PT021</th>\n      <td>10.0</td>\n      <td>10.0</td>\n      <td>10.0</td>\n    </tr>\n    <tr>\n      <th>PT022</th>\n      <td>8.0</td>\n      <td>8.0</td>\n      <td>9.0</td>\n    </tr>\n    <tr>\n      <th>PT024</th>\n      <td>7.0</td>\n      <td>7.0</td>\n      <td>9.0</td>\n    </tr>\n    <tr>\n      <th>PT025</th>\n      <td>10.0</td>\n      <td>10.0</td>\n      <td>9.5</td>\n    </tr>\n    <tr>\n      <th>PT028</th>\n      <td>3.0</td>\n      <td>3.5</td>\n      <td>6.5</td>\n    </tr>\n    <tr>\n      <th>PT029</th>\n      <td>7.5</td>\n      <td>7.5</td>\n      <td>5.0</td>\n    </tr>\n    <tr>\n      <th>PT030</th>\n      <td>6.0</td>\n      <td>6.0</td>\n      <td>4.0</td>\n    </tr>\n    <tr>\n      <th>PT031</th>\n      <td>5.0</td>\n      <td>5.0</td>\n      <td>4.0</td>\n    </tr>\n    <tr>\n      <th>PT034</th>\n      <td>2.5</td>\n      <td>3.0</td>\n      <td>3.5</td>\n    </tr>\n    <tr>\n      <th>PT035</th>\n      <td>9.0</td>\n      <td>9.5</td>\n      <td>9.0</td>\n    </tr>\n    <tr>\n      <th>PT037</th>\n      <td>3.0</td>\n      <td>3.0</td>\n      <td>2.0</td>\n    </tr>\n    <tr>\n      <th>PT039</th>\n      <td>5.0</td>\n      <td>4.5</td>\n      <td>4.0</td>\n    </tr>\n    <tr>\n      <th>PT040</th>\n      <td>6.0</td>\n      <td>6.0</td>\n      <td>7.0</td>\n    </tr>\n    <tr>\n      <th>PT041</th>\n      <td>2.0</td>\n      <td>2.0</td>\n      <td>0.5</td>\n    </tr>\n    <tr>\n      <th>PT045</th>\n      <td>8.0</td>\n      <td>8.0</td>\n      <td>7.0</td>\n    </tr>\n    <tr>\n      <th>PT046</th>\n      <td>2.0</td>\n      <td>2.5</td>\n      <td>3.0</td>\n    </tr>\n    <tr>\n      <th>PT048</th>\n      <td>1.5</td>\n      <td>1.5</td>\n      <td>2.5</td>\n    </tr>\n    <tr>\n      <th>PT049</th>\n      <td>1.0</td>\n      <td>0.5</td>\n      <td>3.0</td>\n    </tr>\n    <tr>\n      <th>PT051</th>\n      <td>2.5</td>\n      <td>3.5</td>\n      <td>0.5</td>\n    </tr>\n    <tr>\n      <th>PT053</th>\n      <td>8.0</td>\n      <td>8.0</td>\n      <td>5.5</td>\n    </tr>\n  </tbody>\n</table>\n</div>"
     },
     "execution_count": 12,
     "metadata": {},
     "output_type": "execute_result"
    }
   ],
   "source": [
    "eggim_df"
   ],
   "metadata": {
    "collapsed": false
   }
  },
  {
   "cell_type": "code",
   "execution_count": 30,
   "outputs": [],
   "source": [
    "eggim_df.to_csv('baseline_embc.csv')"
   ],
   "metadata": {
    "collapsed": false
   }
  },
  {
   "cell_type": "code",
   "execution_count": 19,
   "outputs": [],
   "source": [
    "# minimum error of patch vs global labels\n",
    "best_possible_eggim_mae = np.mean(np.abs(eggim_df.iloc[:, 1] -  eggim_df.iloc[:, 0]))"
   ],
   "metadata": {
    "collapsed": false
   }
  },
  {
   "cell_type": "code",
   "execution_count": 13,
   "outputs": [],
   "source": [
    "# error of patch predictions vs patch labels\n",
    "patch_eggim_mae =  np.mean(np.abs(eggim_df.iloc[:, 0] -  eggim_df.iloc[:, 2]))"
   ],
   "metadata": {
    "collapsed": false
   }
  },
  {
   "cell_type": "code",
   "execution_count": 21,
   "outputs": [],
   "source": [
    "patch_global_eggim_mae = np.mean(np.abs(eggim_df.iloc[:, 1] -  eggim_df.iloc[:, 2]))"
   ],
   "metadata": {
    "collapsed": false
   }
  },
  {
   "cell_type": "code",
   "execution_count": 15,
   "outputs": [
    {
     "data": {
      "text/plain": "1.4807692307692308"
     },
     "execution_count": 15,
     "metadata": {},
     "output_type": "execute_result"
    }
   ],
   "source": [
    "patch_eggim_mae"
   ],
   "metadata": {
    "collapsed": false
   }
  },
  {
   "cell_type": "code",
   "execution_count": 28,
   "outputs": [
    {
     "data": {
      "text/plain": "1.5769230769230769"
     },
     "execution_count": 28,
     "metadata": {},
     "output_type": "execute_result"
    }
   ],
   "source": [
    "# global ground truth vs patch pred\n",
    "patch_global_eggim_mae"
   ],
   "metadata": {
    "collapsed": false
   }
  },
  {
   "cell_type": "code",
   "execution_count": 25,
   "outputs": [
    {
     "data": {
      "text/plain": "1.3269230769230769"
     },
     "execution_count": 25,
     "metadata": {},
     "output_type": "execute_result"
    }
   ],
   "source": [
    "# global ground truth vs patch pred \"adjusted\" with minimum error in square labels\n",
    "patch_global_eggim_mae - best_possible_eggim_mae"
   ],
   "metadata": {
    "collapsed": false
   }
  },
  {
   "cell_type": "code",
   "execution_count": 29,
   "outputs": [
    {
     "data": {
      "text/plain": "0.25"
     },
     "execution_count": 29,
     "metadata": {},
     "output_type": "execute_result"
    }
   ],
   "source": [
    "best_possible_eggim_mae"
   ],
   "metadata": {
    "collapsed": false
   }
  },
  {
   "cell_type": "code",
   "execution_count": null,
   "outputs": [],
   "source": [],
   "metadata": {
    "collapsed": false
   }
  }
 ],
 "metadata": {
  "kernelspec": {
   "display_name": "Python 3",
   "language": "python",
   "name": "python3"
  },
  "language_info": {
   "codemirror_mode": {
    "name": "ipython",
    "version": 2
   },
   "file_extension": ".py",
   "mimetype": "text/x-python",
   "name": "python",
   "nbconvert_exporter": "python",
   "pygments_lexer": "ipython2",
   "version": "2.7.6"
  }
 },
 "nbformat": 4,
 "nbformat_minor": 0
}
