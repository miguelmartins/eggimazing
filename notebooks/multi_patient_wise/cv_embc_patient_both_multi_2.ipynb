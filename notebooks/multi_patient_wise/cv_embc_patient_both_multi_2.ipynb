{
 "cells": [
  {
   "cell_type": "raw",
   "source": [],
   "metadata": {
    "collapsed": false,
    "pycharm": {
     "name": ""
    }
   }
  },
  {
   "cell_type": "code",
   "execution_count": 1,
   "metadata": {
    "collapsed": true
   },
   "outputs": [
    {
     "name": "stderr",
     "output_type": "stream",
     "text": [
      "2024-12-02 13:37:54.617618: E tensorflow/compiler/xla/stream_executor/cuda/cuda_dnn.cc:9342] Unable to register cuDNN factory: Attempting to register factory for plugin cuDNN when one has already been registered\n",
      "2024-12-02 13:37:54.617680: E tensorflow/compiler/xla/stream_executor/cuda/cuda_fft.cc:609] Unable to register cuFFT factory: Attempting to register factory for plugin cuFFT when one has already been registered\n",
      "2024-12-02 13:37:54.617710: E tensorflow/compiler/xla/stream_executor/cuda/cuda_blas.cc:1518] Unable to register cuBLAS factory: Attempting to register factory for plugin cuBLAS when one has already been registered\n",
      "2024-12-02 13:37:54.624857: I tensorflow/core/platform/cpu_feature_guard.cc:182] This TensorFlow binary is optimized to use available CPU instructions in performance-critical operations.\n",
      "To enable the following instructions: AVX2 FMA, in other operations, rebuild TensorFlow with the appropriate compiler flags.\n"
     ]
    }
   ],
   "source": [
    "import matplotlib.pyplot as plt\n",
    "import numpy as np\n",
    "import os\n",
    "import tensorflow as tf\n",
    "from keras.metrics import Precision, Recall, AUC, CategoricalAccuracy\n",
    "\n",
    "from custom_models.augmentation import basic_plus_color_augmentation, basic_augmentation\n",
    "from custom_models.bilinear_cnns import fe_resnet\n",
    "from custom_models.cnns import simple_cnn_bn, base_resnet50\n",
    "from custom_models.optimization_utilities import get_standard_callbacks\n",
    "from etl.load_dataset import DatasetProcessor, get_tf_eggim_patch_dataset\n",
    "from optimization.custom_losses import weighted_categorical_crossentropy"
   ]
  },
  {
   "cell_type": "code",
   "execution_count": 2,
   "outputs": [],
   "source": [
    "target_dir = '../../test_files/EGGIMazing/Dataset01'\n",
    "model_weights_directory = '../../logs/'\n",
    "batch_size = 32\n",
    "num_epochs = 100\n",
    "learning_rate = 1e-4\n",
    "num_folds = 5\n",
    "\n",
    "def get_model_dirs(model_weights_directory, name):\n",
    "    model_fold_dir = sorted(os.listdir(model_weights_directory))\n",
    "    model_dirs = [os.path.join(os.path.join(model_weights_directory, x), 'weights.h5')\n",
    "                  for x in model_fold_dir if x.startswith(name)]\n",
    "    return model_dirs"
   ],
   "metadata": {
    "collapsed": false
   }
  },
  {
   "cell_type": "code",
   "execution_count": 3,
   "outputs": [],
   "source": [
    "baseline_dirs = get_model_dirs(model_weights_directory, 'cv_embc2_patient_resnet_multi')\n",
    "fe_resnet_dirs = get_model_dirs(model_weights_directory, 'cv_embc2_patient_feresnet')"
   ],
   "metadata": {
    "collapsed": false
   }
  },
  {
   "cell_type": "code",
   "execution_count": 4,
   "outputs": [],
   "source": [
    "dp = DatasetProcessor(target_dir)\n",
    "df = dp.process()\n",
    "patient_ids = np.load('../../configs/test_patient_ids_2.npy', allow_pickle=True)\n",
    "\n",
    "togas_ids_boolean = np.array([x.startswith('PT') for x in df['patient_id'].values])\n",
    "df_togas = df[togas_ids_boolean].reset_index(drop=True)\n",
    "df_ipo = df[~togas_ids_boolean].reset_index(drop=True)\n"
   ],
   "metadata": {
    "collapsed": false
   }
  },
  {
   "cell_type": "code",
   "execution_count": 5,
   "outputs": [
    {
     "name": "stderr",
     "output_type": "stream",
     "text": [
      "2024-12-02 13:38:22.539025: I tensorflow/compiler/xla/stream_executor/cuda/cuda_gpu_executor.cc:894] successful NUMA node read from SysFS had negative value (-1), but there must be at least one NUMA node, so returning NUMA node zero. See more at https://github.com/torvalds/linux/blob/v6.0/Documentation/ABI/testing/sysfs-bus-pci#L344-L355\n",
      "2024-12-02 13:38:22.539282: I tensorflow/compiler/xla/stream_executor/cuda/cuda_gpu_executor.cc:894] successful NUMA node read from SysFS had negative value (-1), but there must be at least one NUMA node, so returning NUMA node zero. See more at https://github.com/torvalds/linux/blob/v6.0/Documentation/ABI/testing/sysfs-bus-pci#L344-L355\n",
      "2024-12-02 13:38:22.579721: I tensorflow/compiler/xla/stream_executor/cuda/cuda_gpu_executor.cc:894] successful NUMA node read from SysFS had negative value (-1), but there must be at least one NUMA node, so returning NUMA node zero. See more at https://github.com/torvalds/linux/blob/v6.0/Documentation/ABI/testing/sysfs-bus-pci#L344-L355\n",
      "2024-12-02 13:38:22.580028: I tensorflow/compiler/xla/stream_executor/cuda/cuda_gpu_executor.cc:894] successful NUMA node read from SysFS had negative value (-1), but there must be at least one NUMA node, so returning NUMA node zero. See more at https://github.com/torvalds/linux/blob/v6.0/Documentation/ABI/testing/sysfs-bus-pci#L344-L355\n",
      "2024-12-02 13:38:22.580227: I tensorflow/compiler/xla/stream_executor/cuda/cuda_gpu_executor.cc:894] successful NUMA node read from SysFS had negative value (-1), but there must be at least one NUMA node, so returning NUMA node zero. See more at https://github.com/torvalds/linux/blob/v6.0/Documentation/ABI/testing/sysfs-bus-pci#L344-L355\n",
      "2024-12-02 13:38:22.580410: I tensorflow/compiler/xla/stream_executor/cuda/cuda_gpu_executor.cc:894] successful NUMA node read from SysFS had negative value (-1), but there must be at least one NUMA node, so returning NUMA node zero. See more at https://github.com/torvalds/linux/blob/v6.0/Documentation/ABI/testing/sysfs-bus-pci#L344-L355\n",
      "2024-12-02 13:38:22.711547: I tensorflow/compiler/xla/stream_executor/cuda/cuda_gpu_executor.cc:894] successful NUMA node read from SysFS had negative value (-1), but there must be at least one NUMA node, so returning NUMA node zero. See more at https://github.com/torvalds/linux/blob/v6.0/Documentation/ABI/testing/sysfs-bus-pci#L344-L355\n",
      "2024-12-02 13:38:22.711798: I tensorflow/compiler/xla/stream_executor/cuda/cuda_gpu_executor.cc:894] successful NUMA node read from SysFS had negative value (-1), but there must be at least one NUMA node, so returning NUMA node zero. See more at https://github.com/torvalds/linux/blob/v6.0/Documentation/ABI/testing/sysfs-bus-pci#L344-L355\n",
      "2024-12-02 13:38:22.711985: I tensorflow/compiler/xla/stream_executor/cuda/cuda_gpu_executor.cc:894] successful NUMA node read from SysFS had negative value (-1), but there must be at least one NUMA node, so returning NUMA node zero. See more at https://github.com/torvalds/linux/blob/v6.0/Documentation/ABI/testing/sysfs-bus-pci#L344-L355\n",
      "2024-12-02 13:38:22.712178: I tensorflow/compiler/xla/stream_executor/cuda/cuda_gpu_executor.cc:894] successful NUMA node read from SysFS had negative value (-1), but there must be at least one NUMA node, so returning NUMA node zero. See more at https://github.com/torvalds/linux/blob/v6.0/Documentation/ABI/testing/sysfs-bus-pci#L344-L355\n",
      "2024-12-02 13:38:22.712348: I tensorflow/compiler/xla/stream_executor/cuda/cuda_gpu_executor.cc:894] successful NUMA node read from SysFS had negative value (-1), but there must be at least one NUMA node, so returning NUMA node zero. See more at https://github.com/torvalds/linux/blob/v6.0/Documentation/ABI/testing/sysfs-bus-pci#L344-L355\n",
      "2024-12-02 13:38:22.712517: I tensorflow/compiler/xla/stream_executor/cuda/cuda_gpu_executor.cc:894] successful NUMA node read from SysFS had negative value (-1), but there must be at least one NUMA node, so returning NUMA node zero. See more at https://github.com/torvalds/linux/blob/v6.0/Documentation/ABI/testing/sysfs-bus-pci#L344-L355\n",
      "2024-12-02 13:38:22.720974: I tensorflow/compiler/xla/stream_executor/cuda/cuda_gpu_executor.cc:894] successful NUMA node read from SysFS had negative value (-1), but there must be at least one NUMA node, so returning NUMA node zero. See more at https://github.com/torvalds/linux/blob/v6.0/Documentation/ABI/testing/sysfs-bus-pci#L344-L355\n",
      "2024-12-02 13:38:22.721191: I tensorflow/compiler/xla/stream_executor/cuda/cuda_gpu_executor.cc:894] successful NUMA node read from SysFS had negative value (-1), but there must be at least one NUMA node, so returning NUMA node zero. See more at https://github.com/torvalds/linux/blob/v6.0/Documentation/ABI/testing/sysfs-bus-pci#L344-L355\n",
      "2024-12-02 13:38:22.721373: I tensorflow/compiler/xla/stream_executor/cuda/cuda_gpu_executor.cc:894] successful NUMA node read from SysFS had negative value (-1), but there must be at least one NUMA node, so returning NUMA node zero. See more at https://github.com/torvalds/linux/blob/v6.0/Documentation/ABI/testing/sysfs-bus-pci#L344-L355\n",
      "2024-12-02 13:38:22.721549: I tensorflow/compiler/xla/stream_executor/cuda/cuda_gpu_executor.cc:894] successful NUMA node read from SysFS had negative value (-1), but there must be at least one NUMA node, so returning NUMA node zero. See more at https://github.com/torvalds/linux/blob/v6.0/Documentation/ABI/testing/sysfs-bus-pci#L344-L355\n",
      "2024-12-02 13:38:22.721745: I tensorflow/compiler/xla/stream_executor/cuda/cuda_gpu_executor.cc:894] successful NUMA node read from SysFS had negative value (-1), but there must be at least one NUMA node, so returning NUMA node zero. See more at https://github.com/torvalds/linux/blob/v6.0/Documentation/ABI/testing/sysfs-bus-pci#L344-L355\n",
      "2024-12-02 13:38:22.721925: I tensorflow/core/common_runtime/gpu/gpu_device.cc:1886] Created device /job:localhost/replica:0/task:0/device:GPU:0 with 46865 MB memory:  -> device: 0, name: NVIDIA RTX A6000, pci bus id: 0000:01:00.0, compute capability: 8.6\n",
      "2024-12-02 13:38:22.722607: I tensorflow/compiler/xla/stream_executor/cuda/cuda_gpu_executor.cc:894] successful NUMA node read from SysFS had negative value (-1), but there must be at least one NUMA node, so returning NUMA node zero. See more at https://github.com/torvalds/linux/blob/v6.0/Documentation/ABI/testing/sysfs-bus-pci#L344-L355\n",
      "2024-12-02 13:38:22.722941: I tensorflow/core/common_runtime/gpu/gpu_device.cc:1886] Created device /job:localhost/replica:0/task:0/device:GPU:1 with 22453 MB memory:  -> device: 1, name: NVIDIA GeForce RTX 3090, pci bus id: 0000:02:00.0, compute capability: 8.6\n",
      "2024-12-02 13:38:28.639430: I tensorflow/compiler/xla/stream_executor/cuda/cuda_dnn.cc:442] Loaded cuDNN version 8700\n"
     ]
    },
    {
     "name": "stdout",
     "output_type": "stream",
     "text": [
      "1/1 [==============================] - 1s 1s/step\n",
      "1/1 [==============================] - 2s 2s/step\n",
      "1/1 [==============================] - 1s 539ms/step\n",
      "1/1 [==============================] - 1s 893ms/step\n",
      "WARNING:tensorflow:5 out of the last 5 calls to <function Model.make_predict_function.<locals>.predict_function at 0x72cb8d7c0af0> triggered tf.function retracing. Tracing is expensive and the excessive number of tracings could be due to (1) creating @tf.function repeatedly in a loop, (2) passing tensors with different shapes, (3) passing Python objects instead of tensors. For (1), please define your @tf.function outside of the loop. For (2), @tf.function has reduce_retracing=True option that can avoid unnecessary retracing. For (3), please refer to https://www.tensorflow.org/guide/function#controlling_retracing and https://www.tensorflow.org/api_docs/python/tf/function for  more details.\n",
      "1/1 [==============================] - 1s 842ms/step\n",
      "WARNING:tensorflow:6 out of the last 6 calls to <function Model.make_predict_function.<locals>.predict_function at 0x72cb8d7c1240> triggered tf.function retracing. Tracing is expensive and the excessive number of tracings could be due to (1) creating @tf.function repeatedly in a loop, (2) passing tensors with different shapes, (3) passing Python objects instead of tensors. For (1), please define your @tf.function outside of the loop. For (2), @tf.function has reduce_retracing=True option that can avoid unnecessary retracing. For (3), please refer to https://www.tensorflow.org/guide/function#controlling_retracing and https://www.tensorflow.org/api_docs/python/tf/function for  more details.\n",
      "1/1 [==============================] - 2s 2s/step\n",
      "1/1 [==============================] - 1s 832ms/step\n",
      "1/1 [==============================] - 2s 2s/step\n",
      "1/1 [==============================] - 1s 558ms/step\n",
      "1/1 [==============================] - 1s 892ms/step\n"
     ]
    },
    {
     "name": "stderr",
     "output_type": "stream",
     "text": [
      "/home/miguelmartins/Projects/eggimazing/evaluation/metrics.py:28: RuntimeWarning: invalid value encountered in scalar divide\n",
      "  specificity = TN / (TN + FP)\n",
      "/home/miguelmartins/Projects/eggimazing/evaluation/metrics.py:28: RuntimeWarning: invalid value encountered in scalar divide\n",
      "  specificity = TN / (TN + FP)\n"
     ]
    },
    {
     "name": "stdout",
     "output_type": "stream",
     "text": [
      "1/1 [==============================] - 1s 817ms/step\n",
      "1/1 [==============================] - 2s 2s/step\n",
      "1/1 [==============================] - 1s 591ms/step\n",
      "1/1 [==============================] - 1s 933ms/step\n"
     ]
    },
    {
     "name": "stderr",
     "output_type": "stream",
     "text": [
      "/home/miguelmartins/Projects/eggimazing/evaluation/metrics.py:28: RuntimeWarning: invalid value encountered in scalar divide\n",
      "  specificity = TN / (TN + FP)\n"
     ]
    },
    {
     "name": "stdout",
     "output_type": "stream",
     "text": [
      "1/1 [==============================] - 1s 789ms/step\n",
      "1/1 [==============================] - 2s 2s/step\n",
      "1/1 [==============================] - 1s 552ms/step\n",
      "1/1 [==============================] - 1s 915ms/step\n",
      "1/1 [==============================] - 1s 528ms/step\n",
      "1/1 [==============================] - 1s 896ms/step\n"
     ]
    },
    {
     "name": "stderr",
     "output_type": "stream",
     "text": [
      "/home/miguelmartins/Projects/eggimazing/evaluation/metrics.py:28: RuntimeWarning: invalid value encountered in scalar divide\n",
      "  specificity = TN / (TN + FP)\n",
      "/home/miguelmartins/Projects/eggimazing/evaluation/metrics.py:28: RuntimeWarning: invalid value encountered in scalar divide\n",
      "  specificity = TN / (TN + FP)\n"
     ]
    },
    {
     "name": "stdout",
     "output_type": "stream",
     "text": [
      "1/1 [==============================] - 1s 560ms/step\n",
      "1/1 [==============================] - 1s 959ms/step\n",
      "1/1 [==============================] - 1s 548ms/step\n",
      "1/1 [==============================] - 1s 1s/step\n",
      "1/1 [==============================] - 1s 599ms/step\n",
      "1/1 [==============================] - 1s 947ms/step\n",
      "1/1 [==============================] - 1s 901ms/step\n",
      "1/1 [==============================] - 1s 943ms/step\n",
      "1/1 [==============================] - 1s 535ms/step\n",
      "1/1 [==============================] - 1s 920ms/step\n",
      "1/1 [==============================] - 1s 587ms/step\n",
      "1/1 [==============================] - 1s 928ms/step\n",
      "1/1 [==============================] - 1s 549ms/step\n",
      "1/1 [==============================] - 1s 932ms/step\n",
      "1/1 [==============================] - 1s 599ms/step\n",
      "1/1 [==============================] - 1s 947ms/step\n",
      "1/1 [==============================] - 1s 539ms/step\n",
      "1/1 [==============================] - 1s 922ms/step\n",
      "1/1 [==============================] - 1s 580ms/step\n",
      "1/1 [==============================] - 1s 946ms/step\n",
      "1/1 [==============================] - 1s 545ms/step\n",
      "1/1 [==============================] - 1s 919ms/step\n",
      "1/1 [==============================] - 1s 595ms/step\n",
      "1/1 [==============================] - 1s 954ms/step\n",
      "1/1 [==============================] - 1s 533ms/step\n",
      "1/1 [==============================] - 1s 932ms/step\n",
      "1/1 [==============================] - 1s 866ms/step\n",
      "1/1 [==============================] - 2s 2s/step\n",
      "1/1 [==============================] - 1s 550ms/step\n",
      "1/1 [==============================] - 1s 921ms/step\n",
      "1/1 [==============================] - 1s 603ms/step\n",
      "1/1 [==============================] - 1s 971ms/step\n"
     ]
    }
   ],
   "source": [
    "from sklearn.metrics import confusion_matrix\n",
    "\n",
    "from evaluation.metrics import categorical_accuracy\n",
    "\n",
    "from evaluation.metrics import specificity_per_class\n",
    "\n",
    "from evaluation.metrics import sensitivity_per_class\n",
    "\n",
    "\n",
    "metrics_baseline = []\n",
    "metrics_feresnet = []\n",
    "y_true_ordinals = []\n",
    "y_baseline_ordinals = []\n",
    "y_feresnet_ordinals = []\n",
    "\n",
    "split = dp.patient_wise_split(df_togas,\n",
    "                                      df_ipo,\n",
    "                                      patient_ids,\n",
    "                                      internal_train_size=0.9,\n",
    "                                      target_variable='eggim_square',\n",
    "                                      random_state=42)\n",
    "\n",
    "def compute_metrics(y_true, y_pred, y_true_ordinals, y_pred_ordinals, metrics): # split y_true before and call this for each model\n",
    "    y_true_ordinal = np.argmax(y_true, axis=-1) # [0 0 1] -> 2\n",
    "    y_pred_ordinal = np.argmax(y_pred, axis=-1)\n",
    "    y_true_ordinals.append(y_true_ordinal)\n",
    "    y_pred_ordinals.append(y_pred_ordinal)\n",
    "    y_pred_one_hot = np.zeros_like(y_pred)\n",
    "    y_pred_one_hot[np.arange(len(y_pred)), np.argmax(y_pred, axis=1)] = 1 # [0.2, 0.2, 0.6] -> [0, 0, 1]\n",
    "    conf_matrix = confusion_matrix(y_true_ordinal, y_pred_ordinal,\n",
    "                                   labels=[0, 1, 2])\n",
    "    metrics.append([categorical_accuracy(y_true, y_pred_one_hot),\n",
    "                    specificity_per_class(conf_matrix), sensitivity_per_class(conf_matrix),\n",
    "                    conf_matrix])\n",
    "    return metrics\n",
    "\n",
    "for fold, (df_train, df_val, df_test) in enumerate(split):\n",
    "    tf_test_df = get_tf_eggim_patch_dataset(df_test,\n",
    "                                            num_classes=3,\n",
    "                                            preprocess_fn=tf.keras.applications.resnet.preprocess_input)\n",
    "\n",
    "    tf_test_df = tf_test_df.batch(batch_size)\n",
    "\n",
    "    n_classes = 3  # Replace with the number of classes you have\n",
    "\n",
    "    #\n",
    "    baseline = base_resnet50(input_shape=(224, 224, 3), n_classes=n_classes)\n",
    "    # Compile the model with Adam optimizer 13:21\n",
    "    baseline.compile(optimizer=tf.keras.optimizers.Adam(learning_rate=learning_rate),\n",
    "                  metrics=[CategoricalAccuracy(name='cat_accuracy'), Precision(name='precision'),\n",
    "                           Recall(name='recall'),\n",
    "                           AUC(name='auc')])\n",
    "\n",
    "\n",
    "    baseline.load_weights(baseline_dirs[fold])\n",
    "\n",
    "    model = fe_resnet(input_shape=(224, 224, 3), n_classes=n_classes)\n",
    "    # Compile the model with Adam optimizer 13:21\n",
    "    model.compile(optimizer=tf.keras.optimizers.Adam(learning_rate=learning_rate),\n",
    "                  metrics=[CategoricalAccuracy(name='cat_accuracy'), Precision(name='precision'),\n",
    "                           Recall(name='recall'),\n",
    "                           AUC(name='auc')])\n",
    "\n",
    "\n",
    "    model.load_weights(fe_resnet_dirs[fold])\n",
    "\n",
    "    y_true = np.concatenate([y for (_, y) in tf_test_df])\n",
    "    y_pred_baseline = baseline.predict(tf_test_df)\n",
    "    y_pred_feresnet = model.predict(tf_test_df)\n",
    "    compute_metrics(y_true, y_pred_baseline, y_true_ordinals, y_baseline_ordinals, metrics_baseline)\n",
    "    compute_metrics(y_true, y_pred_feresnet, y_true_ordinals, y_feresnet_ordinals, metrics_feresnet)"
   ],
   "metadata": {
    "collapsed": false
   }
  },
  {
   "cell_type": "code",
   "execution_count": 6,
   "outputs": [],
   "source": [
    "def parse_metrics(metrics):\n",
    "    cat_acc = np.array([x[0] for x in metrics])\n",
    "    spec = np.array([x[1] for x in metrics])\n",
    "    sens = np.array([x[2] for x in metrics])\n",
    "    confs = np.array([x[3] for x in metrics], dtype=object)\n",
    "    return cat_acc, spec, sens"
   ],
   "metadata": {
    "collapsed": false
   }
  },
  {
   "cell_type": "code",
   "execution_count": 7,
   "outputs": [],
   "source": [
    "from scipy.stats import ttest_rel\n",
    "baseline_acc, baseline_spec, baseline_sens = parse_metrics(metrics_baseline)\n",
    "feresnet_acc, feresnet_spec, feresnet_sens = parse_metrics(metrics_feresnet)\n",
    "\n",
    "baseline_metrics_list = [baseline_acc, baseline_spec, baseline_sens]\n",
    "feresnet_metrics_list = [feresnet_acc, feresnet_spec, feresnet_sens]"
   ],
   "metadata": {
    "collapsed": false
   }
  },
  {
   "cell_type": "code",
   "execution_count": 11,
   "outputs": [
    {
     "data": {
      "text/plain": "(array([0.64214557, 0.53311966, 0.43482906]),\n array([0.66999731, 0.51025641, 0.4465812 ]))"
     },
     "execution_count": 11,
     "metadata": {},
     "output_type": "execute_result"
    }
   ],
   "source": [
    "np.mean(baseline_sens, axis=0), np.mean(feresnet_sens, axis=0)"
   ],
   "metadata": {
    "collapsed": false
   }
  },
  {
   "cell_type": "code",
   "execution_count": 12,
   "outputs": [
    {
     "data": {
      "text/plain": "array([0.72727273, 0.54545455, 0.4       , 0.64285714, 1.        ,\n       0.84615385, 1.        , 0.83333333, 0.46153846, 0.38461538,\n       0.91666667, 0.92857143, 0.5       , 0.66666667, 0.66666667,\n       0.75      , 0.53846154, 0.81818182, 0.75      , 1.        ,\n       0.63636364, 1.        , 0.81818182, 0.66666667, 0.91666667,\n       0.36363636])"
     },
     "execution_count": 12,
     "metadata": {},
     "output_type": "execute_result"
    }
   ],
   "source": [
    "baseline_acc"
   ],
   "metadata": {
    "collapsed": false
   }
  },
  {
   "cell_type": "code",
   "execution_count": 8,
   "outputs": [],
   "source": [
    "def parse_sens_spec(m1, m2):\n",
    "    m1 = np.nan_to_num(m1, nan=0)\n",
    "    m2 =  np.nan_to_num(m2, nan=0)\n",
    "\n",
    "    print(np.mean(m1, axis=0), '+-', np.std(m1, axis=0))\n",
    "    print(np.mean(m2, axis=0), \"+-\", np.std(m2, axis=0))\n",
    "    for i in range(3):\n",
    "        t_stat, p_value = ttest_rel(np.nan_to_num(m1[:, i], nan=0), np.nan_to_num(m2[:, i], nan=0))\n",
    "        print(t_stat, p_value)\n",
    "\n"
   ],
   "metadata": {
    "collapsed": false
   }
  },
  {
   "cell_type": "code",
   "execution_count": 10,
   "outputs": [
    {
     "name": "stdout",
     "output_type": "stream",
     "text": [
      "Accuracy\n",
      "statistically different\n",
      "0.7222290529982838 +- 0.19866882490511328\n",
      "0.7165193780578396 +- 0.23191787520041124\n"
     ]
    },
    {
     "ename": "IndexError",
     "evalue": "too many indices for array: array is 1-dimensional, but 2 were indexed",
     "output_type": "error",
     "traceback": [
      "\u001B[0;31m---------------------------------------------------------------------------\u001B[0m",
      "\u001B[0;31mIndexError\u001B[0m                                Traceback (most recent call last)",
      "Cell \u001B[0;32mIn[10], line 3\u001B[0m\n\u001B[1;32m      1\u001B[0m \u001B[38;5;28mprint\u001B[39m(\u001B[38;5;124m\"\u001B[39m\u001B[38;5;124mAccuracy\u001B[39m\u001B[38;5;124m\"\u001B[39m)\n\u001B[1;32m      2\u001B[0m \u001B[38;5;28mprint\u001B[39m(\u001B[38;5;124m\"\u001B[39m\u001B[38;5;124mstatistically different\u001B[39m\u001B[38;5;124m\"\u001B[39m)\n\u001B[0;32m----> 3\u001B[0m \u001B[43mparse_sens_spec\u001B[49m\u001B[43m(\u001B[49m\u001B[43mbaseline_acc\u001B[49m\u001B[43m,\u001B[49m\u001B[43m \u001B[49m\u001B[43mferesnet_acc\u001B[49m\u001B[43m)\u001B[49m\n",
      "Cell \u001B[0;32mIn[8], line 8\u001B[0m, in \u001B[0;36mparse_sens_spec\u001B[0;34m(m1, m2)\u001B[0m\n\u001B[1;32m      6\u001B[0m \u001B[38;5;28mprint\u001B[39m(np\u001B[38;5;241m.\u001B[39mmean(m2, axis\u001B[38;5;241m=\u001B[39m\u001B[38;5;241m0\u001B[39m), \u001B[38;5;124m\"\u001B[39m\u001B[38;5;124m+-\u001B[39m\u001B[38;5;124m\"\u001B[39m, np\u001B[38;5;241m.\u001B[39mstd(m2, axis\u001B[38;5;241m=\u001B[39m\u001B[38;5;241m0\u001B[39m))\n\u001B[1;32m      7\u001B[0m \u001B[38;5;28;01mfor\u001B[39;00m i \u001B[38;5;129;01min\u001B[39;00m \u001B[38;5;28mrange\u001B[39m(\u001B[38;5;241m3\u001B[39m):\n\u001B[0;32m----> 8\u001B[0m     t_stat, p_value \u001B[38;5;241m=\u001B[39m ttest_rel(np\u001B[38;5;241m.\u001B[39mnan_to_num(\u001B[43mm1\u001B[49m\u001B[43m[\u001B[49m\u001B[43m:\u001B[49m\u001B[43m,\u001B[49m\u001B[43m \u001B[49m\u001B[43mi\u001B[49m\u001B[43m]\u001B[49m, nan\u001B[38;5;241m=\u001B[39m\u001B[38;5;241m0\u001B[39m), np\u001B[38;5;241m.\u001B[39mnan_to_num(m2[:, i], nan\u001B[38;5;241m=\u001B[39m\u001B[38;5;241m0\u001B[39m))\n\u001B[1;32m      9\u001B[0m     \u001B[38;5;28mprint\u001B[39m(t_stat, p_value)\n",
      "\u001B[0;31mIndexError\u001B[0m: too many indices for array: array is 1-dimensional, but 2 were indexed"
     ]
    }
   ],
   "source": [
    "print(\"Accuracy\")\n",
    "print(\"statistically different\")\n",
    "parse_sens_spec(baseline_acc, feresnet_acc)\n"
   ],
   "metadata": {
    "collapsed": false
   }
  },
  {
   "cell_type": "code",
   "execution_count": 11,
   "outputs": [
    {
     "name": "stdout",
     "output_type": "stream",
     "text": [
      "Sensitivity\n",
      "statistically different\n",
      "[0.62783139 0.55444444 0.45222222] +- [0.30111432 0.41725736 0.45375797]\n",
      "[0.6567972  0.53066667 0.46444444] +- [0.28326455 0.4612948  0.44218314]\n",
      "-0.6859595411642311 0.4993121850802652\n",
      "0.5155563921264223 0.6108811010516737\n",
      "-0.48780607717434205 0.6301138690214335\n"
     ]
    }
   ],
   "source": [
    "print(\"Sensitivity\")\n",
    "print(\"statistically different\")\n",
    "parse_sens_spec(np.delete(baseline_sens, 4, axis=0), np.delete(feresnet_sens, 4, axis=0))"
   ],
   "metadata": {
    "collapsed": false
   }
  },
  {
   "cell_type": "code",
   "execution_count": 12,
   "outputs": [
    {
     "name": "stdout",
     "output_type": "stream",
     "text": [
      "Specificity\n",
      "[0.79528283 0.84753069 0.79896659] +- [0.35733398 0.15379369 0.22747435]\n",
      "[0.76053535 0.87283128 0.82404973] +- [0.36491853 0.12453479 0.20910315]\n",
      "1.29068182142798 0.2091098090433341\n",
      "-0.9013160363723492 0.3763767034224431\n",
      "-0.5250687331206028 0.6043526550727694\n"
     ]
    }
   ],
   "source": [
    "print(\"Specificity\")\n",
    "parse_sens_spec(np.delete(baseline_spec, 4, axis=0), np.delete(feresnet_spec, 4, axis=0))"
   ],
   "metadata": {
    "collapsed": false
   }
  },
  {
   "cell_type": "code",
   "execution_count": 17,
   "outputs": [
    {
     "name": "stdout",
     "output_type": "stream",
     "text": [
      "accuracy\n",
      "Baseline\n",
      "mean: 0.72; std: 0.20; \n",
      "Fe-ResNet50\n",
      "mean: 0.72; std: 0.23;\n",
      "p-value: 0.8783222191427136\n",
      "\n",
      "specificity\n",
      "Baseline\n",
      "mean: 0.85;  std: 0.10; \n",
      "Fe-ResNet50\n",
      "mean: 0.84; std 0.12\n",
      "p-value: 0.651854292814867\n",
      "\n",
      "sensitivity\n",
      "Baseline\n",
      "mean: 0.54;  std: 0.24; \n",
      "Fe-ResNet50\n",
      "mean: 0.54; std 0.25\n",
      "p-value: 0.7953873774262861\n",
      "\n"
     ]
    }
   ],
   "source": [
    "metric_names = ['accuracy', 'specificity', 'sensitivity']\n",
    "for i, (base, fe) in enumerate(zip(baseline_metrics_list, feresnet_metrics_list)):\n",
    "\n",
    "    print(f'{metric_names[i]}')\n",
    "    if i < 1:\n",
    "        print(\"Baseline\")\n",
    "        print(f'mean: {np.nanmean(base):.2f}; std: {np.nanstd(base):.2f}; ')\n",
    "        print(\"Fe-ResNet50\")\n",
    "        print(f'mean: {np.nanmean(fe):.2f}; std: {np.nanstd(fe):.2f};')\n",
    "        t_stat, p_value = ttest_rel(base, fe)\n",
    "        print(f'p-value: {p_value}')\n",
    "        print()\n",
    "    else:\n",
    "        global_base = np.nanmean(base, axis=1)\n",
    "        global_fe = np.nanmean(fe, axis=1)\n",
    "\n",
    "        print(\"Baseline\")\n",
    "        print(f'mean: {np.nanmean(global_base):.2f};  std: {np.nanstd(global_base):.2f}; ')\n",
    "        #print(f'mean: {np.nanmean(base, axis=0)};  std: {np.nanstd(base, axis=0)}; ')\n",
    "        print(\"Fe-ResNet50\")\n",
    "        print(f'mean: {np.nanmean(global_fe):.2f}; std {np.nanstd(global_fe):.2f}')\n",
    "        #print(f'mean: {np.nanmean(fe, axis=0):.2f};  std: {np.nanstd(fe, axis=0):.2f}; ')\n",
    "        t_stat, p_value = ttest_rel(np.nan_to_num(global_base, nan=1), np.nan_to_num(global_fe, nan=1))\n",
    "        print(f'p-value: {p_value}')\n",
    "        print()\n"
   ],
   "metadata": {
    "collapsed": false
   }
  },
  {
   "cell_type": "code",
   "execution_count": 31,
   "outputs": [
    {
     "name": "stderr",
     "output_type": "stream",
     "text": [
      "/tmp/ipykernel_3245298/742969411.py:16: MatplotlibDeprecationWarning: The 'labels' parameter of boxplot() has been renamed 'tick_labels' since Matplotlib 3.9; support for the old name will be dropped in 3.11.\n",
      "  ax.boxplot(\n",
      "/tmp/ipykernel_3245298/742969411.py:16: MatplotlibDeprecationWarning: The 'labels' parameter of boxplot() has been renamed 'tick_labels' since Matplotlib 3.9; support for the old name will be dropped in 3.11.\n",
      "  ax.boxplot(\n"
     ]
    },
    {
     "ename": "ValueError",
     "evalue": "X must have 2 or fewer dimensions",
     "output_type": "error",
     "traceback": [
      "\u001B[0;31m---------------------------------------------------------------------------\u001B[0m",
      "\u001B[0;31mValueError\u001B[0m                                Traceback (most recent call last)",
      "Cell \u001B[0;32mIn[31], line 16\u001B[0m\n\u001B[1;32m     14\u001B[0m \u001B[38;5;28;01mfor\u001B[39;00m i, metric_data \u001B[38;5;129;01min\u001B[39;00m \u001B[38;5;28menumerate\u001B[39m(data_to_plot):\n\u001B[1;32m     15\u001B[0m     positions \u001B[38;5;241m=\u001B[39m [i \u001B[38;5;241m*\u001B[39m \u001B[38;5;241m3\u001B[39m \u001B[38;5;241m+\u001B[39m \u001B[38;5;241m1\u001B[39m, i \u001B[38;5;241m*\u001B[39m \u001B[38;5;241m3\u001B[39m \u001B[38;5;241m+\u001B[39m \u001B[38;5;241m2\u001B[39m]  \u001B[38;5;66;03m# Space out the groups\u001B[39;00m\n\u001B[0;32m---> 16\u001B[0m     \u001B[43max\u001B[49m\u001B[38;5;241;43m.\u001B[39;49m\u001B[43mboxplot\u001B[49m\u001B[43m(\u001B[49m\n\u001B[1;32m     17\u001B[0m \u001B[43m        \u001B[49m\u001B[43mmetric_data\u001B[49m\u001B[43m,\u001B[49m\n\u001B[1;32m     18\u001B[0m \u001B[43m        \u001B[49m\u001B[43mpositions\u001B[49m\u001B[38;5;241;43m=\u001B[39;49m\u001B[43mpositions\u001B[49m\u001B[43m,\u001B[49m\n\u001B[1;32m     19\u001B[0m \u001B[43m        \u001B[49m\u001B[43mwidths\u001B[49m\u001B[38;5;241;43m=\u001B[39;49m\u001B[38;5;241;43m0.6\u001B[39;49m\u001B[43m,\u001B[49m\n\u001B[1;32m     20\u001B[0m \u001B[43m        \u001B[49m\u001B[43mpatch_artist\u001B[49m\u001B[38;5;241;43m=\u001B[39;49m\u001B[38;5;28;43;01mTrue\u001B[39;49;00m\u001B[43m,\u001B[49m\n\u001B[1;32m     21\u001B[0m \u001B[43m        \u001B[49m\u001B[43mlabels\u001B[49m\u001B[38;5;241;43m=\u001B[39;49m\u001B[43m[\u001B[49m\u001B[38;5;124;43m'\u001B[39;49m\u001B[38;5;124;43mBaseline\u001B[39;49m\u001B[38;5;124;43m'\u001B[39;49m\u001B[43m,\u001B[49m\u001B[43m \u001B[49m\u001B[38;5;124;43m'\u001B[39;49m\u001B[38;5;124;43mFeResNet\u001B[39;49m\u001B[38;5;124;43m'\u001B[39;49m\u001B[43m]\u001B[49m\u001B[43m \u001B[49m\u001B[38;5;28;43;01mif\u001B[39;49;00m\u001B[43m \u001B[49m\u001B[43mi\u001B[49m\u001B[43m \u001B[49m\u001B[38;5;241;43m==\u001B[39;49m\u001B[43m \u001B[49m\u001B[38;5;241;43m0\u001B[39;49m\u001B[43m \u001B[49m\u001B[38;5;28;43;01melse\u001B[39;49;00m\u001B[43m \u001B[49m\u001B[38;5;28;43;01mNone\u001B[39;49;00m\u001B[43m,\u001B[49m\n\u001B[1;32m     22\u001B[0m \u001B[43m    \u001B[49m\u001B[43m)\u001B[49m\n\u001B[1;32m     24\u001B[0m \u001B[38;5;66;03m# Add labels and grid\u001B[39;00m\n\u001B[1;32m     25\u001B[0m ax\u001B[38;5;241m.\u001B[39mset_xticks([i \u001B[38;5;241m*\u001B[39m \u001B[38;5;241m3\u001B[39m \u001B[38;5;241m+\u001B[39m \u001B[38;5;241m1.5\u001B[39m \u001B[38;5;28;01mfor\u001B[39;00m i \u001B[38;5;129;01min\u001B[39;00m \u001B[38;5;28mrange\u001B[39m(\u001B[38;5;28mlen\u001B[39m(metrics_labels))])\n",
      "File \u001B[0;32m~/.local/lib/python3.10/site-packages/matplotlib/__init__.py:1473\u001B[0m, in \u001B[0;36m_preprocess_data.<locals>.inner\u001B[0;34m(ax, data, *args, **kwargs)\u001B[0m\n\u001B[1;32m   1470\u001B[0m \u001B[38;5;129m@functools\u001B[39m\u001B[38;5;241m.\u001B[39mwraps(func)\n\u001B[1;32m   1471\u001B[0m \u001B[38;5;28;01mdef\u001B[39;00m \u001B[38;5;21minner\u001B[39m(ax, \u001B[38;5;241m*\u001B[39margs, data\u001B[38;5;241m=\u001B[39m\u001B[38;5;28;01mNone\u001B[39;00m, \u001B[38;5;241m*\u001B[39m\u001B[38;5;241m*\u001B[39mkwargs):\n\u001B[1;32m   1472\u001B[0m     \u001B[38;5;28;01mif\u001B[39;00m data \u001B[38;5;129;01mis\u001B[39;00m \u001B[38;5;28;01mNone\u001B[39;00m:\n\u001B[0;32m-> 1473\u001B[0m         \u001B[38;5;28;01mreturn\u001B[39;00m \u001B[43mfunc\u001B[49m\u001B[43m(\u001B[49m\n\u001B[1;32m   1474\u001B[0m \u001B[43m            \u001B[49m\u001B[43max\u001B[49m\u001B[43m,\u001B[49m\n\u001B[1;32m   1475\u001B[0m \u001B[43m            \u001B[49m\u001B[38;5;241;43m*\u001B[39;49m\u001B[38;5;28;43mmap\u001B[39;49m\u001B[43m(\u001B[49m\u001B[43msanitize_sequence\u001B[49m\u001B[43m,\u001B[49m\u001B[43m \u001B[49m\u001B[43margs\u001B[49m\u001B[43m)\u001B[49m\u001B[43m,\u001B[49m\n\u001B[1;32m   1476\u001B[0m \u001B[43m            \u001B[49m\u001B[38;5;241;43m*\u001B[39;49m\u001B[38;5;241;43m*\u001B[39;49m\u001B[43m{\u001B[49m\u001B[43mk\u001B[49m\u001B[43m:\u001B[49m\u001B[43m \u001B[49m\u001B[43msanitize_sequence\u001B[49m\u001B[43m(\u001B[49m\u001B[43mv\u001B[49m\u001B[43m)\u001B[49m\u001B[43m \u001B[49m\u001B[38;5;28;43;01mfor\u001B[39;49;00m\u001B[43m \u001B[49m\u001B[43mk\u001B[49m\u001B[43m,\u001B[49m\u001B[43m \u001B[49m\u001B[43mv\u001B[49m\u001B[43m \u001B[49m\u001B[38;5;129;43;01min\u001B[39;49;00m\u001B[43m \u001B[49m\u001B[43mkwargs\u001B[49m\u001B[38;5;241;43m.\u001B[39;49m\u001B[43mitems\u001B[49m\u001B[43m(\u001B[49m\u001B[43m)\u001B[49m\u001B[43m}\u001B[49m\u001B[43m)\u001B[49m\n\u001B[1;32m   1478\u001B[0m     bound \u001B[38;5;241m=\u001B[39m new_sig\u001B[38;5;241m.\u001B[39mbind(ax, \u001B[38;5;241m*\u001B[39margs, \u001B[38;5;241m*\u001B[39m\u001B[38;5;241m*\u001B[39mkwargs)\n\u001B[1;32m   1479\u001B[0m     auto_label \u001B[38;5;241m=\u001B[39m (bound\u001B[38;5;241m.\u001B[39marguments\u001B[38;5;241m.\u001B[39mget(label_namer)\n\u001B[1;32m   1480\u001B[0m                   \u001B[38;5;129;01mor\u001B[39;00m bound\u001B[38;5;241m.\u001B[39mkwargs\u001B[38;5;241m.\u001B[39mget(label_namer))\n",
      "File \u001B[0;32m~/.local/lib/python3.10/site-packages/matplotlib/_api/deprecation.py:300\u001B[0m, in \u001B[0;36mrename_parameter.<locals>.wrapper\u001B[0;34m(*args, **kwargs)\u001B[0m\n\u001B[1;32m    295\u001B[0m     warn_deprecated(\n\u001B[1;32m    296\u001B[0m         since, message\u001B[38;5;241m=\u001B[39m\u001B[38;5;124mf\u001B[39m\u001B[38;5;124m\"\u001B[39m\u001B[38;5;124mThe \u001B[39m\u001B[38;5;132;01m{\u001B[39;00mold\u001B[38;5;132;01m!r}\u001B[39;00m\u001B[38;5;124m parameter of \u001B[39m\u001B[38;5;132;01m{\u001B[39;00mfunc\u001B[38;5;241m.\u001B[39m\u001B[38;5;18m__name__\u001B[39m\u001B[38;5;132;01m}\u001B[39;00m\u001B[38;5;124m() \u001B[39m\u001B[38;5;124m\"\u001B[39m\n\u001B[1;32m    297\u001B[0m         \u001B[38;5;124mf\u001B[39m\u001B[38;5;124m\"\u001B[39m\u001B[38;5;124mhas been renamed \u001B[39m\u001B[38;5;132;01m{\u001B[39;00mnew\u001B[38;5;132;01m!r}\u001B[39;00m\u001B[38;5;124m since Matplotlib \u001B[39m\u001B[38;5;132;01m{\u001B[39;00msince\u001B[38;5;132;01m}\u001B[39;00m\u001B[38;5;124m; support \u001B[39m\u001B[38;5;124m\"\u001B[39m\n\u001B[1;32m    298\u001B[0m         \u001B[38;5;124mf\u001B[39m\u001B[38;5;124m\"\u001B[39m\u001B[38;5;124mfor the old name will be dropped %(removal)s.\u001B[39m\u001B[38;5;124m\"\u001B[39m)\n\u001B[1;32m    299\u001B[0m     kwargs[new] \u001B[38;5;241m=\u001B[39m kwargs\u001B[38;5;241m.\u001B[39mpop(old)\n\u001B[0;32m--> 300\u001B[0m \u001B[38;5;28;01mreturn\u001B[39;00m \u001B[43mfunc\u001B[49m\u001B[43m(\u001B[49m\u001B[38;5;241;43m*\u001B[39;49m\u001B[43margs\u001B[49m\u001B[43m,\u001B[49m\u001B[43m \u001B[49m\u001B[38;5;241;43m*\u001B[39;49m\u001B[38;5;241;43m*\u001B[39;49m\u001B[43mkwargs\u001B[49m\u001B[43m)\u001B[49m\n",
      "File \u001B[0;32m~/.local/lib/python3.10/site-packages/matplotlib/axes/_axes.py:4039\u001B[0m, in \u001B[0;36mAxes.boxplot\u001B[0;34m(self, x, notch, sym, vert, whis, positions, widths, patch_artist, bootstrap, usermedians, conf_intervals, meanline, showmeans, showcaps, showbox, showfliers, boxprops, tick_labels, flierprops, medianprops, meanprops, capprops, whiskerprops, manage_ticks, autorange, zorder, capwidths, label)\u001B[0m\n\u001B[1;32m   4036\u001B[0m \u001B[38;5;28;01mif\u001B[39;00m bootstrap \u001B[38;5;129;01mis\u001B[39;00m \u001B[38;5;28;01mNone\u001B[39;00m:\n\u001B[1;32m   4037\u001B[0m     bootstrap \u001B[38;5;241m=\u001B[39m mpl\u001B[38;5;241m.\u001B[39mrcParams[\u001B[38;5;124m'\u001B[39m\u001B[38;5;124mboxplot.bootstrap\u001B[39m\u001B[38;5;124m'\u001B[39m]\n\u001B[0;32m-> 4039\u001B[0m bxpstats \u001B[38;5;241m=\u001B[39m \u001B[43mcbook\u001B[49m\u001B[38;5;241;43m.\u001B[39;49m\u001B[43mboxplot_stats\u001B[49m\u001B[43m(\u001B[49m\u001B[43mx\u001B[49m\u001B[43m,\u001B[49m\u001B[43m \u001B[49m\u001B[43mwhis\u001B[49m\u001B[38;5;241;43m=\u001B[39;49m\u001B[43mwhis\u001B[49m\u001B[43m,\u001B[49m\u001B[43m \u001B[49m\u001B[43mbootstrap\u001B[49m\u001B[38;5;241;43m=\u001B[39;49m\u001B[43mbootstrap\u001B[49m\u001B[43m,\u001B[49m\n\u001B[1;32m   4040\u001B[0m \u001B[43m                               \u001B[49m\u001B[43mlabels\u001B[49m\u001B[38;5;241;43m=\u001B[39;49m\u001B[43mtick_labels\u001B[49m\u001B[43m,\u001B[49m\u001B[43m \u001B[49m\u001B[43mautorange\u001B[49m\u001B[38;5;241;43m=\u001B[39;49m\u001B[43mautorange\u001B[49m\u001B[43m)\u001B[49m\n\u001B[1;32m   4041\u001B[0m \u001B[38;5;28;01mif\u001B[39;00m notch \u001B[38;5;129;01mis\u001B[39;00m \u001B[38;5;28;01mNone\u001B[39;00m:\n\u001B[1;32m   4042\u001B[0m     notch \u001B[38;5;241m=\u001B[39m mpl\u001B[38;5;241m.\u001B[39mrcParams[\u001B[38;5;124m'\u001B[39m\u001B[38;5;124mboxplot.notch\u001B[39m\u001B[38;5;124m'\u001B[39m]\n",
      "File \u001B[0;32m~/.local/lib/python3.10/site-packages/matplotlib/cbook.py:1254\u001B[0m, in \u001B[0;36mboxplot_stats\u001B[0;34m(X, whis, bootstrap, labels, autorange)\u001B[0m\n\u001B[1;32m   1251\u001B[0m bxpstats \u001B[38;5;241m=\u001B[39m []\n\u001B[1;32m   1253\u001B[0m \u001B[38;5;66;03m# convert X to a list of lists\u001B[39;00m\n\u001B[0;32m-> 1254\u001B[0m X \u001B[38;5;241m=\u001B[39m \u001B[43m_reshape_2D\u001B[49m\u001B[43m(\u001B[49m\u001B[43mX\u001B[49m\u001B[43m,\u001B[49m\u001B[43m \u001B[49m\u001B[38;5;124;43m\"\u001B[39;49m\u001B[38;5;124;43mX\u001B[39;49m\u001B[38;5;124;43m\"\u001B[39;49m\u001B[43m)\u001B[49m\n\u001B[1;32m   1256\u001B[0m ncols \u001B[38;5;241m=\u001B[39m \u001B[38;5;28mlen\u001B[39m(X)\n\u001B[1;32m   1257\u001B[0m \u001B[38;5;28;01mif\u001B[39;00m labels \u001B[38;5;129;01mis\u001B[39;00m \u001B[38;5;28;01mNone\u001B[39;00m:\n",
      "File \u001B[0;32m~/.local/lib/python3.10/site-packages/matplotlib/cbook.py:1465\u001B[0m, in \u001B[0;36m_reshape_2D\u001B[0;34m(X, name)\u001B[0m\n\u001B[1;32m   1463\u001B[0m     nd \u001B[38;5;241m=\u001B[39m np\u001B[38;5;241m.\u001B[39mndim(xi)\n\u001B[1;32m   1464\u001B[0m     \u001B[38;5;28;01mif\u001B[39;00m nd \u001B[38;5;241m>\u001B[39m \u001B[38;5;241m1\u001B[39m:\n\u001B[0;32m-> 1465\u001B[0m         \u001B[38;5;28;01mraise\u001B[39;00m \u001B[38;5;167;01mValueError\u001B[39;00m(\u001B[38;5;124mf\u001B[39m\u001B[38;5;124m'\u001B[39m\u001B[38;5;132;01m{\u001B[39;00mname\u001B[38;5;132;01m}\u001B[39;00m\u001B[38;5;124m must have 2 or fewer dimensions\u001B[39m\u001B[38;5;124m'\u001B[39m)\n\u001B[1;32m   1466\u001B[0m     result\u001B[38;5;241m.\u001B[39mappend(xi\u001B[38;5;241m.\u001B[39mreshape(\u001B[38;5;241m-\u001B[39m\u001B[38;5;241m1\u001B[39m))\n\u001B[1;32m   1468\u001B[0m \u001B[38;5;28;01mif\u001B[39;00m is_1d:\n\u001B[1;32m   1469\u001B[0m     \u001B[38;5;66;03m# 1D array of scalars: directly return it.\u001B[39;00m\n",
      "\u001B[0;31mValueError\u001B[0m: X must have 2 or fewer dimensions"
     ]
    },
    {
     "data": {
      "text/plain": "<Figure size 1000x600 with 1 Axes>",
      "image/png": "[encoded data removed]"
     },
     "metadata": {},
     "output_type": "display_data"
    }
   ],
   "source": [
    "metrics_labels = ['Accuracy', 'Specificity', 'Sensitivity']\n",
    "baseline_data = baseline_metrics_list\n",
    "feresnet_data = feresnet_metrics_list\n",
    "\n",
    "# Combine the data for each metric\n",
    "data_to_plot = [\n",
    "    [baseline_data[i], feresnet_data[i]]\n",
    "    for i in range(len(metrics_labels))\n",
    "]\n",
    "\n",
    "# Create boxplots grouped by metric\n",
    "fig, ax = plt.subplots(figsize=(10, 6))\n",
    "\n",
    "for i, metric_data in enumerate(data_to_plot):\n",
    "    positions = [i * 3 + 1, i * 3 + 2]  # Space out the groups\n",
    "    ax.boxplot(\n",
    "        metric_data,\n",
    "        positions=positions,\n",
    "        widths=0.6,\n",
    "        patch_artist=True,\n",
    "        labels=['Baseline', 'FeResNet'] if i == 0 else None,\n",
    "    )\n",
    "\n",
    "# Add labels and grid\n",
    "ax.set_xticks([i * 3 + 1.5 for i in range(len(metrics_labels))])\n",
    "ax.set_xticklabels(metrics_labels)\n",
    "ax.set_title('Comparison of Metrics Between Baseline and FeResNet')\n",
    "ax.set_ylabel('Metric Values')\n",
    "ax.grid(axis='y', linestyle='--', alpha=0.7)\n",
    "\n",
    "plt.legend([\"Baseline\", \"FeResNet\"], loc='upper left')\n",
    "plt.tight_layout()\n",
    "plt.show()\n"
   ],
   "metadata": {
    "collapsed": false
   }
  },
  {
   "cell_type": "code",
   "execution_count": 32,
   "outputs": [
    {
     "ename": "NameError",
     "evalue": "name 'cat_acc' is not defined",
     "output_type": "error",
     "traceback": [
      "\u001B[0;31m---------------------------------------------------------------------------\u001B[0m",
      "\u001B[0;31mNameError\u001B[0m                                 Traceback (most recent call last)",
      "Cell \u001B[0;32mIn[32], line 1\u001B[0m\n\u001B[0;32m----> 1\u001B[0m data \u001B[38;5;241m=\u001B[39m [\u001B[43mcat_acc\u001B[49m, np\u001B[38;5;241m.\u001B[39mnanmean(spec, axis\u001B[38;5;241m=\u001B[39m\u001B[38;5;241m1\u001B[39m), np\u001B[38;5;241m.\u001B[39mnanmean(sens, axis\u001B[38;5;241m=\u001B[39m\u001B[38;5;241m1\u001B[39m)]\n\u001B[1;32m      3\u001B[0m \u001B[38;5;66;03m# Create the box plot\u001B[39;00m\n\u001B[1;32m      4\u001B[0m plt\u001B[38;5;241m.\u001B[39mfigure(figsize\u001B[38;5;241m=\u001B[39m(\u001B[38;5;241m8\u001B[39m, \u001B[38;5;241m6\u001B[39m))\n",
      "\u001B[0;31mNameError\u001B[0m: name 'cat_acc' is not defined"
     ]
    }
   ],
   "source": [
    "data = [cat_acc, np.nanmean(spec, axis=1), np.nanmean(sens, axis=1)]\n",
    "\n",
    "# Create the box plot\n",
    "plt.figure(figsize=(8, 6))\n",
    "plt.boxplot(data, labels=['Cat Acc', 'Spec', 'Sens'])\n",
    "plt.title('Box Plot of Metrics')\n",
    "plt.ylabel('Values')\n",
    "plt.grid(True)\n",
    "\n",
    "# Show the plot\n",
    "plt.show()"
   ],
   "metadata": {
    "collapsed": false
   }
  },
  {
   "cell_type": "code",
   "execution_count": 33,
   "outputs": [
    {
     "ename": "NameError",
     "evalue": "name 'cat_acc' is not defined",
     "output_type": "error",
     "traceback": [
      "\u001B[0;31m---------------------------------------------------------------------------\u001B[0m",
      "\u001B[0;31mNameError\u001B[0m                                 Traceback (most recent call last)",
      "Cell \u001B[0;32mIn[33], line 1\u001B[0m\n\u001B[0;32m----> 1\u001B[0m data \u001B[38;5;241m=\u001B[39m np\u001B[38;5;241m.\u001B[39marray([\u001B[43mcat_acc\u001B[49m, np\u001B[38;5;241m.\u001B[39mnanmean(spec, axis\u001B[38;5;241m=\u001B[39m\u001B[38;5;241m1\u001B[39m), np\u001B[38;5;241m.\u001B[39mnanmean(sens, axis\u001B[38;5;241m=\u001B[39m\u001B[38;5;241m1\u001B[39m)])\n",
      "\u001B[0;31mNameError\u001B[0m: name 'cat_acc' is not defined"
     ]
    }
   ],
   "source": [
    "data = np.array([cat_acc, np.nanmean(spec, axis=1), np.nanmean(sens, axis=1)])"
   ],
   "metadata": {
    "collapsed": false
   }
  },
  {
   "cell_type": "code",
   "execution_count": 14,
   "outputs": [
    {
     "data": {
      "text/plain": "(3, 26)"
     },
     "execution_count": 14,
     "metadata": {},
     "output_type": "execute_result"
    }
   ],
   "source": [
    "data.shape"
   ],
   "metadata": {
    "collapsed": false
   }
  },
  {
   "cell_type": "code",
   "execution_count": 15,
   "outputs": [
    {
     "data": {
      "text/plain": "(array([0.7674934 , 0.86386544, 0.60097499]),\n array([0.15491663, 0.10772861, 0.21968394]))"
     },
     "execution_count": 15,
     "metadata": {},
     "output_type": "execute_result"
    }
   ],
   "source": [
    "np.mean(data, axis=1), np.std(data, axis=1)"
   ],
   "metadata": {
    "collapsed": false
   }
  },
  {
   "cell_type": "code",
   "execution_count": 8,
   "outputs": [],
   "source": [
    "from evaluation.eggim import *\n",
    "def replace_landmark_name(landmark):\n",
    "    new_landmark_name = {'ii': 'distal body',\n",
    "                    'ix': 'distal lc',\n",
    "                    'vi': 'proximal ant lc',\n",
    "                    'vii': 'proximal ant gc/pw',\n",
    "                    'viii': 'incisura r',\n",
    "                    'x': 'upper body r',\n",
    "                    'xii': 'upper body ant'}\n",
    "    landmark_number = landmark.split('.')[0]\n",
    "    return new_landmark_name[landmark_number]\n",
    "\n",
    "dp = DatasetProcessor(target_dir)\n",
    "df = dp.process()\n",
    "df['landmark'] = df['landmark'].apply(replace_landmark_name)\n",
    "patient_ids = np.load('../../configs/test_patient_ids_2.npy', allow_pickle=True)\n",
    "\n",
    "togas_ids_boolean = np.array([x.startswith('PT') for x in df['patient_id'].values])\n",
    "df_togas = df[togas_ids_boolean].reset_index(drop=True)\n",
    "df_ipo = df[~togas_ids_boolean].reset_index(drop=True)\n"
   ],
   "metadata": {
    "collapsed": false
   }
  },
  {
   "cell_type": "code",
   "execution_count": 15,
   "outputs": [
    {
     "data": {
      "text/plain": "Index(['bbox', 'eggim_global', 'eggim_square', 'landmark', 'image_directory',\n       'patient_id'],\n      dtype='object')"
     },
     "execution_count": 15,
     "metadata": {},
     "output_type": "execute_result"
    }
   ],
   "source": [
    "df_ipo.columns"
   ],
   "metadata": {
    "collapsed": false
   }
  },
  {
   "cell_type": "code",
   "execution_count": 9,
   "outputs": [
    {
     "name": "stdout",
     "output_type": "stream",
     "text": [
      "PT004\n",
      "PT005\n",
      "PT006\n",
      "PT009\n",
      "PT016\n",
      "PT020\n",
      "PT021\n",
      "PT022\n",
      "PT024\n",
      "PT025\n",
      "PT028\n",
      "PT029\n",
      "PT030\n",
      "PT031\n",
      "PT034\n",
      "PT035\n",
      "PT037\n",
      "PT039\n",
      "PT040\n",
      "PT041\n",
      "PT045\n",
      "PT046\n",
      "PT048\n",
      "PT049\n",
      "PT051\n",
      "PT053\n"
     ]
    },
    {
     "name": "stderr",
     "output_type": "stream",
     "text": [
      "/tmp/ipykernel_3302861/1476169491.py:14: SettingWithCopyWarning: \n",
      "A value is trying to be set on a copy of a slice from a DataFrame.\n",
      "Try using .loc[row_indexer,col_indexer] = value instead\n",
      "\n",
      "See the caveats in the documentation: https://pandas.pydata.org/pandas-docs/stable/user_guide/indexing.html#returning-a-view-versus-a-copy\n",
      "  df_patient['pred'] = y_feresnet_ordinals[i]\n",
      "/tmp/ipykernel_3302861/1476169491.py:14: SettingWithCopyWarning: \n",
      "A value is trying to be set on a copy of a slice from a DataFrame.\n",
      "Try using .loc[row_indexer,col_indexer] = value instead\n",
      "\n",
      "See the caveats in the documentation: https://pandas.pydata.org/pandas-docs/stable/user_guide/indexing.html#returning-a-view-versus-a-copy\n",
      "  df_patient['pred'] = y_feresnet_ordinals[i]\n",
      "/tmp/ipykernel_3302861/1476169491.py:14: SettingWithCopyWarning: \n",
      "A value is trying to be set on a copy of a slice from a DataFrame.\n",
      "Try using .loc[row_indexer,col_indexer] = value instead\n",
      "\n",
      "See the caveats in the documentation: https://pandas.pydata.org/pandas-docs/stable/user_guide/indexing.html#returning-a-view-versus-a-copy\n",
      "  df_patient['pred'] = y_feresnet_ordinals[i]\n",
      "/tmp/ipykernel_3302861/1476169491.py:14: SettingWithCopyWarning: \n",
      "A value is trying to be set on a copy of a slice from a DataFrame.\n",
      "Try using .loc[row_indexer,col_indexer] = value instead\n",
      "\n",
      "See the caveats in the documentation: https://pandas.pydata.org/pandas-docs/stable/user_guide/indexing.html#returning-a-view-versus-a-copy\n",
      "  df_patient['pred'] = y_feresnet_ordinals[i]\n",
      "/tmp/ipykernel_3302861/1476169491.py:14: SettingWithCopyWarning: \n",
      "A value is trying to be set on a copy of a slice from a DataFrame.\n",
      "Try using .loc[row_indexer,col_indexer] = value instead\n",
      "\n",
      "See the caveats in the documentation: https://pandas.pydata.org/pandas-docs/stable/user_guide/indexing.html#returning-a-view-versus-a-copy\n",
      "  df_patient['pred'] = y_feresnet_ordinals[i]\n",
      "/tmp/ipykernel_3302861/1476169491.py:14: SettingWithCopyWarning: \n",
      "A value is trying to be set on a copy of a slice from a DataFrame.\n",
      "Try using .loc[row_indexer,col_indexer] = value instead\n",
      "\n",
      "See the caveats in the documentation: https://pandas.pydata.org/pandas-docs/stable/user_guide/indexing.html#returning-a-view-versus-a-copy\n",
      "  df_patient['pred'] = y_feresnet_ordinals[i]\n",
      "/tmp/ipykernel_3302861/1476169491.py:14: SettingWithCopyWarning: \n",
      "A value is trying to be set on a copy of a slice from a DataFrame.\n",
      "Try using .loc[row_indexer,col_indexer] = value instead\n",
      "\n",
      "See the caveats in the documentation: https://pandas.pydata.org/pandas-docs/stable/user_guide/indexing.html#returning-a-view-versus-a-copy\n",
      "  df_patient['pred'] = y_feresnet_ordinals[i]\n",
      "/tmp/ipykernel_3302861/1476169491.py:14: SettingWithCopyWarning: \n",
      "A value is trying to be set on a copy of a slice from a DataFrame.\n",
      "Try using .loc[row_indexer,col_indexer] = value instead\n",
      "\n",
      "See the caveats in the documentation: https://pandas.pydata.org/pandas-docs/stable/user_guide/indexing.html#returning-a-view-versus-a-copy\n",
      "  df_patient['pred'] = y_feresnet_ordinals[i]\n",
      "/tmp/ipykernel_3302861/1476169491.py:14: SettingWithCopyWarning: \n",
      "A value is trying to be set on a copy of a slice from a DataFrame.\n",
      "Try using .loc[row_indexer,col_indexer] = value instead\n",
      "\n",
      "See the caveats in the documentation: https://pandas.pydata.org/pandas-docs/stable/user_guide/indexing.html#returning-a-view-versus-a-copy\n",
      "  df_patient['pred'] = y_feresnet_ordinals[i]\n",
      "/tmp/ipykernel_3302861/1476169491.py:14: SettingWithCopyWarning: \n",
      "A value is trying to be set on a copy of a slice from a DataFrame.\n",
      "Try using .loc[row_indexer,col_indexer] = value instead\n",
      "\n",
      "See the caveats in the documentation: https://pandas.pydata.org/pandas-docs/stable/user_guide/indexing.html#returning-a-view-versus-a-copy\n",
      "  df_patient['pred'] = y_feresnet_ordinals[i]\n",
      "/tmp/ipykernel_3302861/1476169491.py:14: SettingWithCopyWarning: \n",
      "A value is trying to be set on a copy of a slice from a DataFrame.\n",
      "Try using .loc[row_indexer,col_indexer] = value instead\n",
      "\n",
      "See the caveats in the documentation: https://pandas.pydata.org/pandas-docs/stable/user_guide/indexing.html#returning-a-view-versus-a-copy\n",
      "  df_patient['pred'] = y_feresnet_ordinals[i]\n",
      "/tmp/ipykernel_3302861/1476169491.py:14: SettingWithCopyWarning: \n",
      "A value is trying to be set on a copy of a slice from a DataFrame.\n",
      "Try using .loc[row_indexer,col_indexer] = value instead\n",
      "\n",
      "See the caveats in the documentation: https://pandas.pydata.org/pandas-docs/stable/user_guide/indexing.html#returning-a-view-versus-a-copy\n",
      "  df_patient['pred'] = y_feresnet_ordinals[i]\n",
      "/tmp/ipykernel_3302861/1476169491.py:14: SettingWithCopyWarning: \n",
      "A value is trying to be set on a copy of a slice from a DataFrame.\n",
      "Try using .loc[row_indexer,col_indexer] = value instead\n",
      "\n",
      "See the caveats in the documentation: https://pandas.pydata.org/pandas-docs/stable/user_guide/indexing.html#returning-a-view-versus-a-copy\n",
      "  df_patient['pred'] = y_feresnet_ordinals[i]\n",
      "/tmp/ipykernel_3302861/1476169491.py:14: SettingWithCopyWarning: \n",
      "A value is trying to be set on a copy of a slice from a DataFrame.\n",
      "Try using .loc[row_indexer,col_indexer] = value instead\n",
      "\n",
      "See the caveats in the documentation: https://pandas.pydata.org/pandas-docs/stable/user_guide/indexing.html#returning-a-view-versus-a-copy\n",
      "  df_patient['pred'] = y_feresnet_ordinals[i]\n",
      "/tmp/ipykernel_3302861/1476169491.py:14: SettingWithCopyWarning: \n",
      "A value is trying to be set on a copy of a slice from a DataFrame.\n",
      "Try using .loc[row_indexer,col_indexer] = value instead\n",
      "\n",
      "See the caveats in the documentation: https://pandas.pydata.org/pandas-docs/stable/user_guide/indexing.html#returning-a-view-versus-a-copy\n",
      "  df_patient['pred'] = y_feresnet_ordinals[i]\n",
      "/tmp/ipykernel_3302861/1476169491.py:14: SettingWithCopyWarning: \n",
      "A value is trying to be set on a copy of a slice from a DataFrame.\n",
      "Try using .loc[row_indexer,col_indexer] = value instead\n",
      "\n",
      "See the caveats in the documentation: https://pandas.pydata.org/pandas-docs/stable/user_guide/indexing.html#returning-a-view-versus-a-copy\n",
      "  df_patient['pred'] = y_feresnet_ordinals[i]\n",
      "/tmp/ipykernel_3302861/1476169491.py:14: SettingWithCopyWarning: \n",
      "A value is trying to be set on a copy of a slice from a DataFrame.\n",
      "Try using .loc[row_indexer,col_indexer] = value instead\n",
      "\n",
      "See the caveats in the documentation: https://pandas.pydata.org/pandas-docs/stable/user_guide/indexing.html#returning-a-view-versus-a-copy\n",
      "  df_patient['pred'] = y_feresnet_ordinals[i]\n",
      "/tmp/ipykernel_3302861/1476169491.py:14: SettingWithCopyWarning: \n",
      "A value is trying to be set on a copy of a slice from a DataFrame.\n",
      "Try using .loc[row_indexer,col_indexer] = value instead\n",
      "\n",
      "See the caveats in the documentation: https://pandas.pydata.org/pandas-docs/stable/user_guide/indexing.html#returning-a-view-versus-a-copy\n",
      "  df_patient['pred'] = y_feresnet_ordinals[i]\n",
      "/tmp/ipykernel_3302861/1476169491.py:14: SettingWithCopyWarning: \n",
      "A value is trying to be set on a copy of a slice from a DataFrame.\n",
      "Try using .loc[row_indexer,col_indexer] = value instead\n",
      "\n",
      "See the caveats in the documentation: https://pandas.pydata.org/pandas-docs/stable/user_guide/indexing.html#returning-a-view-versus-a-copy\n",
      "  df_patient['pred'] = y_feresnet_ordinals[i]\n",
      "/tmp/ipykernel_3302861/1476169491.py:14: SettingWithCopyWarning: \n",
      "A value is trying to be set on a copy of a slice from a DataFrame.\n",
      "Try using .loc[row_indexer,col_indexer] = value instead\n",
      "\n",
      "See the caveats in the documentation: https://pandas.pydata.org/pandas-docs/stable/user_guide/indexing.html#returning-a-view-versus-a-copy\n",
      "  df_patient['pred'] = y_feresnet_ordinals[i]\n",
      "/tmp/ipykernel_3302861/1476169491.py:14: SettingWithCopyWarning: \n",
      "A value is trying to be set on a copy of a slice from a DataFrame.\n",
      "Try using .loc[row_indexer,col_indexer] = value instead\n",
      "\n",
      "See the caveats in the documentation: https://pandas.pydata.org/pandas-docs/stable/user_guide/indexing.html#returning-a-view-versus-a-copy\n",
      "  df_patient['pred'] = y_feresnet_ordinals[i]\n",
      "/tmp/ipykernel_3302861/1476169491.py:14: SettingWithCopyWarning: \n",
      "A value is trying to be set on a copy of a slice from a DataFrame.\n",
      "Try using .loc[row_indexer,col_indexer] = value instead\n",
      "\n",
      "See the caveats in the documentation: https://pandas.pydata.org/pandas-docs/stable/user_guide/indexing.html#returning-a-view-versus-a-copy\n",
      "  df_patient['pred'] = y_feresnet_ordinals[i]\n",
      "/tmp/ipykernel_3302861/1476169491.py:14: SettingWithCopyWarning: \n",
      "A value is trying to be set on a copy of a slice from a DataFrame.\n",
      "Try using .loc[row_indexer,col_indexer] = value instead\n",
      "\n",
      "See the caveats in the documentation: https://pandas.pydata.org/pandas-docs/stable/user_guide/indexing.html#returning-a-view-versus-a-copy\n",
      "  df_patient['pred'] = y_feresnet_ordinals[i]\n",
      "/tmp/ipykernel_3302861/1476169491.py:14: SettingWithCopyWarning: \n",
      "A value is trying to be set on a copy of a slice from a DataFrame.\n",
      "Try using .loc[row_indexer,col_indexer] = value instead\n",
      "\n",
      "See the caveats in the documentation: https://pandas.pydata.org/pandas-docs/stable/user_guide/indexing.html#returning-a-view-versus-a-copy\n",
      "  df_patient['pred'] = y_feresnet_ordinals[i]\n",
      "/tmp/ipykernel_3302861/1476169491.py:14: SettingWithCopyWarning: \n",
      "A value is trying to be set on a copy of a slice from a DataFrame.\n",
      "Try using .loc[row_indexer,col_indexer] = value instead\n",
      "\n",
      "See the caveats in the documentation: https://pandas.pydata.org/pandas-docs/stable/user_guide/indexing.html#returning-a-view-versus-a-copy\n",
      "  df_patient['pred'] = y_feresnet_ordinals[i]\n",
      "/tmp/ipykernel_3302861/1476169491.py:14: SettingWithCopyWarning: \n",
      "A value is trying to be set on a copy of a slice from a DataFrame.\n",
      "Try using .loc[row_indexer,col_indexer] = value instead\n",
      "\n",
      "See the caveats in the documentation: https://pandas.pydata.org/pandas-docs/stable/user_guide/indexing.html#returning-a-view-versus-a-copy\n",
      "  df_patient['pred'] = y_feresnet_ordinals[i]\n"
     ]
    }
   ],
   "source": [
    "def compute_eggim_patient(patient_df, target_variable):\n",
    "    df = patient_df[['landmark', target_variable]].value_counts()\n",
    "    # we use index[0] to assume first landmark/score pair is correct\n",
    "    eggim_antrum_incisura = df['proximal ant lc'].index[0] + df['proximal ant gc/pw'].index[0] + df['incisura r'].index[0]\n",
    "    eggim_body_1 = (df['distal body'].index[0] + df['upper body ant'].index[0]) / 2\n",
    "    eggim_body_2 = (df['distal lc'].index[0]+ df['upper body r'].index[0]) / 2\n",
    "    return eggim_antrum_incisura + eggim_body_1 + eggim_body_2\n",
    "\n",
    "eggim_scores = {}\n",
    "for i, patient_id in enumerate(patient_ids):\n",
    "    print(patient_id)\n",
    "    df_patient = df_togas[df_togas['patient_id'] == patient_id]\n",
    "    df_patient['pred'] = y_feresnet_ordinals[i]\n",
    "    eggim_square = compute_eggim_patient(df_patient,\n",
    "                                          target_variable='eggim_square')\n",
    "    eggim_global = compute_eggim_patient(df_patient,\n",
    "                                  target_variable='eggim_global')\n",
    "    eggim_pred = compute_eggim_patient(df_patient,\n",
    "                                  target_variable='pred')\n",
    "    eggim_scores[patient_ids[i]] = {'eggim_square': eggim_square, 'eggim_global': eggim_global,\n",
    "                                    'eggim_pred': eggim_pred}\n",
    "eggim_df = pd.DataFrame(eggim_scores).T"
   ],
   "metadata": {
    "collapsed": false
   }
  },
  {
   "cell_type": "code",
   "execution_count": 10,
   "outputs": [],
   "source": [
    "df_patient.to_csv('fe_scores_before_revision.csv')"
   ],
   "metadata": {
    "collapsed": false
   }
  },
  {
   "cell_type": "code",
   "execution_count": 14,
   "outputs": [],
   "source": [
    "eggim_df.to_csv(\"fe_eggim_before_revision.csv\")"
   ],
   "metadata": {
    "collapsed": false
   }
  },
  {
   "cell_type": "code",
   "execution_count": 41,
   "outputs": [
    {
     "name": "stdout",
     "output_type": "stream",
     "text": [
      "7\n"
     ]
    },
    {
     "data": {
      "text/plain": "(0.5, 0.8)"
     },
     "execution_count": 41,
     "metadata": {},
     "output_type": "execute_result"
    }
   ],
   "source": [
    "from sklearn.metrics import confusion_matrix\n",
    "cutoff = 5\n",
    "# Function to calculate sensitivity and specificity\n",
    "def calculate_sensitivity_specificity(y_true, y_pred):\n",
    "    tn, fp, fn, tp = confusion_matrix(y_true, y_pred).ravel()\n",
    "    sensitivity = tp / (tp + fn) if (tp + fn) > 0 else 0.0\n",
    "    specificity = tn / (tn + fp) if (tn + fp) > 0 else 0.0\n",
    "    return sensitivity, specificity\n",
    "\n",
    "y = np.array([1 if eggim >= cutoff else 0 for eggim in eggim_df['eggim_square'].values])\n",
    "y_pred = np.array([1 if eggim >= cutoff else 0 for eggim in eggim_df['eggim_pred'].values])\n",
    "\n",
    "print(np.sum(y != y_pred))\n",
    "\n",
    "calculate_sensitivity_specificity(np.array([1 if eggim >= cutoff else 0 for eggim in eggim_df['eggim_square'].values]),\n",
    "                                  np.array([1 if eggim >= cutoff else 0 for eggim in eggim_df['eggim_pred'].values]))"
   ],
   "metadata": {
    "collapsed": false
   }
  },
  {
   "cell_type": "code",
   "execution_count": 11,
   "outputs": [
    {
     "name": "stdout",
     "output_type": "stream",
     "text": [
      "PT004\n",
      "PT005\n",
      "PT006\n",
      "PT009\n",
      "PT016\n",
      "PT020\n",
      "PT021\n",
      "PT022\n",
      "PT024\n",
      "PT025\n",
      "PT028\n",
      "PT029\n",
      "PT030\n",
      "PT031\n",
      "PT034\n",
      "PT035\n",
      "PT037\n",
      "PT039\n",
      "PT040\n",
      "PT041\n",
      "PT045\n",
      "PT046\n",
      "PT048\n",
      "PT049\n",
      "PT051\n",
      "PT053\n"
     ]
    },
    {
     "name": "stderr",
     "output_type": "stream",
     "text": [
      "/tmp/ipykernel_3302861/1836855989.py:14: SettingWithCopyWarning: \n",
      "A value is trying to be set on a copy of a slice from a DataFrame.\n",
      "Try using .loc[row_indexer,col_indexer] = value instead\n",
      "\n",
      "See the caveats in the documentation: https://pandas.pydata.org/pandas-docs/stable/user_guide/indexing.html#returning-a-view-versus-a-copy\n",
      "  df_patient['pred'] = y_baseline_ordinals[i]\n",
      "/tmp/ipykernel_3302861/1836855989.py:14: SettingWithCopyWarning: \n",
      "A value is trying to be set on a copy of a slice from a DataFrame.\n",
      "Try using .loc[row_indexer,col_indexer] = value instead\n",
      "\n",
      "See the caveats in the documentation: https://pandas.pydata.org/pandas-docs/stable/user_guide/indexing.html#returning-a-view-versus-a-copy\n",
      "  df_patient['pred'] = y_baseline_ordinals[i]\n",
      "/tmp/ipykernel_3302861/1836855989.py:14: SettingWithCopyWarning: \n",
      "A value is trying to be set on a copy of a slice from a DataFrame.\n",
      "Try using .loc[row_indexer,col_indexer] = value instead\n",
      "\n",
      "See the caveats in the documentation: https://pandas.pydata.org/pandas-docs/stable/user_guide/indexing.html#returning-a-view-versus-a-copy\n",
      "  df_patient['pred'] = y_baseline_ordinals[i]\n",
      "/tmp/ipykernel_3302861/1836855989.py:14: SettingWithCopyWarning: \n",
      "A value is trying to be set on a copy of a slice from a DataFrame.\n",
      "Try using .loc[row_indexer,col_indexer] = value instead\n",
      "\n",
      "See the caveats in the documentation: https://pandas.pydata.org/pandas-docs/stable/user_guide/indexing.html#returning-a-view-versus-a-copy\n",
      "  df_patient['pred'] = y_baseline_ordinals[i]\n",
      "/tmp/ipykernel_3302861/1836855989.py:14: SettingWithCopyWarning: \n",
      "A value is trying to be set on a copy of a slice from a DataFrame.\n",
      "Try using .loc[row_indexer,col_indexer] = value instead\n",
      "\n",
      "See the caveats in the documentation: https://pandas.pydata.org/pandas-docs/stable/user_guide/indexing.html#returning-a-view-versus-a-copy\n",
      "  df_patient['pred'] = y_baseline_ordinals[i]\n",
      "/tmp/ipykernel_3302861/1836855989.py:14: SettingWithCopyWarning: \n",
      "A value is trying to be set on a copy of a slice from a DataFrame.\n",
      "Try using .loc[row_indexer,col_indexer] = value instead\n",
      "\n",
      "See the caveats in the documentation: https://pandas.pydata.org/pandas-docs/stable/user_guide/indexing.html#returning-a-view-versus-a-copy\n",
      "  df_patient['pred'] = y_baseline_ordinals[i]\n",
      "/tmp/ipykernel_3302861/1836855989.py:14: SettingWithCopyWarning: \n",
      "A value is trying to be set on a copy of a slice from a DataFrame.\n",
      "Try using .loc[row_indexer,col_indexer] = value instead\n",
      "\n",
      "See the caveats in the documentation: https://pandas.pydata.org/pandas-docs/stable/user_guide/indexing.html#returning-a-view-versus-a-copy\n",
      "  df_patient['pred'] = y_baseline_ordinals[i]\n",
      "/tmp/ipykernel_3302861/1836855989.py:14: SettingWithCopyWarning: \n",
      "A value is trying to be set on a copy of a slice from a DataFrame.\n",
      "Try using .loc[row_indexer,col_indexer] = value instead\n",
      "\n",
      "See the caveats in the documentation: https://pandas.pydata.org/pandas-docs/stable/user_guide/indexing.html#returning-a-view-versus-a-copy\n",
      "  df_patient['pred'] = y_baseline_ordinals[i]\n",
      "/tmp/ipykernel_3302861/1836855989.py:14: SettingWithCopyWarning: \n",
      "A value is trying to be set on a copy of a slice from a DataFrame.\n",
      "Try using .loc[row_indexer,col_indexer] = value instead\n",
      "\n",
      "See the caveats in the documentation: https://pandas.pydata.org/pandas-docs/stable/user_guide/indexing.html#returning-a-view-versus-a-copy\n",
      "  df_patient['pred'] = y_baseline_ordinals[i]\n",
      "/tmp/ipykernel_3302861/1836855989.py:14: SettingWithCopyWarning: \n",
      "A value is trying to be set on a copy of a slice from a DataFrame.\n",
      "Try using .loc[row_indexer,col_indexer] = value instead\n",
      "\n",
      "See the caveats in the documentation: https://pandas.pydata.org/pandas-docs/stable/user_guide/indexing.html#returning-a-view-versus-a-copy\n",
      "  df_patient['pred'] = y_baseline_ordinals[i]\n",
      "/tmp/ipykernel_3302861/1836855989.py:14: SettingWithCopyWarning: \n",
      "A value is trying to be set on a copy of a slice from a DataFrame.\n",
      "Try using .loc[row_indexer,col_indexer] = value instead\n",
      "\n",
      "See the caveats in the documentation: https://pandas.pydata.org/pandas-docs/stable/user_guide/indexing.html#returning-a-view-versus-a-copy\n",
      "  df_patient['pred'] = y_baseline_ordinals[i]\n",
      "/tmp/ipykernel_3302861/1836855989.py:14: SettingWithCopyWarning: \n",
      "A value is trying to be set on a copy of a slice from a DataFrame.\n",
      "Try using .loc[row_indexer,col_indexer] = value instead\n",
      "\n",
      "See the caveats in the documentation: https://pandas.pydata.org/pandas-docs/stable/user_guide/indexing.html#returning-a-view-versus-a-copy\n",
      "  df_patient['pred'] = y_baseline_ordinals[i]\n",
      "/tmp/ipykernel_3302861/1836855989.py:14: SettingWithCopyWarning: \n",
      "A value is trying to be set on a copy of a slice from a DataFrame.\n",
      "Try using .loc[row_indexer,col_indexer] = value instead\n",
      "\n",
      "See the caveats in the documentation: https://pandas.pydata.org/pandas-docs/stable/user_guide/indexing.html#returning-a-view-versus-a-copy\n",
      "  df_patient['pred'] = y_baseline_ordinals[i]\n",
      "/tmp/ipykernel_3302861/1836855989.py:14: SettingWithCopyWarning: \n",
      "A value is trying to be set on a copy of a slice from a DataFrame.\n",
      "Try using .loc[row_indexer,col_indexer] = value instead\n",
      "\n",
      "See the caveats in the documentation: https://pandas.pydata.org/pandas-docs/stable/user_guide/indexing.html#returning-a-view-versus-a-copy\n",
      "  df_patient['pred'] = y_baseline_ordinals[i]\n",
      "/tmp/ipykernel_3302861/1836855989.py:14: SettingWithCopyWarning: \n",
      "A value is trying to be set on a copy of a slice from a DataFrame.\n",
      "Try using .loc[row_indexer,col_indexer] = value instead\n",
      "\n",
      "See the caveats in the documentation: https://pandas.pydata.org/pandas-docs/stable/user_guide/indexing.html#returning-a-view-versus-a-copy\n",
      "  df_patient['pred'] = y_baseline_ordinals[i]\n",
      "/tmp/ipykernel_3302861/1836855989.py:14: SettingWithCopyWarning: \n",
      "A value is trying to be set on a copy of a slice from a DataFrame.\n",
      "Try using .loc[row_indexer,col_indexer] = value instead\n",
      "\n",
      "See the caveats in the documentation: https://pandas.pydata.org/pandas-docs/stable/user_guide/indexing.html#returning-a-view-versus-a-copy\n",
      "  df_patient['pred'] = y_baseline_ordinals[i]\n",
      "/tmp/ipykernel_3302861/1836855989.py:14: SettingWithCopyWarning: \n",
      "A value is trying to be set on a copy of a slice from a DataFrame.\n",
      "Try using .loc[row_indexer,col_indexer] = value instead\n",
      "\n",
      "See the caveats in the documentation: https://pandas.pydata.org/pandas-docs/stable/user_guide/indexing.html#returning-a-view-versus-a-copy\n",
      "  df_patient['pred'] = y_baseline_ordinals[i]\n",
      "/tmp/ipykernel_3302861/1836855989.py:14: SettingWithCopyWarning: \n",
      "A value is trying to be set on a copy of a slice from a DataFrame.\n",
      "Try using .loc[row_indexer,col_indexer] = value instead\n",
      "\n",
      "See the caveats in the documentation: https://pandas.pydata.org/pandas-docs/stable/user_guide/indexing.html#returning-a-view-versus-a-copy\n",
      "  df_patient['pred'] = y_baseline_ordinals[i]\n",
      "/tmp/ipykernel_3302861/1836855989.py:14: SettingWithCopyWarning: \n",
      "A value is trying to be set on a copy of a slice from a DataFrame.\n",
      "Try using .loc[row_indexer,col_indexer] = value instead\n",
      "\n",
      "See the caveats in the documentation: https://pandas.pydata.org/pandas-docs/stable/user_guide/indexing.html#returning-a-view-versus-a-copy\n",
      "  df_patient['pred'] = y_baseline_ordinals[i]\n",
      "/tmp/ipykernel_3302861/1836855989.py:14: SettingWithCopyWarning: \n",
      "A value is trying to be set on a copy of a slice from a DataFrame.\n",
      "Try using .loc[row_indexer,col_indexer] = value instead\n",
      "\n",
      "See the caveats in the documentation: https://pandas.pydata.org/pandas-docs/stable/user_guide/indexing.html#returning-a-view-versus-a-copy\n",
      "  df_patient['pred'] = y_baseline_ordinals[i]\n",
      "/tmp/ipykernel_3302861/1836855989.py:14: SettingWithCopyWarning: \n",
      "A value is trying to be set on a copy of a slice from a DataFrame.\n",
      "Try using .loc[row_indexer,col_indexer] = value instead\n",
      "\n",
      "See the caveats in the documentation: https://pandas.pydata.org/pandas-docs/stable/user_guide/indexing.html#returning-a-view-versus-a-copy\n",
      "  df_patient['pred'] = y_baseline_ordinals[i]\n",
      "/tmp/ipykernel_3302861/1836855989.py:14: SettingWithCopyWarning: \n",
      "A value is trying to be set on a copy of a slice from a DataFrame.\n",
      "Try using .loc[row_indexer,col_indexer] = value instead\n",
      "\n",
      "See the caveats in the documentation: https://pandas.pydata.org/pandas-docs/stable/user_guide/indexing.html#returning-a-view-versus-a-copy\n",
      "  df_patient['pred'] = y_baseline_ordinals[i]\n",
      "/tmp/ipykernel_3302861/1836855989.py:14: SettingWithCopyWarning: \n",
      "A value is trying to be set on a copy of a slice from a DataFrame.\n",
      "Try using .loc[row_indexer,col_indexer] = value instead\n",
      "\n",
      "See the caveats in the documentation: https://pandas.pydata.org/pandas-docs/stable/user_guide/indexing.html#returning-a-view-versus-a-copy\n",
      "  df_patient['pred'] = y_baseline_ordinals[i]\n",
      "/tmp/ipykernel_3302861/1836855989.py:14: SettingWithCopyWarning: \n",
      "A value is trying to be set on a copy of a slice from a DataFrame.\n",
      "Try using .loc[row_indexer,col_indexer] = value instead\n",
      "\n",
      "See the caveats in the documentation: https://pandas.pydata.org/pandas-docs/stable/user_guide/indexing.html#returning-a-view-versus-a-copy\n",
      "  df_patient['pred'] = y_baseline_ordinals[i]\n",
      "/tmp/ipykernel_3302861/1836855989.py:14: SettingWithCopyWarning: \n",
      "A value is trying to be set on a copy of a slice from a DataFrame.\n",
      "Try using .loc[row_indexer,col_indexer] = value instead\n",
      "\n",
      "See the caveats in the documentation: https://pandas.pydata.org/pandas-docs/stable/user_guide/indexing.html#returning-a-view-versus-a-copy\n",
      "  df_patient['pred'] = y_baseline_ordinals[i]\n",
      "/tmp/ipykernel_3302861/1836855989.py:14: SettingWithCopyWarning: \n",
      "A value is trying to be set on a copy of a slice from a DataFrame.\n",
      "Try using .loc[row_indexer,col_indexer] = value instead\n",
      "\n",
      "See the caveats in the documentation: https://pandas.pydata.org/pandas-docs/stable/user_guide/indexing.html#returning-a-view-versus-a-copy\n",
      "  df_patient['pred'] = y_baseline_ordinals[i]\n"
     ]
    }
   ],
   "source": [
    "def compute_eggim_patient(patient_df, target_variable):\n",
    "    df = patient_df[['landmark', target_variable]].value_counts()\n",
    "    # we use index[0] to assume first landmark/score pair is correct\n",
    "    eggim_antrum_incisura = df['proximal ant lc'].index[0] + df['proximal ant gc/pw'].index[0] + df['incisura r'].index[0]\n",
    "    eggim_body_1 = (df['distal body'].index[0] + df['upper body ant'].index[0]) / 2\n",
    "    eggim_body_2 = (df['distal lc'].index[0]+ df['upper body r'].index[0]) / 2\n",
    "    return eggim_antrum_incisura + eggim_body_1 + eggim_body_2\n",
    "\n",
    "eggim_scores = {}\n",
    "for i, patient_id in enumerate(patient_ids):\n",
    "    print(patient_id)\n",
    "    df_patient = df_togas[df_togas['patient_id'] == patient_id]\n",
    "    df_patient['pred'] = y_baseline_ordinals[i]\n",
    "    eggim_square = compute_eggim_patient(df_patient,\n",
    "                                          target_variable='eggim_square')\n",
    "    eggim_global = compute_eggim_patient(df_patient,\n",
    "                                  target_variable='eggim_global')\n",
    "    eggim_pred = compute_eggim_patient(df_patient,\n",
    "                                  target_variable='pred')\n",
    "    eggim_scores[patient_ids[i]] = {'eggim_square': eggim_square, 'eggim_global': eggim_global,\n",
    "                                    'eggim_pred': eggim_pred}\n",
    "eggim_df = pd.DataFrame(eggim_scores).T"
   ],
   "metadata": {
    "collapsed": false
   }
  },
  {
   "cell_type": "code",
   "execution_count": 12,
   "outputs": [],
   "source": [
    "df_patient.to_csv('baseline_scores_before_revision.csv')"
   ],
   "metadata": {
    "collapsed": false
   }
  },
  {
   "cell_type": "code",
   "execution_count": 17,
   "outputs": [],
   "source": [
    "eggim_df.to_csv(\"baseline_eggim_before_revision.csv\")"
   ],
   "metadata": {
    "collapsed": false
   }
  },
  {
   "cell_type": "code",
   "execution_count": 46,
   "outputs": [
    {
     "name": "stdout",
     "output_type": "stream",
     "text": [
      "6\n"
     ]
    },
    {
     "data": {
      "text/plain": "(0.5, 0.85)"
     },
     "execution_count": 46,
     "metadata": {},
     "output_type": "execute_result"
    }
   ],
   "source": [
    "from sklearn.metrics import confusion_matrix\n",
    "cutoff = 5\n",
    "# Function to calculate sensitivity and specificity\n",
    "def calculate_sensitivity_specificity(y_true, y_pred):\n",
    "    tn, fp, fn, tp = confusion_matrix(y_true, y_pred).ravel()\n",
    "    sensitivity = tp / (tp + fn) if (tp + fn) > 0 else 0.0\n",
    "    specificity = tn / (tn + fp) if (tn + fp) > 0 else 0.0\n",
    "    return sensitivity, specificity\n",
    "\n",
    "y = np.array([1 if eggim >= cutoff else 0 for eggim in eggim_df['eggim_square'].values])\n",
    "y_pred = np.array([1 if eggim >= cutoff else 0 for eggim in eggim_df['eggim_pred'].values])\n",
    "\n",
    "print(np.sum(y != y_pred))\n",
    "\n",
    "calculate_sensitivity_specificity(np.array([1 if eggim >= cutoff else 0 for eggim in eggim_df['eggim_square'].values]),\n",
    "                                  np.array([1 if eggim >= cutoff else 0 for eggim in eggim_df['eggim_pred'].values]))"
   ],
   "metadata": {
    "collapsed": false
   }
  },
  {
   "cell_type": "code",
   "execution_count": 29,
   "outputs": [
    {
     "data": {
      "text/plain": "(0.5, 0.8)"
     },
     "execution_count": 29,
     "metadata": {},
     "output_type": "execute_result"
    }
   ],
   "source": [
    "cutoff = 5\n",
    "calculate_sensitivity_specificity(np.array([1 if eggim >= cutoff else 0 for eggim in eggim_df['eggim_square'].values]),\n",
    "                                  np.array([1 if eggim >= cutoff else 0 for eggim in eggim_df['eggim_pred'].values]))"
   ],
   "metadata": {
    "collapsed": false
   }
  },
  {
   "cell_type": "code",
   "execution_count": 30,
   "outputs": [
    {
     "data": {
      "text/plain": "7"
     },
     "execution_count": 30,
     "metadata": {},
     "output_type": "execute_result"
    }
   ],
   "source": [
    "y = np.array([1 if eggim >= cutoff else 0 for eggim in eggim_df['eggim_square'].values])\n",
    "y_pred = np.array([1 if eggim >= cutoff else 0 for eggim in eggim_df['eggim_pred'].values])\n",
    "\n",
    "np.sum(y != y_pred)"
   ],
   "metadata": {
    "collapsed": false
   }
  },
  {
   "cell_type": "code",
   "execution_count": null,
   "outputs": [],
   "source": [
    "print(os.getcwd())"
   ],
   "metadata": {
    "collapsed": false
   }
  },
  {
   "cell_type": "code",
   "execution_count": null,
   "outputs": [],
   "source": [
    "# minimum error of patch vs global labels\n",
    "best_possible_eggim_mae = np.mean(np.abs(eggim_df.iloc[:, 1] -  eggim_df.iloc[:, 0]))"
   ],
   "metadata": {
    "collapsed": false
   }
  },
  {
   "cell_type": "code",
   "execution_count": 9,
   "outputs": [],
   "source": [
    "# error of patch predictions vs patch labels\n",
    "patch_eggim_mae =  np.mean(np.abs(eggim_df.iloc[:, 0] -  eggim_df.iloc[:, 2]))"
   ],
   "metadata": {
    "collapsed": false
   }
  },
  {
   "cell_type": "code",
   "execution_count": 13,
   "outputs": [],
   "source": [
    "patch_global_eggim_mae = np.mean(np.abs(eggim_df.iloc[:, 1] -  eggim_df.iloc[:, 2]))"
   ],
   "metadata": {
    "collapsed": false
   }
  },
  {
   "cell_type": "code",
   "execution_count": 11,
   "outputs": [
    {
     "data": {
      "text/plain": "1.4038461538461537"
     },
     "execution_count": 11,
     "metadata": {},
     "output_type": "execute_result"
    }
   ],
   "source": [
    "patch_eggim_mae"
   ],
   "metadata": {
    "collapsed": false
   }
  },
  {
   "cell_type": "code",
   "execution_count": null,
   "outputs": [],
   "source": [
    "# patch ground truth vs patch pred:\n",
    "patch_eggim_mae"
   ],
   "metadata": {
    "collapsed": false
   }
  },
  {
   "cell_type": "code",
   "execution_count": 14,
   "outputs": [
    {
     "data": {
      "text/plain": "1.4615384615384615"
     },
     "execution_count": 14,
     "metadata": {},
     "output_type": "execute_result"
    }
   ],
   "source": [
    "# global ground truth vs patch pred\n",
    "patch_global_eggim_mae"
   ],
   "metadata": {
    "collapsed": false
   }
  },
  {
   "cell_type": "code",
   "execution_count": null,
   "outputs": [],
   "source": [
    "# global ground truth vs patch pred \"adjusted\" with minimum error in square labels\n",
    "patch_global_eggim_mae - best_possible_eggim_mae"
   ],
   "metadata": {
    "collapsed": false
   }
  },
  {
   "cell_type": "code",
   "execution_count": null,
   "outputs": [],
   "source": [],
   "metadata": {
    "collapsed": false
   }
  }
 ],
 "metadata": {
  "kernelspec": {
   "display_name": "Python 3",
   "language": "python",
   "name": "python3"
  },
  "language_info": {
   "codemirror_mode": {
    "name": "ipython",
    "version": 2
   },
   "file_extension": ".py",
   "mimetype": "text/x-python",
   "name": "python",
   "nbconvert_exporter": "python",
   "pygments_lexer": "ipython2",
   "version": "2.7.6"
  }
 },
 "nbformat": 4,
 "nbformat_minor": 0
}
