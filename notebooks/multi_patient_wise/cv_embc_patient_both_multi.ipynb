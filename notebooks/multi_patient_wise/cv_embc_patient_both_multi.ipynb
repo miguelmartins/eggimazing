{
 "cells": [
  {
   "cell_type": "raw",
   "source": [],
   "metadata": {
    "collapsed": false,
    "pycharm": {
     "name": ""
    }
   }
  },
  {
   "cell_type": "code",
   "execution_count": 1,
   "metadata": {
    "collapsed": true
   },
   "outputs": [
    {
     "name": "stderr",
     "output_type": "stream",
     "text": [
      "2025-01-21 14:15:47.212973: E tensorflow/compiler/xla/stream_executor/cuda/cuda_dnn.cc:9342] Unable to register cuDNN factory: Attempting to register factory for plugin cuDNN when one has already been registered\n",
      "2025-01-21 14:15:47.213047: E tensorflow/compiler/xla/stream_executor/cuda/cuda_fft.cc:609] Unable to register cuFFT factory: Attempting to register factory for plugin cuFFT when one has already been registered\n",
      "2025-01-21 14:15:47.213077: E tensorflow/compiler/xla/stream_executor/cuda/cuda_blas.cc:1518] Unable to register cuBLAS factory: Attempting to register factory for plugin cuBLAS when one has already been registered\n",
      "2025-01-21 14:15:47.219906: I tensorflow/core/platform/cpu_feature_guard.cc:182] This TensorFlow binary is optimized to use available CPU instructions in performance-critical operations.\n",
      "To enable the following instructions: AVX2 FMA, in other operations, rebuild TensorFlow with the appropriate compiler flags.\n"
     ]
    }
   ],
   "source": [
    "import matplotlib.pyplot as plt\n",
    "import numpy as np\n",
    "import os\n",
    "import tensorflow as tf\n",
    "from keras.metrics import Precision, Recall, AUC, CategoricalAccuracy\n",
    "\n",
    "from custom_models.augmentation import basic_plus_color_augmentation, basic_augmentation\n",
    "from custom_models.bilinear_cnns import fe_resnet\n",
    "from custom_models.cnns import simple_cnn_bn, base_resnet50\n",
    "from custom_models.optimization_utilities import get_standard_callbacks\n",
    "from etl.load_dataset import DatasetProcessor, get_tf_eggim_patch_dataset\n",
    "from optimization.custom_losses import weighted_categorical_crossentropy"
   ]
  },
  {
   "cell_type": "code",
   "execution_count": 2,
   "outputs": [],
   "source": [
    "target_dir = '../../test_files/EGGIMazing/Dataset3'\n",
    "model_weights_directory = '../../logs/'\n",
    "batch_size = 32\n",
    "num_epochs = 100\n",
    "learning_rate = 1e-4\n",
    "num_folds = 5\n",
    "\n",
    "def get_model_dirs(model_weights_directory, name):\n",
    "    model_fold_dir = sorted(os.listdir(model_weights_directory))\n",
    "    model_dirs = [os.path.join(os.path.join(model_weights_directory, x), 'weights.h5')\n",
    "                  for x in model_fold_dir if x.startswith(name)]\n",
    "    return model_dirs"
   ],
   "metadata": {
    "collapsed": false
   }
  },
  {
   "cell_type": "code",
   "execution_count": 3,
   "outputs": [],
   "source": [
    "baseline_dirs = get_model_dirs(model_weights_directory, 'embc_new_patient_resnet_multi_')\n",
    "fe_resnet_dirs = get_model_dirs(model_weights_directory, 'embc_new_patient_feresnet_multi_')"
   ],
   "metadata": {
    "collapsed": false
   }
  },
  {
   "cell_type": "code",
   "execution_count": 5,
   "outputs": [],
   "source": [
    "dp = DatasetProcessor(target_dir)\n",
    "df = dp.process()\n",
    "patient_ids = np.load('../../configs/new_patient_ids.npy', allow_pickle=True)\n",
    "\n",
    "togas_ids_boolean = np.array([x.startswith('PT') for x in df['patient_id'].values])\n",
    "df_togas = df[togas_ids_boolean].reset_index(drop=True)\n",
    "df_ipo = df[~togas_ids_boolean].reset_index(drop=True)\n",
    "patient_ids_total = list(set(df_togas.patient_id))"
   ],
   "metadata": {
    "collapsed": false
   }
  },
  {
   "cell_type": "code",
   "execution_count": 8,
   "outputs": [
    {
     "data": {
      "text/plain": "{'PT004': '../../logs/embc_new_patient_resnet_multi_80fold_0_20250115-105503/weights.h5',\n 'PT015': '../../logs/embc_new_patient_resnet_multi_80fold_10_20250115-124217/weights.h5',\n 'PT050': '../../logs/embc_new_patient_resnet_multi_80fold_11_20250115-125259/weights.h5',\n 'PT039': '../../logs/embc_new_patient_resnet_multi_80fold_12_20250115-130339/weights.h5',\n 'PT003': '../../logs/embc_new_patient_resnet_multi_80fold_13_20250115-131414/weights.h5',\n 'PT044': '../../logs/embc_new_patient_resnet_multi_80fold_14_20250115-132448/weights.h5',\n 'PT027': '../../logs/embc_new_patient_resnet_multi_80fold_15_20250115-133518/weights.h5',\n 'PT065': '../../logs/embc_new_patient_resnet_multi_80fold_16_20250115-134551/weights.h5',\n 'PT012': '../../logs/embc_new_patient_resnet_multi_80fold_17_20250115-135639/weights.h5',\n 'PT072': '../../logs/embc_new_patient_resnet_multi_80fold_18_20250115-140734/weights.h5',\n 'PT080': '../../logs/embc_new_patient_resnet_multi_80fold_19_20250115-141815/weights.h5',\n 'PT011': '../../logs/embc_new_patient_resnet_multi_80fold_1_20250115-110538/weights.h5',\n 'PT079': '../../logs/embc_new_patient_resnet_multi_80fold_20_20250115-142903/weights.h5',\n 'PT009': '../../logs/embc_new_patient_resnet_multi_80fold_21_20250115-143947/weights.h5',\n 'PT053': '../../logs/embc_new_patient_resnet_multi_80fold_22_20250115-145023/weights.h5',\n 'PT049': '../../logs/embc_new_patient_resnet_multi_80fold_23_20250115-150102/weights.h5',\n 'PT076': '../../logs/embc_new_patient_resnet_multi_80fold_24_20250115-151134/weights.h5',\n 'PT024': '../../logs/embc_new_patient_resnet_multi_80fold_25_20250115-152216/weights.h5',\n 'PT006': '../../logs/embc_new_patient_resnet_multi_80fold_26_20250115-153258/weights.h5',\n 'PT031': '../../logs/embc_new_patient_resnet_multi_80fold_27_20250115-154348/weights.h5',\n 'PT046': '../../logs/embc_new_patient_resnet_multi_80fold_28_20250115-155441/weights.h5',\n 'PT020': '../../logs/embc_new_patient_resnet_multi_80fold_29_20250115-160531/weights.h5',\n 'PT040': '../../logs/embc_new_patient_resnet_multi_80fold_2_20250115-111625/weights.h5',\n 'PT059': '../../logs/embc_new_patient_resnet_multi_80fold_30_20250115-161608/weights.h5',\n 'PT017': '../../logs/embc_new_patient_resnet_multi_80fold_31_20250115-162643/weights.h5',\n 'PT066': '../../logs/embc_new_patient_resnet_multi_80fold_32_20250115-163713/weights.h5',\n 'PT074': '../../logs/embc_new_patient_resnet_multi_80fold_33_20250115-164757/weights.h5',\n 'PT068': '../../logs/embc_new_patient_resnet_multi_80fold_34_20250115-165847/weights.h5',\n 'PT047': '../../logs/embc_new_patient_resnet_multi_80fold_35_20250115-170928/weights.h5',\n 'PT048': '../../logs/embc_new_patient_resnet_multi_80fold_36_20250115-172005/weights.h5',\n 'PT078': '../../logs/embc_new_patient_resnet_multi_80fold_37_20250115-173059/weights.h5',\n 'PT032': '../../logs/embc_new_patient_resnet_multi_80fold_38_20250115-174154/weights.h5',\n 'PT034': '../../logs/embc_new_patient_resnet_multi_80fold_39_20250115-175241/weights.h5',\n 'PT070': '../../logs/embc_new_patient_resnet_multi_80fold_3_20250115-112714/weights.h5',\n 'PT067': '../../logs/embc_new_patient_resnet_multi_80fold_40_20250115-180324/weights.h5',\n 'PT041': '../../logs/embc_new_patient_resnet_multi_80fold_41_20250115-181405/weights.h5',\n 'PT083': '../../logs/embc_new_patient_resnet_multi_80fold_42_20250115-182451/weights.h5',\n 'PT035': '../../logs/embc_new_patient_resnet_multi_80fold_43_20250115-183531/weights.h5',\n 'PT029': '../../logs/embc_new_patient_resnet_multi_80fold_44_20250115-184612/weights.h5',\n 'PT037': '../../logs/embc_new_patient_resnet_multi_80fold_45_20250115-185647/weights.h5',\n 'PT005': '../../logs/embc_new_patient_resnet_multi_80fold_46_20250115-190717/weights.h5',\n 'PT010': '../../logs/embc_new_patient_resnet_multi_80fold_47_20250115-191750/weights.h5',\n 'PT062': '../../logs/embc_new_patient_resnet_multi_80fold_48_20250115-192840/weights.h5',\n 'PT013': '../../logs/embc_new_patient_resnet_multi_80fold_49_20250115-193921/weights.h5',\n 'PT008': '../../logs/embc_new_patient_resnet_multi_80fold_4_20250115-113802/weights.h5',\n 'PT026': '../../logs/embc_new_patient_resnet_multi_80fold_50_20250115-195026/weights.h5',\n 'PT019': '../../logs/embc_new_patient_resnet_multi_80fold_51_20250115-200114/weights.h5',\n 'PT025': '../../logs/embc_new_patient_resnet_multi_80fold_52_20250115-201148/weights.h5',\n 'PT071': '../../logs/embc_new_patient_resnet_multi_80fold_53_20250115-202214/weights.h5',\n 'PT082': '../../logs/embc_new_patient_resnet_multi_80fold_54_20250115-203243/weights.h5',\n 'PT063': '../../logs/embc_new_patient_resnet_multi_80fold_55_20250115-204337/weights.h5',\n 'PT045': '../../logs/embc_new_patient_resnet_multi_80fold_56_20250115-205416/weights.h5',\n 'PT054': '../../logs/embc_new_patient_resnet_multi_80fold_57_20250115-210455/weights.h5',\n 'PT051': '../../logs/embc_new_patient_resnet_multi_80fold_58_20250115-211556/weights.h5',\n 'PT075': '../../logs/embc_new_patient_resnet_multi_80fold_59_20250115-212637/weights.h5',\n 'PT086': '../../logs/embc_new_patient_resnet_multi_80fold_5_20250115-114843/weights.h5',\n 'PT002': '../../logs/embc_new_patient_resnet_multi_80fold_60_20250115-213714/weights.h5',\n 'PT036': '../../logs/embc_new_patient_resnet_multi_80fold_61_20250115-214738/weights.h5',\n 'PT052': '../../logs/embc_new_patient_resnet_multi_80fold_62_20250115-215806/weights.h5',\n 'PT077': '../../logs/embc_new_patient_resnet_multi_80fold_63_20250115-220847/weights.h5',\n 'PT021': '../../logs/embc_new_patient_resnet_multi_80fold_64_20250115-221936/weights.h5',\n 'PT030': '../../logs/embc_new_patient_resnet_multi_80fold_65_20250115-223022/weights.h5',\n 'PT060': '../../logs/embc_new_patient_resnet_multi_80fold_66_20250115-224127/weights.h5',\n 'PT007': '../../logs/embc_new_patient_resnet_multi_80fold_67_20250115-225231/weights.h5',\n 'PT081': '../../logs/embc_new_patient_resnet_multi_80fold_68_20250115-230313/weights.h5',\n 'PT043': '../../logs/embc_new_patient_resnet_multi_80fold_69_20250115-231400/weights.h5',\n 'PT069': '../../logs/embc_new_patient_resnet_multi_80fold_6_20250115-115919/weights.h5',\n 'PT018': '../../logs/embc_new_patient_resnet_multi_80fold_70_20250115-232433/weights.h5',\n 'PT064': '../../logs/embc_new_patient_resnet_multi_80fold_71_20250115-233521/weights.h5',\n 'PT023': '../../logs/embc_new_patient_resnet_multi_80fold_72_20250115-234602/weights.h5',\n 'PT016': '../../logs/embc_new_patient_resnet_multi_80fold_73_20250115-235646/weights.h5',\n 'PT042': '../../logs/embc_new_patient_resnet_multi_80fold_74_20250116-000725/weights.h5',\n 'PT014': '../../logs/embc_new_patient_resnet_multi_80fold_75_20250116-001808/weights.h5',\n 'PT028': '../../logs/embc_new_patient_resnet_multi_80fold_76_20250116-002855/weights.h5',\n 'PT038': '../../logs/embc_new_patient_resnet_multi_80fold_77_20250116-003943/weights.h5',\n 'PT084': '../../logs/embc_new_patient_resnet_multi_80fold_78_20250116-005005/weights.h5',\n 'PT061': '../../logs/embc_new_patient_resnet_multi_80fold_79_20250116-010040/weights.h5',\n 'PT073': '../../logs/embc_new_patient_resnet_multi_80fold_7_20250115-120952/weights.h5',\n 'PT022': '../../logs/embc_new_patient_resnet_multi_80fold_8_20250115-122041/weights.h5',\n 'PT085': '../../logs/embc_new_patient_resnet_multi_80fold_9_20250115-123130/weights.h5'}"
     },
     "execution_count": 8,
     "metadata": {},
     "output_type": "execute_result"
    }
   ],
   "source": [
    "# Since we trained all models and we want to guaranttee that we are loading the adequate model\n",
    "keys_ = [(patient_ids_total[i], int(dir.split('_')[-2]), dir) for i, dir in enumerate(baseline_dirs)]\n",
    "#keys_sorted = sorted(keys_, key=lambda x: x[1])\n",
    "dict_baseline = {p_id: folder for (p_id, _, folder) in keys_}\n",
    "dict_baseline\n"
   ],
   "metadata": {
    "collapsed": false
   }
  },
  {
   "cell_type": "code",
   "execution_count": 9,
   "outputs": [
    {
     "data": {
      "text/plain": "{'PT004': '../../logs/embc_new_patient_feresnet_multi_80fold_0_20250116-095029/weights.h5',\n 'PT015': '../../logs/embc_new_patient_feresnet_multi_80fold_10_20250116-125056/weights.h5',\n 'PT050': '../../logs/embc_new_patient_feresnet_multi_80fold_11_20250116-130851/weights.h5',\n 'PT039': '../../logs/embc_new_patient_feresnet_multi_80fold_12_20250116-132641/weights.h5',\n 'PT003': '../../logs/embc_new_patient_feresnet_multi_80fold_13_20250116-134438/weights.h5',\n 'PT044': '../../logs/embc_new_patient_feresnet_multi_80fold_14_20250116-140238/weights.h5',\n 'PT027': '../../logs/embc_new_patient_feresnet_multi_80fold_15_20250116-142056/weights.h5',\n 'PT065': '../../logs/embc_new_patient_feresnet_multi_80fold_16_20250116-143913/weights.h5',\n 'PT012': '../../logs/embc_new_patient_feresnet_multi_80fold_17_20250116-145733/weights.h5',\n 'PT072': '../../logs/embc_new_patient_feresnet_multi_80fold_18_20250116-151531/weights.h5',\n 'PT080': '../../logs/embc_new_patient_feresnet_multi_80fold_19_20250116-153333/weights.h5',\n 'PT011': '../../logs/embc_new_patient_feresnet_multi_80fold_1_20250116-100842/weights.h5',\n 'PT079': '../../logs/embc_new_patient_feresnet_multi_80fold_20_20250116-155127/weights.h5',\n 'PT009': '../../logs/embc_new_patient_feresnet_multi_80fold_21_20250116-160928/weights.h5',\n 'PT053': '../../logs/embc_new_patient_feresnet_multi_80fold_22_20250116-162722/weights.h5',\n 'PT049': '../../logs/embc_new_patient_feresnet_multi_80fold_23_20250116-164523/weights.h5',\n 'PT076': '../../logs/embc_new_patient_feresnet_multi_80fold_24_20250116-170325/weights.h5',\n 'PT024': '../../logs/embc_new_patient_feresnet_multi_80fold_25_20250116-172149/weights.h5',\n 'PT006': '../../logs/embc_new_patient_feresnet_multi_80fold_26_20250116-174002/weights.h5',\n 'PT031': '../../logs/embc_new_patient_feresnet_multi_80fold_27_20250116-175801/weights.h5',\n 'PT046': '../../logs/embc_new_patient_feresnet_multi_80fold_28_20250116-181556/weights.h5',\n 'PT020': '../../logs/embc_new_patient_feresnet_multi_80fold_29_20250116-183405/weights.h5',\n 'PT040': '../../logs/embc_new_patient_feresnet_multi_80fold_2_20250116-102635/weights.h5',\n 'PT059': '../../logs/embc_new_patient_feresnet_multi_80fold_30_20250116-185155/weights.h5',\n 'PT017': '../../logs/embc_new_patient_feresnet_multi_80fold_31_20250116-190954/weights.h5',\n 'PT066': '../../logs/embc_new_patient_feresnet_multi_80fold_32_20250116-192803/weights.h5',\n 'PT074': '../../logs/embc_new_patient_feresnet_multi_80fold_33_20250116-194617/weights.h5',\n 'PT068': '../../logs/embc_new_patient_feresnet_multi_80fold_34_20250116-200404/weights.h5',\n 'PT047': '../../logs/embc_new_patient_feresnet_multi_80fold_35_20250116-202204/weights.h5',\n 'PT048': '../../logs/embc_new_patient_feresnet_multi_80fold_36_20250116-203945/weights.h5',\n 'PT078': '../../logs/embc_new_patient_feresnet_multi_80fold_37_20250116-205804/weights.h5',\n 'PT032': '../../logs/embc_new_patient_feresnet_multi_80fold_38_20250116-211623/weights.h5',\n 'PT034': '../../logs/embc_new_patient_feresnet_multi_80fold_39_20250116-213446/weights.h5',\n 'PT070': '../../logs/embc_new_patient_feresnet_multi_80fold_3_20250116-104429/weights.h5',\n 'PT067': '../../logs/embc_new_patient_feresnet_multi_80fold_40_20250116-215245/weights.h5',\n 'PT041': '../../logs/embc_new_patient_feresnet_multi_80fold_41_20250116-221102/weights.h5',\n 'PT083': '../../logs/embc_new_patient_feresnet_multi_80fold_42_20250116-222913/weights.h5',\n 'PT035': '../../logs/embc_new_patient_feresnet_multi_80fold_43_20250116-224719/weights.h5',\n 'PT029': '../../logs/embc_new_patient_feresnet_multi_80fold_44_20250116-230605/weights.h5',\n 'PT037': '../../logs/embc_new_patient_feresnet_multi_80fold_45_20250116-232412/weights.h5',\n 'PT005': '../../logs/embc_new_patient_feresnet_multi_80fold_46_20250116-234212/weights.h5',\n 'PT010': '../../logs/embc_new_patient_feresnet_multi_80fold_47_20250117-000032/weights.h5',\n 'PT062': '../../logs/embc_new_patient_feresnet_multi_80fold_48_20250117-001849/weights.h5',\n 'PT013': '../../logs/embc_new_patient_feresnet_multi_80fold_49_20250117-003706/weights.h5',\n 'PT008': '../../logs/embc_new_patient_feresnet_multi_80fold_4_20250116-110241/weights.h5',\n 'PT026': '../../logs/embc_new_patient_feresnet_multi_80fold_50_20250117-005501/weights.h5',\n 'PT019': '../../logs/embc_new_patient_feresnet_multi_80fold_51_20250117-011337/weights.h5',\n 'PT025': '../../logs/embc_new_patient_feresnet_multi_80fold_52_20250117-013154/weights.h5',\n 'PT071': '../../logs/embc_new_patient_feresnet_multi_80fold_53_20250117-015000/weights.h5',\n 'PT082': '../../logs/embc_new_patient_feresnet_multi_80fold_54_20250117-020800/weights.h5',\n 'PT063': '../../logs/embc_new_patient_feresnet_multi_80fold_55_20250117-022554/weights.h5',\n 'PT045': '../../logs/embc_new_patient_feresnet_multi_80fold_56_20250117-024346/weights.h5',\n 'PT054': '../../logs/embc_new_patient_feresnet_multi_80fold_57_20250117-030139/weights.h5',\n 'PT051': '../../logs/embc_new_patient_feresnet_multi_80fold_58_20250117-031950/weights.h5',\n 'PT075': '../../logs/embc_new_patient_feresnet_multi_80fold_59_20250117-033826/weights.h5',\n 'PT086': '../../logs/embc_new_patient_feresnet_multi_80fold_5_20250116-112058/weights.h5',\n 'PT002': '../../logs/embc_new_patient_feresnet_multi_80fold_60_20250117-035645/weights.h5',\n 'PT036': '../../logs/embc_new_patient_feresnet_multi_80fold_61_20250117-041448/weights.h5',\n 'PT052': '../../logs/embc_new_patient_feresnet_multi_80fold_62_20250117-043247/weights.h5',\n 'PT077': '../../logs/embc_new_patient_feresnet_multi_80fold_63_20250117-045054/weights.h5',\n 'PT021': '../../logs/embc_new_patient_feresnet_multi_80fold_64_20250117-050920/weights.h5',\n 'PT030': '../../logs/embc_new_patient_feresnet_multi_80fold_65_20250117-052734/weights.h5',\n 'PT060': '../../logs/embc_new_patient_feresnet_multi_80fold_66_20250117-054546/weights.h5',\n 'PT007': '../../logs/embc_new_patient_feresnet_multi_80fold_67_20250117-060359/weights.h5',\n 'PT081': '../../logs/embc_new_patient_feresnet_multi_80fold_68_20250117-062251/weights.h5',\n 'PT043': '../../logs/embc_new_patient_feresnet_multi_80fold_69_20250117-064107/weights.h5',\n 'PT069': '../../logs/embc_new_patient_feresnet_multi_80fold_6_20250116-113913/weights.h5',\n 'PT018': '../../logs/embc_new_patient_feresnet_multi_80fold_70_20250117-065911/weights.h5',\n 'PT064': '../../logs/embc_new_patient_feresnet_multi_80fold_71_20250117-071720/weights.h5',\n 'PT023': '../../logs/embc_new_patient_feresnet_multi_80fold_72_20250117-073533/weights.h5',\n 'PT016': '../../logs/embc_new_patient_feresnet_multi_80fold_73_20250117-075352/weights.h5',\n 'PT042': '../../logs/embc_new_patient_feresnet_multi_80fold_74_20250117-081156/weights.h5',\n 'PT014': '../../logs/embc_new_patient_feresnet_multi_80fold_75_20250117-082946/weights.h5',\n 'PT028': '../../logs/embc_new_patient_feresnet_multi_80fold_76_20250117-084744/weights.h5',\n 'PT038': '../../logs/embc_new_patient_feresnet_multi_80fold_77_20250117-090554/weights.h5',\n 'PT084': '../../logs/embc_new_patient_feresnet_multi_80fold_78_20250117-092422/weights.h5',\n 'PT061': '../../logs/embc_new_patient_feresnet_multi_80fold_79_20250117-094239/weights.h5',\n 'PT073': '../../logs/embc_new_patient_feresnet_multi_80fold_7_20250116-115704/weights.h5',\n 'PT022': '../../logs/embc_new_patient_feresnet_multi_80fold_8_20250116-121443/weights.h5',\n 'PT085': '../../logs/embc_new_patient_feresnet_multi_80fold_9_20250116-123246/weights.h5'}"
     },
     "execution_count": 9,
     "metadata": {},
     "output_type": "execute_result"
    }
   ],
   "source": [
    "keys_ = [(patient_ids_total[i], int(dir.split('_')[-2]), dir) for i, dir in enumerate(fe_resnet_dirs)]\n",
    "#keys_sorted = sorted(keys_, key=lambda x: x[1])\n",
    "dict_fe_resnet = {p_id: folder for (p_id, _, folder) in keys_}\n",
    "dict_fe_resnet"
   ],
   "metadata": {
    "collapsed": false
   }
  },
  {
   "cell_type": "code",
   "execution_count": 10,
   "outputs": [
    {
     "name": "stderr",
     "output_type": "stream",
     "text": [
      "2025-01-21 14:18:29.848124: I tensorflow/compiler/xla/stream_executor/cuda/cuda_gpu_executor.cc:894] successful NUMA node read from SysFS had negative value (-1), but there must be at least one NUMA node, so returning NUMA node zero. See more at https://github.com/torvalds/linux/blob/v6.0/Documentation/ABI/testing/sysfs-bus-pci#L344-L355\n",
      "2025-01-21 14:18:29.848370: I tensorflow/compiler/xla/stream_executor/cuda/cuda_gpu_executor.cc:894] successful NUMA node read from SysFS had negative value (-1), but there must be at least one NUMA node, so returning NUMA node zero. See more at https://github.com/torvalds/linux/blob/v6.0/Documentation/ABI/testing/sysfs-bus-pci#L344-L355\n",
      "2025-01-21 14:18:29.893958: I tensorflow/compiler/xla/stream_executor/cuda/cuda_gpu_executor.cc:894] successful NUMA node read from SysFS had negative value (-1), but there must be at least one NUMA node, so returning NUMA node zero. See more at https://github.com/torvalds/linux/blob/v6.0/Documentation/ABI/testing/sysfs-bus-pci#L344-L355\n",
      "2025-01-21 14:18:29.894265: I tensorflow/compiler/xla/stream_executor/cuda/cuda_gpu_executor.cc:894] successful NUMA node read from SysFS had negative value (-1), but there must be at least one NUMA node, so returning NUMA node zero. See more at https://github.com/torvalds/linux/blob/v6.0/Documentation/ABI/testing/sysfs-bus-pci#L344-L355\n",
      "2025-01-21 14:18:29.894461: I tensorflow/compiler/xla/stream_executor/cuda/cuda_gpu_executor.cc:894] successful NUMA node read from SysFS had negative value (-1), but there must be at least one NUMA node, so returning NUMA node zero. See more at https://github.com/torvalds/linux/blob/v6.0/Documentation/ABI/testing/sysfs-bus-pci#L344-L355\n",
      "2025-01-21 14:18:29.894645: I tensorflow/compiler/xla/stream_executor/cuda/cuda_gpu_executor.cc:894] successful NUMA node read from SysFS had negative value (-1), but there must be at least one NUMA node, so returning NUMA node zero. See more at https://github.com/torvalds/linux/blob/v6.0/Documentation/ABI/testing/sysfs-bus-pci#L344-L355\n",
      "2025-01-21 14:18:30.045535: I tensorflow/compiler/xla/stream_executor/cuda/cuda_gpu_executor.cc:894] successful NUMA node read from SysFS had negative value (-1), but there must be at least one NUMA node, so returning NUMA node zero. See more at https://github.com/torvalds/linux/blob/v6.0/Documentation/ABI/testing/sysfs-bus-pci#L344-L355\n",
      "2025-01-21 14:18:30.045759: I tensorflow/compiler/xla/stream_executor/cuda/cuda_gpu_executor.cc:894] successful NUMA node read from SysFS had negative value (-1), but there must be at least one NUMA node, so returning NUMA node zero. See more at https://github.com/torvalds/linux/blob/v6.0/Documentation/ABI/testing/sysfs-bus-pci#L344-L355\n",
      "2025-01-21 14:18:30.045937: I tensorflow/compiler/xla/stream_executor/cuda/cuda_gpu_executor.cc:894] successful NUMA node read from SysFS had negative value (-1), but there must be at least one NUMA node, so returning NUMA node zero. See more at https://github.com/torvalds/linux/blob/v6.0/Documentation/ABI/testing/sysfs-bus-pci#L344-L355\n",
      "2025-01-21 14:18:30.046137: I tensorflow/compiler/xla/stream_executor/cuda/cuda_gpu_executor.cc:894] successful NUMA node read from SysFS had negative value (-1), but there must be at least one NUMA node, so returning NUMA node zero. See more at https://github.com/torvalds/linux/blob/v6.0/Documentation/ABI/testing/sysfs-bus-pci#L344-L355\n",
      "2025-01-21 14:18:30.046303: I tensorflow/compiler/xla/stream_executor/cuda/cuda_gpu_executor.cc:894] successful NUMA node read from SysFS had negative value (-1), but there must be at least one NUMA node, so returning NUMA node zero. See more at https://github.com/torvalds/linux/blob/v6.0/Documentation/ABI/testing/sysfs-bus-pci#L344-L355\n",
      "2025-01-21 14:18:30.046466: I tensorflow/compiler/xla/stream_executor/cuda/cuda_gpu_executor.cc:894] successful NUMA node read from SysFS had negative value (-1), but there must be at least one NUMA node, so returning NUMA node zero. See more at https://github.com/torvalds/linux/blob/v6.0/Documentation/ABI/testing/sysfs-bus-pci#L344-L355\n",
      "2025-01-21 14:18:30.055350: I tensorflow/compiler/xla/stream_executor/cuda/cuda_gpu_executor.cc:894] successful NUMA node read from SysFS had negative value (-1), but there must be at least one NUMA node, so returning NUMA node zero. See more at https://github.com/torvalds/linux/blob/v6.0/Documentation/ABI/testing/sysfs-bus-pci#L344-L355\n",
      "2025-01-21 14:18:30.055545: I tensorflow/compiler/xla/stream_executor/cuda/cuda_gpu_executor.cc:894] successful NUMA node read from SysFS had negative value (-1), but there must be at least one NUMA node, so returning NUMA node zero. See more at https://github.com/torvalds/linux/blob/v6.0/Documentation/ABI/testing/sysfs-bus-pci#L344-L355\n",
      "2025-01-21 14:18:30.055721: I tensorflow/compiler/xla/stream_executor/cuda/cuda_gpu_executor.cc:894] successful NUMA node read from SysFS had negative value (-1), but there must be at least one NUMA node, so returning NUMA node zero. See more at https://github.com/torvalds/linux/blob/v6.0/Documentation/ABI/testing/sysfs-bus-pci#L344-L355\n",
      "2025-01-21 14:18:30.055890: I tensorflow/compiler/xla/stream_executor/cuda/cuda_gpu_executor.cc:894] successful NUMA node read from SysFS had negative value (-1), but there must be at least one NUMA node, so returning NUMA node zero. See more at https://github.com/torvalds/linux/blob/v6.0/Documentation/ABI/testing/sysfs-bus-pci#L344-L355\n",
      "2025-01-21 14:18:30.056090: I tensorflow/compiler/xla/stream_executor/cuda/cuda_gpu_executor.cc:894] successful NUMA node read from SysFS had negative value (-1), but there must be at least one NUMA node, so returning NUMA node zero. See more at https://github.com/torvalds/linux/blob/v6.0/Documentation/ABI/testing/sysfs-bus-pci#L344-L355\n",
      "2025-01-21 14:18:30.056251: I tensorflow/core/common_runtime/gpu/gpu_device.cc:1886] Created device /job:localhost/replica:0/task:0/device:GPU:0 with 46865 MB memory:  -> device: 0, name: NVIDIA RTX A6000, pci bus id: 0000:01:00.0, compute capability: 8.6\n",
      "2025-01-21 14:18:30.056759: I tensorflow/compiler/xla/stream_executor/cuda/cuda_gpu_executor.cc:894] successful NUMA node read from SysFS had negative value (-1), but there must be at least one NUMA node, so returning NUMA node zero. See more at https://github.com/torvalds/linux/blob/v6.0/Documentation/ABI/testing/sysfs-bus-pci#L344-L355\n",
      "2025-01-21 14:18:30.056909: I tensorflow/core/common_runtime/gpu/gpu_device.cc:1886] Created device /job:localhost/replica:0/task:0/device:GPU:1 with 22453 MB memory:  -> device: 1, name: NVIDIA GeForce RTX 3090, pci bus id: 0000:02:00.0, compute capability: 8.6\n",
      "2025-01-21 14:18:36.408533: I tensorflow/compiler/xla/stream_executor/cuda/cuda_dnn.cc:442] Loaded cuDNN version 8700\n"
     ]
    },
    {
     "name": "stdout",
     "output_type": "stream",
     "text": [
      "1/1 [==============================] - 1s 1s/step\n",
      "1/1 [==============================] - 2s 2s/step\n",
      "1/1 [==============================] - 1s 828ms/step\n",
      "1/1 [==============================] - 2s 2s/step\n",
      "WARNING:tensorflow:5 out of the last 5 calls to <function Model.make_predict_function.<locals>.predict_function at 0x7f60bc18b880> triggered tf.function retracing. Tracing is expensive and the excessive number of tracings could be due to (1) creating @tf.function repeatedly in a loop, (2) passing tensors with different shapes, (3) passing Python objects instead of tensors. For (1), please define your @tf.function outside of the loop. For (2), @tf.function has reduce_retracing=True option that can avoid unnecessary retracing. For (3), please refer to https://www.tensorflow.org/guide/function#controlling_retracing and https://www.tensorflow.org/api_docs/python/tf/function for  more details.\n",
      "1/1 [==============================] - 1s 530ms/step\n",
      "WARNING:tensorflow:6 out of the last 6 calls to <function Model.make_predict_function.<locals>.predict_function at 0x7f60bc18bc70> triggered tf.function retracing. Tracing is expensive and the excessive number of tracings could be due to (1) creating @tf.function repeatedly in a loop, (2) passing tensors with different shapes, (3) passing Python objects instead of tensors. For (1), please define your @tf.function outside of the loop. For (2), @tf.function has reduce_retracing=True option that can avoid unnecessary retracing. For (3), please refer to https://www.tensorflow.org/guide/function#controlling_retracing and https://www.tensorflow.org/api_docs/python/tf/function for  more details.\n",
      "1/1 [==============================] - 1s 910ms/step\n",
      "1/1 [==============================] - 1s 585ms/step\n",
      "1/1 [==============================] - 1s 909ms/step\n",
      "1/1 [==============================] - 1s 839ms/step\n",
      "1/1 [==============================] - 2s 2s/step\n",
      "1/1 [==============================] - 1s 601ms/step\n",
      "1/1 [==============================] - 1s 939ms/step\n",
      "1/1 [==============================] - 1s 539ms/step\n",
      "1/1 [==============================] - 1s 918ms/step\n",
      "1/1 [==============================] - 1s 1s/step\n",
      "1/1 [==============================] - 1s 992ms/step\n",
      "1/1 [==============================] - 1s 797ms/step\n",
      "1/1 [==============================] - 1s 1s/step\n",
      "1/1 [==============================] - 1s 941ms/step\n",
      "1/1 [==============================] - 1s 965ms/step\n",
      "1/1 [==============================] - 1s 548ms/step\n",
      "1/1 [==============================] - 1s 917ms/step\n",
      "1/1 [==============================] - 1s 541ms/step\n",
      "1/1 [==============================] - 1s 1s/step\n",
      "1/1 [==============================] - 1s 566ms/step\n",
      "1/1 [==============================] - 1s 918ms/step\n",
      "1/1 [==============================] - 1s 548ms/step\n",
      "1/1 [==============================] - 1s 1s/step\n"
     ]
    },
    {
     "name": "stderr",
     "output_type": "stream",
     "text": [
      "/home/miguelmartins/Projects/eggimazing/evaluation/metrics.py:28: RuntimeWarning: invalid value encountered in scalar divide\n",
      "  specificity = TN / (TN + FP)\n"
     ]
    },
    {
     "name": "stdout",
     "output_type": "stream",
     "text": [
      "1/1 [==============================] - 1s 558ms/step\n",
      "1/1 [==============================] - 1s 965ms/step\n",
      "1/1 [==============================] - 1s 849ms/step\n",
      "1/1 [==============================] - 2s 2s/step\n",
      "1/1 [==============================] - 1s 632ms/step\n",
      "1/1 [==============================] - 1s 979ms/step\n"
     ]
    },
    {
     "name": "stderr",
     "output_type": "stream",
     "text": [
      "/home/miguelmartins/Projects/eggimazing/evaluation/metrics.py:28: RuntimeWarning: invalid value encountered in scalar divide\n",
      "  specificity = TN / (TN + FP)\n"
     ]
    },
    {
     "name": "stdout",
     "output_type": "stream",
     "text": [
      "1/1 [==============================] - 1s 586ms/step\n",
      "1/1 [==============================] - 1s 1s/step\n",
      "1/1 [==============================] - 1s 604ms/step\n",
      "1/1 [==============================] - 1s 1s/step\n",
      "1/1 [==============================] - 1s 565ms/step\n",
      "1/1 [==============================] - 1s 931ms/step\n",
      "1/1 [==============================] - 1s 680ms/step\n",
      "1/1 [==============================] - 1s 1s/step\n",
      "1/1 [==============================] - 1s 572ms/step\n",
      "1/1 [==============================] - 1s 989ms/step\n"
     ]
    },
    {
     "name": "stderr",
     "output_type": "stream",
     "text": [
      "/home/miguelmartins/Projects/eggimazing/evaluation/metrics.py:28: RuntimeWarning: invalid value encountered in scalar divide\n",
      "  specificity = TN / (TN + FP)\n",
      "/home/miguelmartins/Projects/eggimazing/evaluation/metrics.py:28: RuntimeWarning: invalid value encountered in scalar divide\n",
      "  specificity = TN / (TN + FP)\n"
     ]
    },
    {
     "name": "stdout",
     "output_type": "stream",
     "text": [
      "1/1 [==============================] - 1s 939ms/step\n",
      "1/1 [==============================] - 2s 2s/step\n",
      "1/1 [==============================] - 1s 561ms/step\n",
      "1/1 [==============================] - 1s 954ms/step\n",
      "1/1 [==============================] - 1s 1s/step\n",
      "1/1 [==============================] - 1s 1s/step\n",
      "1/1 [==============================] - 1s 819ms/step\n",
      "1/1 [==============================] - 2s 2s/step\n",
      "1/1 [==============================] - 1s 536ms/step\n",
      "1/1 [==============================] - 1s 1s/step\n",
      "1/1 [==============================] - 1s 555ms/step\n",
      "1/1 [==============================] - 1s 974ms/step\n",
      "1/1 [==============================] - 1s 551ms/step\n",
      "1/1 [==============================] - 1s 947ms/step\n",
      "1/1 [==============================] - 1s 598ms/step\n",
      "1/1 [==============================] - 1s 990ms/step\n",
      "1/1 [==============================] - 1s 552ms/step\n",
      "1/1 [==============================] - 1s 1s/step\n",
      "1/1 [==============================] - 1s 624ms/step\n",
      "1/1 [==============================] - 1s 1s/step\n",
      "1/1 [==============================] - 1s 563ms/step\n",
      "1/1 [==============================] - 1s 987ms/step\n"
     ]
    },
    {
     "name": "stderr",
     "output_type": "stream",
     "text": [
      "/home/miguelmartins/Projects/eggimazing/evaluation/metrics.py:28: RuntimeWarning: invalid value encountered in scalar divide\n",
      "  specificity = TN / (TN + FP)\n",
      "/home/miguelmartins/Projects/eggimazing/evaluation/metrics.py:28: RuntimeWarning: invalid value encountered in scalar divide\n",
      "  specificity = TN / (TN + FP)\n"
     ]
    },
    {
     "name": "stdout",
     "output_type": "stream",
     "text": [
      "1/1 [==============================] - 1s 648ms/step\n",
      "1/1 [==============================] - 1s 1s/step\n",
      "1/1 [==============================] - 1s 838ms/step\n",
      "1/1 [==============================] - 2s 2s/step\n",
      "1/1 [==============================] - 1s 1s/step\n",
      "1/1 [==============================] - 1s 1s/step\n",
      "1/1 [==============================] - 1s 580ms/step\n",
      "1/1 [==============================] - 1s 1s/step\n",
      "1/1 [==============================] - 1s 570ms/step\n",
      "1/1 [==============================] - 1s 968ms/step\n",
      "1/1 [==============================] - 1s 623ms/step\n",
      "1/1 [==============================] - 1s 1s/step\n",
      "1/1 [==============================] - 1s 571ms/step\n",
      "1/1 [==============================] - 1s 1s/step\n",
      "1/1 [==============================] - 1s 653ms/step\n",
      "1/1 [==============================] - 1s 1s/step\n",
      "1/1 [==============================] - 1s 578ms/step\n",
      "1/1 [==============================] - 1s 1s/step\n",
      "1/1 [==============================] - 1s 659ms/step\n",
      "1/1 [==============================] - 1s 1s/step\n",
      "1/1 [==============================] - 1s 610ms/step\n",
      "1/1 [==============================] - 1s 1s/step\n",
      "1/1 [==============================] - 1s 572ms/step\n",
      "1/1 [==============================] - 2s 2s/step\n",
      "1/1 [==============================] - 1s 588ms/step\n",
      "1/1 [==============================] - 1s 1s/step\n",
      "1/1 [==============================] - 1s 555ms/step\n",
      "1/1 [==============================] - 1s 1s/step\n"
     ]
    },
    {
     "name": "stderr",
     "output_type": "stream",
     "text": [
      "/home/miguelmartins/Projects/eggimazing/evaluation/metrics.py:28: RuntimeWarning: invalid value encountered in scalar divide\n",
      "  specificity = TN / (TN + FP)\n",
      "/home/miguelmartins/Projects/eggimazing/evaluation/metrics.py:28: RuntimeWarning: invalid value encountered in scalar divide\n",
      "  specificity = TN / (TN + FP)\n"
     ]
    },
    {
     "name": "stdout",
     "output_type": "stream",
     "text": [
      "1/1 [==============================] - 1s 626ms/step\n",
      "1/1 [==============================] - 1s 1s/step\n",
      "1/1 [==============================] - 1s 569ms/step\n",
      "1/1 [==============================] - 1s 1s/step\n",
      "1/1 [==============================] - 1s 662ms/step\n",
      "1/1 [==============================] - 1s 1s/step\n",
      "1/1 [==============================] - 1s 585ms/step\n",
      "1/1 [==============================] - 1s 1s/step\n",
      "1/1 [==============================] - 1s 543ms/step\n",
      "1/1 [==============================] - 2s 2s/step\n",
      "1/1 [==============================] - 1s 596ms/step\n",
      "1/1 [==============================] - 1s 1s/step\n",
      "1/1 [==============================] - 1s 571ms/step\n",
      "1/1 [==============================] - 1s 1s/step\n",
      "1/1 [==============================] - 1s 659ms/step\n",
      "1/1 [==============================] - 1s 1s/step\n",
      "1/1 [==============================] - 1s 559ms/step\n",
      "1/1 [==============================] - 1s 1s/step\n",
      "1/1 [==============================] - 1s 651ms/step\n",
      "1/1 [==============================] - 1s 1s/step\n",
      "1/1 [==============================] - 1s 872ms/step\n",
      "1/1 [==============================] - 2s 2s/step\n",
      "1/1 [==============================] - 1s 548ms/step\n",
      "1/1 [==============================] - 1s 1s/step\n",
      "1/1 [==============================] - 1s 631ms/step\n",
      "1/1 [==============================] - 1s 1s/step\n",
      "1/1 [==============================] - 1s 585ms/step\n",
      "1/1 [==============================] - 1s 1s/step\n",
      "1/1 [==============================] - 1s 709ms/step\n",
      "1/1 [==============================] - 1s 1s/step\n",
      "1/1 [==============================] - 1s 589ms/step\n",
      "1/1 [==============================] - 1s 1s/step\n",
      "1/1 [==============================] - 1s 793ms/step\n",
      "1/1 [==============================] - 2s 2s/step\n",
      "1/1 [==============================] - 1s 592ms/step\n",
      "1/1 [==============================] - 1s 1s/step\n"
     ]
    }
   ],
   "source": [
    "from sklearn.metrics import confusion_matrix\n",
    "\n",
    "from evaluation.metrics import categorical_accuracy\n",
    "\n",
    "from evaluation.metrics import specificity_per_class\n",
    "\n",
    "from evaluation.metrics import sensitivity_per_class\n",
    "\n",
    "\n",
    "metrics_baseline = []\n",
    "metrics_feresnet = []\n",
    "y_true_ordinals = []\n",
    "y_baseline_ordinals = []\n",
    "y_feresnet_ordinals = []\n",
    "\n",
    "split = dp.patient_wise_split(df_togas,\n",
    "                                      df_ipo,\n",
    "                                      patient_ids,\n",
    "                                      internal_train_size=0.9,\n",
    "                                      target_variable='eggim_square',\n",
    "                                      random_state=42)\n",
    "\n",
    "def compute_metrics(y_true, y_pred, y_true_ordinals, y_pred_ordinals, metrics): # split y_true before and call this for each model\n",
    "    y_true_ordinal = np.argmax(y_true, axis=-1) # [0 0 1] -> 2\n",
    "    y_pred_ordinal = np.argmax(y_pred, axis=-1)\n",
    "    y_true_ordinals.append(y_true_ordinal)\n",
    "    y_pred_ordinals.append(y_pred_ordinal)\n",
    "    y_pred_one_hot = np.zeros_like(y_pred)\n",
    "    y_pred_one_hot[np.arange(len(y_pred)), np.argmax(y_pred, axis=1)] = 1 # [0.2, 0.2, 0.6] -> [0, 0, 1]\n",
    "    conf_matrix = confusion_matrix(y_true_ordinal, y_pred_ordinal,\n",
    "                                   labels=[0, 1, 2])\n",
    "    metrics.append([categorical_accuracy(y_true, y_pred_one_hot),\n",
    "                    specificity_per_class(conf_matrix), sensitivity_per_class(conf_matrix),\n",
    "                    conf_matrix])\n",
    "    return metrics\n",
    "\n",
    "\n",
    "for fold, (df_train, df_val, df_test) in enumerate(split):\n",
    "    tf_test_df = get_tf_eggim_patch_dataset(df_test,\n",
    "                                            num_classes=3,\n",
    "                                            preprocess_fn=tf.keras.applications.resnet.preprocess_input)\n",
    "\n",
    "    tf_test_df = tf_test_df.batch(batch_size)\n",
    "\n",
    "    n_classes = 3  # Replace with the number of classes you have\n",
    "\n",
    "    #\n",
    "    baseline = base_resnet50(input_shape=(224, 224, 3), n_classes=n_classes)\n",
    "    # Compile the model with Adam optimizer 13:21\n",
    "    baseline.compile(optimizer=tf.keras.optimizers.Adam(learning_rate=learning_rate),\n",
    "                  metrics=[CategoricalAccuracy(name='cat_accuracy'), Precision(name='precision'),\n",
    "                           Recall(name='recall'),\n",
    "                           AUC(name='auc')])\n",
    "\n",
    "    baseline.load_weights(dict_baseline[patient_ids[fold]])\n",
    "\n",
    "    model = fe_resnet(input_shape=(224, 224, 3), n_classes=n_classes)\n",
    "    # Compile the model with Adam optimizer 13:21\n",
    "    model.compile(optimizer=tf.keras.optimizers.Adam(learning_rate=learning_rate),\n",
    "                  metrics=[CategoricalAccuracy(name='cat_accuracy'), Precision(name='precision'),\n",
    "                           Recall(name='recall'),\n",
    "                           AUC(name='auc')])\n",
    "\n",
    "\n",
    "    model.load_weights(dict_fe_resnet[patient_ids[fold]])\n",
    "\n",
    "    y_true = np.concatenate([y for (_, y) in tf_test_df])\n",
    "    y_pred_baseline = baseline.predict(tf_test_df)\n",
    "    y_pred_feresnet = model.predict(tf_test_df)\n",
    "    compute_metrics(y_true, y_pred_baseline, y_true_ordinals, y_baseline_ordinals, metrics_baseline)\n",
    "    compute_metrics(y_true, y_pred_feresnet, y_true_ordinals, y_feresnet_ordinals, metrics_feresnet)"
   ],
   "metadata": {
    "collapsed": false
   }
  },
  {
   "cell_type": "code",
   "execution_count": 11,
   "outputs": [],
   "source": [
    "def parse_metrics(metrics):\n",
    "    cat_acc = np.array([x[0] for x in metrics])\n",
    "    spec = np.array([x[1] for x in metrics])\n",
    "    sens = np.array([x[2] for x in metrics])\n",
    "    confs = np.array([x[3] for x in metrics], dtype=object)\n",
    "    return cat_acc, spec, sens"
   ],
   "metadata": {
    "collapsed": false
   }
  },
  {
   "cell_type": "code",
   "execution_count": 12,
   "outputs": [],
   "source": [
    "from scipy.stats import ttest_rel\n",
    "baseline_acc, baseline_spec, baseline_sens = parse_metrics(metrics_baseline)\n",
    "feresnet_acc, feresnet_spec, feresnet_sens = parse_metrics(metrics_feresnet)\n",
    "\n",
    "baseline_metrics_list = [baseline_acc, baseline_spec, baseline_sens]\n",
    "feresnet_metrics_list = [feresnet_acc, feresnet_spec, feresnet_sens]"
   ],
   "metadata": {
    "collapsed": false
   }
  },
  {
   "cell_type": "code",
   "execution_count": 13,
   "outputs": [
    {
     "data": {
      "text/plain": "(array([0.76339776, 0.62432234, 0.50919969]),\n array([0.82155387, 0.60058608, 0.43801532]))"
     },
     "execution_count": 13,
     "metadata": {},
     "output_type": "execute_result"
    }
   ],
   "source": [
    "np.mean(baseline_sens, axis=0), np.mean(feresnet_sens, axis=0)"
   ],
   "metadata": {
    "collapsed": false
   }
  },
  {
   "cell_type": "code",
   "execution_count": 14,
   "outputs": [
    {
     "data": {
      "text/plain": "array([1.        , 1.        , 1.        , 0.5       , 0.5       ,\n       0.83333333, 0.90909091, 0.75      , 0.66666667, 1.        ,\n       1.        , 0.72727273, 0.81818182, 1.        , 0.90909091,\n       1.        , 0.72727273, 0.7       , 0.58333333, 0.81818182,\n       0.91666667, 0.81818182, 0.92857143, 0.9       , 1.        ,\n       0.75      , 0.66666667, 0.88888889, 1.        , 0.64285714,\n       0.58333333, 1.        , 0.83333333, 1.        , 1.        ,\n       0.8       , 0.92307692, 0.84615385, 0.92857143, 0.66666667,\n       0.73333333, 0.54545455, 0.36363636, 0.90909091, 0.75      ,\n       1.        , 0.90909091, 0.75      , 0.91666667, 0.42857143,\n       0.38461538, 1.        , 0.61538462, 0.69230769, 1.        ,\n       0.91666667, 0.54545455, 0.94444444, 1.        , 1.        ,\n       0.6       , 0.8       , 0.84615385, 1.        , 0.58333333])"
     },
     "execution_count": 14,
     "metadata": {},
     "output_type": "execute_result"
    }
   ],
   "source": [
    "baseline_acc"
   ],
   "metadata": {
    "collapsed": false
   }
  },
  {
   "cell_type": "code",
   "execution_count": 15,
   "outputs": [],
   "source": [
    "def parse_sens_spec(m1, m2):\n",
    "    m1 = np.nan_to_num(m1, nan=0)\n",
    "    m2 =  np.nan_to_num(m2, nan=0)\n",
    "\n",
    "    print(np.mean(m1, axis=0), '+-', np.std(m1, axis=0))\n",
    "    print(np.mean(m2, axis=0), \"+-\", np.std(m2, axis=0))\n",
    "    for i in range(3):\n",
    "        t_stat, p_value = ttest_rel(np.nan_to_num(m1[:, i], nan=0), np.nan_to_num(m2[:, i], nan=0))\n",
    "        print(t_stat, p_value)\n",
    "\n"
   ],
   "metadata": {
    "collapsed": false
   }
  },
  {
   "cell_type": "code",
   "execution_count": 16,
   "outputs": [
    {
     "name": "stdout",
     "output_type": "stream",
     "text": [
      "Accuracy\n",
      "statistically different\n",
      "0.8118399549168781 +- 0.1773237404247779\n",
      "0.8054565946873639 +- 0.14100066155572177\n"
     ]
    },
    {
     "ename": "IndexError",
     "evalue": "too many indices for array: array is 1-dimensional, but 2 were indexed",
     "output_type": "error",
     "traceback": [
      "\u001B[0;31m---------------------------------------------------------------------------\u001B[0m",
      "\u001B[0;31mIndexError\u001B[0m                                Traceback (most recent call last)",
      "Cell \u001B[0;32mIn[16], line 3\u001B[0m\n\u001B[1;32m      1\u001B[0m \u001B[38;5;28mprint\u001B[39m(\u001B[38;5;124m\"\u001B[39m\u001B[38;5;124mAccuracy\u001B[39m\u001B[38;5;124m\"\u001B[39m)\n\u001B[1;32m      2\u001B[0m \u001B[38;5;28mprint\u001B[39m(\u001B[38;5;124m\"\u001B[39m\u001B[38;5;124mstatistically different\u001B[39m\u001B[38;5;124m\"\u001B[39m)\n\u001B[0;32m----> 3\u001B[0m \u001B[43mparse_sens_spec\u001B[49m\u001B[43m(\u001B[49m\u001B[43mbaseline_acc\u001B[49m\u001B[43m,\u001B[49m\u001B[43m \u001B[49m\u001B[43mferesnet_acc\u001B[49m\u001B[43m)\u001B[49m\n",
      "Cell \u001B[0;32mIn[15], line 8\u001B[0m, in \u001B[0;36mparse_sens_spec\u001B[0;34m(m1, m2)\u001B[0m\n\u001B[1;32m      6\u001B[0m \u001B[38;5;28mprint\u001B[39m(np\u001B[38;5;241m.\u001B[39mmean(m2, axis\u001B[38;5;241m=\u001B[39m\u001B[38;5;241m0\u001B[39m), \u001B[38;5;124m\"\u001B[39m\u001B[38;5;124m+-\u001B[39m\u001B[38;5;124m\"\u001B[39m, np\u001B[38;5;241m.\u001B[39mstd(m2, axis\u001B[38;5;241m=\u001B[39m\u001B[38;5;241m0\u001B[39m))\n\u001B[1;32m      7\u001B[0m \u001B[38;5;28;01mfor\u001B[39;00m i \u001B[38;5;129;01min\u001B[39;00m \u001B[38;5;28mrange\u001B[39m(\u001B[38;5;241m3\u001B[39m):\n\u001B[0;32m----> 8\u001B[0m     t_stat, p_value \u001B[38;5;241m=\u001B[39m ttest_rel(np\u001B[38;5;241m.\u001B[39mnan_to_num(\u001B[43mm1\u001B[49m\u001B[43m[\u001B[49m\u001B[43m:\u001B[49m\u001B[43m,\u001B[49m\u001B[43m \u001B[49m\u001B[43mi\u001B[49m\u001B[43m]\u001B[49m, nan\u001B[38;5;241m=\u001B[39m\u001B[38;5;241m0\u001B[39m), np\u001B[38;5;241m.\u001B[39mnan_to_num(m2[:, i], nan\u001B[38;5;241m=\u001B[39m\u001B[38;5;241m0\u001B[39m))\n\u001B[1;32m      9\u001B[0m     \u001B[38;5;28mprint\u001B[39m(t_stat, p_value)\n",
      "\u001B[0;31mIndexError\u001B[0m: too many indices for array: array is 1-dimensional, but 2 were indexed"
     ]
    }
   ],
   "source": [
    "print(\"Accuracy\")\n",
    "print(\"statistically different\")\n",
    "parse_sens_spec(baseline_acc, feresnet_acc)\n"
   ],
   "metadata": {
    "collapsed": false
   }
  },
  {
   "cell_type": "code",
   "execution_count": 17,
   "outputs": [
    {
     "name": "stdout",
     "output_type": "stream",
     "text": [
      "Sensitivity\n",
      "statistically different\n",
      "[0.76946647 0.61845238 0.51715593] +- [0.26592131 0.41675297 0.4903722 ]\n",
      "[0.81876565 0.59434524 0.44485931] +- [0.20353486 0.39487588 0.44468125]\n",
      "-1.7345485012145423 0.0877113510068879\n",
      "0.5344256148345532 0.5949281523519512\n",
      "3.617451520645622 0.0005931282411671206\n"
     ]
    }
   ],
   "source": [
    "print(\"Sensitivity\")\n",
    "print(\"statistically different\")\n",
    "parse_sens_spec(np.delete(baseline_sens, 4, axis=0), np.delete(feresnet_sens, 4, axis=0))"
   ],
   "metadata": {
    "collapsed": false
   }
  },
  {
   "cell_type": "code",
   "execution_count": 18,
   "outputs": [
    {
     "name": "stdout",
     "output_type": "stream",
     "text": [
      "Specificity\n",
      "[0.86368833 0.95017925 0.82265651] +- [0.31378244 0.08255406 0.2344724 ]\n",
      "[0.76433571 0.8915421  0.91152016] +- [0.32309946 0.12751852 0.13156431]\n",
      "4.380152251240557 4.5693131533637854e-05\n",
      "3.98930667409161 0.00017524268926566084\n",
      "-3.095603880885612 0.002929821386840319\n"
     ]
    }
   ],
   "source": [
    "print(\"Specificity\")\n",
    "parse_sens_spec(np.delete(baseline_spec, 4, axis=0), np.delete(feresnet_spec, 4, axis=0))"
   ],
   "metadata": {
    "collapsed": false
   }
  },
  {
   "cell_type": "code",
   "execution_count": 19,
   "outputs": [
    {
     "name": "stdout",
     "output_type": "stream",
     "text": [
      "accuracy\n",
      "Baseline\n",
      "mean: 0.81; std: 0.18; \n",
      "Fe-ResNet50\n",
      "mean: 0.81; std: 0.14;\n",
      "p-value: 0.7998781274512502\n",
      "\n",
      "specificity\n",
      "Baseline\n",
      "mean: 0.90;  std: 0.10; \n",
      "Fe-ResNet50\n",
      "mean: 0.88; std 0.09\n",
      "p-value: 0.16837976331810053\n",
      "\n",
      "sensitivity\n",
      "Baseline\n",
      "mean: 0.63;  std: 0.24; \n",
      "Fe-ResNet50\n",
      "mean: 0.62; std 0.21\n",
      "p-value: 0.562852188464706\n",
      "\n"
     ]
    }
   ],
   "source": [
    "metric_names = ['accuracy', 'specificity', 'sensitivity']\n",
    "for i, (base, fe) in enumerate(zip(baseline_metrics_list, feresnet_metrics_list)):\n",
    "\n",
    "    print(f'{metric_names[i]}')\n",
    "    if i < 1:\n",
    "        print(\"Baseline\")\n",
    "        print(f'mean: {np.nanmean(base):.2f}; std: {np.nanstd(base):.2f}; ')\n",
    "        print(\"Fe-ResNet50\")\n",
    "        print(f'mean: {np.nanmean(fe):.2f}; std: {np.nanstd(fe):.2f};')\n",
    "        t_stat, p_value = ttest_rel(base, fe)\n",
    "        print(f'p-value: {p_value}')\n",
    "        print()\n",
    "    else:\n",
    "        global_base = np.nanmean(base, axis=1)\n",
    "        global_fe = np.nanmean(fe, axis=1)\n",
    "\n",
    "        print(\"Baseline\")\n",
    "        print(f'mean: {np.nanmean(global_base):.2f};  std: {np.nanstd(global_base):.2f}; ')\n",
    "        #print(f'mean: {np.nanmean(base, axis=0)};  std: {np.nanstd(base, axis=0)}; ')\n",
    "        print(\"Fe-ResNet50\")\n",
    "        print(f'mean: {np.nanmean(global_fe):.2f}; std {np.nanstd(global_fe):.2f}')\n",
    "        #print(f'mean: {np.nanmean(fe, axis=0):.2f};  std: {np.nanstd(fe, axis=0):.2f}; ')\n",
    "        t_stat, p_value = ttest_rel(np.nan_to_num(global_base, nan=1), np.nan_to_num(global_fe, nan=1))\n",
    "        print(f'p-value: {p_value}')\n",
    "        print()\n"
   ],
   "metadata": {
    "collapsed": false
   }
  },
  {
   "cell_type": "code",
   "execution_count": 20,
   "outputs": [
    {
     "name": "stderr",
     "output_type": "stream",
     "text": [
      "/tmp/ipykernel_520957/742969411.py:16: MatplotlibDeprecationWarning: The 'labels' parameter of boxplot() has been renamed 'tick_labels' since Matplotlib 3.9; support for the old name will be dropped in 3.11.\n",
      "  ax.boxplot(\n",
      "/tmp/ipykernel_520957/742969411.py:16: MatplotlibDeprecationWarning: The 'labels' parameter of boxplot() has been renamed 'tick_labels' since Matplotlib 3.9; support for the old name will be dropped in 3.11.\n",
      "  ax.boxplot(\n"
     ]
    },
    {
     "ename": "ValueError",
     "evalue": "X must have 2 or fewer dimensions",
     "output_type": "error",
     "traceback": [
      "\u001B[0;31m---------------------------------------------------------------------------\u001B[0m",
      "\u001B[0;31mValueError\u001B[0m                                Traceback (most recent call last)",
      "Cell \u001B[0;32mIn[20], line 16\u001B[0m\n\u001B[1;32m     14\u001B[0m \u001B[38;5;28;01mfor\u001B[39;00m i, metric_data \u001B[38;5;129;01min\u001B[39;00m \u001B[38;5;28menumerate\u001B[39m(data_to_plot):\n\u001B[1;32m     15\u001B[0m     positions \u001B[38;5;241m=\u001B[39m [i \u001B[38;5;241m*\u001B[39m \u001B[38;5;241m3\u001B[39m \u001B[38;5;241m+\u001B[39m \u001B[38;5;241m1\u001B[39m, i \u001B[38;5;241m*\u001B[39m \u001B[38;5;241m3\u001B[39m \u001B[38;5;241m+\u001B[39m \u001B[38;5;241m2\u001B[39m]  \u001B[38;5;66;03m# Space out the groups\u001B[39;00m\n\u001B[0;32m---> 16\u001B[0m     \u001B[43max\u001B[49m\u001B[38;5;241;43m.\u001B[39;49m\u001B[43mboxplot\u001B[49m\u001B[43m(\u001B[49m\n\u001B[1;32m     17\u001B[0m \u001B[43m        \u001B[49m\u001B[43mmetric_data\u001B[49m\u001B[43m,\u001B[49m\n\u001B[1;32m     18\u001B[0m \u001B[43m        \u001B[49m\u001B[43mpositions\u001B[49m\u001B[38;5;241;43m=\u001B[39;49m\u001B[43mpositions\u001B[49m\u001B[43m,\u001B[49m\n\u001B[1;32m     19\u001B[0m \u001B[43m        \u001B[49m\u001B[43mwidths\u001B[49m\u001B[38;5;241;43m=\u001B[39;49m\u001B[38;5;241;43m0.6\u001B[39;49m\u001B[43m,\u001B[49m\n\u001B[1;32m     20\u001B[0m \u001B[43m        \u001B[49m\u001B[43mpatch_artist\u001B[49m\u001B[38;5;241;43m=\u001B[39;49m\u001B[38;5;28;43;01mTrue\u001B[39;49;00m\u001B[43m,\u001B[49m\n\u001B[1;32m     21\u001B[0m \u001B[43m        \u001B[49m\u001B[43mlabels\u001B[49m\u001B[38;5;241;43m=\u001B[39;49m\u001B[43m[\u001B[49m\u001B[38;5;124;43m'\u001B[39;49m\u001B[38;5;124;43mBaseline\u001B[39;49m\u001B[38;5;124;43m'\u001B[39;49m\u001B[43m,\u001B[49m\u001B[43m \u001B[49m\u001B[38;5;124;43m'\u001B[39;49m\u001B[38;5;124;43mFeResNet\u001B[39;49m\u001B[38;5;124;43m'\u001B[39;49m\u001B[43m]\u001B[49m\u001B[43m \u001B[49m\u001B[38;5;28;43;01mif\u001B[39;49;00m\u001B[43m \u001B[49m\u001B[43mi\u001B[49m\u001B[43m \u001B[49m\u001B[38;5;241;43m==\u001B[39;49m\u001B[43m \u001B[49m\u001B[38;5;241;43m0\u001B[39;49m\u001B[43m \u001B[49m\u001B[38;5;28;43;01melse\u001B[39;49;00m\u001B[43m \u001B[49m\u001B[38;5;28;43;01mNone\u001B[39;49;00m\u001B[43m,\u001B[49m\n\u001B[1;32m     22\u001B[0m \u001B[43m    \u001B[49m\u001B[43m)\u001B[49m\n\u001B[1;32m     24\u001B[0m \u001B[38;5;66;03m# Add labels and grid\u001B[39;00m\n\u001B[1;32m     25\u001B[0m ax\u001B[38;5;241m.\u001B[39mset_xticks([i \u001B[38;5;241m*\u001B[39m \u001B[38;5;241m3\u001B[39m \u001B[38;5;241m+\u001B[39m \u001B[38;5;241m1.5\u001B[39m \u001B[38;5;28;01mfor\u001B[39;00m i \u001B[38;5;129;01min\u001B[39;00m \u001B[38;5;28mrange\u001B[39m(\u001B[38;5;28mlen\u001B[39m(metrics_labels))])\n",
      "File \u001B[0;32m~/.local/lib/python3.10/site-packages/matplotlib/__init__.py:1473\u001B[0m, in \u001B[0;36m_preprocess_data.<locals>.inner\u001B[0;34m(ax, data, *args, **kwargs)\u001B[0m\n\u001B[1;32m   1470\u001B[0m \u001B[38;5;129m@functools\u001B[39m\u001B[38;5;241m.\u001B[39mwraps(func)\n\u001B[1;32m   1471\u001B[0m \u001B[38;5;28;01mdef\u001B[39;00m \u001B[38;5;21minner\u001B[39m(ax, \u001B[38;5;241m*\u001B[39margs, data\u001B[38;5;241m=\u001B[39m\u001B[38;5;28;01mNone\u001B[39;00m, \u001B[38;5;241m*\u001B[39m\u001B[38;5;241m*\u001B[39mkwargs):\n\u001B[1;32m   1472\u001B[0m     \u001B[38;5;28;01mif\u001B[39;00m data \u001B[38;5;129;01mis\u001B[39;00m \u001B[38;5;28;01mNone\u001B[39;00m:\n\u001B[0;32m-> 1473\u001B[0m         \u001B[38;5;28;01mreturn\u001B[39;00m \u001B[43mfunc\u001B[49m\u001B[43m(\u001B[49m\n\u001B[1;32m   1474\u001B[0m \u001B[43m            \u001B[49m\u001B[43max\u001B[49m\u001B[43m,\u001B[49m\n\u001B[1;32m   1475\u001B[0m \u001B[43m            \u001B[49m\u001B[38;5;241;43m*\u001B[39;49m\u001B[38;5;28;43mmap\u001B[39;49m\u001B[43m(\u001B[49m\u001B[43msanitize_sequence\u001B[49m\u001B[43m,\u001B[49m\u001B[43m \u001B[49m\u001B[43margs\u001B[49m\u001B[43m)\u001B[49m\u001B[43m,\u001B[49m\n\u001B[1;32m   1476\u001B[0m \u001B[43m            \u001B[49m\u001B[38;5;241;43m*\u001B[39;49m\u001B[38;5;241;43m*\u001B[39;49m\u001B[43m{\u001B[49m\u001B[43mk\u001B[49m\u001B[43m:\u001B[49m\u001B[43m \u001B[49m\u001B[43msanitize_sequence\u001B[49m\u001B[43m(\u001B[49m\u001B[43mv\u001B[49m\u001B[43m)\u001B[49m\u001B[43m \u001B[49m\u001B[38;5;28;43;01mfor\u001B[39;49;00m\u001B[43m \u001B[49m\u001B[43mk\u001B[49m\u001B[43m,\u001B[49m\u001B[43m \u001B[49m\u001B[43mv\u001B[49m\u001B[43m \u001B[49m\u001B[38;5;129;43;01min\u001B[39;49;00m\u001B[43m \u001B[49m\u001B[43mkwargs\u001B[49m\u001B[38;5;241;43m.\u001B[39;49m\u001B[43mitems\u001B[49m\u001B[43m(\u001B[49m\u001B[43m)\u001B[49m\u001B[43m}\u001B[49m\u001B[43m)\u001B[49m\n\u001B[1;32m   1478\u001B[0m     bound \u001B[38;5;241m=\u001B[39m new_sig\u001B[38;5;241m.\u001B[39mbind(ax, \u001B[38;5;241m*\u001B[39margs, \u001B[38;5;241m*\u001B[39m\u001B[38;5;241m*\u001B[39mkwargs)\n\u001B[1;32m   1479\u001B[0m     auto_label \u001B[38;5;241m=\u001B[39m (bound\u001B[38;5;241m.\u001B[39marguments\u001B[38;5;241m.\u001B[39mget(label_namer)\n\u001B[1;32m   1480\u001B[0m                   \u001B[38;5;129;01mor\u001B[39;00m bound\u001B[38;5;241m.\u001B[39mkwargs\u001B[38;5;241m.\u001B[39mget(label_namer))\n",
      "File \u001B[0;32m~/.local/lib/python3.10/site-packages/matplotlib/_api/deprecation.py:300\u001B[0m, in \u001B[0;36mrename_parameter.<locals>.wrapper\u001B[0;34m(*args, **kwargs)\u001B[0m\n\u001B[1;32m    295\u001B[0m     warn_deprecated(\n\u001B[1;32m    296\u001B[0m         since, message\u001B[38;5;241m=\u001B[39m\u001B[38;5;124mf\u001B[39m\u001B[38;5;124m\"\u001B[39m\u001B[38;5;124mThe \u001B[39m\u001B[38;5;132;01m{\u001B[39;00mold\u001B[38;5;132;01m!r}\u001B[39;00m\u001B[38;5;124m parameter of \u001B[39m\u001B[38;5;132;01m{\u001B[39;00mfunc\u001B[38;5;241m.\u001B[39m\u001B[38;5;18m__name__\u001B[39m\u001B[38;5;132;01m}\u001B[39;00m\u001B[38;5;124m() \u001B[39m\u001B[38;5;124m\"\u001B[39m\n\u001B[1;32m    297\u001B[0m         \u001B[38;5;124mf\u001B[39m\u001B[38;5;124m\"\u001B[39m\u001B[38;5;124mhas been renamed \u001B[39m\u001B[38;5;132;01m{\u001B[39;00mnew\u001B[38;5;132;01m!r}\u001B[39;00m\u001B[38;5;124m since Matplotlib \u001B[39m\u001B[38;5;132;01m{\u001B[39;00msince\u001B[38;5;132;01m}\u001B[39;00m\u001B[38;5;124m; support \u001B[39m\u001B[38;5;124m\"\u001B[39m\n\u001B[1;32m    298\u001B[0m         \u001B[38;5;124mf\u001B[39m\u001B[38;5;124m\"\u001B[39m\u001B[38;5;124mfor the old name will be dropped %(removal)s.\u001B[39m\u001B[38;5;124m\"\u001B[39m)\n\u001B[1;32m    299\u001B[0m     kwargs[new] \u001B[38;5;241m=\u001B[39m kwargs\u001B[38;5;241m.\u001B[39mpop(old)\n\u001B[0;32m--> 300\u001B[0m \u001B[38;5;28;01mreturn\u001B[39;00m \u001B[43mfunc\u001B[49m\u001B[43m(\u001B[49m\u001B[38;5;241;43m*\u001B[39;49m\u001B[43margs\u001B[49m\u001B[43m,\u001B[49m\u001B[43m \u001B[49m\u001B[38;5;241;43m*\u001B[39;49m\u001B[38;5;241;43m*\u001B[39;49m\u001B[43mkwargs\u001B[49m\u001B[43m)\u001B[49m\n",
      "File \u001B[0;32m~/.local/lib/python3.10/site-packages/matplotlib/axes/_axes.py:4039\u001B[0m, in \u001B[0;36mAxes.boxplot\u001B[0;34m(self, x, notch, sym, vert, whis, positions, widths, patch_artist, bootstrap, usermedians, conf_intervals, meanline, showmeans, showcaps, showbox, showfliers, boxprops, tick_labels, flierprops, medianprops, meanprops, capprops, whiskerprops, manage_ticks, autorange, zorder, capwidths, label)\u001B[0m\n\u001B[1;32m   4036\u001B[0m \u001B[38;5;28;01mif\u001B[39;00m bootstrap \u001B[38;5;129;01mis\u001B[39;00m \u001B[38;5;28;01mNone\u001B[39;00m:\n\u001B[1;32m   4037\u001B[0m     bootstrap \u001B[38;5;241m=\u001B[39m mpl\u001B[38;5;241m.\u001B[39mrcParams[\u001B[38;5;124m'\u001B[39m\u001B[38;5;124mboxplot.bootstrap\u001B[39m\u001B[38;5;124m'\u001B[39m]\n\u001B[0;32m-> 4039\u001B[0m bxpstats \u001B[38;5;241m=\u001B[39m \u001B[43mcbook\u001B[49m\u001B[38;5;241;43m.\u001B[39;49m\u001B[43mboxplot_stats\u001B[49m\u001B[43m(\u001B[49m\u001B[43mx\u001B[49m\u001B[43m,\u001B[49m\u001B[43m \u001B[49m\u001B[43mwhis\u001B[49m\u001B[38;5;241;43m=\u001B[39;49m\u001B[43mwhis\u001B[49m\u001B[43m,\u001B[49m\u001B[43m \u001B[49m\u001B[43mbootstrap\u001B[49m\u001B[38;5;241;43m=\u001B[39;49m\u001B[43mbootstrap\u001B[49m\u001B[43m,\u001B[49m\n\u001B[1;32m   4040\u001B[0m \u001B[43m                               \u001B[49m\u001B[43mlabels\u001B[49m\u001B[38;5;241;43m=\u001B[39;49m\u001B[43mtick_labels\u001B[49m\u001B[43m,\u001B[49m\u001B[43m \u001B[49m\u001B[43mautorange\u001B[49m\u001B[38;5;241;43m=\u001B[39;49m\u001B[43mautorange\u001B[49m\u001B[43m)\u001B[49m\n\u001B[1;32m   4041\u001B[0m \u001B[38;5;28;01mif\u001B[39;00m notch \u001B[38;5;129;01mis\u001B[39;00m \u001B[38;5;28;01mNone\u001B[39;00m:\n\u001B[1;32m   4042\u001B[0m     notch \u001B[38;5;241m=\u001B[39m mpl\u001B[38;5;241m.\u001B[39mrcParams[\u001B[38;5;124m'\u001B[39m\u001B[38;5;124mboxplot.notch\u001B[39m\u001B[38;5;124m'\u001B[39m]\n",
      "File \u001B[0;32m~/.local/lib/python3.10/site-packages/matplotlib/cbook.py:1254\u001B[0m, in \u001B[0;36mboxplot_stats\u001B[0;34m(X, whis, bootstrap, labels, autorange)\u001B[0m\n\u001B[1;32m   1251\u001B[0m bxpstats \u001B[38;5;241m=\u001B[39m []\n\u001B[1;32m   1253\u001B[0m \u001B[38;5;66;03m# convert X to a list of lists\u001B[39;00m\n\u001B[0;32m-> 1254\u001B[0m X \u001B[38;5;241m=\u001B[39m \u001B[43m_reshape_2D\u001B[49m\u001B[43m(\u001B[49m\u001B[43mX\u001B[49m\u001B[43m,\u001B[49m\u001B[43m \u001B[49m\u001B[38;5;124;43m\"\u001B[39;49m\u001B[38;5;124;43mX\u001B[39;49m\u001B[38;5;124;43m\"\u001B[39;49m\u001B[43m)\u001B[49m\n\u001B[1;32m   1256\u001B[0m ncols \u001B[38;5;241m=\u001B[39m \u001B[38;5;28mlen\u001B[39m(X)\n\u001B[1;32m   1257\u001B[0m \u001B[38;5;28;01mif\u001B[39;00m labels \u001B[38;5;129;01mis\u001B[39;00m \u001B[38;5;28;01mNone\u001B[39;00m:\n",
      "File \u001B[0;32m~/.local/lib/python3.10/site-packages/matplotlib/cbook.py:1465\u001B[0m, in \u001B[0;36m_reshape_2D\u001B[0;34m(X, name)\u001B[0m\n\u001B[1;32m   1463\u001B[0m     nd \u001B[38;5;241m=\u001B[39m np\u001B[38;5;241m.\u001B[39mndim(xi)\n\u001B[1;32m   1464\u001B[0m     \u001B[38;5;28;01mif\u001B[39;00m nd \u001B[38;5;241m>\u001B[39m \u001B[38;5;241m1\u001B[39m:\n\u001B[0;32m-> 1465\u001B[0m         \u001B[38;5;28;01mraise\u001B[39;00m \u001B[38;5;167;01mValueError\u001B[39;00m(\u001B[38;5;124mf\u001B[39m\u001B[38;5;124m'\u001B[39m\u001B[38;5;132;01m{\u001B[39;00mname\u001B[38;5;132;01m}\u001B[39;00m\u001B[38;5;124m must have 2 or fewer dimensions\u001B[39m\u001B[38;5;124m'\u001B[39m)\n\u001B[1;32m   1466\u001B[0m     result\u001B[38;5;241m.\u001B[39mappend(xi\u001B[38;5;241m.\u001B[39mreshape(\u001B[38;5;241m-\u001B[39m\u001B[38;5;241m1\u001B[39m))\n\u001B[1;32m   1468\u001B[0m \u001B[38;5;28;01mif\u001B[39;00m is_1d:\n\u001B[1;32m   1469\u001B[0m     \u001B[38;5;66;03m# 1D array of scalars: directly return it.\u001B[39;00m\n",
      "\u001B[0;31mValueError\u001B[0m: X must have 2 or fewer dimensions"
     ]
    },
    {
     "data": {
      "text/plain": "<Figure size 1000x600 with 1 Axes>",
      "image/png": "[encoded data removed]"
     },
     "metadata": {},
     "output_type": "display_data"
    }
   ],
   "source": [
    "metrics_labels = ['Accuracy', 'Specificity', 'Sensitivity']\n",
    "baseline_data = baseline_metrics_list\n",
    "feresnet_data = feresnet_metrics_list\n",
    "\n",
    "# Combine the data for each metric\n",
    "data_to_plot = [\n",
    "    [baseline_data[i], feresnet_data[i]]\n",
    "    for i in range(len(metrics_labels))\n",
    "]\n",
    "\n",
    "# Create boxplots grouped by metric\n",
    "fig, ax = plt.subplots(figsize=(10, 6))\n",
    "\n",
    "for i, metric_data in enumerate(data_to_plot):\n",
    "    positions = [i * 3 + 1, i * 3 + 2]  # Space out the groups\n",
    "    ax.boxplot(\n",
    "        metric_data,\n",
    "        positions=positions,\n",
    "        widths=0.6,\n",
    "        patch_artist=True,\n",
    "        labels=['Baseline', 'FeResNet'] if i == 0 else None,\n",
    "    )\n",
    "\n",
    "# Add labels and grid\n",
    "ax.set_xticks([i * 3 + 1.5 for i in range(len(metrics_labels))])\n",
    "ax.set_xticklabels(metrics_labels)\n",
    "ax.set_title('Comparison of Metrics Between Baseline and FeResNet')\n",
    "ax.set_ylabel('Metric Values')\n",
    "ax.grid(axis='y', linestyle='--', alpha=0.7)\n",
    "\n",
    "plt.legend([\"Baseline\", \"FeResNet\"], loc='upper left')\n",
    "plt.tight_layout()\n",
    "plt.show()\n"
   ],
   "metadata": {
    "collapsed": false
   }
  },
  {
   "cell_type": "code",
   "execution_count": 15,
   "outputs": [
    {
     "ename": "NameError",
     "evalue": "name 'cat_acc' is not defined",
     "output_type": "error",
     "traceback": [
      "\u001B[0;31m---------------------------------------------------------------------------\u001B[0m",
      "\u001B[0;31mNameError\u001B[0m                                 Traceback (most recent call last)",
      "Cell \u001B[0;32mIn[15], line 1\u001B[0m\n\u001B[0;32m----> 1\u001B[0m data \u001B[38;5;241m=\u001B[39m [\u001B[43mcat_acc\u001B[49m, np\u001B[38;5;241m.\u001B[39mnanmean(spec, axis\u001B[38;5;241m=\u001B[39m\u001B[38;5;241m1\u001B[39m), np\u001B[38;5;241m.\u001B[39mnanmean(sens, axis\u001B[38;5;241m=\u001B[39m\u001B[38;5;241m1\u001B[39m)]\n\u001B[1;32m      3\u001B[0m \u001B[38;5;66;03m# Create the box plot\u001B[39;00m\n\u001B[1;32m      4\u001B[0m plt\u001B[38;5;241m.\u001B[39mfigure(figsize\u001B[38;5;241m=\u001B[39m(\u001B[38;5;241m8\u001B[39m, \u001B[38;5;241m6\u001B[39m))\n",
      "\u001B[0;31mNameError\u001B[0m: name 'cat_acc' is not defined"
     ]
    }
   ],
   "source": [
    "data = [cat_acc, np.nanmean(spec, axis=1), np.nanmean(sens, axis=1)]\n",
    "\n",
    "# Create the box plot\n",
    "plt.figure(figsize=(8, 6))\n",
    "plt.boxplot(data, labels=['Cat Acc', 'Spec', 'Sens'])\n",
    "plt.title('Box Plot of Metrics')\n",
    "plt.ylabel('Values')\n",
    "plt.grid(True)\n",
    "\n",
    "# Show the plot\n",
    "plt.show()"
   ],
   "metadata": {
    "collapsed": false
   }
  },
  {
   "cell_type": "code",
   "execution_count": 33,
   "outputs": [
    {
     "ename": "NameError",
     "evalue": "name 'cat_acc' is not defined",
     "output_type": "error",
     "traceback": [
      "\u001B[0;31m---------------------------------------------------------------------------\u001B[0m",
      "\u001B[0;31mNameError\u001B[0m                                 Traceback (most recent call last)",
      "Cell \u001B[0;32mIn[33], line 1\u001B[0m\n\u001B[0;32m----> 1\u001B[0m data \u001B[38;5;241m=\u001B[39m np\u001B[38;5;241m.\u001B[39marray([\u001B[43mcat_acc\u001B[49m, np\u001B[38;5;241m.\u001B[39mnanmean(spec, axis\u001B[38;5;241m=\u001B[39m\u001B[38;5;241m1\u001B[39m), np\u001B[38;5;241m.\u001B[39mnanmean(sens, axis\u001B[38;5;241m=\u001B[39m\u001B[38;5;241m1\u001B[39m)])\n",
      "\u001B[0;31mNameError\u001B[0m: name 'cat_acc' is not defined"
     ]
    }
   ],
   "source": [
    "data = np.array([cat_acc, np.nanmean(spec, axis=1), np.nanmean(sens, axis=1)])"
   ],
   "metadata": {
    "collapsed": false
   }
  },
  {
   "cell_type": "code",
   "execution_count": 14,
   "outputs": [
    {
     "data": {
      "text/plain": "(3, 26)"
     },
     "execution_count": 14,
     "metadata": {},
     "output_type": "execute_result"
    }
   ],
   "source": [
    "data.shape"
   ],
   "metadata": {
    "collapsed": false
   }
  },
  {
   "cell_type": "code",
   "execution_count": 15,
   "outputs": [
    {
     "data": {
      "text/plain": "(array([0.7674934 , 0.86386544, 0.60097499]),\n array([0.15491663, 0.10772861, 0.21968394]))"
     },
     "execution_count": 15,
     "metadata": {},
     "output_type": "execute_result"
    }
   ],
   "source": [
    "np.mean(data, axis=1), np.std(data, axis=1)"
   ],
   "metadata": {
    "collapsed": false
   }
  },
  {
   "cell_type": "code",
   "execution_count": 18,
   "outputs": [
    {
     "name": "stdout",
     "output_type": "stream",
     "text": [
      "__init__.py  new_patient_ids.npy  test_patient_ids_2.npy  test_patient_ids.npy\r\n"
     ]
    }
   ],
   "source": [
    "!ls ../../configs/"
   ],
   "metadata": {
    "collapsed": false
   }
  },
  {
   "cell_type": "code",
   "execution_count": 21,
   "outputs": [],
   "source": [
    "from evaluation.eggim import *\n",
    "def replace_landmark_name(landmark):\n",
    "    new_landmark_name = {'ii': 'distal body',\n",
    "                    'ix': 'distal lc',\n",
    "                    'vi': 'proximal ant lc',\n",
    "                    'vii': 'proximal ant gc/pw',\n",
    "                    'viii': 'incisura r',\n",
    "                    'x': 'upper body r',\n",
    "                    'xii': 'upper body ant'}\n",
    "    landmark_number = landmark.split('.')[0]\n",
    "    return new_landmark_name[landmark_number]\n",
    "\n",
    "dp = DatasetProcessor(target_dir)\n",
    "df = dp.process()\n",
    "df['landmark'] = df['landmark'].apply(replace_landmark_name)\n",
    "patient_ids = np.load('../../configs/new_patient_ids.npy', allow_pickle=True)\n",
    "\n",
    "togas_ids_boolean = np.array([x.startswith('PT') for x in df['patient_id'].values])\n",
    "df_togas = df[togas_ids_boolean].reset_index(drop=True)\n",
    "df_ipo = df[~togas_ids_boolean].reset_index(drop=True)\n"
   ],
   "metadata": {
    "collapsed": false
   }
  },
  {
   "cell_type": "code",
   "execution_count": 22,
   "outputs": [
    {
     "data": {
      "text/plain": "landmark            eggim_square\ndistal lc           0               99\nproximal ant gc/pw  0               86\ndistal body         0               79\nupper body ant      0               71\nproximal ant lc     0               64\nincisura r          0               59\n                    1               58\nupper body r        0               51\nproximal ant lc     2               48\nproximal ant gc/pw  2               46\nproximal ant lc     1               38\nincisura r          2               37\ndistal lc           1               33\nproximal ant gc/pw  1               28\ndistal lc           2               23\nupper body ant      1               13\nupper body r        1               10\n                    2                9\ndistal body         1                8\nupper body ant      2                3\ndistal body         2                3\nName: count, dtype: int64"
     },
     "execution_count": 22,
     "metadata": {},
     "output_type": "execute_result"
    }
   ],
   "source": [
    "df = df_togas[['landmark', 'eggim_square']].value_counts()\n",
    "df"
   ],
   "metadata": {
    "collapsed": false
   }
  },
  {
   "cell_type": "code",
   "execution_count": 66,
   "outputs": [
    {
     "name": "stdout",
     "output_type": "stream",
     "text": [
      "FE_RESNET\n"
     ]
    },
    {
     "name": "stderr",
     "output_type": "stream",
     "text": [
      "/tmp/ipykernel_520957/1432230811.py:38: SettingWithCopyWarning: \n",
      "A value is trying to be set on a copy of a slice from a DataFrame.\n",
      "Try using .loc[row_indexer,col_indexer] = value instead\n",
      "\n",
      "See the caveats in the documentation: https://pandas.pydata.org/pandas-docs/stable/user_guide/indexing.html#returning-a-view-versus-a-copy\n",
      "  df_patient['pred'] = y_feresnet_ordinals[i]\n",
      "/tmp/ipykernel_520957/1432230811.py:38: SettingWithCopyWarning: \n",
      "A value is trying to be set on a copy of a slice from a DataFrame.\n",
      "Try using .loc[row_indexer,col_indexer] = value instead\n",
      "\n",
      "See the caveats in the documentation: https://pandas.pydata.org/pandas-docs/stable/user_guide/indexing.html#returning-a-view-versus-a-copy\n",
      "  df_patient['pred'] = y_feresnet_ordinals[i]\n",
      "/tmp/ipykernel_520957/1432230811.py:38: SettingWithCopyWarning: \n",
      "A value is trying to be set on a copy of a slice from a DataFrame.\n",
      "Try using .loc[row_indexer,col_indexer] = value instead\n",
      "\n",
      "See the caveats in the documentation: https://pandas.pydata.org/pandas-docs/stable/user_guide/indexing.html#returning-a-view-versus-a-copy\n",
      "  df_patient['pred'] = y_feresnet_ordinals[i]\n",
      "/tmp/ipykernel_520957/1432230811.py:38: SettingWithCopyWarning: \n",
      "A value is trying to be set on a copy of a slice from a DataFrame.\n",
      "Try using .loc[row_indexer,col_indexer] = value instead\n",
      "\n",
      "See the caveats in the documentation: https://pandas.pydata.org/pandas-docs/stable/user_guide/indexing.html#returning-a-view-versus-a-copy\n",
      "  df_patient['pred'] = y_feresnet_ordinals[i]\n",
      "/tmp/ipykernel_520957/1432230811.py:38: SettingWithCopyWarning: \n",
      "A value is trying to be set on a copy of a slice from a DataFrame.\n",
      "Try using .loc[row_indexer,col_indexer] = value instead\n",
      "\n",
      "See the caveats in the documentation: https://pandas.pydata.org/pandas-docs/stable/user_guide/indexing.html#returning-a-view-versus-a-copy\n",
      "  df_patient['pred'] = y_feresnet_ordinals[i]\n",
      "/tmp/ipykernel_520957/1432230811.py:38: SettingWithCopyWarning: \n",
      "A value is trying to be set on a copy of a slice from a DataFrame.\n",
      "Try using .loc[row_indexer,col_indexer] = value instead\n",
      "\n",
      "See the caveats in the documentation: https://pandas.pydata.org/pandas-docs/stable/user_guide/indexing.html#returning-a-view-versus-a-copy\n",
      "  df_patient['pred'] = y_feresnet_ordinals[i]\n",
      "/tmp/ipykernel_520957/1432230811.py:38: SettingWithCopyWarning: \n",
      "A value is trying to be set on a copy of a slice from a DataFrame.\n",
      "Try using .loc[row_indexer,col_indexer] = value instead\n",
      "\n",
      "See the caveats in the documentation: https://pandas.pydata.org/pandas-docs/stable/user_guide/indexing.html#returning-a-view-versus-a-copy\n",
      "  df_patient['pred'] = y_feresnet_ordinals[i]\n",
      "/tmp/ipykernel_520957/1432230811.py:38: SettingWithCopyWarning: \n",
      "A value is trying to be set on a copy of a slice from a DataFrame.\n",
      "Try using .loc[row_indexer,col_indexer] = value instead\n",
      "\n",
      "See the caveats in the documentation: https://pandas.pydata.org/pandas-docs/stable/user_guide/indexing.html#returning-a-view-versus-a-copy\n",
      "  df_patient['pred'] = y_feresnet_ordinals[i]\n",
      "/tmp/ipykernel_520957/1432230811.py:38: SettingWithCopyWarning: \n",
      "A value is trying to be set on a copy of a slice from a DataFrame.\n",
      "Try using .loc[row_indexer,col_indexer] = value instead\n",
      "\n",
      "See the caveats in the documentation: https://pandas.pydata.org/pandas-docs/stable/user_guide/indexing.html#returning-a-view-versus-a-copy\n",
      "  df_patient['pred'] = y_feresnet_ordinals[i]\n",
      "/tmp/ipykernel_520957/1432230811.py:38: SettingWithCopyWarning: \n",
      "A value is trying to be set on a copy of a slice from a DataFrame.\n",
      "Try using .loc[row_indexer,col_indexer] = value instead\n",
      "\n",
      "See the caveats in the documentation: https://pandas.pydata.org/pandas-docs/stable/user_guide/indexing.html#returning-a-view-versus-a-copy\n",
      "  df_patient['pred'] = y_feresnet_ordinals[i]\n",
      "/tmp/ipykernel_520957/1432230811.py:38: SettingWithCopyWarning: \n",
      "A value is trying to be set on a copy of a slice from a DataFrame.\n",
      "Try using .loc[row_indexer,col_indexer] = value instead\n",
      "\n",
      "See the caveats in the documentation: https://pandas.pydata.org/pandas-docs/stable/user_guide/indexing.html#returning-a-view-versus-a-copy\n",
      "  df_patient['pred'] = y_feresnet_ordinals[i]\n",
      "/tmp/ipykernel_520957/1432230811.py:38: SettingWithCopyWarning: \n",
      "A value is trying to be set on a copy of a slice from a DataFrame.\n",
      "Try using .loc[row_indexer,col_indexer] = value instead\n",
      "\n",
      "See the caveats in the documentation: https://pandas.pydata.org/pandas-docs/stable/user_guide/indexing.html#returning-a-view-versus-a-copy\n",
      "  df_patient['pred'] = y_feresnet_ordinals[i]\n",
      "/tmp/ipykernel_520957/1432230811.py:38: SettingWithCopyWarning: \n",
      "A value is trying to be set on a copy of a slice from a DataFrame.\n",
      "Try using .loc[row_indexer,col_indexer] = value instead\n",
      "\n",
      "See the caveats in the documentation: https://pandas.pydata.org/pandas-docs/stable/user_guide/indexing.html#returning-a-view-versus-a-copy\n",
      "  df_patient['pred'] = y_feresnet_ordinals[i]\n",
      "/tmp/ipykernel_520957/1432230811.py:38: SettingWithCopyWarning: \n",
      "A value is trying to be set on a copy of a slice from a DataFrame.\n",
      "Try using .loc[row_indexer,col_indexer] = value instead\n",
      "\n",
      "See the caveats in the documentation: https://pandas.pydata.org/pandas-docs/stable/user_guide/indexing.html#returning-a-view-versus-a-copy\n",
      "  df_patient['pred'] = y_feresnet_ordinals[i]\n",
      "/tmp/ipykernel_520957/1432230811.py:38: SettingWithCopyWarning: \n",
      "A value is trying to be set on a copy of a slice from a DataFrame.\n",
      "Try using .loc[row_indexer,col_indexer] = value instead\n",
      "\n",
      "See the caveats in the documentation: https://pandas.pydata.org/pandas-docs/stable/user_guide/indexing.html#returning-a-view-versus-a-copy\n",
      "  df_patient['pred'] = y_feresnet_ordinals[i]\n",
      "/tmp/ipykernel_520957/1432230811.py:38: SettingWithCopyWarning: \n",
      "A value is trying to be set on a copy of a slice from a DataFrame.\n",
      "Try using .loc[row_indexer,col_indexer] = value instead\n",
      "\n",
      "See the caveats in the documentation: https://pandas.pydata.org/pandas-docs/stable/user_guide/indexing.html#returning-a-view-versus-a-copy\n",
      "  df_patient['pred'] = y_feresnet_ordinals[i]\n",
      "/tmp/ipykernel_520957/1432230811.py:38: SettingWithCopyWarning: \n",
      "A value is trying to be set on a copy of a slice from a DataFrame.\n",
      "Try using .loc[row_indexer,col_indexer] = value instead\n",
      "\n",
      "See the caveats in the documentation: https://pandas.pydata.org/pandas-docs/stable/user_guide/indexing.html#returning-a-view-versus-a-copy\n",
      "  df_patient['pred'] = y_feresnet_ordinals[i]\n",
      "/tmp/ipykernel_520957/1432230811.py:38: SettingWithCopyWarning: \n",
      "A value is trying to be set on a copy of a slice from a DataFrame.\n",
      "Try using .loc[row_indexer,col_indexer] = value instead\n",
      "\n",
      "See the caveats in the documentation: https://pandas.pydata.org/pandas-docs/stable/user_guide/indexing.html#returning-a-view-versus-a-copy\n",
      "  df_patient['pred'] = y_feresnet_ordinals[i]\n",
      "/tmp/ipykernel_520957/1432230811.py:38: SettingWithCopyWarning: \n",
      "A value is trying to be set on a copy of a slice from a DataFrame.\n",
      "Try using .loc[row_indexer,col_indexer] = value instead\n",
      "\n",
      "See the caveats in the documentation: https://pandas.pydata.org/pandas-docs/stable/user_guide/indexing.html#returning-a-view-versus-a-copy\n",
      "  df_patient['pred'] = y_feresnet_ordinals[i]\n",
      "/tmp/ipykernel_520957/1432230811.py:38: SettingWithCopyWarning: \n",
      "A value is trying to be set on a copy of a slice from a DataFrame.\n",
      "Try using .loc[row_indexer,col_indexer] = value instead\n",
      "\n",
      "See the caveats in the documentation: https://pandas.pydata.org/pandas-docs/stable/user_guide/indexing.html#returning-a-view-versus-a-copy\n",
      "  df_patient['pred'] = y_feresnet_ordinals[i]\n",
      "/tmp/ipykernel_520957/1432230811.py:38: SettingWithCopyWarning: \n",
      "A value is trying to be set on a copy of a slice from a DataFrame.\n",
      "Try using .loc[row_indexer,col_indexer] = value instead\n",
      "\n",
      "See the caveats in the documentation: https://pandas.pydata.org/pandas-docs/stable/user_guide/indexing.html#returning-a-view-versus-a-copy\n",
      "  df_patient['pred'] = y_feresnet_ordinals[i]\n",
      "/tmp/ipykernel_520957/1432230811.py:38: SettingWithCopyWarning: \n",
      "A value is trying to be set on a copy of a slice from a DataFrame.\n",
      "Try using .loc[row_indexer,col_indexer] = value instead\n",
      "\n",
      "See the caveats in the documentation: https://pandas.pydata.org/pandas-docs/stable/user_guide/indexing.html#returning-a-view-versus-a-copy\n",
      "  df_patient['pred'] = y_feresnet_ordinals[i]\n",
      "/tmp/ipykernel_520957/1432230811.py:38: SettingWithCopyWarning: \n",
      "A value is trying to be set on a copy of a slice from a DataFrame.\n",
      "Try using .loc[row_indexer,col_indexer] = value instead\n",
      "\n",
      "See the caveats in the documentation: https://pandas.pydata.org/pandas-docs/stable/user_guide/indexing.html#returning-a-view-versus-a-copy\n",
      "  df_patient['pred'] = y_feresnet_ordinals[i]\n",
      "/tmp/ipykernel_520957/1432230811.py:38: SettingWithCopyWarning: \n",
      "A value is trying to be set on a copy of a slice from a DataFrame.\n",
      "Try using .loc[row_indexer,col_indexer] = value instead\n",
      "\n",
      "See the caveats in the documentation: https://pandas.pydata.org/pandas-docs/stable/user_guide/indexing.html#returning-a-view-versus-a-copy\n",
      "  df_patient['pred'] = y_feresnet_ordinals[i]\n",
      "/tmp/ipykernel_520957/1432230811.py:38: SettingWithCopyWarning: \n",
      "A value is trying to be set on a copy of a slice from a DataFrame.\n",
      "Try using .loc[row_indexer,col_indexer] = value instead\n",
      "\n",
      "See the caveats in the documentation: https://pandas.pydata.org/pandas-docs/stable/user_guide/indexing.html#returning-a-view-versus-a-copy\n",
      "  df_patient['pred'] = y_feresnet_ordinals[i]\n",
      "/tmp/ipykernel_520957/1432230811.py:38: SettingWithCopyWarning: \n",
      "A value is trying to be set on a copy of a slice from a DataFrame.\n",
      "Try using .loc[row_indexer,col_indexer] = value instead\n",
      "\n",
      "See the caveats in the documentation: https://pandas.pydata.org/pandas-docs/stable/user_guide/indexing.html#returning-a-view-versus-a-copy\n",
      "  df_patient['pred'] = y_feresnet_ordinals[i]\n",
      "/tmp/ipykernel_520957/1432230811.py:38: SettingWithCopyWarning: \n",
      "A value is trying to be set on a copy of a slice from a DataFrame.\n",
      "Try using .loc[row_indexer,col_indexer] = value instead\n",
      "\n",
      "See the caveats in the documentation: https://pandas.pydata.org/pandas-docs/stable/user_guide/indexing.html#returning-a-view-versus-a-copy\n",
      "  df_patient['pred'] = y_feresnet_ordinals[i]\n",
      "/tmp/ipykernel_520957/1432230811.py:38: SettingWithCopyWarning: \n",
      "A value is trying to be set on a copy of a slice from a DataFrame.\n",
      "Try using .loc[row_indexer,col_indexer] = value instead\n",
      "\n",
      "See the caveats in the documentation: https://pandas.pydata.org/pandas-docs/stable/user_guide/indexing.html#returning-a-view-versus-a-copy\n",
      "  df_patient['pred'] = y_feresnet_ordinals[i]\n",
      "/tmp/ipykernel_520957/1432230811.py:38: SettingWithCopyWarning: \n",
      "A value is trying to be set on a copy of a slice from a DataFrame.\n",
      "Try using .loc[row_indexer,col_indexer] = value instead\n",
      "\n",
      "See the caveats in the documentation: https://pandas.pydata.org/pandas-docs/stable/user_guide/indexing.html#returning-a-view-versus-a-copy\n",
      "  df_patient['pred'] = y_feresnet_ordinals[i]\n",
      "/tmp/ipykernel_520957/1432230811.py:38: SettingWithCopyWarning: \n",
      "A value is trying to be set on a copy of a slice from a DataFrame.\n",
      "Try using .loc[row_indexer,col_indexer] = value instead\n",
      "\n",
      "See the caveats in the documentation: https://pandas.pydata.org/pandas-docs/stable/user_guide/indexing.html#returning-a-view-versus-a-copy\n",
      "  df_patient['pred'] = y_feresnet_ordinals[i]\n",
      "/tmp/ipykernel_520957/1432230811.py:38: SettingWithCopyWarning: \n",
      "A value is trying to be set on a copy of a slice from a DataFrame.\n",
      "Try using .loc[row_indexer,col_indexer] = value instead\n",
      "\n",
      "See the caveats in the documentation: https://pandas.pydata.org/pandas-docs/stable/user_guide/indexing.html#returning-a-view-versus-a-copy\n",
      "  df_patient['pred'] = y_feresnet_ordinals[i]\n",
      "/tmp/ipykernel_520957/1432230811.py:38: SettingWithCopyWarning: \n",
      "A value is trying to be set on a copy of a slice from a DataFrame.\n",
      "Try using .loc[row_indexer,col_indexer] = value instead\n",
      "\n",
      "See the caveats in the documentation: https://pandas.pydata.org/pandas-docs/stable/user_guide/indexing.html#returning-a-view-versus-a-copy\n",
      "  df_patient['pred'] = y_feresnet_ordinals[i]\n",
      "/tmp/ipykernel_520957/1432230811.py:38: SettingWithCopyWarning: \n",
      "A value is trying to be set on a copy of a slice from a DataFrame.\n",
      "Try using .loc[row_indexer,col_indexer] = value instead\n",
      "\n",
      "See the caveats in the documentation: https://pandas.pydata.org/pandas-docs/stable/user_guide/indexing.html#returning-a-view-versus-a-copy\n",
      "  df_patient['pred'] = y_feresnet_ordinals[i]\n",
      "/tmp/ipykernel_520957/1432230811.py:38: SettingWithCopyWarning: \n",
      "A value is trying to be set on a copy of a slice from a DataFrame.\n",
      "Try using .loc[row_indexer,col_indexer] = value instead\n",
      "\n",
      "See the caveats in the documentation: https://pandas.pydata.org/pandas-docs/stable/user_guide/indexing.html#returning-a-view-versus-a-copy\n",
      "  df_patient['pred'] = y_feresnet_ordinals[i]\n",
      "/tmp/ipykernel_520957/1432230811.py:38: SettingWithCopyWarning: \n",
      "A value is trying to be set on a copy of a slice from a DataFrame.\n",
      "Try using .loc[row_indexer,col_indexer] = value instead\n",
      "\n",
      "See the caveats in the documentation: https://pandas.pydata.org/pandas-docs/stable/user_guide/indexing.html#returning-a-view-versus-a-copy\n",
      "  df_patient['pred'] = y_feresnet_ordinals[i]\n",
      "/tmp/ipykernel_520957/1432230811.py:38: SettingWithCopyWarning: \n",
      "A value is trying to be set on a copy of a slice from a DataFrame.\n",
      "Try using .loc[row_indexer,col_indexer] = value instead\n",
      "\n",
      "See the caveats in the documentation: https://pandas.pydata.org/pandas-docs/stable/user_guide/indexing.html#returning-a-view-versus-a-copy\n",
      "  df_patient['pred'] = y_feresnet_ordinals[i]\n",
      "/tmp/ipykernel_520957/1432230811.py:38: SettingWithCopyWarning: \n",
      "A value is trying to be set on a copy of a slice from a DataFrame.\n",
      "Try using .loc[row_indexer,col_indexer] = value instead\n",
      "\n",
      "See the caveats in the documentation: https://pandas.pydata.org/pandas-docs/stable/user_guide/indexing.html#returning-a-view-versus-a-copy\n",
      "  df_patient['pred'] = y_feresnet_ordinals[i]\n",
      "/tmp/ipykernel_520957/1432230811.py:38: SettingWithCopyWarning: \n",
      "A value is trying to be set on a copy of a slice from a DataFrame.\n",
      "Try using .loc[row_indexer,col_indexer] = value instead\n",
      "\n",
      "See the caveats in the documentation: https://pandas.pydata.org/pandas-docs/stable/user_guide/indexing.html#returning-a-view-versus-a-copy\n",
      "  df_patient['pred'] = y_feresnet_ordinals[i]\n",
      "/tmp/ipykernel_520957/1432230811.py:38: SettingWithCopyWarning: \n",
      "A value is trying to be set on a copy of a slice from a DataFrame.\n",
      "Try using .loc[row_indexer,col_indexer] = value instead\n",
      "\n",
      "See the caveats in the documentation: https://pandas.pydata.org/pandas-docs/stable/user_guide/indexing.html#returning-a-view-versus-a-copy\n",
      "  df_patient['pred'] = y_feresnet_ordinals[i]\n",
      "/tmp/ipykernel_520957/1432230811.py:38: SettingWithCopyWarning: \n",
      "A value is trying to be set on a copy of a slice from a DataFrame.\n",
      "Try using .loc[row_indexer,col_indexer] = value instead\n",
      "\n",
      "See the caveats in the documentation: https://pandas.pydata.org/pandas-docs/stable/user_guide/indexing.html#returning-a-view-versus-a-copy\n",
      "  df_patient['pred'] = y_feresnet_ordinals[i]\n",
      "/tmp/ipykernel_520957/1432230811.py:38: SettingWithCopyWarning: \n",
      "A value is trying to be set on a copy of a slice from a DataFrame.\n",
      "Try using .loc[row_indexer,col_indexer] = value instead\n",
      "\n",
      "See the caveats in the documentation: https://pandas.pydata.org/pandas-docs/stable/user_guide/indexing.html#returning-a-view-versus-a-copy\n",
      "  df_patient['pred'] = y_feresnet_ordinals[i]\n",
      "/tmp/ipykernel_520957/1432230811.py:38: SettingWithCopyWarning: \n",
      "A value is trying to be set on a copy of a slice from a DataFrame.\n",
      "Try using .loc[row_indexer,col_indexer] = value instead\n",
      "\n",
      "See the caveats in the documentation: https://pandas.pydata.org/pandas-docs/stable/user_guide/indexing.html#returning-a-view-versus-a-copy\n",
      "  df_patient['pred'] = y_feresnet_ordinals[i]\n",
      "/tmp/ipykernel_520957/1432230811.py:38: SettingWithCopyWarning: \n",
      "A value is trying to be set on a copy of a slice from a DataFrame.\n",
      "Try using .loc[row_indexer,col_indexer] = value instead\n",
      "\n",
      "See the caveats in the documentation: https://pandas.pydata.org/pandas-docs/stable/user_guide/indexing.html#returning-a-view-versus-a-copy\n",
      "  df_patient['pred'] = y_feresnet_ordinals[i]\n",
      "/tmp/ipykernel_520957/1432230811.py:38: SettingWithCopyWarning: \n",
      "A value is trying to be set on a copy of a slice from a DataFrame.\n",
      "Try using .loc[row_indexer,col_indexer] = value instead\n",
      "\n",
      "See the caveats in the documentation: https://pandas.pydata.org/pandas-docs/stable/user_guide/indexing.html#returning-a-view-versus-a-copy\n",
      "  df_patient['pred'] = y_feresnet_ordinals[i]\n",
      "/tmp/ipykernel_520957/1432230811.py:38: SettingWithCopyWarning: \n",
      "A value is trying to be set on a copy of a slice from a DataFrame.\n",
      "Try using .loc[row_indexer,col_indexer] = value instead\n",
      "\n",
      "See the caveats in the documentation: https://pandas.pydata.org/pandas-docs/stable/user_guide/indexing.html#returning-a-view-versus-a-copy\n",
      "  df_patient['pred'] = y_feresnet_ordinals[i]\n",
      "/tmp/ipykernel_520957/1432230811.py:38: SettingWithCopyWarning: \n",
      "A value is trying to be set on a copy of a slice from a DataFrame.\n",
      "Try using .loc[row_indexer,col_indexer] = value instead\n",
      "\n",
      "See the caveats in the documentation: https://pandas.pydata.org/pandas-docs/stable/user_guide/indexing.html#returning-a-view-versus-a-copy\n",
      "  df_patient['pred'] = y_feresnet_ordinals[i]\n",
      "/tmp/ipykernel_520957/1432230811.py:38: SettingWithCopyWarning: \n",
      "A value is trying to be set on a copy of a slice from a DataFrame.\n",
      "Try using .loc[row_indexer,col_indexer] = value instead\n",
      "\n",
      "See the caveats in the documentation: https://pandas.pydata.org/pandas-docs/stable/user_guide/indexing.html#returning-a-view-versus-a-copy\n",
      "  df_patient['pred'] = y_feresnet_ordinals[i]\n",
      "/tmp/ipykernel_520957/1432230811.py:38: SettingWithCopyWarning: \n",
      "A value is trying to be set on a copy of a slice from a DataFrame.\n",
      "Try using .loc[row_indexer,col_indexer] = value instead\n",
      "\n",
      "See the caveats in the documentation: https://pandas.pydata.org/pandas-docs/stable/user_guide/indexing.html#returning-a-view-versus-a-copy\n",
      "  df_patient['pred'] = y_feresnet_ordinals[i]\n",
      "/tmp/ipykernel_520957/1432230811.py:38: SettingWithCopyWarning: \n",
      "A value is trying to be set on a copy of a slice from a DataFrame.\n",
      "Try using .loc[row_indexer,col_indexer] = value instead\n",
      "\n",
      "See the caveats in the documentation: https://pandas.pydata.org/pandas-docs/stable/user_guide/indexing.html#returning-a-view-versus-a-copy\n",
      "  df_patient['pred'] = y_feresnet_ordinals[i]\n",
      "/tmp/ipykernel_520957/1432230811.py:38: SettingWithCopyWarning: \n",
      "A value is trying to be set on a copy of a slice from a DataFrame.\n",
      "Try using .loc[row_indexer,col_indexer] = value instead\n",
      "\n",
      "See the caveats in the documentation: https://pandas.pydata.org/pandas-docs/stable/user_guide/indexing.html#returning-a-view-versus-a-copy\n",
      "  df_patient['pred'] = y_feresnet_ordinals[i]\n",
      "/tmp/ipykernel_520957/1432230811.py:38: SettingWithCopyWarning: \n",
      "A value is trying to be set on a copy of a slice from a DataFrame.\n",
      "Try using .loc[row_indexer,col_indexer] = value instead\n",
      "\n",
      "See the caveats in the documentation: https://pandas.pydata.org/pandas-docs/stable/user_guide/indexing.html#returning-a-view-versus-a-copy\n",
      "  df_patient['pred'] = y_feresnet_ordinals[i]\n",
      "/tmp/ipykernel_520957/1432230811.py:38: SettingWithCopyWarning: \n",
      "A value is trying to be set on a copy of a slice from a DataFrame.\n",
      "Try using .loc[row_indexer,col_indexer] = value instead\n",
      "\n",
      "See the caveats in the documentation: https://pandas.pydata.org/pandas-docs/stable/user_guide/indexing.html#returning-a-view-versus-a-copy\n",
      "  df_patient['pred'] = y_feresnet_ordinals[i]\n",
      "/tmp/ipykernel_520957/1432230811.py:38: SettingWithCopyWarning: \n",
      "A value is trying to be set on a copy of a slice from a DataFrame.\n",
      "Try using .loc[row_indexer,col_indexer] = value instead\n",
      "\n",
      "See the caveats in the documentation: https://pandas.pydata.org/pandas-docs/stable/user_guide/indexing.html#returning-a-view-versus-a-copy\n",
      "  df_patient['pred'] = y_feresnet_ordinals[i]\n",
      "/tmp/ipykernel_520957/1432230811.py:38: SettingWithCopyWarning: \n",
      "A value is trying to be set on a copy of a slice from a DataFrame.\n",
      "Try using .loc[row_indexer,col_indexer] = value instead\n",
      "\n",
      "See the caveats in the documentation: https://pandas.pydata.org/pandas-docs/stable/user_guide/indexing.html#returning-a-view-versus-a-copy\n",
      "  df_patient['pred'] = y_feresnet_ordinals[i]\n",
      "/tmp/ipykernel_520957/1432230811.py:38: SettingWithCopyWarning: \n",
      "A value is trying to be set on a copy of a slice from a DataFrame.\n",
      "Try using .loc[row_indexer,col_indexer] = value instead\n",
      "\n",
      "See the caveats in the documentation: https://pandas.pydata.org/pandas-docs/stable/user_guide/indexing.html#returning-a-view-versus-a-copy\n",
      "  df_patient['pred'] = y_feresnet_ordinals[i]\n",
      "/tmp/ipykernel_520957/1432230811.py:38: SettingWithCopyWarning: \n",
      "A value is trying to be set on a copy of a slice from a DataFrame.\n",
      "Try using .loc[row_indexer,col_indexer] = value instead\n",
      "\n",
      "See the caveats in the documentation: https://pandas.pydata.org/pandas-docs/stable/user_guide/indexing.html#returning-a-view-versus-a-copy\n",
      "  df_patient['pred'] = y_feresnet_ordinals[i]\n",
      "/tmp/ipykernel_520957/1432230811.py:38: SettingWithCopyWarning: \n",
      "A value is trying to be set on a copy of a slice from a DataFrame.\n",
      "Try using .loc[row_indexer,col_indexer] = value instead\n",
      "\n",
      "See the caveats in the documentation: https://pandas.pydata.org/pandas-docs/stable/user_guide/indexing.html#returning-a-view-versus-a-copy\n",
      "  df_patient['pred'] = y_feresnet_ordinals[i]\n",
      "/tmp/ipykernel_520957/1432230811.py:38: SettingWithCopyWarning: \n",
      "A value is trying to be set on a copy of a slice from a DataFrame.\n",
      "Try using .loc[row_indexer,col_indexer] = value instead\n",
      "\n",
      "See the caveats in the documentation: https://pandas.pydata.org/pandas-docs/stable/user_guide/indexing.html#returning-a-view-versus-a-copy\n",
      "  df_patient['pred'] = y_feresnet_ordinals[i]\n",
      "/tmp/ipykernel_520957/1432230811.py:38: SettingWithCopyWarning: \n",
      "A value is trying to be set on a copy of a slice from a DataFrame.\n",
      "Try using .loc[row_indexer,col_indexer] = value instead\n",
      "\n",
      "See the caveats in the documentation: https://pandas.pydata.org/pandas-docs/stable/user_guide/indexing.html#returning-a-view-versus-a-copy\n",
      "  df_patient['pred'] = y_feresnet_ordinals[i]\n",
      "/tmp/ipykernel_520957/1432230811.py:38: SettingWithCopyWarning: \n",
      "A value is trying to be set on a copy of a slice from a DataFrame.\n",
      "Try using .loc[row_indexer,col_indexer] = value instead\n",
      "\n",
      "See the caveats in the documentation: https://pandas.pydata.org/pandas-docs/stable/user_guide/indexing.html#returning-a-view-versus-a-copy\n",
      "  df_patient['pred'] = y_feresnet_ordinals[i]\n",
      "/tmp/ipykernel_520957/1432230811.py:38: SettingWithCopyWarning: \n",
      "A value is trying to be set on a copy of a slice from a DataFrame.\n",
      "Try using .loc[row_indexer,col_indexer] = value instead\n",
      "\n",
      "See the caveats in the documentation: https://pandas.pydata.org/pandas-docs/stable/user_guide/indexing.html#returning-a-view-versus-a-copy\n",
      "  df_patient['pred'] = y_feresnet_ordinals[i]\n",
      "/tmp/ipykernel_520957/1432230811.py:38: SettingWithCopyWarning: \n",
      "A value is trying to be set on a copy of a slice from a DataFrame.\n",
      "Try using .loc[row_indexer,col_indexer] = value instead\n",
      "\n",
      "See the caveats in the documentation: https://pandas.pydata.org/pandas-docs/stable/user_guide/indexing.html#returning-a-view-versus-a-copy\n",
      "  df_patient['pred'] = y_feresnet_ordinals[i]\n",
      "/tmp/ipykernel_520957/1432230811.py:38: SettingWithCopyWarning: \n",
      "A value is trying to be set on a copy of a slice from a DataFrame.\n",
      "Try using .loc[row_indexer,col_indexer] = value instead\n",
      "\n",
      "See the caveats in the documentation: https://pandas.pydata.org/pandas-docs/stable/user_guide/indexing.html#returning-a-view-versus-a-copy\n",
      "  df_patient['pred'] = y_feresnet_ordinals[i]\n",
      "/tmp/ipykernel_520957/1432230811.py:38: SettingWithCopyWarning: \n",
      "A value is trying to be set on a copy of a slice from a DataFrame.\n",
      "Try using .loc[row_indexer,col_indexer] = value instead\n",
      "\n",
      "See the caveats in the documentation: https://pandas.pydata.org/pandas-docs/stable/user_guide/indexing.html#returning-a-view-versus-a-copy\n",
      "  df_patient['pred'] = y_feresnet_ordinals[i]\n",
      "/tmp/ipykernel_520957/1432230811.py:38: SettingWithCopyWarning: \n",
      "A value is trying to be set on a copy of a slice from a DataFrame.\n",
      "Try using .loc[row_indexer,col_indexer] = value instead\n",
      "\n",
      "See the caveats in the documentation: https://pandas.pydata.org/pandas-docs/stable/user_guide/indexing.html#returning-a-view-versus-a-copy\n",
      "  df_patient['pred'] = y_feresnet_ordinals[i]\n"
     ]
    }
   ],
   "source": [
    "def compute_eggim_patient(patient_df, target_variable):\n",
    "    df = patient_df[['landmark', target_variable]].value_counts()\n",
    "\n",
    "    # Assume first landmark/score pair is correct\n",
    "    eggim_antrum_incisura = (\n",
    "        df['proximal ant lc'].index[0] +\n",
    "        df['proximal ant gc/pw'].index[0] +\n",
    "        df['incisura r'].index[0]\n",
    "    )\n",
    "\n",
    "    # Compute eggim_body_1\n",
    "    body_1_values = []\n",
    "    if 'distal body' in df:\n",
    "        body_1_values.append(df['distal body'].index[0])\n",
    "    if 'upper body ant' in df:\n",
    "        body_1_values.append(df['upper body ant'].index[0])\n",
    "\n",
    "    if body_1_values:\n",
    "        eggim_body_1 = sum(body_1_values) / len(body_1_values)\n",
    "\n",
    "    # Compute eggim_body_2\n",
    "    body_2_values = []\n",
    "    if 'distal lc' in df:\n",
    "        body_2_values.append(df['distal lc'].index[0])\n",
    "    if 'upper body r' in df:\n",
    "        body_2_values.append(df['upper body r'].index[0])\n",
    "\n",
    "    if body_2_values:\n",
    "        eggim_body_2 = sum(body_2_values) / len(body_2_values)\n",
    "\n",
    "    return eggim_antrum_incisura + eggim_body_1 + eggim_body_2\n",
    "\n",
    "eggim_scores = {}\n",
    "patients_dfs = []\n",
    "print(\"FE_RESNET\")\n",
    "for i, patient_id in enumerate(patient_ids):\n",
    "    df_patient = df_togas[df_togas['patient_id'] == patient_id]\n",
    "    df_patient['pred'] = y_feresnet_ordinals[i]\n",
    "    patients_dfs.append(df_patient)\n",
    "    eggim_square = compute_eggim_patient(df_patient,\n",
    "                                          target_variable='eggim_square')\n",
    "    eggim_global = compute_eggim_patient(df_patient,\n",
    "                                  target_variable='eggim_global')\n",
    "    eggim_pred = compute_eggim_patient(df_patient,\n",
    "                                  target_variable='pred')\n",
    "    eggim_scores[patient_ids[i]] = {'eggim_square': eggim_square, 'eggim_global': eggim_global,\n",
    "                                    'eggim_pred': eggim_pred}\n",
    "eggim_df = pd.DataFrame(eggim_scores).T"
   ],
   "metadata": {
    "collapsed": false
   }
  },
  {
   "cell_type": "code",
   "execution_count": 67,
   "outputs": [],
   "source": [
    "patients_dfs = pd.concat(patients_dfs)\n",
    "patients_dfs.to_csv('fe_scores.csv')\n",
    "eggim_df.to_csv(\"fe_eggim_revised.csv\")"
   ],
   "metadata": {
    "collapsed": false
   }
  },
  {
   "cell_type": "code",
   "execution_count": 67,
   "outputs": [],
   "source": [],
   "metadata": {
    "collapsed": false
   }
  },
  {
   "cell_type": "code",
   "execution_count": null,
   "outputs": [],
   "source": [],
   "metadata": {
    "collapsed": false
   }
  },
  {
   "cell_type": "code",
   "execution_count": 68,
   "outputs": [
    {
     "name": "stdout",
     "output_type": "stream",
     "text": [
      "8\n"
     ]
    },
    {
     "data": {
      "text/plain": "(0.6153846153846154, 0.9423076923076923, 0.8769230769230769)"
     },
     "execution_count": 68,
     "metadata": {},
     "output_type": "execute_result"
    }
   ],
   "source": [
    "from sklearn.metrics import confusion_matrix\n",
    "# Function to calculate sensitivity and specificity\n",
    "def calculate_eggim_metrics(y_true, y_pred):\n",
    "    tn, fp, fn, tp = confusion_matrix(y_true, y_pred).ravel()\n",
    "    sensitivity = tp / (tp + fn) if (tp + fn) > 0 else 0.0\n",
    "    specificity = tn / (tn + fp) if (tn + fp) > 0 else 0.0\n",
    "    accuracy = (tp + tn) / (tp + tn + fp + fn)  if (tp + tn + fp + fn) > 0 else 0.0\n",
    "    return sensitivity, specificity, accuracy\n",
    "\n",
    "cutoff = 5\n",
    "y = np.array([1 if eggim >= cutoff else 0 for eggim in eggim_df['eggim_square'].values])\n",
    "y_pred = np.array([1 if eggim >= cutoff else 0 for eggim in eggim_df['eggim_pred'].values])\n",
    "\n",
    "print(np.sum(y != y_pred))\n",
    "\n",
    "calculate_eggim_metrics(np.array([1 if eggim >= cutoff else 0 for eggim in eggim_df['eggim_square'].values]),\n",
    "                                  np.array([1 if eggim >= cutoff else 0 for eggim in eggim_df['eggim_pred'].values]))"
   ],
   "metadata": {
    "collapsed": false
   }
  },
  {
   "cell_type": "code",
   "execution_count": 69,
   "outputs": [
    {
     "name": "stderr",
     "output_type": "stream",
     "text": [
      "/tmp/ipykernel_520957/1310737740.py:5: SettingWithCopyWarning: \n",
      "A value is trying to be set on a copy of a slice from a DataFrame.\n",
      "Try using .loc[row_indexer,col_indexer] = value instead\n",
      "\n",
      "See the caveats in the documentation: https://pandas.pydata.org/pandas-docs/stable/user_guide/indexing.html#returning-a-view-versus-a-copy\n",
      "  df_patient['pred'] = y_baseline_ordinals[i]\n",
      "/tmp/ipykernel_520957/1310737740.py:5: SettingWithCopyWarning: \n",
      "A value is trying to be set on a copy of a slice from a DataFrame.\n",
      "Try using .loc[row_indexer,col_indexer] = value instead\n",
      "\n",
      "See the caveats in the documentation: https://pandas.pydata.org/pandas-docs/stable/user_guide/indexing.html#returning-a-view-versus-a-copy\n",
      "  df_patient['pred'] = y_baseline_ordinals[i]\n",
      "/tmp/ipykernel_520957/1310737740.py:5: SettingWithCopyWarning: \n",
      "A value is trying to be set on a copy of a slice from a DataFrame.\n",
      "Try using .loc[row_indexer,col_indexer] = value instead\n",
      "\n",
      "See the caveats in the documentation: https://pandas.pydata.org/pandas-docs/stable/user_guide/indexing.html#returning-a-view-versus-a-copy\n",
      "  df_patient['pred'] = y_baseline_ordinals[i]\n",
      "/tmp/ipykernel_520957/1310737740.py:5: SettingWithCopyWarning: \n",
      "A value is trying to be set on a copy of a slice from a DataFrame.\n",
      "Try using .loc[row_indexer,col_indexer] = value instead\n",
      "\n",
      "See the caveats in the documentation: https://pandas.pydata.org/pandas-docs/stable/user_guide/indexing.html#returning-a-view-versus-a-copy\n",
      "  df_patient['pred'] = y_baseline_ordinals[i]\n",
      "/tmp/ipykernel_520957/1310737740.py:5: SettingWithCopyWarning: \n",
      "A value is trying to be set on a copy of a slice from a DataFrame.\n",
      "Try using .loc[row_indexer,col_indexer] = value instead\n",
      "\n",
      "See the caveats in the documentation: https://pandas.pydata.org/pandas-docs/stable/user_guide/indexing.html#returning-a-view-versus-a-copy\n",
      "  df_patient['pred'] = y_baseline_ordinals[i]\n",
      "/tmp/ipykernel_520957/1310737740.py:5: SettingWithCopyWarning: \n",
      "A value is trying to be set on a copy of a slice from a DataFrame.\n",
      "Try using .loc[row_indexer,col_indexer] = value instead\n",
      "\n",
      "See the caveats in the documentation: https://pandas.pydata.org/pandas-docs/stable/user_guide/indexing.html#returning-a-view-versus-a-copy\n",
      "  df_patient['pred'] = y_baseline_ordinals[i]\n",
      "/tmp/ipykernel_520957/1310737740.py:5: SettingWithCopyWarning: \n",
      "A value is trying to be set on a copy of a slice from a DataFrame.\n",
      "Try using .loc[row_indexer,col_indexer] = value instead\n",
      "\n",
      "See the caveats in the documentation: https://pandas.pydata.org/pandas-docs/stable/user_guide/indexing.html#returning-a-view-versus-a-copy\n",
      "  df_patient['pred'] = y_baseline_ordinals[i]\n",
      "/tmp/ipykernel_520957/1310737740.py:5: SettingWithCopyWarning: \n",
      "A value is trying to be set on a copy of a slice from a DataFrame.\n",
      "Try using .loc[row_indexer,col_indexer] = value instead\n",
      "\n",
      "See the caveats in the documentation: https://pandas.pydata.org/pandas-docs/stable/user_guide/indexing.html#returning-a-view-versus-a-copy\n",
      "  df_patient['pred'] = y_baseline_ordinals[i]\n",
      "/tmp/ipykernel_520957/1310737740.py:5: SettingWithCopyWarning: \n",
      "A value is trying to be set on a copy of a slice from a DataFrame.\n",
      "Try using .loc[row_indexer,col_indexer] = value instead\n",
      "\n",
      "See the caveats in the documentation: https://pandas.pydata.org/pandas-docs/stable/user_guide/indexing.html#returning-a-view-versus-a-copy\n",
      "  df_patient['pred'] = y_baseline_ordinals[i]\n",
      "/tmp/ipykernel_520957/1310737740.py:5: SettingWithCopyWarning: \n",
      "A value is trying to be set on a copy of a slice from a DataFrame.\n",
      "Try using .loc[row_indexer,col_indexer] = value instead\n",
      "\n",
      "See the caveats in the documentation: https://pandas.pydata.org/pandas-docs/stable/user_guide/indexing.html#returning-a-view-versus-a-copy\n",
      "  df_patient['pred'] = y_baseline_ordinals[i]\n",
      "/tmp/ipykernel_520957/1310737740.py:5: SettingWithCopyWarning: \n",
      "A value is trying to be set on a copy of a slice from a DataFrame.\n",
      "Try using .loc[row_indexer,col_indexer] = value instead\n",
      "\n",
      "See the caveats in the documentation: https://pandas.pydata.org/pandas-docs/stable/user_guide/indexing.html#returning-a-view-versus-a-copy\n",
      "  df_patient['pred'] = y_baseline_ordinals[i]\n",
      "/tmp/ipykernel_520957/1310737740.py:5: SettingWithCopyWarning: \n",
      "A value is trying to be set on a copy of a slice from a DataFrame.\n",
      "Try using .loc[row_indexer,col_indexer] = value instead\n",
      "\n",
      "See the caveats in the documentation: https://pandas.pydata.org/pandas-docs/stable/user_guide/indexing.html#returning-a-view-versus-a-copy\n",
      "  df_patient['pred'] = y_baseline_ordinals[i]\n",
      "/tmp/ipykernel_520957/1310737740.py:5: SettingWithCopyWarning: \n",
      "A value is trying to be set on a copy of a slice from a DataFrame.\n",
      "Try using .loc[row_indexer,col_indexer] = value instead\n",
      "\n",
      "See the caveats in the documentation: https://pandas.pydata.org/pandas-docs/stable/user_guide/indexing.html#returning-a-view-versus-a-copy\n",
      "  df_patient['pred'] = y_baseline_ordinals[i]\n",
      "/tmp/ipykernel_520957/1310737740.py:5: SettingWithCopyWarning: \n",
      "A value is trying to be set on a copy of a slice from a DataFrame.\n",
      "Try using .loc[row_indexer,col_indexer] = value instead\n",
      "\n",
      "See the caveats in the documentation: https://pandas.pydata.org/pandas-docs/stable/user_guide/indexing.html#returning-a-view-versus-a-copy\n",
      "  df_patient['pred'] = y_baseline_ordinals[i]\n",
      "/tmp/ipykernel_520957/1310737740.py:5: SettingWithCopyWarning: \n",
      "A value is trying to be set on a copy of a slice from a DataFrame.\n",
      "Try using .loc[row_indexer,col_indexer] = value instead\n",
      "\n",
      "See the caveats in the documentation: https://pandas.pydata.org/pandas-docs/stable/user_guide/indexing.html#returning-a-view-versus-a-copy\n",
      "  df_patient['pred'] = y_baseline_ordinals[i]\n",
      "/tmp/ipykernel_520957/1310737740.py:5: SettingWithCopyWarning: \n",
      "A value is trying to be set on a copy of a slice from a DataFrame.\n",
      "Try using .loc[row_indexer,col_indexer] = value instead\n",
      "\n",
      "See the caveats in the documentation: https://pandas.pydata.org/pandas-docs/stable/user_guide/indexing.html#returning-a-view-versus-a-copy\n",
      "  df_patient['pred'] = y_baseline_ordinals[i]\n",
      "/tmp/ipykernel_520957/1310737740.py:5: SettingWithCopyWarning: \n",
      "A value is trying to be set on a copy of a slice from a DataFrame.\n",
      "Try using .loc[row_indexer,col_indexer] = value instead\n",
      "\n",
      "See the caveats in the documentation: https://pandas.pydata.org/pandas-docs/stable/user_guide/indexing.html#returning-a-view-versus-a-copy\n",
      "  df_patient['pred'] = y_baseline_ordinals[i]\n",
      "/tmp/ipykernel_520957/1310737740.py:5: SettingWithCopyWarning: \n",
      "A value is trying to be set on a copy of a slice from a DataFrame.\n",
      "Try using .loc[row_indexer,col_indexer] = value instead\n",
      "\n",
      "See the caveats in the documentation: https://pandas.pydata.org/pandas-docs/stable/user_guide/indexing.html#returning-a-view-versus-a-copy\n",
      "  df_patient['pred'] = y_baseline_ordinals[i]\n",
      "/tmp/ipykernel_520957/1310737740.py:5: SettingWithCopyWarning: \n",
      "A value is trying to be set on a copy of a slice from a DataFrame.\n",
      "Try using .loc[row_indexer,col_indexer] = value instead\n",
      "\n",
      "See the caveats in the documentation: https://pandas.pydata.org/pandas-docs/stable/user_guide/indexing.html#returning-a-view-versus-a-copy\n",
      "  df_patient['pred'] = y_baseline_ordinals[i]\n",
      "/tmp/ipykernel_520957/1310737740.py:5: SettingWithCopyWarning: \n",
      "A value is trying to be set on a copy of a slice from a DataFrame.\n",
      "Try using .loc[row_indexer,col_indexer] = value instead\n",
      "\n",
      "See the caveats in the documentation: https://pandas.pydata.org/pandas-docs/stable/user_guide/indexing.html#returning-a-view-versus-a-copy\n",
      "  df_patient['pred'] = y_baseline_ordinals[i]\n",
      "/tmp/ipykernel_520957/1310737740.py:5: SettingWithCopyWarning: \n",
      "A value is trying to be set on a copy of a slice from a DataFrame.\n",
      "Try using .loc[row_indexer,col_indexer] = value instead\n",
      "\n",
      "See the caveats in the documentation: https://pandas.pydata.org/pandas-docs/stable/user_guide/indexing.html#returning-a-view-versus-a-copy\n",
      "  df_patient['pred'] = y_baseline_ordinals[i]\n",
      "/tmp/ipykernel_520957/1310737740.py:5: SettingWithCopyWarning: \n",
      "A value is trying to be set on a copy of a slice from a DataFrame.\n",
      "Try using .loc[row_indexer,col_indexer] = value instead\n",
      "\n",
      "See the caveats in the documentation: https://pandas.pydata.org/pandas-docs/stable/user_guide/indexing.html#returning-a-view-versus-a-copy\n",
      "  df_patient['pred'] = y_baseline_ordinals[i]\n",
      "/tmp/ipykernel_520957/1310737740.py:5: SettingWithCopyWarning: \n",
      "A value is trying to be set on a copy of a slice from a DataFrame.\n",
      "Try using .loc[row_indexer,col_indexer] = value instead\n",
      "\n",
      "See the caveats in the documentation: https://pandas.pydata.org/pandas-docs/stable/user_guide/indexing.html#returning-a-view-versus-a-copy\n",
      "  df_patient['pred'] = y_baseline_ordinals[i]\n",
      "/tmp/ipykernel_520957/1310737740.py:5: SettingWithCopyWarning: \n",
      "A value is trying to be set on a copy of a slice from a DataFrame.\n",
      "Try using .loc[row_indexer,col_indexer] = value instead\n",
      "\n",
      "See the caveats in the documentation: https://pandas.pydata.org/pandas-docs/stable/user_guide/indexing.html#returning-a-view-versus-a-copy\n",
      "  df_patient['pred'] = y_baseline_ordinals[i]\n",
      "/tmp/ipykernel_520957/1310737740.py:5: SettingWithCopyWarning: \n",
      "A value is trying to be set on a copy of a slice from a DataFrame.\n",
      "Try using .loc[row_indexer,col_indexer] = value instead\n",
      "\n",
      "See the caveats in the documentation: https://pandas.pydata.org/pandas-docs/stable/user_guide/indexing.html#returning-a-view-versus-a-copy\n",
      "  df_patient['pred'] = y_baseline_ordinals[i]\n",
      "/tmp/ipykernel_520957/1310737740.py:5: SettingWithCopyWarning: \n",
      "A value is trying to be set on a copy of a slice from a DataFrame.\n",
      "Try using .loc[row_indexer,col_indexer] = value instead\n",
      "\n",
      "See the caveats in the documentation: https://pandas.pydata.org/pandas-docs/stable/user_guide/indexing.html#returning-a-view-versus-a-copy\n",
      "  df_patient['pred'] = y_baseline_ordinals[i]\n",
      "/tmp/ipykernel_520957/1310737740.py:5: SettingWithCopyWarning: \n",
      "A value is trying to be set on a copy of a slice from a DataFrame.\n",
      "Try using .loc[row_indexer,col_indexer] = value instead\n",
      "\n",
      "See the caveats in the documentation: https://pandas.pydata.org/pandas-docs/stable/user_guide/indexing.html#returning-a-view-versus-a-copy\n",
      "  df_patient['pred'] = y_baseline_ordinals[i]\n",
      "/tmp/ipykernel_520957/1310737740.py:5: SettingWithCopyWarning: \n",
      "A value is trying to be set on a copy of a slice from a DataFrame.\n",
      "Try using .loc[row_indexer,col_indexer] = value instead\n",
      "\n",
      "See the caveats in the documentation: https://pandas.pydata.org/pandas-docs/stable/user_guide/indexing.html#returning-a-view-versus-a-copy\n",
      "  df_patient['pred'] = y_baseline_ordinals[i]\n",
      "/tmp/ipykernel_520957/1310737740.py:5: SettingWithCopyWarning: \n",
      "A value is trying to be set on a copy of a slice from a DataFrame.\n",
      "Try using .loc[row_indexer,col_indexer] = value instead\n",
      "\n",
      "See the caveats in the documentation: https://pandas.pydata.org/pandas-docs/stable/user_guide/indexing.html#returning-a-view-versus-a-copy\n",
      "  df_patient['pred'] = y_baseline_ordinals[i]\n",
      "/tmp/ipykernel_520957/1310737740.py:5: SettingWithCopyWarning: \n",
      "A value is trying to be set on a copy of a slice from a DataFrame.\n",
      "Try using .loc[row_indexer,col_indexer] = value instead\n",
      "\n",
      "See the caveats in the documentation: https://pandas.pydata.org/pandas-docs/stable/user_guide/indexing.html#returning-a-view-versus-a-copy\n",
      "  df_patient['pred'] = y_baseline_ordinals[i]\n",
      "/tmp/ipykernel_520957/1310737740.py:5: SettingWithCopyWarning: \n",
      "A value is trying to be set on a copy of a slice from a DataFrame.\n",
      "Try using .loc[row_indexer,col_indexer] = value instead\n",
      "\n",
      "See the caveats in the documentation: https://pandas.pydata.org/pandas-docs/stable/user_guide/indexing.html#returning-a-view-versus-a-copy\n",
      "  df_patient['pred'] = y_baseline_ordinals[i]\n",
      "/tmp/ipykernel_520957/1310737740.py:5: SettingWithCopyWarning: \n",
      "A value is trying to be set on a copy of a slice from a DataFrame.\n",
      "Try using .loc[row_indexer,col_indexer] = value instead\n",
      "\n",
      "See the caveats in the documentation: https://pandas.pydata.org/pandas-docs/stable/user_guide/indexing.html#returning-a-view-versus-a-copy\n",
      "  df_patient['pred'] = y_baseline_ordinals[i]\n",
      "/tmp/ipykernel_520957/1310737740.py:5: SettingWithCopyWarning: \n",
      "A value is trying to be set on a copy of a slice from a DataFrame.\n",
      "Try using .loc[row_indexer,col_indexer] = value instead\n",
      "\n",
      "See the caveats in the documentation: https://pandas.pydata.org/pandas-docs/stable/user_guide/indexing.html#returning-a-view-versus-a-copy\n",
      "  df_patient['pred'] = y_baseline_ordinals[i]\n",
      "/tmp/ipykernel_520957/1310737740.py:5: SettingWithCopyWarning: \n",
      "A value is trying to be set on a copy of a slice from a DataFrame.\n",
      "Try using .loc[row_indexer,col_indexer] = value instead\n",
      "\n",
      "See the caveats in the documentation: https://pandas.pydata.org/pandas-docs/stable/user_guide/indexing.html#returning-a-view-versus-a-copy\n",
      "  df_patient['pred'] = y_baseline_ordinals[i]\n",
      "/tmp/ipykernel_520957/1310737740.py:5: SettingWithCopyWarning: \n",
      "A value is trying to be set on a copy of a slice from a DataFrame.\n",
      "Try using .loc[row_indexer,col_indexer] = value instead\n",
      "\n",
      "See the caveats in the documentation: https://pandas.pydata.org/pandas-docs/stable/user_guide/indexing.html#returning-a-view-versus-a-copy\n",
      "  df_patient['pred'] = y_baseline_ordinals[i]\n",
      "/tmp/ipykernel_520957/1310737740.py:5: SettingWithCopyWarning: \n",
      "A value is trying to be set on a copy of a slice from a DataFrame.\n",
      "Try using .loc[row_indexer,col_indexer] = value instead\n",
      "\n",
      "See the caveats in the documentation: https://pandas.pydata.org/pandas-docs/stable/user_guide/indexing.html#returning-a-view-versus-a-copy\n",
      "  df_patient['pred'] = y_baseline_ordinals[i]\n",
      "/tmp/ipykernel_520957/1310737740.py:5: SettingWithCopyWarning: \n",
      "A value is trying to be set on a copy of a slice from a DataFrame.\n",
      "Try using .loc[row_indexer,col_indexer] = value instead\n",
      "\n",
      "See the caveats in the documentation: https://pandas.pydata.org/pandas-docs/stable/user_guide/indexing.html#returning-a-view-versus-a-copy\n",
      "  df_patient['pred'] = y_baseline_ordinals[i]\n",
      "/tmp/ipykernel_520957/1310737740.py:5: SettingWithCopyWarning: \n",
      "A value is trying to be set on a copy of a slice from a DataFrame.\n",
      "Try using .loc[row_indexer,col_indexer] = value instead\n",
      "\n",
      "See the caveats in the documentation: https://pandas.pydata.org/pandas-docs/stable/user_guide/indexing.html#returning-a-view-versus-a-copy\n",
      "  df_patient['pred'] = y_baseline_ordinals[i]\n",
      "/tmp/ipykernel_520957/1310737740.py:5: SettingWithCopyWarning: \n",
      "A value is trying to be set on a copy of a slice from a DataFrame.\n",
      "Try using .loc[row_indexer,col_indexer] = value instead\n",
      "\n",
      "See the caveats in the documentation: https://pandas.pydata.org/pandas-docs/stable/user_guide/indexing.html#returning-a-view-versus-a-copy\n",
      "  df_patient['pred'] = y_baseline_ordinals[i]\n",
      "/tmp/ipykernel_520957/1310737740.py:5: SettingWithCopyWarning: \n",
      "A value is trying to be set on a copy of a slice from a DataFrame.\n",
      "Try using .loc[row_indexer,col_indexer] = value instead\n",
      "\n",
      "See the caveats in the documentation: https://pandas.pydata.org/pandas-docs/stable/user_guide/indexing.html#returning-a-view-versus-a-copy\n",
      "  df_patient['pred'] = y_baseline_ordinals[i]\n",
      "/tmp/ipykernel_520957/1310737740.py:5: SettingWithCopyWarning: \n",
      "A value is trying to be set on a copy of a slice from a DataFrame.\n",
      "Try using .loc[row_indexer,col_indexer] = value instead\n",
      "\n",
      "See the caveats in the documentation: https://pandas.pydata.org/pandas-docs/stable/user_guide/indexing.html#returning-a-view-versus-a-copy\n",
      "  df_patient['pred'] = y_baseline_ordinals[i]\n",
      "/tmp/ipykernel_520957/1310737740.py:5: SettingWithCopyWarning: \n",
      "A value is trying to be set on a copy of a slice from a DataFrame.\n",
      "Try using .loc[row_indexer,col_indexer] = value instead\n",
      "\n",
      "See the caveats in the documentation: https://pandas.pydata.org/pandas-docs/stable/user_guide/indexing.html#returning-a-view-versus-a-copy\n",
      "  df_patient['pred'] = y_baseline_ordinals[i]\n",
      "/tmp/ipykernel_520957/1310737740.py:5: SettingWithCopyWarning: \n",
      "A value is trying to be set on a copy of a slice from a DataFrame.\n",
      "Try using .loc[row_indexer,col_indexer] = value instead\n",
      "\n",
      "See the caveats in the documentation: https://pandas.pydata.org/pandas-docs/stable/user_guide/indexing.html#returning-a-view-versus-a-copy\n",
      "  df_patient['pred'] = y_baseline_ordinals[i]\n",
      "/tmp/ipykernel_520957/1310737740.py:5: SettingWithCopyWarning: \n",
      "A value is trying to be set on a copy of a slice from a DataFrame.\n",
      "Try using .loc[row_indexer,col_indexer] = value instead\n",
      "\n",
      "See the caveats in the documentation: https://pandas.pydata.org/pandas-docs/stable/user_guide/indexing.html#returning-a-view-versus-a-copy\n",
      "  df_patient['pred'] = y_baseline_ordinals[i]\n",
      "/tmp/ipykernel_520957/1310737740.py:5: SettingWithCopyWarning: \n",
      "A value is trying to be set on a copy of a slice from a DataFrame.\n",
      "Try using .loc[row_indexer,col_indexer] = value instead\n",
      "\n",
      "See the caveats in the documentation: https://pandas.pydata.org/pandas-docs/stable/user_guide/indexing.html#returning-a-view-versus-a-copy\n",
      "  df_patient['pred'] = y_baseline_ordinals[i]\n",
      "/tmp/ipykernel_520957/1310737740.py:5: SettingWithCopyWarning: \n",
      "A value is trying to be set on a copy of a slice from a DataFrame.\n",
      "Try using .loc[row_indexer,col_indexer] = value instead\n",
      "\n",
      "See the caveats in the documentation: https://pandas.pydata.org/pandas-docs/stable/user_guide/indexing.html#returning-a-view-versus-a-copy\n",
      "  df_patient['pred'] = y_baseline_ordinals[i]\n",
      "/tmp/ipykernel_520957/1310737740.py:5: SettingWithCopyWarning: \n",
      "A value is trying to be set on a copy of a slice from a DataFrame.\n",
      "Try using .loc[row_indexer,col_indexer] = value instead\n",
      "\n",
      "See the caveats in the documentation: https://pandas.pydata.org/pandas-docs/stable/user_guide/indexing.html#returning-a-view-versus-a-copy\n",
      "  df_patient['pred'] = y_baseline_ordinals[i]\n",
      "/tmp/ipykernel_520957/1310737740.py:5: SettingWithCopyWarning: \n",
      "A value is trying to be set on a copy of a slice from a DataFrame.\n",
      "Try using .loc[row_indexer,col_indexer] = value instead\n",
      "\n",
      "See the caveats in the documentation: https://pandas.pydata.org/pandas-docs/stable/user_guide/indexing.html#returning-a-view-versus-a-copy\n",
      "  df_patient['pred'] = y_baseline_ordinals[i]\n",
      "/tmp/ipykernel_520957/1310737740.py:5: SettingWithCopyWarning: \n",
      "A value is trying to be set on a copy of a slice from a DataFrame.\n",
      "Try using .loc[row_indexer,col_indexer] = value instead\n",
      "\n",
      "See the caveats in the documentation: https://pandas.pydata.org/pandas-docs/stable/user_guide/indexing.html#returning-a-view-versus-a-copy\n",
      "  df_patient['pred'] = y_baseline_ordinals[i]\n",
      "/tmp/ipykernel_520957/1310737740.py:5: SettingWithCopyWarning: \n",
      "A value is trying to be set on a copy of a slice from a DataFrame.\n",
      "Try using .loc[row_indexer,col_indexer] = value instead\n",
      "\n",
      "See the caveats in the documentation: https://pandas.pydata.org/pandas-docs/stable/user_guide/indexing.html#returning-a-view-versus-a-copy\n",
      "  df_patient['pred'] = y_baseline_ordinals[i]\n",
      "/tmp/ipykernel_520957/1310737740.py:5: SettingWithCopyWarning: \n",
      "A value is trying to be set on a copy of a slice from a DataFrame.\n",
      "Try using .loc[row_indexer,col_indexer] = value instead\n",
      "\n",
      "See the caveats in the documentation: https://pandas.pydata.org/pandas-docs/stable/user_guide/indexing.html#returning-a-view-versus-a-copy\n",
      "  df_patient['pred'] = y_baseline_ordinals[i]\n",
      "/tmp/ipykernel_520957/1310737740.py:5: SettingWithCopyWarning: \n",
      "A value is trying to be set on a copy of a slice from a DataFrame.\n",
      "Try using .loc[row_indexer,col_indexer] = value instead\n",
      "\n",
      "See the caveats in the documentation: https://pandas.pydata.org/pandas-docs/stable/user_guide/indexing.html#returning-a-view-versus-a-copy\n",
      "  df_patient['pred'] = y_baseline_ordinals[i]\n",
      "/tmp/ipykernel_520957/1310737740.py:5: SettingWithCopyWarning: \n",
      "A value is trying to be set on a copy of a slice from a DataFrame.\n",
      "Try using .loc[row_indexer,col_indexer] = value instead\n",
      "\n",
      "See the caveats in the documentation: https://pandas.pydata.org/pandas-docs/stable/user_guide/indexing.html#returning-a-view-versus-a-copy\n",
      "  df_patient['pred'] = y_baseline_ordinals[i]\n",
      "/tmp/ipykernel_520957/1310737740.py:5: SettingWithCopyWarning: \n",
      "A value is trying to be set on a copy of a slice from a DataFrame.\n",
      "Try using .loc[row_indexer,col_indexer] = value instead\n",
      "\n",
      "See the caveats in the documentation: https://pandas.pydata.org/pandas-docs/stable/user_guide/indexing.html#returning-a-view-versus-a-copy\n",
      "  df_patient['pred'] = y_baseline_ordinals[i]\n",
      "/tmp/ipykernel_520957/1310737740.py:5: SettingWithCopyWarning: \n",
      "A value is trying to be set on a copy of a slice from a DataFrame.\n",
      "Try using .loc[row_indexer,col_indexer] = value instead\n",
      "\n",
      "See the caveats in the documentation: https://pandas.pydata.org/pandas-docs/stable/user_guide/indexing.html#returning-a-view-versus-a-copy\n",
      "  df_patient['pred'] = y_baseline_ordinals[i]\n",
      "/tmp/ipykernel_520957/1310737740.py:5: SettingWithCopyWarning: \n",
      "A value is trying to be set on a copy of a slice from a DataFrame.\n",
      "Try using .loc[row_indexer,col_indexer] = value instead\n",
      "\n",
      "See the caveats in the documentation: https://pandas.pydata.org/pandas-docs/stable/user_guide/indexing.html#returning-a-view-versus-a-copy\n",
      "  df_patient['pred'] = y_baseline_ordinals[i]\n",
      "/tmp/ipykernel_520957/1310737740.py:5: SettingWithCopyWarning: \n",
      "A value is trying to be set on a copy of a slice from a DataFrame.\n",
      "Try using .loc[row_indexer,col_indexer] = value instead\n",
      "\n",
      "See the caveats in the documentation: https://pandas.pydata.org/pandas-docs/stable/user_guide/indexing.html#returning-a-view-versus-a-copy\n",
      "  df_patient['pred'] = y_baseline_ordinals[i]\n",
      "/tmp/ipykernel_520957/1310737740.py:5: SettingWithCopyWarning: \n",
      "A value is trying to be set on a copy of a slice from a DataFrame.\n",
      "Try using .loc[row_indexer,col_indexer] = value instead\n",
      "\n",
      "See the caveats in the documentation: https://pandas.pydata.org/pandas-docs/stable/user_guide/indexing.html#returning-a-view-versus-a-copy\n",
      "  df_patient['pred'] = y_baseline_ordinals[i]\n",
      "/tmp/ipykernel_520957/1310737740.py:5: SettingWithCopyWarning: \n",
      "A value is trying to be set on a copy of a slice from a DataFrame.\n",
      "Try using .loc[row_indexer,col_indexer] = value instead\n",
      "\n",
      "See the caveats in the documentation: https://pandas.pydata.org/pandas-docs/stable/user_guide/indexing.html#returning-a-view-versus-a-copy\n",
      "  df_patient['pred'] = y_baseline_ordinals[i]\n",
      "/tmp/ipykernel_520957/1310737740.py:5: SettingWithCopyWarning: \n",
      "A value is trying to be set on a copy of a slice from a DataFrame.\n",
      "Try using .loc[row_indexer,col_indexer] = value instead\n",
      "\n",
      "See the caveats in the documentation: https://pandas.pydata.org/pandas-docs/stable/user_guide/indexing.html#returning-a-view-versus-a-copy\n",
      "  df_patient['pred'] = y_baseline_ordinals[i]\n",
      "/tmp/ipykernel_520957/1310737740.py:5: SettingWithCopyWarning: \n",
      "A value is trying to be set on a copy of a slice from a DataFrame.\n",
      "Try using .loc[row_indexer,col_indexer] = value instead\n",
      "\n",
      "See the caveats in the documentation: https://pandas.pydata.org/pandas-docs/stable/user_guide/indexing.html#returning-a-view-versus-a-copy\n",
      "  df_patient['pred'] = y_baseline_ordinals[i]\n",
      "/tmp/ipykernel_520957/1310737740.py:5: SettingWithCopyWarning: \n",
      "A value is trying to be set on a copy of a slice from a DataFrame.\n",
      "Try using .loc[row_indexer,col_indexer] = value instead\n",
      "\n",
      "See the caveats in the documentation: https://pandas.pydata.org/pandas-docs/stable/user_guide/indexing.html#returning-a-view-versus-a-copy\n",
      "  df_patient['pred'] = y_baseline_ordinals[i]\n",
      "/tmp/ipykernel_520957/1310737740.py:5: SettingWithCopyWarning: \n",
      "A value is trying to be set on a copy of a slice from a DataFrame.\n",
      "Try using .loc[row_indexer,col_indexer] = value instead\n",
      "\n",
      "See the caveats in the documentation: https://pandas.pydata.org/pandas-docs/stable/user_guide/indexing.html#returning-a-view-versus-a-copy\n",
      "  df_patient['pred'] = y_baseline_ordinals[i]\n",
      "/tmp/ipykernel_520957/1310737740.py:5: SettingWithCopyWarning: \n",
      "A value is trying to be set on a copy of a slice from a DataFrame.\n",
      "Try using .loc[row_indexer,col_indexer] = value instead\n",
      "\n",
      "See the caveats in the documentation: https://pandas.pydata.org/pandas-docs/stable/user_guide/indexing.html#returning-a-view-versus-a-copy\n",
      "  df_patient['pred'] = y_baseline_ordinals[i]\n",
      "/tmp/ipykernel_520957/1310737740.py:5: SettingWithCopyWarning: \n",
      "A value is trying to be set on a copy of a slice from a DataFrame.\n",
      "Try using .loc[row_indexer,col_indexer] = value instead\n",
      "\n",
      "See the caveats in the documentation: https://pandas.pydata.org/pandas-docs/stable/user_guide/indexing.html#returning-a-view-versus-a-copy\n",
      "  df_patient['pred'] = y_baseline_ordinals[i]\n"
     ]
    }
   ],
   "source": [
    "eggim_scores = {}\n",
    "patients_dfs = []\n",
    "for i, patient_id in enumerate(patient_ids):\n",
    "    df_patient = df_togas[df_togas['patient_id'] == patient_id]\n",
    "    df_patient['pred'] = y_baseline_ordinals[i]\n",
    "    patients_dfs.append(df_patient)\n",
    "    eggim_square = compute_eggim_patient(df_patient,\n",
    "                                          target_variable='eggim_square')\n",
    "    eggim_global = compute_eggim_patient(df_patient,\n",
    "                                  target_variable='eggim_global')\n",
    "    eggim_pred = compute_eggim_patient(df_patient,\n",
    "                                  target_variable='pred')\n",
    "    eggim_scores[patient_ids[i]] = {'eggim_square': eggim_square, 'eggim_global': eggim_global,\n",
    "                                    'eggim_pred': eggim_pred}\n",
    "eggim_df = pd.DataFrame(eggim_scores).T"
   ],
   "metadata": {
    "collapsed": false
   }
  },
  {
   "cell_type": "code",
   "execution_count": 70,
   "outputs": [],
   "source": [
    "patients_dfs = pd.concat(patients_dfs)\n",
    "patients_dfs.to_csv('baseline_scores.csv')\n",
    "eggim_df.to_csv(\"fe_eggim_revised.csv\")"
   ],
   "metadata": {
    "collapsed": false
   }
  },
  {
   "cell_type": "code",
   "execution_count": 71,
   "outputs": [
    {
     "name": "stdout",
     "output_type": "stream",
     "text": [
      "7\n"
     ]
    },
    {
     "data": {
      "text/plain": "(1.0, 0.8653846153846154, 0.8923076923076924)"
     },
     "execution_count": 71,
     "metadata": {},
     "output_type": "execute_result"
    }
   ],
   "source": [
    "\n",
    "\n",
    "y = np.array([1 if eggim >= cutoff else 0 for eggim in eggim_df['eggim_square'].values])\n",
    "y_pred = np.array([1 if eggim >= cutoff else 0 for eggim in eggim_df['eggim_pred'].values])\n",
    "\n",
    "print(np.sum(y != y_pred))\n",
    "\n",
    "calculate_eggim_metrics(np.array([1 if eggim >= cutoff else 0 for eggim in eggim_df['eggim_square'].values]),\n",
    "                                  np.array([1 if eggim >= cutoff else 0 for eggim in eggim_df['eggim_pred'].values]))"
   ],
   "metadata": {
    "collapsed": false
   }
  },
  {
   "cell_type": "code",
   "execution_count": 51,
   "outputs": [
    {
     "data": {
      "text/plain": "7"
     },
     "execution_count": 51,
     "metadata": {},
     "output_type": "execute_result"
    }
   ],
   "source": [
    "y = np.array([1 if eggim >= cutoff else 0 for eggim in eggim_df['eggim_square'].values])\n",
    "y_pred = np.array([1 if eggim >= cutoff else 0 for eggim in eggim_df['eggim_pred'].values])\n",
    "\n",
    "np.sum(y != y_pred)"
   ],
   "metadata": {
    "collapsed": false
   }
  },
  {
   "cell_type": "code",
   "execution_count": 32,
   "outputs": [
    {
     "name": "stdout",
     "output_type": "stream",
     "text": [
      "/home/miguelmartins/Projects/eggimazing/notebooks/multi_patient_wise\n"
     ]
    }
   ],
   "source": [
    "print(os.getcwd())"
   ],
   "metadata": {
    "collapsed": false
   }
  },
  {
   "cell_type": "code",
   "execution_count": 33,
   "outputs": [],
   "source": [
    "# minimum error of patch vs global labels\n",
    "best_possible_eggim_mae = np.mean(np.abs(eggim_df.iloc[:, 1] -  eggim_df.iloc[:, 0]))"
   ],
   "metadata": {
    "collapsed": false
   }
  },
  {
   "cell_type": "code",
   "execution_count": 34,
   "outputs": [],
   "source": [
    "# error of patch predictions vs patch labels\n",
    "patch_eggim_mae =  np.mean(np.abs(eggim_df.iloc[:, 0] -  eggim_df.iloc[:, 2]))"
   ],
   "metadata": {
    "collapsed": false
   }
  },
  {
   "cell_type": "code",
   "execution_count": 35,
   "outputs": [],
   "source": [
    "patch_global_eggim_mae = np.mean(np.abs(eggim_df.iloc[:, 1] -  eggim_df.iloc[:, 2]))"
   ],
   "metadata": {
    "collapsed": false
   }
  },
  {
   "cell_type": "code",
   "execution_count": 36,
   "outputs": [
    {
     "data": {
      "text/plain": "1.0153846153846153"
     },
     "execution_count": 36,
     "metadata": {},
     "output_type": "execute_result"
    }
   ],
   "source": [
    "patch_eggim_mae"
   ],
   "metadata": {
    "collapsed": false
   }
  },
  {
   "cell_type": "code",
   "execution_count": 37,
   "outputs": [
    {
     "data": {
      "text/plain": "1.0153846153846153"
     },
     "execution_count": 37,
     "metadata": {},
     "output_type": "execute_result"
    }
   ],
   "source": [
    "# patch ground truth vs patch pred:\n",
    "patch_eggim_mae"
   ],
   "metadata": {
    "collapsed": false
   }
  },
  {
   "cell_type": "code",
   "execution_count": 38,
   "outputs": [
    {
     "data": {
      "text/plain": "1.0153846153846153"
     },
     "execution_count": 38,
     "metadata": {},
     "output_type": "execute_result"
    }
   ],
   "source": [
    "# global ground truth vs patch pred\n",
    "patch_global_eggim_mae"
   ],
   "metadata": {
    "collapsed": false
   }
  },
  {
   "cell_type": "code",
   "execution_count": 39,
   "outputs": [
    {
     "data": {
      "text/plain": "0.9076923076923076"
     },
     "execution_count": 39,
     "metadata": {},
     "output_type": "execute_result"
    }
   ],
   "source": [
    "# global ground truth vs patch pred \"adjusted\" with minimum error in square labels\n",
    "patch_global_eggim_mae - best_possible_eggim_mae"
   ],
   "metadata": {
    "collapsed": false
   }
  },
  {
   "cell_type": "code",
   "execution_count": null,
   "outputs": [],
   "source": [],
   "metadata": {
    "collapsed": false
   }
  }
 ],
 "metadata": {
  "kernelspec": {
   "display_name": "Python 3",
   "language": "python",
   "name": "python3"
  },
  "language_info": {
   "codemirror_mode": {
    "name": "ipython",
    "version": 2
   },
   "file_extension": ".py",
   "mimetype": "text/x-python",
   "name": "python",
   "nbconvert_exporter": "python",
   "pygments_lexer": "ipython2",
   "version": "2.7.6"
  }
 },
 "nbformat": 4,
 "nbformat_minor": 0
}
