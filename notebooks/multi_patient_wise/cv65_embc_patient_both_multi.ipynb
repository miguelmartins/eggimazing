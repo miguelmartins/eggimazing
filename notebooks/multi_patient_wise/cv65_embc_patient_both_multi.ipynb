{
 "cells": [
  {
   "cell_type": "raw",
   "source": [],
   "metadata": {
    "collapsed": false,
    "pycharm": {
     "name": ""
    }
   }
  },
  {
   "cell_type": "code",
   "execution_count": 1,
   "metadata": {
    "collapsed": true
   },
   "outputs": [
    {
     "name": "stderr",
     "output_type": "stream",
     "text": [
      "2025-02-18 17:07:18.705041: E tensorflow/compiler/xla/stream_executor/cuda/cuda_dnn.cc:9342] Unable to register cuDNN factory: Attempting to register factory for plugin cuDNN when one has already been registered\n",
      "2025-02-18 17:07:18.705094: E tensorflow/compiler/xla/stream_executor/cuda/cuda_fft.cc:609] Unable to register cuFFT factory: Attempting to register factory for plugin cuFFT when one has already been registered\n",
      "2025-02-18 17:07:18.705125: E tensorflow/compiler/xla/stream_executor/cuda/cuda_blas.cc:1518] Unable to register cuBLAS factory: Attempting to register factory for plugin cuBLAS when one has already been registered\n",
      "2025-02-18 17:07:18.711581: I tensorflow/core/platform/cpu_feature_guard.cc:182] This TensorFlow binary is optimized to use available CPU instructions in performance-critical operations.\n",
      "To enable the following instructions: AVX2 FMA, in other operations, rebuild TensorFlow with the appropriate compiler flags.\n"
     ]
    }
   ],
   "source": [
    "import matplotlib.pyplot as plt\n",
    "import numpy as np\n",
    "import os\n",
    "import tensorflow as tf\n",
    "from keras.metrics import Precision, Recall, AUC, CategoricalAccuracy\n",
    "\n",
    "from custom_models.augmentation import basic_plus_color_augmentation, basic_augmentation\n",
    "from custom_models.bilinear_cnns import fe_resnet\n",
    "from custom_models.cnns import simple_cnn_bn, base_resnet50\n",
    "from custom_models.optimization_utilities import get_standard_callbacks\n",
    "from etl.load_dataset import DatasetProcessor, get_tf_eggim_patch_dataset\n",
    "from optimization.custom_losses import weighted_categorical_crossentropy\n"
   ]
  },
  {
   "cell_type": "code",
   "execution_count": 2,
   "outputs": [
    {
     "name": "stdout",
     "output_type": "stream",
     "text": [
      "Flowchart generated as 'flowchart.png'\n"
     ]
    }
   ],
   "source": [
    "from graphviz import Digraph\n",
    "\n",
    "# Create a directed graph\n",
    "flowchart = Digraph(name='EGD_NBI_Analysis', format='png')\n",
    "flowchart.attr(rankdir='TB', bgcolor='white', fontname='Helvetica', fontsize='12')\n",
    "\n",
    "# Define nodes (process steps)\n",
    "nodes = [\n",
    "    ('Start', 'Start'),\n",
    "    ('Data Collection', 'Data Collection\\n- 80 patients\\n- 65 with data'),\n",
    "    ('Cross-Validation', 'Custom Stratified Cross-Validation\\n(Leverage retrospective data)'),\n",
    "    ('Annotation', 'Annotation Agreement\\n(Patch vs. Frame Score)'),\n",
    "    ('ResNet50', 'ResNet-50 Training\\n(Leave-One-Patient-Out CV)\\nSmall Variance vs. Prior Work'),\n",
    "    ('Prediction', 'Patch-Based Risk Stratification\\n57/65 Correct\\nPerfect Sensitivity'),\n",
    "    ('End', 'End')\n",
    "]\n",
    "\n",
    "# Add nodes to the graph\n",
    "for node_id, label in nodes:\n",
    "    flowchart.node(node_id, label=label, shape='rectangle',\n",
    "                   style='rounded,filled', fillcolor='#e0f0ff',\n",
    "                   fontname='Helvetica', fontsize='10', margin='0.2')\n",
    "\n",
    "# Define edges (flow)\n",
    "edges = [\n",
    "    ('Start', 'Data Collection'),\n",
    "    ('Data Collection', 'Cross-Validation'),\n",
    "    ('Cross-Validation', 'Annotation'),\n",
    "    ('Annotation', 'ResNet50'),\n",
    "    ('ResNet50', 'Prediction'),\n",
    "    ('Prediction', 'End')\n",
    "]\n",
    "\n",
    "# Add edges to the graph\n",
    "for src, dst in edges:\n",
    "    flowchart.edge(src, dst)\n",
    "\n",
    "# Save and render the flowchart\n",
    "flowchart.render(filename='flowchart', cleanup=True, view=True)\n",
    "print(\"Flowchart generated as 'flowchart.png'\")"
   ],
   "metadata": {
    "collapsed": false
   }
  },
  {
   "cell_type": "code",
   "execution_count": 3,
   "outputs": [],
   "source": [
    "target_dir = '../../test_files/EGGIMazing/Dataset3'\n",
    "model_weights_directory = '../../logs/'\n",
    "batch_size = 32\n",
    "num_epochs = 100\n",
    "learning_rate = 1e-4\n",
    "\n",
    "def get_model_dirs(model_weights_directory, name):\n",
    "    model_fold_dir = sorted(os.listdir(model_weights_directory))\n",
    "    model_dirs = [os.path.join(os.path.join(model_weights_directory, x), 'weights.h5')\n",
    "                  for x in model_fold_dir if x.startswith(name)]\n",
    "    return model_dirs"
   ],
   "metadata": {
    "collapsed": false
   }
  },
  {
   "cell_type": "code",
   "execution_count": 4,
   "outputs": [],
   "source": [
    "baseline_dirs = get_model_dirs(model_weights_directory, 'embc65_new_patient_resnet_multi_')\n",
    "#fe_resnet_dirs = get_model_dirs(model_weights_directory, 'embc65_rerun_new_patient_feresnet_multi_')"
   ],
   "metadata": {
    "collapsed": false
   }
  },
  {
   "cell_type": "markdown",
   "source": [],
   "metadata": {
    "collapsed": false
   }
  },
  {
   "cell_type": "code",
   "execution_count": 4,
   "outputs": [
    {
     "data": {
      "text/plain": "65"
     },
     "execution_count": 4,
     "metadata": {},
     "output_type": "execute_result"
    }
   ],
   "source": [
    "len(baseline_dirs)#, len(fe_resnet_dirs)"
   ],
   "metadata": {
    "collapsed": false
   }
  },
  {
   "cell_type": "code",
   "execution_count": 5,
   "outputs": [],
   "source": [
    "dp = DatasetProcessor(target_dir)\n",
    "df = dp.process()\n",
    "patient_ids = np.load('../../configs/new_patient_ids.npy', allow_pickle=True)\n",
    "\n",
    "togas_ids_boolean = np.array([x.startswith('PT') for x in df['patient_id'].values])\n",
    "df_togas = df[togas_ids_boolean].reset_index(drop=True)\n",
    "df_ipo = df[~togas_ids_boolean].reset_index(drop=True)\n",
    "patient_ids_total = sorted(list(set(df_togas.patient_id)))"
   ],
   "metadata": {
    "collapsed": false
   }
  },
  {
   "cell_type": "code",
   "execution_count": 6,
   "outputs": [
    {
     "data": {
      "text/plain": "866"
     },
     "execution_count": 6,
     "metadata": {},
     "output_type": "execute_result"
    }
   ],
   "source": [
    "len(df_togas)"
   ],
   "metadata": {
    "collapsed": false
   }
  },
  {
   "cell_type": "code",
   "execution_count": 9,
   "outputs": [],
   "source": [
    "x = np.array([0, 1, 1, 2, 0, 2])"
   ],
   "metadata": {
    "collapsed": false
   }
  },
  {
   "cell_type": "code",
   "execution_count": 11,
   "outputs": [
    {
     "data": {
      "text/plain": "((6,), (6,))"
     },
     "execution_count": 11,
     "metadata": {},
     "output_type": "execute_result"
    }
   ],
   "source": [
    "np.where(x > 0, 1, 0).shape, x.shape"
   ],
   "metadata": {
    "collapsed": false
   }
  },
  {
   "cell_type": "code",
   "execution_count": 6,
   "outputs": [
    {
     "name": "stderr",
     "output_type": "stream",
     "text": [
      "2025-02-18 17:07:27.881390: I tensorflow/compiler/xla/stream_executor/cuda/cuda_gpu_executor.cc:894] successful NUMA node read from SysFS had negative value (-1), but there must be at least one NUMA node, so returning NUMA node zero. See more at https://github.com/torvalds/linux/blob/v6.0/Documentation/ABI/testing/sysfs-bus-pci#L344-L355\n",
      "2025-02-18 17:07:27.881660: I tensorflow/compiler/xla/stream_executor/cuda/cuda_gpu_executor.cc:894] successful NUMA node read from SysFS had negative value (-1), but there must be at least one NUMA node, so returning NUMA node zero. See more at https://github.com/torvalds/linux/blob/v6.0/Documentation/ABI/testing/sysfs-bus-pci#L344-L355\n",
      "2025-02-18 17:07:27.919844: I tensorflow/compiler/xla/stream_executor/cuda/cuda_gpu_executor.cc:894] successful NUMA node read from SysFS had negative value (-1), but there must be at least one NUMA node, so returning NUMA node zero. See more at https://github.com/torvalds/linux/blob/v6.0/Documentation/ABI/testing/sysfs-bus-pci#L344-L355\n",
      "2025-02-18 17:07:27.920178: I tensorflow/compiler/xla/stream_executor/cuda/cuda_gpu_executor.cc:894] successful NUMA node read from SysFS had negative value (-1), but there must be at least one NUMA node, so returning NUMA node zero. See more at https://github.com/torvalds/linux/blob/v6.0/Documentation/ABI/testing/sysfs-bus-pci#L344-L355\n",
      "2025-02-18 17:07:27.920392: I tensorflow/compiler/xla/stream_executor/cuda/cuda_gpu_executor.cc:894] successful NUMA node read from SysFS had negative value (-1), but there must be at least one NUMA node, so returning NUMA node zero. See more at https://github.com/torvalds/linux/blob/v6.0/Documentation/ABI/testing/sysfs-bus-pci#L344-L355\n",
      "2025-02-18 17:07:27.920592: I tensorflow/compiler/xla/stream_executor/cuda/cuda_gpu_executor.cc:894] successful NUMA node read from SysFS had negative value (-1), but there must be at least one NUMA node, so returning NUMA node zero. See more at https://github.com/torvalds/linux/blob/v6.0/Documentation/ABI/testing/sysfs-bus-pci#L344-L355\n",
      "2025-02-18 17:07:28.053676: I tensorflow/compiler/xla/stream_executor/cuda/cuda_gpu_executor.cc:894] successful NUMA node read from SysFS had negative value (-1), but there must be at least one NUMA node, so returning NUMA node zero. See more at https://github.com/torvalds/linux/blob/v6.0/Documentation/ABI/testing/sysfs-bus-pci#L344-L355\n",
      "2025-02-18 17:07:28.053952: I tensorflow/compiler/xla/stream_executor/cuda/cuda_gpu_executor.cc:894] successful NUMA node read from SysFS had negative value (-1), but there must be at least one NUMA node, so returning NUMA node zero. See more at https://github.com/torvalds/linux/blob/v6.0/Documentation/ABI/testing/sysfs-bus-pci#L344-L355\n",
      "2025-02-18 17:07:28.054176: I tensorflow/compiler/xla/stream_executor/cuda/cuda_gpu_executor.cc:894] successful NUMA node read from SysFS had negative value (-1), but there must be at least one NUMA node, so returning NUMA node zero. See more at https://github.com/torvalds/linux/blob/v6.0/Documentation/ABI/testing/sysfs-bus-pci#L344-L355\n",
      "2025-02-18 17:07:28.054363: I tensorflow/compiler/xla/stream_executor/cuda/cuda_gpu_executor.cc:894] successful NUMA node read from SysFS had negative value (-1), but there must be at least one NUMA node, so returning NUMA node zero. See more at https://github.com/torvalds/linux/blob/v6.0/Documentation/ABI/testing/sysfs-bus-pci#L344-L355\n",
      "2025-02-18 17:07:28.054722: I tensorflow/compiler/xla/stream_executor/cuda/cuda_gpu_executor.cc:894] successful NUMA node read from SysFS had negative value (-1), but there must be at least one NUMA node, so returning NUMA node zero. See more at https://github.com/torvalds/linux/blob/v6.0/Documentation/ABI/testing/sysfs-bus-pci#L344-L355\n",
      "2025-02-18 17:07:28.054922: I tensorflow/compiler/xla/stream_executor/cuda/cuda_gpu_executor.cc:894] successful NUMA node read from SysFS had negative value (-1), but there must be at least one NUMA node, so returning NUMA node zero. See more at https://github.com/torvalds/linux/blob/v6.0/Documentation/ABI/testing/sysfs-bus-pci#L344-L355\n",
      "2025-02-18 17:07:28.064038: I tensorflow/compiler/xla/stream_executor/cuda/cuda_gpu_executor.cc:894] successful NUMA node read from SysFS had negative value (-1), but there must be at least one NUMA node, so returning NUMA node zero. See more at https://github.com/torvalds/linux/blob/v6.0/Documentation/ABI/testing/sysfs-bus-pci#L344-L355\n",
      "2025-02-18 17:07:28.064261: I tensorflow/compiler/xla/stream_executor/cuda/cuda_gpu_executor.cc:894] successful NUMA node read from SysFS had negative value (-1), but there must be at least one NUMA node, so returning NUMA node zero. See more at https://github.com/torvalds/linux/blob/v6.0/Documentation/ABI/testing/sysfs-bus-pci#L344-L355\n",
      "2025-02-18 17:07:28.064454: I tensorflow/compiler/xla/stream_executor/cuda/cuda_gpu_executor.cc:894] successful NUMA node read from SysFS had negative value (-1), but there must be at least one NUMA node, so returning NUMA node zero. See more at https://github.com/torvalds/linux/blob/v6.0/Documentation/ABI/testing/sysfs-bus-pci#L344-L355\n",
      "2025-02-18 17:07:28.064641: I tensorflow/compiler/xla/stream_executor/cuda/cuda_gpu_executor.cc:894] successful NUMA node read from SysFS had negative value (-1), but there must be at least one NUMA node, so returning NUMA node zero. See more at https://github.com/torvalds/linux/blob/v6.0/Documentation/ABI/testing/sysfs-bus-pci#L344-L355\n",
      "2025-02-18 17:07:28.064832: I tensorflow/compiler/xla/stream_executor/cuda/cuda_gpu_executor.cc:894] successful NUMA node read from SysFS had negative value (-1), but there must be at least one NUMA node, so returning NUMA node zero. See more at https://github.com/torvalds/linux/blob/v6.0/Documentation/ABI/testing/sysfs-bus-pci#L344-L355\n",
      "2025-02-18 17:07:28.065022: I tensorflow/core/common_runtime/gpu/gpu_device.cc:1886] Created device /job:localhost/replica:0/task:0/device:GPU:0 with 45628 MB memory:  -> device: 0, name: NVIDIA RTX A6000, pci bus id: 0000:01:00.0, compute capability: 8.6\n",
      "2025-02-18 17:07:28.065455: I tensorflow/compiler/xla/stream_executor/cuda/cuda_gpu_executor.cc:894] successful NUMA node read from SysFS had negative value (-1), but there must be at least one NUMA node, so returning NUMA node zero. See more at https://github.com/torvalds/linux/blob/v6.0/Documentation/ABI/testing/sysfs-bus-pci#L344-L355\n",
      "2025-02-18 17:07:28.065612: I tensorflow/core/common_runtime/gpu/gpu_device.cc:1886] Created device /job:localhost/replica:0/task:0/device:GPU:1 with 22453 MB memory:  -> device: 1, name: NVIDIA GeForce RTX 3090, pci bus id: 0000:02:00.0, compute capability: 8.6\n",
      "2025-02-18 17:07:31.021578: I tensorflow/compiler/xla/stream_executor/cuda/cuda_dnn.cc:442] Loaded cuDNN version 8700\n"
     ]
    },
    {
     "name": "stdout",
     "output_type": "stream",
     "text": [
      "1/1 [==============================] - 1s 1s/step\n",
      "1/1 [==============================] - 1s 523ms/step\n",
      "1/1 [==============================] - 1s 768ms/step\n",
      "1/1 [==============================] - 1s 800ms/step\n",
      "WARNING:tensorflow:5 out of the last 5 calls to <function Model.make_predict_function.<locals>.predict_function at 0x7634e1d0fbe0> triggered tf.function retracing. Tracing is expensive and the excessive number of tracings could be due to (1) creating @tf.function repeatedly in a loop, (2) passing tensors with different shapes, (3) passing Python objects instead of tensors. For (1), please define your @tf.function outside of the loop. For (2), @tf.function has reduce_retracing=True option that can avoid unnecessary retracing. For (3), please refer to https://www.tensorflow.org/guide/function#controlling_retracing and https://www.tensorflow.org/api_docs/python/tf/function for  more details.\n",
      "1/1 [==============================] - 1s 802ms/step\n",
      "WARNING:tensorflow:6 out of the last 6 calls to <function Model.make_predict_function.<locals>.predict_function at 0x7634e1d0c280> triggered tf.function retracing. Tracing is expensive and the excessive number of tracings could be due to (1) creating @tf.function repeatedly in a loop, (2) passing tensors with different shapes, (3) passing Python objects instead of tensors. For (1), please define your @tf.function outside of the loop. For (2), @tf.function has reduce_retracing=True option that can avoid unnecessary retracing. For (3), please refer to https://www.tensorflow.org/guide/function#controlling_retracing and https://www.tensorflow.org/api_docs/python/tf/function for  more details.\n",
      "1/1 [==============================] - 1s 522ms/step\n",
      "1/1 [==============================] - 1s 784ms/step\n",
      "1/1 [==============================] - 1s 522ms/step\n",
      "1/1 [==============================] - 1s 518ms/step\n",
      "1/1 [==============================] - 1s 551ms/step\n",
      "1/1 [==============================] - 1s 533ms/step\n",
      "1/1 [==============================] - 1s 530ms/step\n",
      "1/1 [==============================] - 1s 536ms/step\n",
      "1/1 [==============================] - 1s 549ms/step\n",
      "1/1 [==============================] - 1s 541ms/step\n",
      "1/1 [==============================] - 1s 519ms/step\n",
      "1/1 [==============================] - 1s 518ms/step\n",
      "1/1 [==============================] - 1s 818ms/step\n",
      "1/1 [==============================] - 1s 530ms/step\n",
      "1/1 [==============================] - 1s 525ms/step\n",
      "1/1 [==============================] - 1s 525ms/step\n",
      "1/1 [==============================] - 1s 521ms/step\n",
      "1/1 [==============================] - 1s 843ms/step\n",
      "1/1 [==============================] - 1s 542ms/step\n",
      "1/1 [==============================] - 1s 530ms/step\n",
      "1/1 [==============================] - 1s 531ms/step\n",
      "1/1 [==============================] - 1s 839ms/step\n",
      "1/1 [==============================] - 1s 549ms/step\n",
      "1/1 [==============================] - 1s 813ms/step\n",
      "1/1 [==============================] - 1s 525ms/step\n",
      "1/1 [==============================] - 1s 538ms/step\n",
      "1/1 [==============================] - 1s 573ms/step\n"
     ]
    },
    {
     "name": "stderr",
     "output_type": "stream",
     "text": [
      "/tmp/ipykernel_2666431/2294796509.py:60: RuntimeWarning: invalid value encountered in scalar divide\n",
      "  specificity = TN / (TN + FP)\n"
     ]
    },
    {
     "name": "stdout",
     "output_type": "stream",
     "text": [
      "1/1 [==============================] - 1s 546ms/step\n",
      "1/1 [==============================] - 1s 534ms/step\n",
      "1/1 [==============================] - 1s 526ms/step\n",
      "1/1 [==============================] - 1s 567ms/step\n",
      "1/1 [==============================] - 1s 538ms/step\n",
      "1/1 [==============================] - 1s 524ms/step\n",
      "1/1 [==============================] - 1s 512ms/step\n",
      "1/1 [==============================] - 1s 746ms/step\n",
      "1/1 [==============================] - 1s 606ms/step\n",
      "1/1 [==============================] - 1s 583ms/step\n",
      "1/1 [==============================] - 1s 535ms/step\n",
      "1/1 [==============================] - 1s 521ms/step\n",
      "1/1 [==============================] - 1s 590ms/step\n"
     ]
    },
    {
     "name": "stderr",
     "output_type": "stream",
     "text": [
      "/tmp/ipykernel_2666431/2294796509.py:60: RuntimeWarning: invalid value encountered in scalar divide\n",
      "  specificity = TN / (TN + FP)\n"
     ]
    },
    {
     "name": "stdout",
     "output_type": "stream",
     "text": [
      "1/1 [==============================] - 1s 565ms/step\n",
      "1/1 [==============================] - 1s 549ms/step\n",
      "1/1 [==============================] - 1s 539ms/step\n",
      "1/1 [==============================] - 1s 536ms/step\n",
      "1/1 [==============================] - 1s 582ms/step\n",
      "1/1 [==============================] - 1s 603ms/step\n"
     ]
    },
    {
     "name": "stderr",
     "output_type": "stream",
     "text": [
      "/tmp/ipykernel_2666431/2294796509.py:60: RuntimeWarning: invalid value encountered in scalar divide\n",
      "  specificity = TN / (TN + FP)\n"
     ]
    },
    {
     "name": "stdout",
     "output_type": "stream",
     "text": [
      "1/1 [==============================] - 1s 578ms/step\n",
      "1/1 [==============================] - 1s 553ms/step\n",
      "1/1 [==============================] - 1s 839ms/step\n",
      "1/1 [==============================] - 1s 546ms/step\n",
      "1/1 [==============================] - 1s 527ms/step\n",
      "1/1 [==============================] - 1s 518ms/step\n"
     ]
    },
    {
     "name": "stderr",
     "output_type": "stream",
     "text": [
      "/tmp/ipykernel_2666431/2294796509.py:60: RuntimeWarning: invalid value encountered in scalar divide\n",
      "  specificity = TN / (TN + FP)\n"
     ]
    },
    {
     "name": "stdout",
     "output_type": "stream",
     "text": [
      "1/1 [==============================] - 1s 857ms/step\n",
      "1/1 [==============================] - 1s 551ms/step\n",
      "1/1 [==============================] - 1s 537ms/step\n",
      "1/1 [==============================] - 1s 756ms/step\n",
      "1/1 [==============================] - 1s 525ms/step\n",
      "1/1 [==============================] - 1s 592ms/step\n",
      "1/1 [==============================] - 1s 566ms/step\n",
      "1/1 [==============================] - 1s 544ms/step\n"
     ]
    }
   ],
   "source": [
    "from sklearn.metrics import confusion_matrix\n",
    "\n",
    "from evaluation.metrics import categorical_accuracy\n",
    "\n",
    "from evaluation.metrics import specificity_per_class\n",
    "\n",
    "from evaluation.metrics import sensitivity_per_class\n",
    "\n",
    "\n",
    "metrics_baseline = []\n",
    "metrics_feresnet = []\n",
    "y_true_ordinals = []\n",
    "y_baseline_ordinals = []\n",
    "y_feresnet_ordinals = []\n",
    "\n",
    "split = dp.patient_wise_split(df_togas,\n",
    "                                      df_ipo,\n",
    "                                      patient_ids,\n",
    "                                      internal_train_size=0.9,\n",
    "                                      target_variable='eggim_square',\n",
    "                                      random_state=42)\n",
    "\n",
    "def compute_metrics(y_true, y_pred, y_true_ordinals, y_pred_ordinals, metrics): # split y_true before and call this for each model\n",
    "    y_true_ordinal = np.argmax(y_true, axis=-1) # [0 0 1] -> 2\n",
    "    y_pred_ordinal = np.argmax(y_pred, axis=-1)\n",
    "\n",
    "    # y_true_ordinal = np.where(y_true_ordinal > 0, 1, 0)\n",
    "    # y_pred_ordinal = np.where(y_pred_ordinal > 0, 1, 0)\n",
    "    y_true_ordinals.append(y_true_ordinal)\n",
    "    y_pred_ordinals.append(y_pred_ordinal)\n",
    "    y_pred_one_hot = np.zeros_like(y_pred)\n",
    "    y_pred_one_hot[np.arange(len(y_pred)), np.argmax(y_pred, axis=1)] = 1 # [0.2, 0.2, 0.6] -> [0, 0, 1]\n",
    "    conf_matrix = confusion_matrix(y_true_ordinal, y_pred_ordinal,\n",
    "                                   labels=[0, 1, 2])\n",
    "    metrics.append([accuracy_per_class_(conf_matrix),\n",
    "                    specificity_per_class_(conf_matrix), sensitivity_per_class_(conf_matrix),\n",
    "                    conf_matrix])\n",
    "    return metrics\n",
    "\n",
    "def specificity_per_class_(conf_matrix):\n",
    "    specificity_per_class = []\n",
    "    # Number of classes\n",
    "    num_classes = conf_matrix.shape[0]\n",
    "\n",
    "    for i in range(num_classes):\n",
    "        # True Positives for class i\n",
    "        TP = conf_matrix[i, i]\n",
    "\n",
    "        # False Positives for class i\n",
    "        FP = np.sum(conf_matrix[:, i]) - TP\n",
    "\n",
    "        # False Negatives for class i\n",
    "        FN = np.sum(conf_matrix[i, :]) - TP\n",
    "\n",
    "        # True Negatives for class i\n",
    "        TN = np.sum(conf_matrix) - (TP + FP + FN)\n",
    "\n",
    "        # Specificity for class i\n",
    "        if TN + FN != 0:\n",
    "            specificity = TN / (TN + FP)\n",
    "        else:\n",
    "            specificity = np.nan\n",
    "\n",
    "        specificity_per_class.append(specificity)\n",
    "\n",
    "    specificity_per_class = np.array(specificity_per_class)\n",
    "    return specificity_per_class\n",
    "\n",
    "def accuracy_per_class_(conf_matrix):\n",
    "    accuracy_per_class = []\n",
    "    # Number of classes\n",
    "    num_classes = conf_matrix.shape[0]\n",
    "\n",
    "    for i in range(num_classes):\n",
    "        # True Positives for class i\n",
    "        TP = conf_matrix[i, i]\n",
    "\n",
    "        # False Positives for class i\n",
    "        FP = np.sum(conf_matrix[:, i]) - TP\n",
    "\n",
    "        # False Negatives for class i\n",
    "        FN = np.sum(conf_matrix[i, :]) - TP\n",
    "\n",
    "        # True Negatives for class i\n",
    "        TN = np.sum(conf_matrix) - (TP + FP + FN)\n",
    "\n",
    "        # Specificity for class i\n",
    "        if TP + TN + FP + FN != 0:\n",
    "            accuracy = (TP + TN) / (TP + TN + FP + FN)\n",
    "        else:\n",
    "            accuracy = np.nan\n",
    "\n",
    "        accuracy_per_class.append(accuracy)\n",
    "\n",
    "    accuracy_per_class = np.array(accuracy_per_class)\n",
    "    return accuracy_per_class\n",
    "\n",
    "\n",
    "def sensitivity_per_class_(conf_matrix):\n",
    "    # Initialize an array to store sensitivity for each class\n",
    "    sensitivity_per_class = []\n",
    "\n",
    "    # Number of classes\n",
    "    num_classes = conf_matrix.shape[0]\n",
    "\n",
    "    for i in range(num_classes):\n",
    "        # True Positives for class i\n",
    "        TP = conf_matrix[i, i]\n",
    "\n",
    "        # False Negatives for class i\n",
    "        FN = np.sum(conf_matrix[i, :]) - TP\n",
    "\n",
    "        # Sensitivity for class i\n",
    "        if TP + FN != 0:\n",
    "            sensitivity = TP / (TP + FN)\n",
    "        else:\n",
    "            sensitivity = np.nan\n",
    "        sensitivity_per_class.append(sensitivity)\n",
    "    return np.array(sensitivity_per_class)\n",
    "\n",
    "\n",
    "\n",
    "for fold, (df_train, df_val, df_test) in enumerate(split):\n",
    "    tf_test_df = get_tf_eggim_patch_dataset(df_test,\n",
    "                                            num_classes=3,\n",
    "                                            preprocess_fn=tf.keras.applications.resnet.preprocess_input)\n",
    "\n",
    "    tf_test_df = tf_test_df.batch(batch_size)\n",
    "\n",
    "    n_classes = 3  # Replace with the number of classes you have\n",
    "\n",
    "    #\n",
    "    baseline = base_resnet50(input_shape=(224, 224, 3), n_classes=n_classes)\n",
    "    # Compile the model with Adam optimizer 13:21\n",
    "    baseline.compile(optimizer=tf.keras.optimizers.Adam(learning_rate=learning_rate),\n",
    "                  metrics=[CategoricalAccuracy(name='cat_accuracy'), Precision(name='precision'),\n",
    "                           Recall(name='recall'),\n",
    "                           AUC(name='auc')])\n",
    "\n",
    "    baseline.load_weights(baseline_dirs[fold])\n",
    "    # model = fe_resnet(input_shape=(224, 224, 3), n_classes=n_classes)\n",
    "    # Compile the model with Adam optimizer 13:21\n",
    "    #model.compile(optimizer=tf.keras.optimizers.Adam(learning_rate=learning_rate),\n",
    "    #              metrics=[CategoricalAccuracy(name='cat_accuracy'), Precision(name='precision'),\n",
    "    #                       Recall(name='recall'),\n",
    "    #                       AUC(name='auc')])\n",
    "\n",
    "\n",
    "    #model.load_weights(fe_resnet_dirs[fold])\n",
    "\n",
    "    y_true = np.concatenate([y for (_, y) in tf_test_df])\n",
    "    y_pred_baseline = baseline.predict(tf_test_df)\n",
    "    # y_pred_feresnet = model.predict(tf_test_df)\n",
    "    compute_metrics(y_true, y_pred_baseline, y_true_ordinals, y_baseline_ordinals, metrics_baseline)\n",
    "    # compute_metrics(y_true, y_pred_feresnet, y_true_ordinals, y_feresnet_ordinals, metrics_feresnet)"
   ],
   "metadata": {
    "collapsed": false
   }
  },
  {
   "cell_type": "code",
   "execution_count": 7,
   "outputs": [],
   "source": [
    "def parse_metrics(metrics):\n",
    "    cat_acc = np.array([x[0] for x in metrics])\n",
    "    spec = np.array([x[1] for x in metrics])\n",
    "    sens = np.array([x[2] for x in metrics])\n",
    "    confs = np.array([x[3] for x in metrics], dtype=object)\n",
    "    return cat_acc, spec, sens, confs"
   ],
   "metadata": {
    "collapsed": false
   }
  },
  {
   "cell_type": "code",
   "execution_count": 8,
   "outputs": [],
   "source": [
    "from scipy.stats import ttest_rel\n",
    "baseline_acc, baseline_spec, baseline_sens, baseline_confs = parse_metrics(metrics_baseline)\n",
    "#feresnet_acc, feresnet_spec, feresnet_sens = parse_metrics(metrics_feresnet)\n",
    "\n",
    "baseline_metrics_list = [baseline_acc, baseline_spec, baseline_sens]\n",
    "#feresnet_metrics_list = [feresnet_acc, feresnet_spec, feresnet_sens]"
   ],
   "metadata": {
    "collapsed": false
   }
  },
  {
   "cell_type": "code",
   "execution_count": 12,
   "outputs": [
    {
     "data": {
      "text/plain": "                     bbox  eggim_global  eggim_square  \\\n0    [218, 113, 442, 338]             0             0   \n1    [213, 228, 438, 452]             0             0   \n2    [190, 231, 415, 455]             0             0   \n3    [208, 235, 432, 460]             1             0   \n4    [314, 153, 539, 378]             0             0   \n..                    ...           ...           ...   \n861  [328, 212, 552, 436]             0             0   \n862  [323, 178, 547, 403]             0             0   \n863  [277, 140, 501, 364]             1             1   \n864  [262, 161, 486, 386]             2             2   \n865  [232, 106, 456, 330]             1             1   \n\n                                              landmark  \\\n0                       ii. distal body in anteversion   \n1          ix. distal lesser curvature in retroflexion   \n2          ix. distal lesser curvature in retroflexion   \n3                        x. upper body in retroflexion   \n4    vii. proximal antrum - greater curvature/poste...   \n..                                                 ...   \n861        ix. distal lesser curvature in retroflexion   \n862                      x. upper body in retroflexion   \n863                     viii. incisura in retroflexion   \n864  vii. proximal antrum - greater curvature/poste...   \n865             vi. proximal antrum - lesser curvature   \n\n                                       image_directory patient_id  \n0    ../../test_files/EGGIMazing/Dataset3/202401171...      PT002  \n1    ../../test_files/EGGIMazing/Dataset3/202401171...      PT002  \n2    ../../test_files/EGGIMazing/Dataset3/202401171...      PT002  \n3    ../../test_files/EGGIMazing/Dataset3/202401171...      PT002  \n4    ../../test_files/EGGIMazing/Dataset3/202401191...      PT003  \n..                                                 ...        ...  \n861  ../../test_files/EGGIMazing/Dataset3/202410161...      PT086  \n862  ../../test_files/EGGIMazing/Dataset3/202410161...      PT086  \n863  ../../test_files/EGGIMazing/Dataset3/202410161...      PT086  \n864  ../../test_files/EGGIMazing/Dataset3/202410161...      PT086  \n865  ../../test_files/EGGIMazing/Dataset3/202410161...      PT086  \n\n[866 rows x 6 columns]",
      "text/html": "<div>\n<style scoped>\n    .dataframe tbody tr th:only-of-type {\n        vertical-align: middle;\n    }\n\n    .dataframe tbody tr th {\n        vertical-align: top;\n    }\n\n    .dataframe thead th {\n        text-align: right;\n    }\n</style>\n<table border=\"1\" class=\"dataframe\">\n  <thead>\n    <tr style=\"text-align: right;\">\n      <th></th>\n      <th>bbox</th>\n      <th>eggim_global</th>\n      <th>eggim_square</th>\n      <th>landmark</th>\n      <th>image_directory</th>\n      <th>patient_id</th>\n    </tr>\n  </thead>\n  <tbody>\n    <tr>\n      <th>0</th>\n      <td>[218, 113, 442, 338]</td>\n      <td>0</td>\n      <td>0</td>\n      <td>ii. distal body in anteversion</td>\n      <td>../../test_files/EGGIMazing/Dataset3/202401171...</td>\n      <td>PT002</td>\n    </tr>\n    <tr>\n      <th>1</th>\n      <td>[213, 228, 438, 452]</td>\n      <td>0</td>\n      <td>0</td>\n      <td>ix. distal lesser curvature in retroflexion</td>\n      <td>../../test_files/EGGIMazing/Dataset3/202401171...</td>\n      <td>PT002</td>\n    </tr>\n    <tr>\n      <th>2</th>\n      <td>[190, 231, 415, 455]</td>\n      <td>0</td>\n      <td>0</td>\n      <td>ix. distal lesser curvature in retroflexion</td>\n      <td>../../test_files/EGGIMazing/Dataset3/202401171...</td>\n      <td>PT002</td>\n    </tr>\n    <tr>\n      <th>3</th>\n      <td>[208, 235, 432, 460]</td>\n      <td>1</td>\n      <td>0</td>\n      <td>x. upper body in retroflexion</td>\n      <td>../../test_files/EGGIMazing/Dataset3/202401171...</td>\n      <td>PT002</td>\n    </tr>\n    <tr>\n      <th>4</th>\n      <td>[314, 153, 539, 378]</td>\n      <td>0</td>\n      <td>0</td>\n      <td>vii. proximal antrum - greater curvature/poste...</td>\n      <td>../../test_files/EGGIMazing/Dataset3/202401191...</td>\n      <td>PT003</td>\n    </tr>\n    <tr>\n      <th>...</th>\n      <td>...</td>\n      <td>...</td>\n      <td>...</td>\n      <td>...</td>\n      <td>...</td>\n      <td>...</td>\n    </tr>\n    <tr>\n      <th>861</th>\n      <td>[328, 212, 552, 436]</td>\n      <td>0</td>\n      <td>0</td>\n      <td>ix. distal lesser curvature in retroflexion</td>\n      <td>../../test_files/EGGIMazing/Dataset3/202410161...</td>\n      <td>PT086</td>\n    </tr>\n    <tr>\n      <th>862</th>\n      <td>[323, 178, 547, 403]</td>\n      <td>0</td>\n      <td>0</td>\n      <td>x. upper body in retroflexion</td>\n      <td>../../test_files/EGGIMazing/Dataset3/202410161...</td>\n      <td>PT086</td>\n    </tr>\n    <tr>\n      <th>863</th>\n      <td>[277, 140, 501, 364]</td>\n      <td>1</td>\n      <td>1</td>\n      <td>viii. incisura in retroflexion</td>\n      <td>../../test_files/EGGIMazing/Dataset3/202410161...</td>\n      <td>PT086</td>\n    </tr>\n    <tr>\n      <th>864</th>\n      <td>[262, 161, 486, 386]</td>\n      <td>2</td>\n      <td>2</td>\n      <td>vii. proximal antrum - greater curvature/poste...</td>\n      <td>../../test_files/EGGIMazing/Dataset3/202410161...</td>\n      <td>PT086</td>\n    </tr>\n    <tr>\n      <th>865</th>\n      <td>[232, 106, 456, 330]</td>\n      <td>1</td>\n      <td>1</td>\n      <td>vi. proximal antrum - lesser curvature</td>\n      <td>../../test_files/EGGIMazing/Dataset3/202410161...</td>\n      <td>PT086</td>\n    </tr>\n  </tbody>\n</table>\n<p>866 rows × 6 columns</p>\n</div>"
     },
     "execution_count": 12,
     "metadata": {},
     "output_type": "execute_result"
    }
   ],
   "source": [
    "df_togas[]"
   ],
   "metadata": {
    "collapsed": false
   }
  },
  {
   "cell_type": "code",
   "execution_count": 11,
   "outputs": [
    {
     "data": {
      "text/plain": "array([[0.36363636, 0.63636364, 0.54545455],\n       [0.72727273, 0.81818182, 0.54545455],\n       [0.5       , 0.8       , 0.5       ],\n       [1.        , 0.92857143, 0.92857143],\n       [0.84615385, 0.69230769, 0.84615385],\n       [1.        , 1.        , 1.        ],\n       [1.        , 1.        , 1.        ],\n       [1.        , 1.        , 1.        ],\n       [1.        , 1.        , 1.        ],\n       [1.        , 1.        , 1.        ],\n       [1.        , 0.83333333, 0.83333333],\n       [0.64285714, 0.78571429, 0.57142857],\n       [0.69230769, 1.        , 0.69230769],\n       [0.69230769, 0.76923077, 0.61538462],\n       [0.91666667, 1.        , 0.91666667],\n       [0.91666667, 1.        , 0.91666667],\n       [1.        , 1.        , 1.        ],\n       [0.41666667, 0.58333333, 0.66666667],\n       [0.83333333, 0.83333333, 1.        ],\n       [1.        , 1.        , 1.        ],\n       [0.91666667, 0.91666667, 0.83333333],\n       [0.91666667, 0.91666667, 1.        ],\n       [0.93333333, 0.93333333, 1.        ],\n       [0.76923077, 0.92307692, 0.84615385],\n       [1.        , 1.        , 1.        ],\n       [0.45454545, 0.81818182, 0.45454545],\n       [0.83333333, 0.91666667, 0.75      ],\n       [0.91666667, 0.91666667, 1.        ],\n       [0.88888889, 1.        , 0.88888889],\n       [1.        , 1.        , 1.        ],\n       [0.75      , 0.83333333, 0.75      ],\n       [0.81818182, 1.        , 0.81818182],\n       [0.90909091, 0.90909091, 1.        ],\n       [0.8       , 0.93333333, 0.73333333],\n       [0.78571429, 0.85714286, 0.78571429],\n       [1.        , 1.        , 1.        ],\n       [1.        , 0.81818182, 0.81818182],\n       [0.72727273, 0.81818182, 0.72727273],\n       [1.        , 1.        , 1.        ],\n       [1.        , 1.        , 1.        ],\n       [0.90909091, 0.81818182, 0.72727273],\n       [0.83333333, 1.        , 0.83333333],\n       [0.75      , 1.        , 0.75      ],\n       [0.5       , 0.91666667, 0.58333333],\n       [0.81818182, 1.        , 0.81818182],\n       [1.        , 1.        , 1.        ],\n       [0.7       , 0.9       , 0.8       ],\n       [0.90909091, 0.90909091, 1.        ],\n       [0.92307692, 0.92307692, 1.        ],\n       [1.        , 1.        , 1.        ],\n       [0.90909091, 1.        , 0.90909091],\n       [1.        , 1.        , 1.        ],\n       [1.        , 1.        , 1.        ],\n       [0.875     , 0.875     , 0.75      ],\n       [0.72727273, 0.72727273, 1.        ],\n       [0.63636364, 0.81818182, 0.81818182],\n       [0.90909091, 0.90909091, 1.        ],\n       [0.84615385, 0.84615385, 1.        ],\n       [1.        , 1.        , 1.        ],\n       [0.9       , 0.9       , 0.8       ],\n       [0.83333333, 0.83333333, 0.66666667],\n       [1.        , 1.        , 1.        ],\n       [1.        , 1.        , 1.        ],\n       [0.9       , 0.8       , 0.7       ],\n       [0.6       , 0.4       , 0.8       ]])"
     },
     "execution_count": 11,
     "metadata": {},
     "output_type": "execute_result"
    }
   ],
   "source": [
    "baseline_acc"
   ],
   "metadata": {
    "collapsed": false
   }
  },
  {
   "cell_type": "code",
   "execution_count": 26,
   "outputs": [
    {
     "data": {
      "text/plain": "<Figure size 1000x600 with 1 Axes>",
      "image/png": "[encoded data removed]"
     },
     "metadata": {},
     "output_type": "display_data"
    }
   ],
   "source": [
    "import numpy as np\n",
    "import pandas as pd\n",
    "import matplotlib.pyplot as plt\n",
    "import seaborn as sns\n",
    "\n",
    "# Assuming the numpy arrays are already loaded as baseline_acc, baseline_spec, baseline_sens\n",
    "\n",
    "# Compute the average value per row for each metric\n",
    "mean_spec = np.mean(baseline_spec, axis=1)\n",
    "mean_sens = np.mean(baseline_sens, axis=1)\n",
    "\n",
    "# Compute weighted accuracy\n",
    "weighted_acc = (mean_sens + mean_spec) / 2\n",
    "\n",
    "# Combine into a single dataframe for plotting\n",
    "df_plot = pd.DataFrame({\n",
    "    'Sensitivity': mean_sens,\n",
    "    'Specificity': mean_spec,\n",
    "    'Weighted Accuracy': weighted_acc\n",
    "})\n",
    "\n",
    "# Create boxplots with seaborn\n",
    "plt.figure(figsize=(10, 6))\n",
    "sns.set_style(\"whitegrid\")\n",
    "sns.set_context(\"talk\")\n",
    "ax = sns.boxplot(data=df_plot, palette=\"deep\", linewidth=2.5, showmeans=True,\n",
    "                 meanprops={\"marker\":\"o\", \"markerfacecolor\":\"red\", \"markeredgecolor\":\"black\", \"markersize\":\"10\"})\n",
    "plt.ylabel(\"Metric Values\", fontsize=16, fontweight='bold')\n",
    "plt.xlabel(\"\", fontsize=14)\n",
    "plt.title(\"Boxplots of Classification Metrics\", fontsize=18, fontweight='bold')\n",
    "plt.xticks(fontsize=14, fontweight='bold')\n",
    "plt.yticks(fontsize=14, fontweight='bold')\n",
    "plt.grid(True, linestyle=\"--\", linewidth=1.5, alpha=0.8)\n",
    "plt.show()"
   ],
   "metadata": {
    "collapsed": false
   }
  },
  {
   "cell_type": "code",
   "execution_count": 14,
   "outputs": [
    {
     "ename": "NameError",
     "evalue": "name 'baseline_acc' is not defined",
     "output_type": "error",
     "traceback": [
      "\u001B[0;31m---------------------------------------------------------------------------\u001B[0m",
      "\u001B[0;31mNameError\u001B[0m                                 Traceback (most recent call last)",
      "Cell \u001B[0;32mIn[14], line 1\u001B[0m\n\u001B[0;32m----> 1\u001B[0m \u001B[43mbaseline_acc\u001B[49m\n",
      "\u001B[0;31mNameError\u001B[0m: name 'baseline_acc' is not defined"
     ]
    }
   ],
   "source": [
    "baseline_acc"
   ],
   "metadata": {
    "collapsed": false
   }
  },
  {
   "cell_type": "code",
   "execution_count": 11,
   "outputs": [
    {
     "data": {
      "text/plain": "(array([0.84959655, 0.83387315, 0.87678275]),\n array([0.1570492 , 0.17940749, 0.1413994 ]))"
     },
     "execution_count": 11,
     "metadata": {},
     "output_type": "execute_result"
    }
   ],
   "source": [
    "np.nanmean((baseline_spec + baseline_sens) / 2, axis=0), np.nanstd((baseline_spec + baseline_sens) / 2, axis=0)"
   ],
   "metadata": {
    "collapsed": false
   }
  },
  {
   "cell_type": "code",
   "execution_count": 20,
   "outputs": [
    {
     "data": {
      "text/plain": "(0.8503662534912535, 0.16307962620936342)"
     },
     "execution_count": 20,
     "metadata": {},
     "output_type": "execute_result"
    }
   ],
   "source": [
    "np.nanmean((baseline_spec + baseline_sens) / 2), np.nanstd((baseline_spec + baseline_sens) / 2)"
   ],
   "metadata": {
    "collapsed": false
   }
  },
  {
   "cell_type": "code",
   "execution_count": 17,
   "outputs": [
    {
     "data": {
      "text/plain": "(array([0.85302369, 0.90410679, 0.86061161]),\n array([0.78057138, 0.72528139, 0.94423969]),\n array([0.93710317, 0.94991786, 0.84172646]))"
     },
     "execution_count": 17,
     "metadata": {},
     "output_type": "execute_result"
    }
   ],
   "source": [
    "np.nanmean(baseline_acc, axis=0), np.nanmean(baseline_sens, axis=0), np.nanmean(baseline_spec, axis=0)"
   ],
   "metadata": {
    "collapsed": false
   }
  },
  {
   "cell_type": "code",
   "execution_count": null,
   "outputs": [],
   "source": [
    "np.nanmean(feresnet_acc, axis=0), np.nanmean(feresnet_sens, axis=0), np.nanmean(feresnet_spec, axis=0)"
   ],
   "metadata": {
    "collapsed": false
   }
  },
  {
   "cell_type": "code",
   "execution_count": null,
   "outputs": [],
   "source": [
    "np.nanstd(baseline_acc, axis=0), np.nanstd(baseline_sens, axis=0), np.nanstd(baseline_spec, axis=0)"
   ],
   "metadata": {
    "collapsed": false
   }
  },
  {
   "cell_type": "code",
   "execution_count": null,
   "outputs": [],
   "source": [
    "np.nanstd(feresnet_acc, axis=0), np.nanstd(feresnet_sens, axis=0), np.nanstd(feresnet_spec, axis=0)"
   ],
   "metadata": {
    "collapsed": false
   }
  },
  {
   "cell_type": "code",
   "execution_count": null,
   "outputs": [],
   "source": [
    "def parse_metric_list(metric_list):\n",
    "    data = np.array([metric_list[0], np.nanmean(metric_list[1], axis=1), np.nanmean(metric_list[2], axis=1)])\n",
    "    return data"
   ],
   "metadata": {
    "collapsed": false
   }
  },
  {
   "cell_type": "code",
   "execution_count": null,
   "outputs": [],
   "source": [
    "np.nanmean(baseline_acc), np.nanstd(baseline_acc)"
   ],
   "metadata": {
    "collapsed": false
   }
  },
  {
   "cell_type": "code",
   "execution_count": null,
   "outputs": [],
   "source": [
    "data = np.array([cat_acc, np.nanmean(spec, axis=1), np.nanmean(sens, axis=1)])"
   ],
   "metadata": {
    "collapsed": false
   }
  },
  {
   "cell_type": "code",
   "execution_count": null,
   "outputs": [],
   "source": [
    "data.shape"
   ],
   "metadata": {
    "collapsed": false
   }
  },
  {
   "cell_type": "code",
   "execution_count": null,
   "outputs": [],
   "source": [
    "np.mean(data, axis=1), np.std(data, axis=1)"
   ],
   "metadata": {
    "collapsed": false
   }
  },
  {
   "cell_type": "code",
   "execution_count": null,
   "outputs": [],
   "source": [
    "!ls ../../configs/"
   ],
   "metadata": {
    "collapsed": false
   }
  },
  {
   "cell_type": "code",
   "execution_count": 9,
   "outputs": [
    {
     "name": "stdout",
     "output_type": "stream",
     "text": [
      "                      bbox  eggim_global  eggim_square            landmark  \\\n",
      "0     [221, 135, 445, 359]             1             1           distal lc   \n",
      "1     [147, 176, 371, 400]             0             0          incisura r   \n",
      "2     [226, 216, 449, 440]             2             2          incisura r   \n",
      "3     [198, 130, 422, 355]             2             2          incisura r   \n",
      "4     [208, 142, 432, 365]             2             2  proximal ant gc/pw   \n",
      "...                    ...           ...           ...                 ...   \n",
      "1275  [328, 212, 552, 436]             0             0           distal lc   \n",
      "1276  [323, 178, 547, 403]             0             0        upper body r   \n",
      "1277  [277, 140, 501, 364]             1             1          incisura r   \n",
      "1278  [262, 161, 486, 386]             2             2  proximal ant gc/pw   \n",
      "1279  [232, 106, 456, 330]             1             1     proximal ant lc   \n",
      "\n",
      "                                        image_directory  patient_id  \n",
      "0     ../../test_files/EGGIMazing/Dataset3/201909270...  2019092708  \n",
      "1     ../../test_files/EGGIMazing/Dataset3/201909271...  2019092710  \n",
      "2     ../../test_files/EGGIMazing/Dataset3/201909271...  2019092711  \n",
      "3     ../../test_files/EGGIMazing/Dataset3/201909300...  2019093009  \n",
      "4     ../../test_files/EGGIMazing/Dataset3/201909300...  2019093009  \n",
      "...                                                 ...         ...  \n",
      "1275  ../../test_files/EGGIMazing/Dataset3/202410161...       PT086  \n",
      "1276  ../../test_files/EGGIMazing/Dataset3/202410161...       PT086  \n",
      "1277  ../../test_files/EGGIMazing/Dataset3/202410161...       PT086  \n",
      "1278  ../../test_files/EGGIMazing/Dataset3/202410161...       PT086  \n",
      "1279  ../../test_files/EGGIMazing/Dataset3/202410161...       PT086  \n",
      "\n",
      "[1280 rows x 6 columns]\n"
     ]
    }
   ],
   "source": [
    "from evaluation.eggim import *\n",
    "def replace_landmark_name(landmark):\n",
    "    new_landmark_name = {'ii': 'distal body',\n",
    "                    'ix': 'distal lc',\n",
    "                    'vi': 'proximal ant lc',\n",
    "                    'vii': 'proximal ant gc/pw',\n",
    "                    'viii': 'incisura r',\n",
    "                    'x': 'upper body r',\n",
    "                    'xii': 'upper body ant'}\n",
    "    landmark_number = landmark.split('.')[0]\n",
    "    return new_landmark_name[landmark_number]\n",
    "\n",
    "\n",
    "\n",
    "\n",
    "dp = DatasetProcessor(target_dir)\n",
    "df = dp.process()\n",
    "df['landmark'] = df['landmark'].apply(replace_landmark_name)\n",
    "\n",
    "print(df)\n",
    "patient_ids = np.load('../../configs/new_patient_ids.npy', allow_pickle=True)\n",
    "\n",
    "togas_ids_boolean = np.array([x.startswith('PT') for x in df['patient_id'].values])\n",
    "df_togas = df[togas_ids_boolean].reset_index(drop=True)\n",
    "df_ipo = df[~togas_ids_boolean].reset_index(drop=True)\n"
   ],
   "metadata": {
    "collapsed": false
   }
  },
  {
   "cell_type": "code",
   "execution_count": null,
   "outputs": [],
   "source": [
    "df_tog"
   ],
   "metadata": {
    "collapsed": false
   }
  },
  {
   "cell_type": "code",
   "execution_count": null,
   "outputs": [],
   "source": [
    "df = df_togas[['landmark', 'eggim_square']].value_counts()\n",
    "df"
   ],
   "metadata": {
    "collapsed": false
   }
  },
  {
   "cell_type": "code",
   "execution_count": 20,
   "outputs": [],
   "source": [
    "def compute_eggim_patient(patient_df, target_variable):\n",
    "    df = patient_df[['landmark', target_variable]].value_counts()\n",
    "\n",
    "    # Assume first landmark/score pair is correct\n",
    "    eggim_antrum_incisura = (\n",
    "        df['proximal ant lc'].index[0] +\n",
    "        df['proximal ant gc/pw'].index[0] +\n",
    "        df['incisura r'].index[0]\n",
    "    )\n",
    "\n",
    "    # Compute eggim_body_1\n",
    "    body_1_values = []\n",
    "    if 'distal body' in df:\n",
    "        body_1_values.append(df['distal body'].index[0])\n",
    "    if 'upper body ant' in df:\n",
    "        body_1_values.append(df['upper body ant'].index[0])\n",
    "\n",
    "    if body_1_values:\n",
    "        eggim_body_1 = sum(body_1_values) / len(body_1_values)\n",
    "\n",
    "    # Compute eggim_body_2\n",
    "    body_2_values = []\n",
    "    if 'distal lc' in df:\n",
    "        body_2_values.append(df['distal lc'].index[0])\n",
    "    if 'upper body r' in df:\n",
    "        body_2_values.append(df['upper body r'].index[0])\n",
    "\n",
    "    if body_2_values:\n",
    "        eggim_body_2 = sum(body_2_values) / len(body_2_values)\n",
    "\n",
    "    return eggim_antrum_incisura + eggim_body_1 + eggim_body_2"
   ],
   "metadata": {
    "collapsed": false
   }
  },
  {
   "cell_type": "code",
   "execution_count": null,
   "outputs": [],
   "source": [],
   "metadata": {
    "collapsed": false
   }
  },
  {
   "cell_type": "code",
   "execution_count": 11,
   "outputs": [],
   "source": [
    "landmark_metrics = {'proximal ant lc': [],\n",
    "                    'proximal ant gc/pw': [],\n",
    "                    'incisura r': [],\n",
    "                    'distal body': [],\n",
    "                    'upper body ant': [],\n",
    "                    'distal lc': [],\n",
    "                    'upper body r': []\n",
    "                    }"
   ],
   "metadata": {
    "collapsed": false
   }
  },
  {
   "cell_type": "code",
   "execution_count": 18,
   "outputs": [
    {
     "data": {
      "text/plain": "[array([0, 0, 1, 0, 0, 0, 0, 0, 2, 0, 2]),\n array([0, 1, 1, 2, 0, 2, 2, 1, 1, 0, 0]),\n array([1, 0, 0, 0, 0, 0, 0, 0, 1, 0]),\n array([2, 2, 2, 2, 1, 2, 2, 0, 1, 2, 2, 2, 2, 2]),\n array([1, 2, 2, 2, 0, 0, 0, 1, 0, 1, 1, 2, 2]),\n array([1, 0, 0, 0, 0, 0, 2, 2, 0, 0]),\n array([0, 0, 0, 0, 0, 0, 0, 0, 0, 0, 0, 0]),\n array([0, 0, 0, 0, 0, 0, 0, 0, 0, 0, 0]),\n array([1, 0, 0, 0, 0, 0, 0, 0, 0, 1, 0, 0, 0]),\n array([2, 2, 2, 1, 2, 1, 2, 2, 2, 0]),\n array([2, 2, 2, 2, 1, 0, 2, 2, 2, 1, 2, 2]),\n array([0, 0, 0, 1, 1, 0, 0, 0, 0, 0, 1, 0, 1, 1]),\n array([0, 2, 2, 2, 0, 0, 0, 2, 2, 2, 2, 2, 2]),\n array([0, 1, 0, 1, 1, 0, 2, 1, 1, 2, 1, 0, 0]),\n array([1, 0, 1, 0, 0, 0, 0, 0, 0, 1, 0, 0]),\n array([0, 2, 1, 1, 1, 1, 0, 0, 0, 2, 0, 1]),\n array([0, 2, 2, 2, 0, 0, 0, 0, 0, 1, 2, 2, 2, 2]),\n array([0, 1, 0, 0, 0, 0, 0, 1, 1, 0, 0, 1]),\n array([0, 0, 0, 0, 0, 0, 0, 0, 0, 1, 0, 0]),\n array([2, 1, 2, 1, 0, 0, 0, 0, 0, 0, 1, 1, 2]),\n array([0, 0, 1, 1, 1, 2, 0, 1, 1, 0, 1, 1]),\n array([2, 2, 2, 2, 2, 2, 1, 0, 0, 2, 2, 2]),\n array([1, 2, 0, 0, 0, 0, 0, 0, 0, 0, 0, 0, 2, 0, 1]),\n array([0, 0, 0, 0, 0, 1, 1, 0, 0, 0, 0, 2, 1]),\n array([1, 0, 0, 2, 0, 0, 0, 0, 0, 2, 0, 1]),\n array([0, 0, 0, 1, 0, 0, 0, 0, 0, 1, 2]),\n array([0, 1, 2, 2, 2, 0, 0, 2, 2, 2, 0, 0]),\n array([0, 0, 1, 0, 0, 0, 0, 0, 0, 2, 1, 2]),\n array([1, 2, 2, 1, 2, 1, 0, 2, 2, 2, 2, 1, 0, 1, 1, 2, 1, 2]),\n array([2, 2, 0, 2, 0, 0, 0, 1, 1, 2, 0]),\n array([1, 0, 0, 1, 0, 0, 0, 0, 1, 1, 0, 1]),\n array([0, 0, 0, 0, 0, 0, 0, 0, 0, 0, 0]),\n array([0, 0, 0, 0, 1, 1, 0, 0, 1, 0, 1]),\n array([0, 0, 0, 0, 0, 0, 2, 0, 1, 0, 0, 0, 0, 0, 0]),\n array([1, 0, 1, 1, 1, 0, 0, 0, 0, 0, 0, 2, 1, 1]),\n array([0, 0, 0, 0, 0, 1, 0, 0, 0, 0, 0, 0]),\n array([2, 1, 1, 1, 1, 1, 1, 2, 1, 2, 1]),\n array([1, 0, 0, 1, 0, 0, 0, 0, 1, 0, 1]),\n array([0, 2, 1, 1, 1, 0, 0, 0, 0, 0, 1]),\n array([2, 2, 2, 2, 0, 0, 2, 2, 2]),\n array([0, 0, 0, 1, 0, 0, 0, 1, 1, 2, 1]),\n array([0, 2, 0, 2, 0, 0, 0, 0, 0, 2, 0, 2]),\n array([0, 0, 0, 0, 1, 0, 0, 0, 0, 0, 2, 0]),\n array([0, 1, 0, 0, 1, 1, 0, 0, 0, 1, 0, 0]),\n array([0, 0, 0, 0, 0, 0, 0, 0, 0, 0, 0]),\n array([1, 0, 0, 0, 0, 1, 0, 1, 0, 0, 1]),\n array([0, 0, 0, 0, 0, 0, 0, 1, 1, 0]),\n array([0, 0, 1, 0, 0, 0, 0, 0, 1, 0, 0]),\n array([0, 0, 1, 1, 1, 1, 0, 0, 0, 0, 1, 0, 1]),\n array([0, 2, 0, 2, 0, 0, 0, 0, 1]),\n array([0, 0, 0, 0, 0, 0, 0, 0, 0, 0, 0]),\n array([0, 0, 1, 1, 0, 1, 0, 0, 0]),\n array([0, 0, 0, 0, 0, 0, 0, 0, 0, 0]),\n array([0, 0, 1, 0, 2, 0, 0, 1]),\n array([1, 0, 2, 1, 0, 1, 1, 0, 2, 0, 1]),\n array([0, 0, 1, 0, 0, 0, 0, 0, 1, 0, 0]),\n array([0, 0, 0, 0, 0, 0, 0, 0, 0, 0, 0]),\n array([0, 1, 0, 0, 0, 0, 0, 0, 0, 0, 1, 0, 0]),\n array([0, 1, 0, 0, 1, 0, 0, 1, 0]),\n array([1, 0, 0, 0, 0, 0, 0, 0, 1, 1]),\n array([1, 1, 1, 2, 0, 2]),\n array([0, 0, 0, 0, 2, 2, 2, 0, 0, 2, 1, 2, 0]),\n array([0, 0, 0, 0, 0, 0, 0, 0, 0, 1, 0]),\n array([2, 2, 1, 1, 1, 0, 1, 1, 2, 2]),\n array([0, 0, 0, 1, 1, 0, 0, 1, 2, 1])]"
     },
     "execution_count": 18,
     "metadata": {},
     "output_type": "execute_result"
    }
   ],
   "source": [
    "y_true_ordinals"
   ],
   "metadata": {
    "collapsed": false
   }
  },
  {
   "cell_type": "code",
   "execution_count": 15,
   "outputs": [],
   "source": [
    "landmarks_per_patient = []\n",
    "for i, patient_id in enumerate(patient_ids):\n",
    "    df_patient = df_togas[df_togas['patient_id'] == patient_id]\n",
    "    landmarks_per_patient += list(df_patient.landmark.values)"
   ],
   "metadata": {
    "collapsed": false
   }
  },
  {
   "cell_type": "code",
   "execution_count": 55,
   "outputs": [
    {
     "data": {
      "text/plain": "['distal body',\n 'proximal ant lc',\n 'incisura r',\n 'distal lc',\n 'upper body r',\n 'upper body ant',\n 'distal body',\n 'distal lc',\n 'incisura r',\n 'proximal ant gc/pw',\n 'proximal ant lc',\n 'proximal ant gc/pw',\n 'proximal ant lc',\n 'incisura r',\n 'upper body r',\n 'upper body ant',\n 'proximal ant gc/pw',\n 'proximal ant lc',\n 'incisura r',\n 'incisura r',\n 'distal body',\n 'distal lc',\n 'incisura r',\n 'distal body',\n 'upper body r',\n 'distal lc',\n 'upper body ant',\n 'distal body',\n 'distal lc',\n 'incisura r',\n 'proximal ant gc/pw',\n 'proximal ant lc',\n 'distal body',\n 'proximal ant gc/pw',\n 'proximal ant lc',\n 'incisura r',\n 'upper body r',\n 'upper body ant',\n 'incisura r',\n 'distal body',\n 'distal lc',\n 'proximal ant gc/pw',\n 'proximal ant gc/pw',\n 'proximal ant gc/pw',\n 'proximal ant lc',\n 'proximal ant lc',\n 'proximal ant lc',\n 'proximal ant gc/pw',\n 'incisura r',\n 'incisura r',\n 'upper body r',\n 'distal lc',\n 'distal body',\n 'proximal ant lc',\n 'distal body',\n 'distal lc',\n 'incisura r',\n 'proximal ant gc/pw',\n 'proximal ant lc',\n 'proximal ant gc/pw',\n 'proximal ant lc',\n 'incisura r',\n 'distal lc',\n 'upper body r',\n 'distal body',\n 'proximal ant gc/pw',\n 'proximal ant gc/pw',\n 'distal body',\n 'distal lc',\n 'proximal ant lc',\n 'proximal ant gc/pw',\n 'incisura r',\n 'upper body r',\n 'distal lc',\n 'proximal ant gc/pw',\n 'upper body ant',\n 'proximal ant gc/pw',\n 'proximal ant lc',\n 'incisura r',\n 'upper body ant',\n 'distal lc',\n 'proximal ant gc/pw',\n 'distal lc',\n 'upper body r',\n 'distal body',\n 'upper body ant',\n 'distal body',\n 'proximal ant gc/pw',\n 'proximal ant lc',\n 'incisura r',\n 'distal body',\n 'distal lc',\n 'incisura r',\n 'distal lc',\n 'upper body r',\n 'upper body r',\n 'distal lc',\n 'upper body ant',\n 'upper body ant',\n 'distal body',\n 'proximal ant gc/pw',\n 'proximal ant lc',\n 'incisura r',\n 'distal body',\n 'distal lc',\n 'proximal ant gc/pw',\n 'proximal ant lc',\n 'incisura r',\n 'distal lc',\n 'upper body r',\n 'distal body',\n 'proximal ant gc/pw',\n 'proximal ant lc',\n 'incisura r',\n 'upper body ant',\n 'proximal ant gc/pw',\n 'distal body',\n 'upper body r',\n 'distal lc',\n 'distal lc',\n 'upper body ant',\n 'upper body r',\n 'proximal ant gc/pw',\n 'proximal ant lc',\n 'incisura r',\n 'upper body ant',\n 'distal lc',\n 'proximal ant gc/pw',\n 'proximal ant gc/pw',\n 'proximal ant lc',\n 'distal lc',\n 'distal lc',\n 'upper body r',\n 'upper body ant',\n 'proximal ant lc',\n 'proximal ant lc',\n 'distal lc',\n 'incisura r',\n 'incisura r',\n 'incisura r',\n 'distal lc',\n 'distal body',\n 'distal lc',\n 'incisura r',\n 'proximal ant lc',\n 'upper body r',\n 'upper body ant',\n 'distal body',\n 'distal lc',\n 'distal lc',\n 'distal lc',\n 'proximal ant gc/pw',\n 'incisura r',\n 'proximal ant lc',\n 'incisura r',\n 'distal body',\n 'proximal ant gc/pw',\n 'proximal ant lc',\n 'incisura r',\n 'distal lc',\n 'upper body r',\n 'upper body ant',\n 'upper body ant',\n 'distal lc',\n 'incisura r',\n 'proximal ant lc',\n 'proximal ant gc/pw',\n 'proximal ant gc/pw',\n 'proximal ant lc',\n 'incisura r',\n 'upper body r',\n 'distal lc',\n 'upper body r',\n 'distal body',\n 'distal body',\n 'distal lc',\n 'incisura r',\n 'proximal ant gc/pw',\n 'proximal ant lc',\n 'distal body',\n 'proximal ant gc/pw',\n 'proximal ant lc',\n 'incisura r',\n 'distal lc',\n 'upper body r',\n 'upper body ant',\n 'upper body ant',\n 'distal lc',\n 'incisura r',\n 'proximal ant gc/pw',\n 'proximal ant lc',\n 'distal body',\n 'proximal ant lc',\n 'incisura r',\n 'distal lc',\n 'upper body r',\n 'upper body ant',\n 'upper body ant',\n 'upper body ant',\n 'distal body',\n 'distal lc',\n 'incisura r',\n 'proximal ant gc/pw',\n 'proximal ant gc/pw',\n 'proximal ant lc',\n 'upper body ant',\n 'distal body',\n 'proximal ant gc/pw',\n 'proximal ant lc',\n 'incisura r',\n 'distal lc',\n 'upper body r',\n 'upper body ant',\n 'distal lc',\n 'incisura r',\n 'proximal ant gc/pw',\n 'proximal ant lc',\n 'distal body',\n 'proximal ant gc/pw',\n 'proximal ant lc',\n 'incisura r',\n 'distal lc',\n 'upper body r',\n 'upper body ant',\n 'distal body',\n 'distal lc',\n 'incisura r',\n 'proximal ant gc/pw',\n 'proximal ant lc',\n 'proximal ant lc',\n 'proximal ant gc/pw',\n 'proximal ant lc',\n 'incisura r',\n 'upper body r',\n 'distal lc',\n 'distal lc',\n 'distal body',\n 'distal lc',\n 'distal lc',\n 'incisura r',\n 'proximal ant gc/pw',\n 'proximal ant lc',\n 'distal body',\n 'proximal ant gc/pw',\n 'proximal ant lc',\n 'incisura r',\n 'distal lc',\n 'upper body r',\n 'upper body ant',\n 'upper body ant',\n 'distal lc',\n 'incisura r',\n 'proximal ant gc/pw',\n 'proximal ant lc',\n 'proximal ant gc/pw',\n 'proximal ant gc/pw',\n 'proximal ant lc',\n 'incisura r',\n 'distal lc',\n 'upper body r',\n 'upper body ant',\n 'distal body',\n 'distal lc',\n 'incisura r',\n 'proximal ant gc/pw',\n 'proximal ant lc',\n 'distal body',\n 'proximal ant gc/pw',\n 'proximal ant gc/pw',\n 'proximal ant lc',\n 'incisura r',\n 'distal lc',\n 'distal lc',\n 'upper body ant',\n 'distal body',\n 'distal body',\n 'distal lc',\n 'incisura r',\n 'proximal ant gc/pw',\n 'proximal ant lc',\n 'proximal ant lc',\n 'distal body',\n 'proximal ant gc/pw',\n 'proximal ant gc/pw',\n 'proximal ant lc',\n 'incisura r',\n 'distal lc',\n 'upper body r',\n 'upper body ant',\n 'upper body ant',\n 'distal lc',\n 'proximal ant lc',\n 'proximal ant gc/pw',\n 'proximal ant lc',\n 'proximal ant lc',\n 'proximal ant gc/pw',\n 'proximal ant lc',\n 'incisura r',\n 'distal lc',\n 'distal lc',\n 'distal lc',\n 'distal lc',\n 'upper body ant',\n 'incisura r',\n 'proximal ant lc',\n 'proximal ant gc/pw',\n 'distal body',\n 'proximal ant gc/pw',\n 'incisura r',\n 'distal lc',\n 'upper body r',\n 'upper body ant',\n 'upper body ant',\n 'distal lc',\n 'incisura r',\n 'proximal ant gc/pw',\n 'proximal ant lc',\n 'distal body',\n 'proximal ant gc/pw',\n 'proximal ant lc',\n 'incisura r',\n 'distal lc',\n 'upper body r',\n 'upper body ant',\n 'proximal ant gc/pw',\n 'proximal ant lc',\n 'incisura r',\n 'upper body ant',\n 'distal lc',\n 'distal body',\n 'proximal ant gc/pw',\n 'proximal ant lc',\n 'incisura r',\n 'upper body r',\n 'upper body ant',\n 'upper body ant',\n 'distal lc',\n 'incisura r',\n 'proximal ant gc/pw',\n 'proximal ant lc',\n 'proximal ant lc',\n 'proximal ant gc/pw',\n 'proximal ant lc',\n 'proximal ant lc',\n 'incisura r',\n 'distal lc',\n 'upper body r',\n 'upper body ant',\n 'proximal ant lc',\n 'incisura r',\n 'incisura r',\n 'distal lc',\n 'upper body r',\n 'upper body ant',\n 'distal lc',\n 'distal lc',\n 'incisura r',\n 'proximal ant gc/pw',\n 'proximal ant lc',\n 'proximal ant lc',\n 'proximal ant gc/pw',\n 'distal lc',\n 'upper body r',\n 'incisura r',\n 'distal body',\n 'upper body ant',\n 'distal lc',\n 'incisura r',\n 'proximal ant gc/pw',\n 'proximal ant lc',\n 'incisura r',\n 'proximal ant gc/pw',\n 'proximal ant lc',\n 'incisura r',\n 'distal lc',\n 'upper body r',\n 'upper body ant',\n 'distal body',\n 'distal lc',\n 'incisura r',\n 'proximal ant gc/pw',\n 'proximal ant lc',\n 'distal body',\n 'proximal ant gc/pw',\n 'proximal ant lc',\n 'incisura r',\n 'distal lc',\n 'upper body ant',\n 'distal body',\n 'distal lc',\n 'incisura r',\n 'proximal ant gc/pw',\n 'proximal ant lc',\n 'distal body',\n 'proximal ant gc/pw',\n 'proximal ant lc',\n 'incisura r',\n 'distal lc',\n 'upper body r',\n 'upper body ant',\n 'distal lc',\n 'incisura r',\n 'proximal ant gc/pw',\n 'proximal ant lc',\n 'upper body ant',\n 'distal body',\n 'proximal ant gc/pw',\n 'proximal ant lc',\n 'proximal ant lc',\n 'incisura r',\n 'distal lc',\n 'upper body r',\n 'upper body ant',\n 'proximal ant gc/pw',\n 'upper body ant',\n 'distal lc',\n 'incisura r',\n 'proximal ant gc/pw',\n 'proximal ant lc',\n 'proximal ant gc/pw',\n 'proximal ant gc/pw',\n 'proximal ant lc',\n 'incisura r',\n 'incisura r',\n 'distal lc',\n 'upper body r',\n 'upper body r',\n 'upper body ant',\n 'upper body ant',\n 'distal lc',\n 'incisura r',\n 'proximal ant gc/pw',\n 'proximal ant lc',\n 'proximal ant gc/pw',\n 'proximal ant lc',\n 'proximal ant lc',\n 'incisura r',\n 'distal lc',\n 'upper body r',\n 'distal body',\n 'proximal ant lc',\n 'proximal ant lc',\n 'incisura r',\n 'upper body ant',\n 'distal lc',\n 'proximal ant gc/pw',\n 'proximal ant lc',\n 'incisura r',\n 'distal lc',\n 'upper body r',\n 'upper body ant',\n 'distal body',\n 'distal lc',\n 'incisura r',\n 'proximal ant gc/pw',\n 'proximal ant lc',\n 'proximal ant lc',\n 'distal body',\n 'proximal ant gc/pw',\n 'incisura r',\n 'distal lc',\n 'upper body r',\n 'upper body ant',\n 'distal lc',\n 'incisura r',\n 'proximal ant gc/pw',\n 'proximal ant lc',\n 'distal body',\n 'proximal ant gc/pw',\n 'proximal ant lc',\n 'incisura r',\n 'distal lc',\n 'upper body r',\n 'upper body ant',\n 'upper body ant',\n 'distal lc',\n 'proximal ant gc/pw',\n 'proximal ant lc',\n 'proximal ant lc',\n 'proximal ant gc/pw',\n 'incisura r',\n 'distal lc',\n 'upper body ant',\n 'distal body',\n 'distal lc',\n 'proximal ant gc/pw',\n 'proximal ant lc',\n 'proximal ant gc/pw',\n 'proximal ant gc/pw',\n 'proximal ant lc',\n 'incisura r',\n 'distal lc',\n 'upper body r',\n 'upper body ant',\n 'upper body ant',\n 'incisura r',\n 'proximal ant gc/pw',\n 'proximal ant lc',\n 'distal body',\n 'proximal ant lc',\n 'proximal ant gc/pw',\n 'incisura r',\n 'distal lc',\n 'upper body r',\n 'upper body ant',\n 'distal body',\n 'distal lc',\n 'incisura r',\n 'proximal ant gc/pw',\n 'proximal ant lc',\n 'distal body',\n 'proximal ant gc/pw',\n 'proximal ant lc',\n 'proximal ant gc/pw',\n 'incisura r',\n 'distal lc',\n 'upper body r',\n 'upper body ant',\n 'distal body',\n 'distal lc',\n 'incisura r',\n 'proximal ant gc/pw',\n 'distal body',\n 'distal lc',\n 'proximal ant lc',\n 'proximal ant gc/pw',\n 'incisura r',\n 'distal lc',\n 'upper body r',\n 'upper body ant',\n 'distal body',\n 'distal lc',\n 'incisura r',\n 'proximal ant gc/pw',\n 'distal body',\n 'proximal ant gc/pw',\n 'proximal ant gc/pw',\n 'proximal ant lc',\n 'incisura r',\n 'distal lc',\n 'upper body r',\n 'distal lc',\n 'incisura r',\n 'proximal ant gc/pw',\n 'proximal ant lc',\n 'proximal ant lc',\n 'incisura r',\n 'distal lc',\n 'upper body r',\n 'upper body ant',\n 'upper body ant',\n 'distal body',\n 'distal lc',\n 'incisura r',\n 'proximal ant gc/pw',\n 'proximal ant lc',\n 'distal body',\n 'proximal ant lc',\n 'proximal ant gc/pw',\n 'incisura r',\n 'distal lc',\n 'upper body r',\n 'distal body',\n 'distal lc',\n 'incisura r',\n 'proximal ant gc/pw',\n 'distal body',\n 'proximal ant gc/pw',\n 'incisura r',\n 'proximal ant gc/pw',\n 'distal lc',\n 'upper body r',\n 'upper body ant',\n 'distal lc',\n 'incisura r',\n 'proximal ant lc',\n 'proximal ant gc/pw',\n 'distal body',\n 'proximal ant gc/pw',\n 'proximal ant gc/pw',\n 'proximal ant lc',\n 'proximal ant gc/pw',\n 'incisura r',\n 'distal lc',\n 'upper body r',\n 'distal body',\n 'distal lc',\n 'incisura r',\n 'proximal ant gc/pw',\n 'proximal ant lc',\n 'distal body',\n 'proximal ant lc',\n 'proximal ant gc/pw',\n 'incisura r',\n 'distal lc',\n 'upper body r',\n 'upper body ant',\n 'distal lc',\n 'proximal ant gc/pw',\n 'proximal ant gc/pw',\n 'proximal ant lc',\n 'proximal ant gc/pw',\n 'incisura r',\n 'distal lc',\n 'distal lc',\n 'upper body ant',\n 'upper body ant',\n 'distal lc',\n 'incisura r',\n 'proximal ant lc',\n 'distal body',\n 'proximal ant lc',\n 'distal lc',\n 'upper body ant',\n 'distal body',\n 'distal lc',\n 'incisura r',\n 'proximal ant gc/pw',\n 'proximal ant lc',\n 'proximal ant lc',\n 'proximal ant gc/pw',\n 'incisura r',\n 'distal lc',\n 'distal lc',\n 'distal body',\n 'distal lc',\n 'incisura r',\n 'proximal ant gc/pw',\n 'proximal ant lc',\n 'distal body',\n 'distal body',\n 'proximal ant lc',\n 'upper body ant',\n 'distal lc',\n 'incisura r',\n 'proximal ant gc/pw',\n 'proximal ant lc',\n 'proximal ant lc',\n 'proximal ant gc/pw',\n 'incisura r',\n 'distal lc',\n 'upper body r',\n 'upper body ant',\n 'upper body ant',\n 'distal lc',\n 'incisura r',\n 'proximal ant gc/pw',\n 'proximal ant lc',\n 'proximal ant lc',\n 'proximal ant gc/pw',\n 'incisura r',\n 'distal lc',\n 'upper body r',\n 'distal body',\n 'upper body ant',\n 'distal lc',\n 'incisura r',\n 'proximal ant lc',\n 'proximal ant gc/pw',\n 'proximal ant lc',\n 'proximal ant gc/pw',\n 'incisura r',\n 'distal lc',\n 'upper body r',\n 'distal body',\n 'upper body ant',\n 'distal lc',\n 'incisura r',\n 'proximal ant gc/pw',\n 'proximal ant lc',\n 'proximal ant lc',\n 'proximal ant gc/pw',\n 'distal lc',\n 'incisura r',\n 'distal lc',\n 'upper body r',\n 'upper body r',\n 'upper body ant',\n 'upper body ant',\n 'distal lc',\n 'incisura r',\n 'proximal ant lc',\n 'proximal ant gc/pw',\n 'proximal ant gc/pw',\n 'proximal ant gc/pw',\n 'proximal ant lc',\n 'incisura r',\n 'distal lc',\n 'upper body ant',\n 'distal lc',\n 'incisura r',\n 'proximal ant gc/pw',\n 'proximal ant gc/pw',\n 'proximal ant lc',\n 'incisura r',\n 'distal lc',\n 'upper body r',\n 'upper body ant',\n 'distal lc',\n 'incisura r',\n 'proximal ant gc/pw',\n 'proximal ant lc',\n 'proximal ant gc/pw',\n 'proximal ant lc',\n 'incisura r',\n 'distal lc',\n 'upper body ant',\n 'distal lc',\n 'distal body',\n 'proximal ant gc/pw',\n 'proximal ant gc/pw',\n 'proximal ant gc/pw',\n 'proximal ant lc',\n 'incisura r',\n 'distal lc',\n 'upper body r',\n 'distal body',\n 'incisura r',\n 'distal lc',\n 'proximal ant lc',\n 'proximal ant gc/pw',\n 'proximal ant gc/pw',\n 'proximal ant lc',\n 'distal lc',\n 'upper body r',\n 'upper body ant',\n 'incisura r',\n 'upper body ant',\n 'distal lc',\n 'incisura r',\n 'proximal ant gc/pw',\n 'proximal ant lc',\n 'proximal ant gc/pw',\n 'proximal ant lc',\n 'incisura r',\n 'distal lc',\n 'upper body r',\n 'upper body ant',\n 'distal lc',\n 'incisura r',\n 'proximal ant gc/pw',\n 'proximal ant lc',\n 'distal body',\n 'proximal ant gc/pw',\n 'proximal ant gc/pw',\n 'proximal ant lc',\n 'incisura r',\n 'distal lc',\n 'upper body r',\n 'incisura r',\n 'proximal ant gc/pw',\n 'proximal ant lc']"
     },
     "execution_count": 55,
     "metadata": {},
     "output_type": "execute_result"
    }
   ],
   "source": [
    "landmarks_per_patient"
   ],
   "metadata": {
    "collapsed": false
   }
  },
  {
   "cell_type": "markdown",
   "source": [],
   "metadata": {
    "collapsed": false
   }
  },
  {
   "cell_type": "code",
   "execution_count": 63,
   "outputs": [
    {
     "data": {
      "text/plain": "array([0, 2, 2, 2, 2, 0, 1, 1, 2, 1, 0, 2, 2, 1, 2, 2, 2, 2, 2, 1, 0, 2,\n       1, 2, 2, 1, 0, 2, 0, 0, 2, 2, 2, 1, 2, 2, 1, 2, 2, 0, 1, 2, 2, 2,\n       2, 2, 2, 2, 2, 2, 0, 1, 1, 2, 0, 1, 1, 2, 2, 1, 0, 0, 0, 0, 0, 2,\n       2, 0, 0, 0, 0, 0, 0, 0, 0, 0, 0, 0, 0, 0, 0, 0, 0, 0, 0, 0, 0, 0,\n       0, 0, 0, 0, 1, 0, 0, 0, 0, 0, 0, 0, 0, 1, 0, 0, 0, 2, 2, 2, 1, 2,\n       1, 2, 2, 2, 0, 2, 2, 2, 2, 2, 0, 2, 2, 2, 2, 2, 2, 2, 0, 2, 1, 2,\n       0, 0, 2, 0, 2, 1, 1, 2, 1, 2, 2, 2, 2, 2, 2, 2, 2, 2, 2, 2, 2, 2,\n       2, 1, 0, 1, 1, 1, 2, 1, 2, 2, 2, 2, 2, 1, 0, 1, 0, 0, 0, 0, 0, 0,\n       1, 0, 2, 0, 2, 1, 1, 1, 1, 0, 0, 0, 2, 2, 1, 0, 2, 2, 2, 0, 0, 0,\n       0, 0, 1, 2, 2, 2, 2, 2, 1, 1, 2, 2, 1, 1, 1, 1, 0, 1, 2, 0, 0, 0,\n       0, 0, 1, 0, 0, 0, 1, 0, 1, 2, 1, 2, 1, 0, 0, 0, 0, 0, 0, 1, 1, 2,\n       0, 0, 1, 1, 1, 2, 0, 1, 1, 2, 1, 2, 2, 2, 2, 2, 2, 2, 0, 0, 0, 2,\n       2, 2, 0, 2, 0, 0, 0, 0, 0, 0, 0, 0, 0, 0, 2, 0, 1, 0, 1, 2, 0, 2,\n       1, 1, 0, 0, 0, 0, 2, 1, 1, 0, 0, 2, 0, 0, 0, 0, 0, 2, 0, 1, 2, 2,\n       2, 2, 2, 0, 0, 1, 2, 1, 2, 2, 2, 2, 2, 2, 0, 0, 2, 2, 2, 0, 2, 0,\n       0, 0, 0, 0, 0, 0, 0, 0, 2, 1, 2, 1, 2, 2, 1, 0, 1, 0, 0, 2, 2, 2,\n       1, 0, 1, 1, 2, 1, 2, 2, 2, 0, 2, 0, 0, 0, 1, 1, 2, 0, 1, 2, 0, 2,\n       2, 0, 0, 0, 1, 0, 0, 1, 0, 2, 2, 0, 0, 0, 0, 0, 0, 0, 0, 0, 0, 0,\n       1, 1, 1, 0, 0, 1, 0, 1, 0, 0, 0, 0, 0, 0, 2, 0, 2, 0, 2, 2, 2, 0,\n       0, 1, 1, 1, 1, 2, 0, 2, 2, 0, 0, 0, 2, 1, 1, 0, 0, 0, 0, 0, 1, 0,\n       0, 0, 0, 0, 0, 2, 1, 2, 1, 1, 1, 1, 2, 2, 2, 1, 1, 0, 0, 0, 0, 2,\n       2, 0, 1, 0, 2, 0, 2, 1, 1, 1, 0, 0, 0, 0, 0, 1, 2, 2, 2, 2, 0, 0,\n       2, 2, 2, 0, 0, 0, 1, 2, 0, 0, 1, 2, 2, 2, 2, 2, 0, 2, 0, 0, 0, 0,\n       0, 2, 2, 2, 0, 0, 0, 0, 1, 2, 2, 0, 2, 0, 2, 0, 0, 1, 2, 2, 1, 1,\n       2, 2, 0, 1, 2, 1, 0, 0, 0, 2, 2, 0, 0, 0, 0, 0, 0, 1, 0, 0, 0, 0,\n       1, 0, 1, 0, 0, 1, 2, 2, 1, 0, 0, 0, 0, 1, 1, 0, 0, 0, 1, 0, 0, 0,\n       0, 0, 0, 0, 0, 0, 0, 1, 1, 1, 1, 0, 0, 0, 1, 1, 0, 1, 0, 2, 0, 2,\n       0, 0, 0, 0, 1, 0, 0, 0, 0, 0, 0, 0, 0, 0, 0, 2, 0, 0, 1, 1, 0, 1,\n       0, 0, 0, 0, 0, 0, 0, 0, 0, 0, 0, 0, 0, 0, 0, 1, 0, 2, 2, 0, 2, 0,\n       0, 2, 0, 0, 1, 0, 0, 2, 0, 1, 2, 0, 1, 0, 0, 2, 1, 0, 0, 0, 0, 0,\n       1, 0, 0, 0, 0, 0, 0, 0, 0, 0, 0, 1, 0, 1, 1, 0, 0, 0, 0, 0, 1, 0,\n       0, 0, 1, 0, 0, 1, 0, 0, 1, 0, 1, 0, 2, 0, 0, 0, 0, 0, 2, 1, 1, 1,\n       2, 2, 2, 2, 0, 0, 0, 0, 2, 2, 2, 0, 0, 2, 1, 2, 0, 0, 0, 0, 0, 0,\n       0, 0, 0, 0, 1, 0, 0, 2, 2, 1, 1, 0, 1, 2, 2, 2, 0, 0, 1, 0, 2, 0,\n       0, 0, 1, 0])"
     },
     "execution_count": 63,
     "metadata": {},
     "output_type": "execute_result"
    }
   ],
   "source": [
    "np.array(landmarks_per_patient).shape, np.concatenate(y_true_ordinals).shape,\n"
   ],
   "metadata": {
    "collapsed": false
   }
  },
  {
   "cell_type": "code",
   "execution_count": 71,
   "outputs": [],
   "source": [],
   "metadata": {
    "collapsed": false
   }
  },
  {
   "cell_type": "code",
   "execution_count": 16,
   "outputs": [
    {
     "name": "stdout",
     "output_type": "stream",
     "text": [
      "distal body\n",
      "Sensitivity [0.82089552 0.8        1.        ] \n",
      "Specificity [0.85714286 0.97101449 0.86111111] \n",
      "Accuracy [0.82432432 0.95945946 0.86486486]\n",
      "\n",
      "distal lc\n",
      "Sensitivity [0.81609195 0.87878788 0.95      ] \n",
      "Specificity [0.96226415 0.92523364 0.90833333] \n",
      "Accuracy [0.87142857 0.91428571 0.91428571]\n",
      "\n",
      "incisura r\n",
      "Sensitivity [0.70212766 0.62       1.        ] \n",
      "Specificity [0.9382716  0.96153846 0.74226804] \n",
      "Accuracy [0.8515625 0.828125  0.8046875]\n",
      "\n",
      "proximal ant gc/pw\n",
      "Sensitivity [0.76829268 0.86363636 0.91666667] \n",
      "Specificity [0.98275862 0.90677966 0.875     ] \n",
      "Accuracy [0.85714286 0.9        0.88571429]\n",
      "\n",
      "proximal ant lc\n",
      "Sensitivity [0.75       0.68421053 0.94444444] \n",
      "Specificity [0.91891892 0.98913043 0.77659574] \n",
      "Accuracy [0.84615385 0.9        0.82307692]\n",
      "\n",
      "upper body ant\n",
      "Sensitivity [0.87692308 0.66666667 1.        ] \n",
      "Specificity [0.85714286 0.98507463 0.88311688] \n",
      "Accuracy [0.87341772 0.93670886 0.88607595]\n",
      "\n",
      "upper body r\n",
      "Sensitivity [0.75 1.   1.  ] \n",
      "Specificity [1.         0.96153846 0.83018868] \n",
      "Accuracy [0.81967213 0.96721311 0.85245902]\n",
      "\n"
     ]
    }
   ],
   "source": [
    "def get_sensitivity_specificity_accuracy_per_class(conf_mat):\n",
    "    \"\"\"\n",
    "    Given a K x K confusion matrix (for K classes),\n",
    "    return three arrays of length K:\n",
    "       sens[k], spec[k], acc[k]  for class k\n",
    "    computed in a one-vs-rest fashion for each class k.\n",
    "    \"\"\"\n",
    "\n",
    "    K = conf_mat.shape[0]\n",
    "    # Total samples\n",
    "    total = np.sum(conf_mat)\n",
    "\n",
    "    sens = np.zeros(K)\n",
    "    spec = np.zeros(K)\n",
    "    acc  = np.zeros(K)\n",
    "\n",
    "    for k in range(K):\n",
    "        TP = conf_mat[k, k]\n",
    "        FN = np.sum(conf_mat[k, :]) - TP\n",
    "        FP = np.sum(conf_mat[:, k]) - TP\n",
    "        TN = total - (TP + FN + FP)\n",
    "\n",
    "        # Sensitivity (a.k.a. recall, TPR)\n",
    "        sens[k] = TP / (TP + FN) if (TP + FN) > 0 else 0.0\n",
    "        # Specificity (TNR)\n",
    "        spec[k] = TN / (TN + FP) if (TN + FP) > 0 else 0.0\n",
    "        # One-vs-rest Accuracy for class k\n",
    "        acc[k]  = (TP + TN) / total if total > 0 else 0.0\n",
    "\n",
    "    return sens, spec, acc\n",
    "\n",
    "def mean_std_string(values, decimal_places=2):\n",
    "    \"\"\"\n",
    "    Return a string \"mean ± std\" with given decimal places.\n",
    "    Example: mean_std_string([0.92, 0.88, 0.95]) -> '0.92 ± 0.03'\n",
    "    \"\"\"\n",
    "    m = np.mean(values)\n",
    "    s = np.std(values, ddof=1)  # sample std\n",
    "    return f\"{m:.{decimal_places}f} ± {s:.{decimal_places}f}\"\n",
    "\n",
    "metrics_df = pd.DataFrame({'y_true': np.concatenate(y_true_ordinals),\n",
    "              'y_pred': np.concatenate(y_baseline_ordinals),\n",
    "              'landmark': np.array(landmarks_per_patient)})\n",
    "\n",
    "grouped = metrics_df.groupby(\"landmark\")\n",
    "sens_values_per_landmark = []\n",
    "spec_values_per_landmark = []\n",
    "acc_values_per_landmark = []\n",
    "for lm_name, group in grouped:\n",
    "    # Confusion matrix for just this landmark\n",
    "    print(lm_name)\n",
    "    cm_lm = confusion_matrix(group['y_true'], group['y_pred'], labels=[0, 1,2])\n",
    "    sens_lm, spec_lm, acc_lm = get_sensitivity_specificity_accuracy_per_class(cm_lm)\n",
    "    print(\"Sensitivity\", sens_lm, \"\\nSpecificity\", spec_lm, \"\\nAccuracy\", acc_lm)\n",
    "    # Average the three classes to get a single \"landmark-level\" sensitivity, etc.\n",
    "    sens_values_per_landmark.append(sens_lm)\n",
    "    spec_values_per_landmark.append(spec_lm)\n",
    "    acc_values_per_landmark.append(acc_lm)\n",
    "    print()"
   ],
   "metadata": {
    "collapsed": false
   }
  },
  {
   "cell_type": "code",
   "execution_count": 17,
   "outputs": [
    {
     "name": "stdout",
     "output_type": "stream",
     "text": [
      "distal body\n",
      "[0.82432432 0.95945946 0.86486486] [0.85714286 0.97101449 0.86111111] [0.82089552 0.8        1.        ]\n",
      "\n",
      "\n",
      "distal lc\n",
      "[0.87142857 0.91428571 0.91428571] [0.96226415 0.92523364 0.90833333] [0.81609195 0.87878788 0.95      ]\n",
      "\n",
      "\n",
      "incisura r\n",
      "[0.8515625 0.828125  0.8046875] [0.9382716  0.96153846 0.74226804] [0.70212766 0.62       1.        ]\n",
      "\n",
      "\n",
      "proximal ant gc/pw\n",
      "[0.85714286 0.9        0.88571429] [0.98275862 0.90677966 0.875     ] [0.76829268 0.86363636 0.91666667]\n",
      "\n",
      "\n",
      "proximal ant lc\n",
      "[0.84615385 0.9        0.82307692] [0.91891892 0.98913043 0.77659574] [0.75       0.68421053 0.94444444]\n",
      "\n",
      "\n",
      "upper body ant\n",
      "[0.87341772 0.93670886 0.88607595] [0.85714286 0.98507463 0.88311688] [0.87692308 0.66666667 1.        ]\n",
      "\n",
      "\n",
      "upper body r\n",
      "[0.81967213 0.96721311 0.85245902] [1.         0.96153846 0.83018868] [0.75 1.   1.  ]\n",
      "\n",
      "\n"
     ]
    }
   ],
   "source": [
    "metrics = []\n",
    "for lm_name, group in grouped:\n",
    "    # Confusion matrix for just this landmark\n",
    "    print(lm_name)\n",
    "    conf_matrix = confusion_matrix(group['y_true'], group['y_pred'], labels=[0, 1,2])\n",
    "\n",
    "    metrics.append([accuracy_per_class_(conf_matrix),\n",
    "                    specificity_per_class_(conf_matrix), sensitivity_per_class_(conf_matrix),\n",
    "                    conf_matrix])\n",
    "    # Average the three classes to get a single \"landmark-level\" sensitivity, etc.\n",
    "    print(accuracy_per_class_(conf_matrix),\n",
    "                    specificity_per_class_(conf_matrix), sensitivity_per_class_(conf_matrix))\n",
    "    print(\"\\n\")\n",
    "\n"
   ],
   "metadata": {
    "collapsed": false
   }
  },
  {
   "cell_type": "code",
   "execution_count": 126,
   "outputs": [
    {
     "name": "stdout",
     "output_type": "stream",
     "text": [
      "distal body\n"
     ]
    },
    {
     "ename": "AxisError",
     "evalue": "axis 1 is out of bounds for array of dimension 1",
     "output_type": "error",
     "traceback": [
      "\u001B[0;31m---------------------------------------------------------------------------\u001B[0m",
      "\u001B[0;31mAxisError\u001B[0m                                 Traceback (most recent call last)",
      "Cell \u001B[0;32mIn[126], line 4\u001B[0m\n\u001B[1;32m      2\u001B[0m \u001B[38;5;28mprint\u001B[39m(lm_name)\n\u001B[1;32m      3\u001B[0m \u001B[38;5;28;01mfor\u001B[39;00m j, l \u001B[38;5;129;01min\u001B[39;00m \u001B[38;5;28mzip\u001B[39m(\u001B[38;5;28mrange\u001B[39m(\u001B[38;5;241m3\u001B[39m), [\u001B[38;5;124m'\u001B[39m\u001B[38;5;124macc\u001B[39m\u001B[38;5;124m'\u001B[39m, \u001B[38;5;124m'\u001B[39m\u001B[38;5;124mspec\u001B[39m\u001B[38;5;124m'\u001B[39m, \u001B[38;5;124m'\u001B[39m\u001B[38;5;124msens\u001B[39m\u001B[38;5;124m'\u001B[39m]):\n\u001B[0;32m----> 4\u001B[0m     \u001B[38;5;28mprint\u001B[39m(l, \u001B[43mnp\u001B[49m\u001B[38;5;241;43m.\u001B[39;49m\u001B[43mmean\u001B[49m\u001B[43m(\u001B[49m\u001B[43mmetrics\u001B[49m\u001B[43m[\u001B[49m\u001B[43mi\u001B[49m\u001B[43m]\u001B[49m\u001B[43m[\u001B[49m\u001B[43mj\u001B[49m\u001B[43m]\u001B[49m\u001B[43m,\u001B[49m\u001B[43m \u001B[49m\u001B[43maxis\u001B[49m\u001B[38;5;241;43m=\u001B[39;49m\u001B[38;5;241;43m1\u001B[39;49m\u001B[43m)\u001B[49m, \u001B[38;5;124m\"\u001B[39m\u001B[38;5;124m+-\u001B[39m\u001B[38;5;124m\"\u001B[39m, np\u001B[38;5;241m.\u001B[39mstd(metrics[i][j], axis\u001B[38;5;241m=\u001B[39m\u001B[38;5;241m1\u001B[39m))\n\u001B[1;32m      5\u001B[0m \u001B[38;5;28mprint\u001B[39m()\n",
      "File \u001B[0;32m~/.local/lib/python3.10/site-packages/numpy/core/fromnumeric.py:3504\u001B[0m, in \u001B[0;36mmean\u001B[0;34m(a, axis, dtype, out, keepdims, where)\u001B[0m\n\u001B[1;32m   3501\u001B[0m     \u001B[38;5;28;01melse\u001B[39;00m:\n\u001B[1;32m   3502\u001B[0m         \u001B[38;5;28;01mreturn\u001B[39;00m mean(axis\u001B[38;5;241m=\u001B[39maxis, dtype\u001B[38;5;241m=\u001B[39mdtype, out\u001B[38;5;241m=\u001B[39mout, \u001B[38;5;241m*\u001B[39m\u001B[38;5;241m*\u001B[39mkwargs)\n\u001B[0;32m-> 3504\u001B[0m \u001B[38;5;28;01mreturn\u001B[39;00m \u001B[43m_methods\u001B[49m\u001B[38;5;241;43m.\u001B[39;49m\u001B[43m_mean\u001B[49m\u001B[43m(\u001B[49m\u001B[43ma\u001B[49m\u001B[43m,\u001B[49m\u001B[43m \u001B[49m\u001B[43maxis\u001B[49m\u001B[38;5;241;43m=\u001B[39;49m\u001B[43maxis\u001B[49m\u001B[43m,\u001B[49m\u001B[43m \u001B[49m\u001B[43mdtype\u001B[49m\u001B[38;5;241;43m=\u001B[39;49m\u001B[43mdtype\u001B[49m\u001B[43m,\u001B[49m\n\u001B[1;32m   3505\u001B[0m \u001B[43m                      \u001B[49m\u001B[43mout\u001B[49m\u001B[38;5;241;43m=\u001B[39;49m\u001B[43mout\u001B[49m\u001B[43m,\u001B[49m\u001B[43m \u001B[49m\u001B[38;5;241;43m*\u001B[39;49m\u001B[38;5;241;43m*\u001B[39;49m\u001B[43mkwargs\u001B[49m\u001B[43m)\u001B[49m\n",
      "File \u001B[0;32m~/.local/lib/python3.10/site-packages/numpy/core/_methods.py:106\u001B[0m, in \u001B[0;36m_mean\u001B[0;34m(a, axis, dtype, out, keepdims, where)\u001B[0m\n\u001B[1;32m    102\u001B[0m arr \u001B[38;5;241m=\u001B[39m asanyarray(a)\n\u001B[1;32m    104\u001B[0m is_float16_result \u001B[38;5;241m=\u001B[39m \u001B[38;5;28;01mFalse\u001B[39;00m\n\u001B[0;32m--> 106\u001B[0m rcount \u001B[38;5;241m=\u001B[39m \u001B[43m_count_reduce_items\u001B[49m\u001B[43m(\u001B[49m\u001B[43marr\u001B[49m\u001B[43m,\u001B[49m\u001B[43m \u001B[49m\u001B[43maxis\u001B[49m\u001B[43m,\u001B[49m\u001B[43m \u001B[49m\u001B[43mkeepdims\u001B[49m\u001B[38;5;241;43m=\u001B[39;49m\u001B[43mkeepdims\u001B[49m\u001B[43m,\u001B[49m\u001B[43m \u001B[49m\u001B[43mwhere\u001B[49m\u001B[38;5;241;43m=\u001B[39;49m\u001B[43mwhere\u001B[49m\u001B[43m)\u001B[49m\n\u001B[1;32m    107\u001B[0m \u001B[38;5;28;01mif\u001B[39;00m rcount \u001B[38;5;241m==\u001B[39m \u001B[38;5;241m0\u001B[39m \u001B[38;5;28;01mif\u001B[39;00m where \u001B[38;5;129;01mis\u001B[39;00m \u001B[38;5;28;01mTrue\u001B[39;00m \u001B[38;5;28;01melse\u001B[39;00m umr_any(rcount \u001B[38;5;241m==\u001B[39m \u001B[38;5;241m0\u001B[39m, axis\u001B[38;5;241m=\u001B[39m\u001B[38;5;28;01mNone\u001B[39;00m):\n\u001B[1;32m    108\u001B[0m     warnings\u001B[38;5;241m.\u001B[39mwarn(\u001B[38;5;124m\"\u001B[39m\u001B[38;5;124mMean of empty slice.\u001B[39m\u001B[38;5;124m\"\u001B[39m, \u001B[38;5;167;01mRuntimeWarning\u001B[39;00m, stacklevel\u001B[38;5;241m=\u001B[39m\u001B[38;5;241m2\u001B[39m)\n",
      "File \u001B[0;32m~/.local/lib/python3.10/site-packages/numpy/core/_methods.py:77\u001B[0m, in \u001B[0;36m_count_reduce_items\u001B[0;34m(arr, axis, keepdims, where)\u001B[0m\n\u001B[1;32m     75\u001B[0m     items \u001B[38;5;241m=\u001B[39m \u001B[38;5;241m1\u001B[39m\n\u001B[1;32m     76\u001B[0m     \u001B[38;5;28;01mfor\u001B[39;00m ax \u001B[38;5;129;01min\u001B[39;00m axis:\n\u001B[0;32m---> 77\u001B[0m         items \u001B[38;5;241m*\u001B[39m\u001B[38;5;241m=\u001B[39m arr\u001B[38;5;241m.\u001B[39mshape[\u001B[43mmu\u001B[49m\u001B[38;5;241;43m.\u001B[39;49m\u001B[43mnormalize_axis_index\u001B[49m\u001B[43m(\u001B[49m\u001B[43max\u001B[49m\u001B[43m,\u001B[49m\u001B[43m \u001B[49m\u001B[43marr\u001B[49m\u001B[38;5;241;43m.\u001B[39;49m\u001B[43mndim\u001B[49m\u001B[43m)\u001B[49m]\n\u001B[1;32m     78\u001B[0m     items \u001B[38;5;241m=\u001B[39m nt\u001B[38;5;241m.\u001B[39mintp(items)\n\u001B[1;32m     79\u001B[0m \u001B[38;5;28;01melse\u001B[39;00m:\n\u001B[1;32m     80\u001B[0m     \u001B[38;5;66;03m# TODO: Optimize case when `where` is broadcast along a non-reduction\u001B[39;00m\n\u001B[1;32m     81\u001B[0m     \u001B[38;5;66;03m# axis and full sum is more excessive than needed.\u001B[39;00m\n\u001B[1;32m     82\u001B[0m \n\u001B[1;32m     83\u001B[0m     \u001B[38;5;66;03m# guarded to protect circular imports\u001B[39;00m\n",
      "\u001B[0;31mAxisError\u001B[0m: axis 1 is out of bounds for array of dimension 1"
     ]
    }
   ],
   "source": [
    "for i, (lm_name, group) in enumerate(grouped):\n",
    "    print(lm_name)\n",
    "    for j, l in zip(range(3), ['acc', 'spec', 'sens']):\n",
    "        print(l, np.mean(metrics[i][j], axis=1), \"+-\", np.std(metrics[i][j], axis=1))\n",
    "    print()"
   ],
   "metadata": {
    "collapsed": false
   }
  },
  {
   "cell_type": "code",
   "execution_count": 129,
   "outputs": [],
   "source": [
    "sens_ = np.array([metric[-2] for metric in metrics])"
   ],
   "metadata": {
    "collapsed": false
   }
  },
  {
   "cell_type": "code",
   "execution_count": 131,
   "outputs": [
    {
     "data": {
      "text/plain": "(array([0.78347584, 0.78761449, 0.97301587]),\n array([0.05383274, 0.12692421, 0.03258804]))"
     },
     "execution_count": 131,
     "metadata": {},
     "output_type": "execute_result"
    }
   ],
   "source": [
    "np.mean(sens_, axis=0), np.std(sens_, axis=0)"
   ],
   "metadata": {
    "collapsed": false
   }
  },
  {
   "cell_type": "code",
   "execution_count": 95,
   "outputs": [
    {
     "data": {
      "text/plain": "(array([0.78347584, 0.78761449, 0.97301587]),\n array([0.05383274, 0.12692421, 0.03258804]))"
     },
     "execution_count": 95,
     "metadata": {},
     "output_type": "execute_result"
    }
   ],
   "source": [
    "np.mean(sens_values_per_landmark, axis=0), np.std(sens_values_per_landmark, axis=0)"
   ],
   "metadata": {
    "collapsed": false
   }
  },
  {
   "cell_type": "code",
   "execution_count": 94,
   "outputs": [
    {
     "data": {
      "text/plain": "(array([0.89642282, 0.93194371, 0.8806927 , 0.92151276, 0.8948817 ,\n        0.90844479, 0.93057571]),\n array([0.05276915, 0.02252261, 0.09834083, 0.04520898, 0.08841602,\n        0.05521329, 0.07270025]))"
     },
     "execution_count": 94,
     "metadata": {},
     "output_type": "execute_result"
    }
   ],
   "source": [
    "np.mean(spec_values_per_landmark, axis=-1), np.std(spec_values_per_landmark, axis=-1)"
   ],
   "metadata": {
    "collapsed": false
   }
  },
  {
   "cell_type": "code",
   "execution_count": 21,
   "outputs": [
    {
     "name": "stderr",
     "output_type": "stream",
     "text": [
      "/tmp/ipykernel_2666431/2471363693.py:7: SettingWithCopyWarning: \n",
      "A value is trying to be set on a copy of a slice from a DataFrame.\n",
      "Try using .loc[row_indexer,col_indexer] = value instead\n",
      "\n",
      "See the caveats in the documentation: https://pandas.pydata.org/pandas-docs/stable/user_guide/indexing.html#returning-a-view-versus-a-copy\n",
      "  df_patient['pred'] = y_baseline_ordinals[i]\n",
      "/tmp/ipykernel_2666431/2471363693.py:7: SettingWithCopyWarning: \n",
      "A value is trying to be set on a copy of a slice from a DataFrame.\n",
      "Try using .loc[row_indexer,col_indexer] = value instead\n",
      "\n",
      "See the caveats in the documentation: https://pandas.pydata.org/pandas-docs/stable/user_guide/indexing.html#returning-a-view-versus-a-copy\n",
      "  df_patient['pred'] = y_baseline_ordinals[i]\n",
      "/tmp/ipykernel_2666431/2471363693.py:7: SettingWithCopyWarning: \n",
      "A value is trying to be set on a copy of a slice from a DataFrame.\n",
      "Try using .loc[row_indexer,col_indexer] = value instead\n",
      "\n",
      "See the caveats in the documentation: https://pandas.pydata.org/pandas-docs/stable/user_guide/indexing.html#returning-a-view-versus-a-copy\n",
      "  df_patient['pred'] = y_baseline_ordinals[i]\n",
      "/tmp/ipykernel_2666431/2471363693.py:7: SettingWithCopyWarning: \n",
      "A value is trying to be set on a copy of a slice from a DataFrame.\n",
      "Try using .loc[row_indexer,col_indexer] = value instead\n",
      "\n",
      "See the caveats in the documentation: https://pandas.pydata.org/pandas-docs/stable/user_guide/indexing.html#returning-a-view-versus-a-copy\n",
      "  df_patient['pred'] = y_baseline_ordinals[i]\n",
      "/tmp/ipykernel_2666431/2471363693.py:7: SettingWithCopyWarning: \n",
      "A value is trying to be set on a copy of a slice from a DataFrame.\n",
      "Try using .loc[row_indexer,col_indexer] = value instead\n",
      "\n",
      "See the caveats in the documentation: https://pandas.pydata.org/pandas-docs/stable/user_guide/indexing.html#returning-a-view-versus-a-copy\n",
      "  df_patient['pred'] = y_baseline_ordinals[i]\n",
      "/tmp/ipykernel_2666431/2471363693.py:7: SettingWithCopyWarning: \n",
      "A value is trying to be set on a copy of a slice from a DataFrame.\n",
      "Try using .loc[row_indexer,col_indexer] = value instead\n",
      "\n",
      "See the caveats in the documentation: https://pandas.pydata.org/pandas-docs/stable/user_guide/indexing.html#returning-a-view-versus-a-copy\n",
      "  df_patient['pred'] = y_baseline_ordinals[i]\n",
      "/tmp/ipykernel_2666431/2471363693.py:7: SettingWithCopyWarning: \n",
      "A value is trying to be set on a copy of a slice from a DataFrame.\n",
      "Try using .loc[row_indexer,col_indexer] = value instead\n",
      "\n",
      "See the caveats in the documentation: https://pandas.pydata.org/pandas-docs/stable/user_guide/indexing.html#returning-a-view-versus-a-copy\n",
      "  df_patient['pred'] = y_baseline_ordinals[i]\n",
      "/tmp/ipykernel_2666431/2471363693.py:7: SettingWithCopyWarning: \n",
      "A value is trying to be set on a copy of a slice from a DataFrame.\n",
      "Try using .loc[row_indexer,col_indexer] = value instead\n",
      "\n",
      "See the caveats in the documentation: https://pandas.pydata.org/pandas-docs/stable/user_guide/indexing.html#returning-a-view-versus-a-copy\n",
      "  df_patient['pred'] = y_baseline_ordinals[i]\n",
      "/tmp/ipykernel_2666431/2471363693.py:7: SettingWithCopyWarning: \n",
      "A value is trying to be set on a copy of a slice from a DataFrame.\n",
      "Try using .loc[row_indexer,col_indexer] = value instead\n",
      "\n",
      "See the caveats in the documentation: https://pandas.pydata.org/pandas-docs/stable/user_guide/indexing.html#returning-a-view-versus-a-copy\n",
      "  df_patient['pred'] = y_baseline_ordinals[i]\n",
      "/tmp/ipykernel_2666431/2471363693.py:7: SettingWithCopyWarning: \n",
      "A value is trying to be set on a copy of a slice from a DataFrame.\n",
      "Try using .loc[row_indexer,col_indexer] = value instead\n",
      "\n",
      "See the caveats in the documentation: https://pandas.pydata.org/pandas-docs/stable/user_guide/indexing.html#returning-a-view-versus-a-copy\n",
      "  df_patient['pred'] = y_baseline_ordinals[i]\n",
      "/tmp/ipykernel_2666431/2471363693.py:7: SettingWithCopyWarning: \n",
      "A value is trying to be set on a copy of a slice from a DataFrame.\n",
      "Try using .loc[row_indexer,col_indexer] = value instead\n",
      "\n",
      "See the caveats in the documentation: https://pandas.pydata.org/pandas-docs/stable/user_guide/indexing.html#returning-a-view-versus-a-copy\n",
      "  df_patient['pred'] = y_baseline_ordinals[i]\n",
      "/tmp/ipykernel_2666431/2471363693.py:7: SettingWithCopyWarning: \n",
      "A value is trying to be set on a copy of a slice from a DataFrame.\n",
      "Try using .loc[row_indexer,col_indexer] = value instead\n",
      "\n",
      "See the caveats in the documentation: https://pandas.pydata.org/pandas-docs/stable/user_guide/indexing.html#returning-a-view-versus-a-copy\n",
      "  df_patient['pred'] = y_baseline_ordinals[i]\n",
      "/tmp/ipykernel_2666431/2471363693.py:7: SettingWithCopyWarning: \n",
      "A value is trying to be set on a copy of a slice from a DataFrame.\n",
      "Try using .loc[row_indexer,col_indexer] = value instead\n",
      "\n",
      "See the caveats in the documentation: https://pandas.pydata.org/pandas-docs/stable/user_guide/indexing.html#returning-a-view-versus-a-copy\n",
      "  df_patient['pred'] = y_baseline_ordinals[i]\n",
      "/tmp/ipykernel_2666431/2471363693.py:7: SettingWithCopyWarning: \n",
      "A value is trying to be set on a copy of a slice from a DataFrame.\n",
      "Try using .loc[row_indexer,col_indexer] = value instead\n",
      "\n",
      "See the caveats in the documentation: https://pandas.pydata.org/pandas-docs/stable/user_guide/indexing.html#returning-a-view-versus-a-copy\n",
      "  df_patient['pred'] = y_baseline_ordinals[i]\n",
      "/tmp/ipykernel_2666431/2471363693.py:7: SettingWithCopyWarning: \n",
      "A value is trying to be set on a copy of a slice from a DataFrame.\n",
      "Try using .loc[row_indexer,col_indexer] = value instead\n",
      "\n",
      "See the caveats in the documentation: https://pandas.pydata.org/pandas-docs/stable/user_guide/indexing.html#returning-a-view-versus-a-copy\n",
      "  df_patient['pred'] = y_baseline_ordinals[i]\n",
      "/tmp/ipykernel_2666431/2471363693.py:7: SettingWithCopyWarning: \n",
      "A value is trying to be set on a copy of a slice from a DataFrame.\n",
      "Try using .loc[row_indexer,col_indexer] = value instead\n",
      "\n",
      "See the caveats in the documentation: https://pandas.pydata.org/pandas-docs/stable/user_guide/indexing.html#returning-a-view-versus-a-copy\n",
      "  df_patient['pred'] = y_baseline_ordinals[i]\n",
      "/tmp/ipykernel_2666431/2471363693.py:7: SettingWithCopyWarning: \n",
      "A value is trying to be set on a copy of a slice from a DataFrame.\n",
      "Try using .loc[row_indexer,col_indexer] = value instead\n",
      "\n",
      "See the caveats in the documentation: https://pandas.pydata.org/pandas-docs/stable/user_guide/indexing.html#returning-a-view-versus-a-copy\n",
      "  df_patient['pred'] = y_baseline_ordinals[i]\n",
      "/tmp/ipykernel_2666431/2471363693.py:7: SettingWithCopyWarning: \n",
      "A value is trying to be set on a copy of a slice from a DataFrame.\n",
      "Try using .loc[row_indexer,col_indexer] = value instead\n",
      "\n",
      "See the caveats in the documentation: https://pandas.pydata.org/pandas-docs/stable/user_guide/indexing.html#returning-a-view-versus-a-copy\n",
      "  df_patient['pred'] = y_baseline_ordinals[i]\n",
      "/tmp/ipykernel_2666431/2471363693.py:7: SettingWithCopyWarning: \n",
      "A value is trying to be set on a copy of a slice from a DataFrame.\n",
      "Try using .loc[row_indexer,col_indexer] = value instead\n",
      "\n",
      "See the caveats in the documentation: https://pandas.pydata.org/pandas-docs/stable/user_guide/indexing.html#returning-a-view-versus-a-copy\n",
      "  df_patient['pred'] = y_baseline_ordinals[i]\n",
      "/tmp/ipykernel_2666431/2471363693.py:7: SettingWithCopyWarning: \n",
      "A value is trying to be set on a copy of a slice from a DataFrame.\n",
      "Try using .loc[row_indexer,col_indexer] = value instead\n",
      "\n",
      "See the caveats in the documentation: https://pandas.pydata.org/pandas-docs/stable/user_guide/indexing.html#returning-a-view-versus-a-copy\n",
      "  df_patient['pred'] = y_baseline_ordinals[i]\n",
      "/tmp/ipykernel_2666431/2471363693.py:7: SettingWithCopyWarning: \n",
      "A value is trying to be set on a copy of a slice from a DataFrame.\n",
      "Try using .loc[row_indexer,col_indexer] = value instead\n",
      "\n",
      "See the caveats in the documentation: https://pandas.pydata.org/pandas-docs/stable/user_guide/indexing.html#returning-a-view-versus-a-copy\n",
      "  df_patient['pred'] = y_baseline_ordinals[i]\n",
      "/tmp/ipykernel_2666431/2471363693.py:7: SettingWithCopyWarning: \n",
      "A value is trying to be set on a copy of a slice from a DataFrame.\n",
      "Try using .loc[row_indexer,col_indexer] = value instead\n",
      "\n",
      "See the caveats in the documentation: https://pandas.pydata.org/pandas-docs/stable/user_guide/indexing.html#returning-a-view-versus-a-copy\n",
      "  df_patient['pred'] = y_baseline_ordinals[i]\n",
      "/tmp/ipykernel_2666431/2471363693.py:7: SettingWithCopyWarning: \n",
      "A value is trying to be set on a copy of a slice from a DataFrame.\n",
      "Try using .loc[row_indexer,col_indexer] = value instead\n",
      "\n",
      "See the caveats in the documentation: https://pandas.pydata.org/pandas-docs/stable/user_guide/indexing.html#returning-a-view-versus-a-copy\n",
      "  df_patient['pred'] = y_baseline_ordinals[i]\n",
      "/tmp/ipykernel_2666431/2471363693.py:7: SettingWithCopyWarning: \n",
      "A value is trying to be set on a copy of a slice from a DataFrame.\n",
      "Try using .loc[row_indexer,col_indexer] = value instead\n",
      "\n",
      "See the caveats in the documentation: https://pandas.pydata.org/pandas-docs/stable/user_guide/indexing.html#returning-a-view-versus-a-copy\n",
      "  df_patient['pred'] = y_baseline_ordinals[i]\n",
      "/tmp/ipykernel_2666431/2471363693.py:7: SettingWithCopyWarning: \n",
      "A value is trying to be set on a copy of a slice from a DataFrame.\n",
      "Try using .loc[row_indexer,col_indexer] = value instead\n",
      "\n",
      "See the caveats in the documentation: https://pandas.pydata.org/pandas-docs/stable/user_guide/indexing.html#returning-a-view-versus-a-copy\n",
      "  df_patient['pred'] = y_baseline_ordinals[i]\n",
      "/tmp/ipykernel_2666431/2471363693.py:7: SettingWithCopyWarning: \n",
      "A value is trying to be set on a copy of a slice from a DataFrame.\n",
      "Try using .loc[row_indexer,col_indexer] = value instead\n",
      "\n",
      "See the caveats in the documentation: https://pandas.pydata.org/pandas-docs/stable/user_guide/indexing.html#returning-a-view-versus-a-copy\n",
      "  df_patient['pred'] = y_baseline_ordinals[i]\n",
      "/tmp/ipykernel_2666431/2471363693.py:7: SettingWithCopyWarning: \n",
      "A value is trying to be set on a copy of a slice from a DataFrame.\n",
      "Try using .loc[row_indexer,col_indexer] = value instead\n",
      "\n",
      "See the caveats in the documentation: https://pandas.pydata.org/pandas-docs/stable/user_guide/indexing.html#returning-a-view-versus-a-copy\n",
      "  df_patient['pred'] = y_baseline_ordinals[i]\n",
      "/tmp/ipykernel_2666431/2471363693.py:7: SettingWithCopyWarning: \n",
      "A value is trying to be set on a copy of a slice from a DataFrame.\n",
      "Try using .loc[row_indexer,col_indexer] = value instead\n",
      "\n",
      "See the caveats in the documentation: https://pandas.pydata.org/pandas-docs/stable/user_guide/indexing.html#returning-a-view-versus-a-copy\n",
      "  df_patient['pred'] = y_baseline_ordinals[i]\n",
      "/tmp/ipykernel_2666431/2471363693.py:7: SettingWithCopyWarning: \n",
      "A value is trying to be set on a copy of a slice from a DataFrame.\n",
      "Try using .loc[row_indexer,col_indexer] = value instead\n",
      "\n",
      "See the caveats in the documentation: https://pandas.pydata.org/pandas-docs/stable/user_guide/indexing.html#returning-a-view-versus-a-copy\n",
      "  df_patient['pred'] = y_baseline_ordinals[i]\n",
      "/tmp/ipykernel_2666431/2471363693.py:7: SettingWithCopyWarning: \n",
      "A value is trying to be set on a copy of a slice from a DataFrame.\n",
      "Try using .loc[row_indexer,col_indexer] = value instead\n",
      "\n",
      "See the caveats in the documentation: https://pandas.pydata.org/pandas-docs/stable/user_guide/indexing.html#returning-a-view-versus-a-copy\n",
      "  df_patient['pred'] = y_baseline_ordinals[i]\n",
      "/tmp/ipykernel_2666431/2471363693.py:7: SettingWithCopyWarning: \n",
      "A value is trying to be set on a copy of a slice from a DataFrame.\n",
      "Try using .loc[row_indexer,col_indexer] = value instead\n",
      "\n",
      "See the caveats in the documentation: https://pandas.pydata.org/pandas-docs/stable/user_guide/indexing.html#returning-a-view-versus-a-copy\n",
      "  df_patient['pred'] = y_baseline_ordinals[i]\n",
      "/tmp/ipykernel_2666431/2471363693.py:7: SettingWithCopyWarning: \n",
      "A value is trying to be set on a copy of a slice from a DataFrame.\n",
      "Try using .loc[row_indexer,col_indexer] = value instead\n",
      "\n",
      "See the caveats in the documentation: https://pandas.pydata.org/pandas-docs/stable/user_guide/indexing.html#returning-a-view-versus-a-copy\n",
      "  df_patient['pred'] = y_baseline_ordinals[i]\n",
      "/tmp/ipykernel_2666431/2471363693.py:7: SettingWithCopyWarning: \n",
      "A value is trying to be set on a copy of a slice from a DataFrame.\n",
      "Try using .loc[row_indexer,col_indexer] = value instead\n",
      "\n",
      "See the caveats in the documentation: https://pandas.pydata.org/pandas-docs/stable/user_guide/indexing.html#returning-a-view-versus-a-copy\n",
      "  df_patient['pred'] = y_baseline_ordinals[i]\n",
      "/tmp/ipykernel_2666431/2471363693.py:7: SettingWithCopyWarning: \n",
      "A value is trying to be set on a copy of a slice from a DataFrame.\n",
      "Try using .loc[row_indexer,col_indexer] = value instead\n",
      "\n",
      "See the caveats in the documentation: https://pandas.pydata.org/pandas-docs/stable/user_guide/indexing.html#returning-a-view-versus-a-copy\n",
      "  df_patient['pred'] = y_baseline_ordinals[i]\n",
      "/tmp/ipykernel_2666431/2471363693.py:7: SettingWithCopyWarning: \n",
      "A value is trying to be set on a copy of a slice from a DataFrame.\n",
      "Try using .loc[row_indexer,col_indexer] = value instead\n",
      "\n",
      "See the caveats in the documentation: https://pandas.pydata.org/pandas-docs/stable/user_guide/indexing.html#returning-a-view-versus-a-copy\n",
      "  df_patient['pred'] = y_baseline_ordinals[i]\n",
      "/tmp/ipykernel_2666431/2471363693.py:7: SettingWithCopyWarning: \n",
      "A value is trying to be set on a copy of a slice from a DataFrame.\n",
      "Try using .loc[row_indexer,col_indexer] = value instead\n",
      "\n",
      "See the caveats in the documentation: https://pandas.pydata.org/pandas-docs/stable/user_guide/indexing.html#returning-a-view-versus-a-copy\n",
      "  df_patient['pred'] = y_baseline_ordinals[i]\n",
      "/tmp/ipykernel_2666431/2471363693.py:7: SettingWithCopyWarning: \n",
      "A value is trying to be set on a copy of a slice from a DataFrame.\n",
      "Try using .loc[row_indexer,col_indexer] = value instead\n",
      "\n",
      "See the caveats in the documentation: https://pandas.pydata.org/pandas-docs/stable/user_guide/indexing.html#returning-a-view-versus-a-copy\n",
      "  df_patient['pred'] = y_baseline_ordinals[i]\n",
      "/tmp/ipykernel_2666431/2471363693.py:7: SettingWithCopyWarning: \n",
      "A value is trying to be set on a copy of a slice from a DataFrame.\n",
      "Try using .loc[row_indexer,col_indexer] = value instead\n",
      "\n",
      "See the caveats in the documentation: https://pandas.pydata.org/pandas-docs/stable/user_guide/indexing.html#returning-a-view-versus-a-copy\n",
      "  df_patient['pred'] = y_baseline_ordinals[i]\n",
      "/tmp/ipykernel_2666431/2471363693.py:7: SettingWithCopyWarning: \n",
      "A value is trying to be set on a copy of a slice from a DataFrame.\n",
      "Try using .loc[row_indexer,col_indexer] = value instead\n",
      "\n",
      "See the caveats in the documentation: https://pandas.pydata.org/pandas-docs/stable/user_guide/indexing.html#returning-a-view-versus-a-copy\n",
      "  df_patient['pred'] = y_baseline_ordinals[i]\n",
      "/tmp/ipykernel_2666431/2471363693.py:7: SettingWithCopyWarning: \n",
      "A value is trying to be set on a copy of a slice from a DataFrame.\n",
      "Try using .loc[row_indexer,col_indexer] = value instead\n",
      "\n",
      "See the caveats in the documentation: https://pandas.pydata.org/pandas-docs/stable/user_guide/indexing.html#returning-a-view-versus-a-copy\n",
      "  df_patient['pred'] = y_baseline_ordinals[i]\n",
      "/tmp/ipykernel_2666431/2471363693.py:7: SettingWithCopyWarning: \n",
      "A value is trying to be set on a copy of a slice from a DataFrame.\n",
      "Try using .loc[row_indexer,col_indexer] = value instead\n",
      "\n",
      "See the caveats in the documentation: https://pandas.pydata.org/pandas-docs/stable/user_guide/indexing.html#returning-a-view-versus-a-copy\n",
      "  df_patient['pred'] = y_baseline_ordinals[i]\n",
      "/tmp/ipykernel_2666431/2471363693.py:7: SettingWithCopyWarning: \n",
      "A value is trying to be set on a copy of a slice from a DataFrame.\n",
      "Try using .loc[row_indexer,col_indexer] = value instead\n",
      "\n",
      "See the caveats in the documentation: https://pandas.pydata.org/pandas-docs/stable/user_guide/indexing.html#returning-a-view-versus-a-copy\n",
      "  df_patient['pred'] = y_baseline_ordinals[i]\n",
      "/tmp/ipykernel_2666431/2471363693.py:7: SettingWithCopyWarning: \n",
      "A value is trying to be set on a copy of a slice from a DataFrame.\n",
      "Try using .loc[row_indexer,col_indexer] = value instead\n",
      "\n",
      "See the caveats in the documentation: https://pandas.pydata.org/pandas-docs/stable/user_guide/indexing.html#returning-a-view-versus-a-copy\n",
      "  df_patient['pred'] = y_baseline_ordinals[i]\n",
      "/tmp/ipykernel_2666431/2471363693.py:7: SettingWithCopyWarning: \n",
      "A value is trying to be set on a copy of a slice from a DataFrame.\n",
      "Try using .loc[row_indexer,col_indexer] = value instead\n",
      "\n",
      "See the caveats in the documentation: https://pandas.pydata.org/pandas-docs/stable/user_guide/indexing.html#returning-a-view-versus-a-copy\n",
      "  df_patient['pred'] = y_baseline_ordinals[i]\n",
      "/tmp/ipykernel_2666431/2471363693.py:7: SettingWithCopyWarning: \n",
      "A value is trying to be set on a copy of a slice from a DataFrame.\n",
      "Try using .loc[row_indexer,col_indexer] = value instead\n",
      "\n",
      "See the caveats in the documentation: https://pandas.pydata.org/pandas-docs/stable/user_guide/indexing.html#returning-a-view-versus-a-copy\n",
      "  df_patient['pred'] = y_baseline_ordinals[i]\n",
      "/tmp/ipykernel_2666431/2471363693.py:7: SettingWithCopyWarning: \n",
      "A value is trying to be set on a copy of a slice from a DataFrame.\n",
      "Try using .loc[row_indexer,col_indexer] = value instead\n",
      "\n",
      "See the caveats in the documentation: https://pandas.pydata.org/pandas-docs/stable/user_guide/indexing.html#returning-a-view-versus-a-copy\n",
      "  df_patient['pred'] = y_baseline_ordinals[i]\n",
      "/tmp/ipykernel_2666431/2471363693.py:7: SettingWithCopyWarning: \n",
      "A value is trying to be set on a copy of a slice from a DataFrame.\n",
      "Try using .loc[row_indexer,col_indexer] = value instead\n",
      "\n",
      "See the caveats in the documentation: https://pandas.pydata.org/pandas-docs/stable/user_guide/indexing.html#returning-a-view-versus-a-copy\n",
      "  df_patient['pred'] = y_baseline_ordinals[i]\n",
      "/tmp/ipykernel_2666431/2471363693.py:7: SettingWithCopyWarning: \n",
      "A value is trying to be set on a copy of a slice from a DataFrame.\n",
      "Try using .loc[row_indexer,col_indexer] = value instead\n",
      "\n",
      "See the caveats in the documentation: https://pandas.pydata.org/pandas-docs/stable/user_guide/indexing.html#returning-a-view-versus-a-copy\n",
      "  df_patient['pred'] = y_baseline_ordinals[i]\n",
      "/tmp/ipykernel_2666431/2471363693.py:7: SettingWithCopyWarning: \n",
      "A value is trying to be set on a copy of a slice from a DataFrame.\n",
      "Try using .loc[row_indexer,col_indexer] = value instead\n",
      "\n",
      "See the caveats in the documentation: https://pandas.pydata.org/pandas-docs/stable/user_guide/indexing.html#returning-a-view-versus-a-copy\n",
      "  df_patient['pred'] = y_baseline_ordinals[i]\n",
      "/tmp/ipykernel_2666431/2471363693.py:7: SettingWithCopyWarning: \n",
      "A value is trying to be set on a copy of a slice from a DataFrame.\n",
      "Try using .loc[row_indexer,col_indexer] = value instead\n",
      "\n",
      "See the caveats in the documentation: https://pandas.pydata.org/pandas-docs/stable/user_guide/indexing.html#returning-a-view-versus-a-copy\n",
      "  df_patient['pred'] = y_baseline_ordinals[i]\n",
      "/tmp/ipykernel_2666431/2471363693.py:7: SettingWithCopyWarning: \n",
      "A value is trying to be set on a copy of a slice from a DataFrame.\n",
      "Try using .loc[row_indexer,col_indexer] = value instead\n",
      "\n",
      "See the caveats in the documentation: https://pandas.pydata.org/pandas-docs/stable/user_guide/indexing.html#returning-a-view-versus-a-copy\n",
      "  df_patient['pred'] = y_baseline_ordinals[i]\n",
      "/tmp/ipykernel_2666431/2471363693.py:7: SettingWithCopyWarning: \n",
      "A value is trying to be set on a copy of a slice from a DataFrame.\n",
      "Try using .loc[row_indexer,col_indexer] = value instead\n",
      "\n",
      "See the caveats in the documentation: https://pandas.pydata.org/pandas-docs/stable/user_guide/indexing.html#returning-a-view-versus-a-copy\n",
      "  df_patient['pred'] = y_baseline_ordinals[i]\n",
      "/tmp/ipykernel_2666431/2471363693.py:7: SettingWithCopyWarning: \n",
      "A value is trying to be set on a copy of a slice from a DataFrame.\n",
      "Try using .loc[row_indexer,col_indexer] = value instead\n",
      "\n",
      "See the caveats in the documentation: https://pandas.pydata.org/pandas-docs/stable/user_guide/indexing.html#returning-a-view-versus-a-copy\n",
      "  df_patient['pred'] = y_baseline_ordinals[i]\n",
      "/tmp/ipykernel_2666431/2471363693.py:7: SettingWithCopyWarning: \n",
      "A value is trying to be set on a copy of a slice from a DataFrame.\n",
      "Try using .loc[row_indexer,col_indexer] = value instead\n",
      "\n",
      "See the caveats in the documentation: https://pandas.pydata.org/pandas-docs/stable/user_guide/indexing.html#returning-a-view-versus-a-copy\n",
      "  df_patient['pred'] = y_baseline_ordinals[i]\n",
      "/tmp/ipykernel_2666431/2471363693.py:7: SettingWithCopyWarning: \n",
      "A value is trying to be set on a copy of a slice from a DataFrame.\n",
      "Try using .loc[row_indexer,col_indexer] = value instead\n",
      "\n",
      "See the caveats in the documentation: https://pandas.pydata.org/pandas-docs/stable/user_guide/indexing.html#returning-a-view-versus-a-copy\n",
      "  df_patient['pred'] = y_baseline_ordinals[i]\n",
      "/tmp/ipykernel_2666431/2471363693.py:7: SettingWithCopyWarning: \n",
      "A value is trying to be set on a copy of a slice from a DataFrame.\n",
      "Try using .loc[row_indexer,col_indexer] = value instead\n",
      "\n",
      "See the caveats in the documentation: https://pandas.pydata.org/pandas-docs/stable/user_guide/indexing.html#returning-a-view-versus-a-copy\n",
      "  df_patient['pred'] = y_baseline_ordinals[i]\n",
      "/tmp/ipykernel_2666431/2471363693.py:7: SettingWithCopyWarning: \n",
      "A value is trying to be set on a copy of a slice from a DataFrame.\n",
      "Try using .loc[row_indexer,col_indexer] = value instead\n",
      "\n",
      "See the caveats in the documentation: https://pandas.pydata.org/pandas-docs/stable/user_guide/indexing.html#returning-a-view-versus-a-copy\n",
      "  df_patient['pred'] = y_baseline_ordinals[i]\n",
      "/tmp/ipykernel_2666431/2471363693.py:7: SettingWithCopyWarning: \n",
      "A value is trying to be set on a copy of a slice from a DataFrame.\n",
      "Try using .loc[row_indexer,col_indexer] = value instead\n",
      "\n",
      "See the caveats in the documentation: https://pandas.pydata.org/pandas-docs/stable/user_guide/indexing.html#returning-a-view-versus-a-copy\n",
      "  df_patient['pred'] = y_baseline_ordinals[i]\n",
      "/tmp/ipykernel_2666431/2471363693.py:7: SettingWithCopyWarning: \n",
      "A value is trying to be set on a copy of a slice from a DataFrame.\n",
      "Try using .loc[row_indexer,col_indexer] = value instead\n",
      "\n",
      "See the caveats in the documentation: https://pandas.pydata.org/pandas-docs/stable/user_guide/indexing.html#returning-a-view-versus-a-copy\n",
      "  df_patient['pred'] = y_baseline_ordinals[i]\n",
      "/tmp/ipykernel_2666431/2471363693.py:7: SettingWithCopyWarning: \n",
      "A value is trying to be set on a copy of a slice from a DataFrame.\n",
      "Try using .loc[row_indexer,col_indexer] = value instead\n",
      "\n",
      "See the caveats in the documentation: https://pandas.pydata.org/pandas-docs/stable/user_guide/indexing.html#returning-a-view-versus-a-copy\n",
      "  df_patient['pred'] = y_baseline_ordinals[i]\n",
      "/tmp/ipykernel_2666431/2471363693.py:7: SettingWithCopyWarning: \n",
      "A value is trying to be set on a copy of a slice from a DataFrame.\n",
      "Try using .loc[row_indexer,col_indexer] = value instead\n",
      "\n",
      "See the caveats in the documentation: https://pandas.pydata.org/pandas-docs/stable/user_guide/indexing.html#returning-a-view-versus-a-copy\n",
      "  df_patient['pred'] = y_baseline_ordinals[i]\n",
      "/tmp/ipykernel_2666431/2471363693.py:7: SettingWithCopyWarning: \n",
      "A value is trying to be set on a copy of a slice from a DataFrame.\n",
      "Try using .loc[row_indexer,col_indexer] = value instead\n",
      "\n",
      "See the caveats in the documentation: https://pandas.pydata.org/pandas-docs/stable/user_guide/indexing.html#returning-a-view-versus-a-copy\n",
      "  df_patient['pred'] = y_baseline_ordinals[i]\n",
      "/tmp/ipykernel_2666431/2471363693.py:7: SettingWithCopyWarning: \n",
      "A value is trying to be set on a copy of a slice from a DataFrame.\n",
      "Try using .loc[row_indexer,col_indexer] = value instead\n",
      "\n",
      "See the caveats in the documentation: https://pandas.pydata.org/pandas-docs/stable/user_guide/indexing.html#returning-a-view-versus-a-copy\n",
      "  df_patient['pred'] = y_baseline_ordinals[i]\n",
      "/tmp/ipykernel_2666431/2471363693.py:7: SettingWithCopyWarning: \n",
      "A value is trying to be set on a copy of a slice from a DataFrame.\n",
      "Try using .loc[row_indexer,col_indexer] = value instead\n",
      "\n",
      "See the caveats in the documentation: https://pandas.pydata.org/pandas-docs/stable/user_guide/indexing.html#returning-a-view-versus-a-copy\n",
      "  df_patient['pred'] = y_baseline_ordinals[i]\n",
      "/tmp/ipykernel_2666431/2471363693.py:7: SettingWithCopyWarning: \n",
      "A value is trying to be set on a copy of a slice from a DataFrame.\n",
      "Try using .loc[row_indexer,col_indexer] = value instead\n",
      "\n",
      "See the caveats in the documentation: https://pandas.pydata.org/pandas-docs/stable/user_guide/indexing.html#returning-a-view-versus-a-copy\n",
      "  df_patient['pred'] = y_baseline_ordinals[i]\n"
     ]
    }
   ],
   "source": [
    "np.mean(sens_values_per_landmark, axis=-1), np.std(sens_values_per_landmark, axis=-1)\n",
    "\n",
    "eggim_scores = {}\n",
    "patients_dfs = []\n",
    "for i, patient_id in enumerate(patient_ids):\n",
    "    df_patient = df_togas[df_togas['patient_id'] == patient_id]\n",
    "    df_patient['pred'] = y_baseline_ordinals[i]\n",
    "    patients_dfs.append(df_patient)\n",
    "    try:\n",
    "        eggim_square = compute_eggim_patient(df_patient,\n",
    "                                          target_variable='eggim_square')\n",
    "        eggim_global = compute_eggim_patient(df_patient,\n",
    "                                      target_variable='eggim_global')\n",
    "        eggim_pred = compute_eggim_patient(df_patient,\n",
    "                                      target_variable='pred')\n",
    "        eggim_scores[patient_ids[i]] = {'eggim_square': eggim_square, 'eggim_global': eggim_global,\n",
    "                                        'eggim_pred': eggim_pred}\n",
    "    except:\n",
    "        print(\"bad \", patient_id)\n",
    "eggim_df = pd.DataFrame(eggim_scores).T"
   ],
   "metadata": {
    "collapsed": false
   }
  },
  {
   "cell_type": "code",
   "execution_count": 22,
   "outputs": [
    {
     "data": {
      "text/plain": "       eggim_square  eggim_global  eggim_pred\nPT004           1.0           1.0         4.5\nPT005           3.0           2.5         8.0\nPT006           1.0           1.0         6.0\nPT009           8.0           8.5         8.0\nPT011           5.0           6.0         6.5\n...             ...           ...         ...\nPT081           5.0           5.0         8.0\nPT082           4.5           4.5         4.5\nPT083           0.0           0.0         0.0\nPT084           6.0           6.0         5.0\nPT086           2.0           2.0         1.0\n\n[65 rows x 3 columns]",
      "text/html": "<div>\n<style scoped>\n    .dataframe tbody tr th:only-of-type {\n        vertical-align: middle;\n    }\n\n    .dataframe tbody tr th {\n        vertical-align: top;\n    }\n\n    .dataframe thead th {\n        text-align: right;\n    }\n</style>\n<table border=\"1\" class=\"dataframe\">\n  <thead>\n    <tr style=\"text-align: right;\">\n      <th></th>\n      <th>eggim_square</th>\n      <th>eggim_global</th>\n      <th>eggim_pred</th>\n    </tr>\n  </thead>\n  <tbody>\n    <tr>\n      <th>PT004</th>\n      <td>1.0</td>\n      <td>1.0</td>\n      <td>4.5</td>\n    </tr>\n    <tr>\n      <th>PT005</th>\n      <td>3.0</td>\n      <td>2.5</td>\n      <td>8.0</td>\n    </tr>\n    <tr>\n      <th>PT006</th>\n      <td>1.0</td>\n      <td>1.0</td>\n      <td>6.0</td>\n    </tr>\n    <tr>\n      <th>PT009</th>\n      <td>8.0</td>\n      <td>8.5</td>\n      <td>8.0</td>\n    </tr>\n    <tr>\n      <th>PT011</th>\n      <td>5.0</td>\n      <td>6.0</td>\n      <td>6.5</td>\n    </tr>\n    <tr>\n      <th>...</th>\n      <td>...</td>\n      <td>...</td>\n      <td>...</td>\n    </tr>\n    <tr>\n      <th>PT081</th>\n      <td>5.0</td>\n      <td>5.0</td>\n      <td>8.0</td>\n    </tr>\n    <tr>\n      <th>PT082</th>\n      <td>4.5</td>\n      <td>4.5</td>\n      <td>4.5</td>\n    </tr>\n    <tr>\n      <th>PT083</th>\n      <td>0.0</td>\n      <td>0.0</td>\n      <td>0.0</td>\n    </tr>\n    <tr>\n      <th>PT084</th>\n      <td>6.0</td>\n      <td>6.0</td>\n      <td>5.0</td>\n    </tr>\n    <tr>\n      <th>PT086</th>\n      <td>2.0</td>\n      <td>2.0</td>\n      <td>1.0</td>\n    </tr>\n  </tbody>\n</table>\n<p>65 rows × 3 columns</p>\n</div>"
     },
     "execution_count": 22,
     "metadata": {},
     "output_type": "execute_result"
    }
   ],
   "source": [
    "np.argmax(y_pred_baseline, axis=2)"
   ],
   "metadata": {
    "collapsed": false
   }
  },
  {
   "cell_type": "code",
   "execution_count": null,
   "outputs": [],
   "source": [
    "\n",
    "\n",
    "eggim_scores = {}\n",
    "patients_dfs = []\n",
    "for i, patient_id in enumerate(patient_ids):\n",
    "    df_patient = df_togas[df_togas['patient_id'] == patient_id]\n",
    "    df_patient['pred'] = y_baseline_ordinals[i]\n",
    "    patients_dfs.append(df_patient)\n",
    "    try:\n",
    "        eggim_square = compute_eggim_patient(df_patient,\n",
    "                                          target_variable='eggim_square')\n",
    "        eggim_global = compute_eggim_patient(df_patient,\n",
    "                                      target_variable='eggim_global')\n",
    "        eggim_pred = compute_eggim_patient(df_patient,\n",
    "                                      target_variable='pred')\n",
    "        eggim_scores[patient_ids[i]] = {'eggim_square': eggim_square, 'eggim_global': eggim_global,\n",
    "                                        'eggim_pred': eggim_pred}\n",
    "    except:\n",
    "        print(\"bad \", patient_id)\n",
    "eggim_df = pd.DataFrame(eggim_scores).T"
   ],
   "metadata": {
    "collapsed": false
   }
  },
  {
   "cell_type": "code",
   "execution_count": 28,
   "outputs": [],
   "source": [
    "from sklearn.metrics import confusion_matrix\n",
    "# Function to calculate sensitivity and specificity\n",
    "def calculate_eggim_metrics(y_true, y_pred):\n",
    "    tn, fp, fn, tp = confusion_matrix(y_true, y_pred).ravel()\n",
    "    print(\"True positives\", tp)\n",
    "    sensitivity = tp / (tp + fn) if (tp + fn) > 0 else 0.0\n",
    "    specificity = tn / (tn + fp) if (tn + fp) > 0 else 0.0\n",
    "    accuracy = (tp + tn) / (tp + tn + fp + fn)  if (tp + tn + fp + fn) > 0 else 0.0\n",
    "    ppv = tp / (tp + fp) if (tp + fp) > 0 else 0\n",
    "    return sensitivity, specificity, accuracy, ppv\n",
    "\n",
    "cutoffs = [3, 4, 5, 6, 7, 8, 9]\n",
    "\n",
    "hard_cutoff = 5\n",
    "y = np.array([1 if eggim >= hard_cutoff else 0 for eggim in eggim_df['eggim_square'].values])\n",
    "print(sum(y))\n",
    "print(y)\n",
    "for cutoff in cutoffs:\n",
    "    print(\"cutoff\", cutoff)\n",
    "\n",
    "    y_pred = np.array([1 if eggim >= cutoff else 0 for eggim in eggim_df['eggim_pred'].values])\n",
    "\n",
    "    print(\"number of mistakes\", np.sum(y != y_pred))\n",
    "    metrics_ = calculate_eggim_metrics(y, y_pred)\n",
    "    print(\"PPV\", metrics_[-1], \"Sensitivity\", metrics_[0], \"Specificity\", metrics_[1], 'Accuracy', metrics_[2])\n",
    "    print()"
   ],
   "metadata": {
    "collapsed": false
   }
  },
  {
   "cell_type": "code",
   "execution_count": 36,
   "outputs": [],
   "source": [
    "patients_dfs = pd.concat(patients_dfs)\n",
    "patients_dfs.to_csv('resnet_scores.csv')\n",
    "eggim_df.to_csv(\"resnet_eggim_revised.csv\")"
   ],
   "metadata": {
    "collapsed": false
   }
  },
  {
   "cell_type": "code",
   "execution_count": 33,
   "outputs": [
    {
     "name": "stdout",
     "output_type": "stream",
     "text": [
      "cutoff 5\n",
      "number of mistakes 8\n",
      "True Positives: 13\n",
      "True Negatives: 44\n",
      "False Positives: 8\n",
      "False Negatives: 0\n",
      "PPV 0.6190476190476191 NPV 1.0 6.5 0.0\n",
      "\n"
     ]
    }
   ],
   "source": [
    "import matplotlib.pyplot as plt\n",
    "\n",
    "# Assuming 'eggim_df' is your dataframe\n",
    "plt.hist(eggim_df['eggim_square'], bins=10, edgecolor='black', alpha=0.7)\n",
    "plt.title('Distribution of eggim_square')\n",
    "plt.xlabel('Value')\n",
    "plt.ylabel('Frequency')\n",
    "plt.xticks(range(0, 11))  # Ensure ticks for values from 0 to 10\n",
    "plt.grid(axis='y', linestyle='--', alpha=0.7)\n",
    "plt.show()\n"
   ],
   "metadata": {
    "collapsed": false
   }
  },
  {
   "cell_type": "code",
   "execution_count": 37,
   "outputs": [
    {
     "name": "stdout",
     "output_type": "stream",
     "text": [
      "True Positives: 13\n",
      "True Negatives: 44\n",
      "False Positives: 8\n",
      "False Negatives: 0\n",
      "Sensitivity: 1.0000 (95% CI: 1.0000, 1.0000)\n",
      "Specificity: 0.8462 (95% CI: 0.6225, 1.0698)\n",
      "Accuracy: 0.8769 (95% CI: 0.6733, 1.0805)\n",
      "PPV (Precision): 0.6190 (95% CI: 0.3181, 0.9200)\n",
      "NPV: 1.0000 (95% CI: 1.0000, 1.0000)\n",
      "PLR (Positive Likelihood Ratio): 6.5000 (95% CI: 0.0303, 1393.2363)\n",
      "NLR (Negative Likelihood Ratio): 0.0000 (95% CI: 0.0000, 0.0000)\n"
     ]
    }
   ],
   "source": [
    "# Count the total number of patients\n",
    "total_patients = len(eggim_df)\n",
    "\n",
    "# Count the number of patients with eggim_square <= 5\n",
    "patients_below_5 = len(eggim_df[eggim_df['eggim_square'] <= 5])\n",
    "patients_above_5 = total_patients - patients_below_5\n",
    "\n",
    "# Calculate the percentage\n",
    "percentage_below_5 = (patients_below_5 / total_patients) * 100\n",
    "percentage_above_5 = (patients_above_5 / total_patients) * 100\n",
    "\n",
    "# Data for bar plot\n",
    "categories = ['≤ 5', '> 5']\n",
    "percentages = [percentage_below_5, percentage_above_5]\n",
    "\n",
    "# Create the bar plot\n",
    "plt.bar(categories, percentages, color=['green', 'red'], alpha=0.7)\n",
    "plt.title('EGGIM Tallies')\n",
    "plt.ylabel('Percentage')\n",
    "plt.ylim(0, 100)\n",
    "\n",
    "# Annotate bars with percentages\n",
    "for i, value in enumerate(percentages):\n",
    "    plt.text(i, value + 2, f'{value:.1f}%', ha='center', fontsize=12)\n",
    "\n",
    "plt.show()"
   ],
   "metadata": {
    "collapsed": false
   }
  },
  {
   "cell_type": "code",
   "execution_count": 38,
   "outputs": [
    {
     "name": "stdout",
     "output_type": "stream",
     "text": [
      "True Positives: 13\n",
      "True Negatives: 44\n",
      "False Positives: 8\n",
      "False Negatives: 0\n",
      "Sensitivity: 1.0000 (95% CI: 1.0000, 1.0000)\n",
      "Specificity: 0.8462 (95% CI: 0.6225, 1.0698)\n",
      "Accuracy: 0.8769 (95% CI: 0.6733, 1.0805)\n",
      "PPV (Precision): 0.6190 (95% CI: 0.3181, 0.9200)\n",
      "NPV: 1.0000 (95% CI: 1.0000, 1.0000)\n",
      "PLR (Positive Likelihood Ratio): 6.5000 (95% CI: 3.4362, 12.2954)\n",
      "NLR (Negative Likelihood Ratio): 0.0000 (95% CI: 0.0000, 0.0000)\n"
     ]
    }
   ],
   "source": [
    "print(\"FE-RESNET\")\n",
    "\n",
    "eggim_scores = {}\n",
    "patients_dfs = []\n",
    "for i, patient_id in enumerate(patient_ids):\n",
    "    df_patient = df_togas[df_togas['patient_id'] == patient_id]\n",
    "    df_patient['pred'] = y_feresnet_ordinals[i]\n",
    "    patients_dfs.append(df_patient)\n",
    "    try:\n",
    "        eggim_square = compute_eggim_patient(df_patient,\n",
    "                                          target_variable='eggim_square')\n",
    "        eggim_global = compute_eggim_patient(df_patient,\n",
    "                                      target_variable='eggim_global')\n",
    "        eggim_pred = compute_eggim_patient(df_patient,\n",
    "                                      target_variable='pred')\n",
    "        eggim_scores[patient_ids[i]] = {'eggim_square': eggim_square, 'eggim_global': eggim_global,\n",
    "                                        'eggim_pred': eggim_pred}\n",
    "    except:\n",
    "        print(\"bad \", patient_id)\n",
    "eggim_df = pd.DataFrame(eggim_scores).T"
   ],
   "metadata": {
    "collapsed": false
   }
  },
  {
   "cell_type": "code",
   "execution_count": null,
   "outputs": [],
   "source": [
    "from sklearn.metrics import confusion_matrix\n",
    "# Function to calculate sensitivity and specificity\n",
    "def calculate_eggim_metrics(y_true, y_pred):\n",
    "    tn, fp, fn, tp = confusion_matrix(y_true, y_pred).ravel()\n",
    "    print(\"True positives\", tp)\n",
    "    sensitivity = tp / (tp + fn) if (tp + fn) > 0 else 0.0\n",
    "    specificity = tn / (tn + fp) if (tn + fp) > 0 else 0.0\n",
    "    accuracy = (tp + tn) / (tp + tn + fp + fn)  if (tp + tn + fp + fn) > 0 else 0.0\n",
    "    ppv = tp / (tp + fp) if (tp + fp) > 0 else 0\n",
    "    return sensitivity, specificity, accuracy, ppv\n",
    "\n",
    "cutoffs = [3, 4, 5, 6, 7, 8, 9]\n",
    "\n",
    "hard_cutoff = 5\n",
    "y = np.array([1 if eggim >= hard_cutoff else 0 for eggim in eggim_df['eggim_square'].values])\n",
    "print(sum(y))\n",
    "print(y)\n",
    "for cutoff in cutoffs:\n",
    "    print(\"cutoff\", cutoff)\n",
    "\n",
    "    y_pred = np.array([1 if eggim >= cutoff else 0 for eggim in eggim_df['eggim_pred'].values])\n",
    "\n",
    "    print(\"number of mistakes\", np.sum(y != y_pred))\n",
    "    metrics_ = calculate_eggim_metrics(y, y_pred)\n",
    "    print(\"PPV\", metrics_[-1], \"Sensitivity\", metrics_[0], \"Specificity\", metrics_[1], 'Accuracy', metrics_[2])\n",
    "    print()"
   ],
   "metadata": {
    "collapsed": false
   }
  },
  {
   "cell_type": "code",
   "execution_count": null,
   "outputs": [],
   "source": [
    "\n",
    "\n",
    "def calculate_eggim_metrics(y_true, y_pred):\n",
    "    # Placeholder for actual metric calculation logic\n",
    "    sensitivity = np.sum((y_true == 1) & (y_pred == 1)) / np.sum(y_true == 1)\n",
    "    specificity = np.sum((y_true == 0) & (y_pred == 0)) / np.sum(y_true == 0)\n",
    "    return sensitivity, specificity\n",
    "\n",
    "cutoffs = [3, 4, 5, 6]\n",
    "mistakes = []\n",
    "sensitivities = []\n",
    "specificities = []\n",
    "\n",
    "# Calculate metrics for each cutoff\n",
    "for cutoff in cutoffs:\n",
    "    y = np.array([1 if eggim >= cutoff else 0 for eggim in eggim_df['eggim_square']])\n",
    "    y_pred = np.array([1 if eggim >= cutoff else 0 for eggim in eggim_df['eggim_pred']])\n",
    "\n",
    "    mistakes.append(np.sum(y != y_pred))\n",
    "\n",
    "    metrics_ = calculate_eggim_metrics(y, y_pred)\n",
    "    sensitivities.append(metrics_[0])\n",
    "    specificities.append(metrics_[1])\n",
    "\n",
    "# Plotting with discrete x-axis and dual y-axes\n",
    "fig, ax1 = plt.subplots(figsize=(10, 6))\n",
    "\n",
    "# Convert cutoffs to discrete labels\n",
    "cutoff_labels = [str(c) for c in cutoffs]\n",
    "\n",
    "# Primary y-axis for sensitivity and specificity\n",
    "ax1.plot(cutoffs, sensitivities, marker='o', label=\"Sensitivity\", color=\"blue\")\n",
    "ax1.plot(cutoffs, specificities, marker='o', label=\"Specificity\", color=\"green\")\n",
    "ax1.set_xlabel(\"Cutoff\")\n",
    "ax1.set_ylabel(\"Sensitivity / Specificity\", color=\"black\")\n",
    "ax1.set_xticks(cutoffs)\n",
    "ax1.set_xticklabels(cutoff_labels)\n",
    "ax1.tick_params(axis='y', labelcolor=\"black\")\n",
    "ax1.legend(loc=\"upper left\")\n",
    "ax1.grid(True, linestyle='--', alpha=0.5)\n",
    "\n",
    "# Secondary y-axis for number of mistakes\n",
    "ax2 = ax1.twinx()\n",
    "ax2.plot(cutoffs, mistakes, marker='o', label=\"Mistakes\", color=\"red\", linestyle='dashed')\n",
    "ax2.set_ylabel(\"Number of Mistakes\", color=\"red\")\n",
    "ax2.tick_params(axis='y', labelcolor=\"red\")\n",
    "ax2.legend(loc=\"upper right\")\n",
    "\n",
    "# Add a separate x-axis line for better visibility\n",
    "ax1.axhline(y=0, color='black', linewidth=0.8, linestyle='--', alpha=0.7)\n",
    "\n",
    "# Title and layout adjustments\n",
    "plt.title(\"Performance Metrics and Mistakes Across Cutoffs (Discrete X-Axis)\")\n",
    "fig.tight_layout()\n",
    "plt.show()\n"
   ],
   "metadata": {
    "collapsed": false
   }
  },
  {
   "cell_type": "code",
   "execution_count": null,
   "outputs": [],
   "source": [
    "# Adjust the visual distance between ticks on the secondary y-axis\n",
    "fig, ax1 = plt.subplots(figsize=(10, 6))\n",
    "\n",
    "# Convert cutoffs to discrete labels\n",
    "cutoff_labels = [str(c) for c in cutoffs]\n",
    "\n",
    "# Primary y-axis for sensitivity and specificity\n",
    "ax1.plot(cutoffs, sensitivities, marker='o', label=\"Sensitivity\", color=\"blue\")\n",
    "ax1.plot(cutoffs, specificities, marker='o', label=\"Specificity\", color=\"green\")\n",
    "ax1.set_xlabel(\"Cutoff\")\n",
    "ax1.set_ylabel(\"Sensitivity / Specificity\", color=\"black\")\n",
    "ax1.set_xticks(cutoffs)\n",
    "ax1.set_xticklabels(cutoff_labels)\n",
    "ax1.tick_params(axis='y', labelcolor=\"black\")\n",
    "ax1.legend(loc=\"upper left\")\n",
    "ax1.grid(True, linestyle='--', alpha=0.5)\n",
    "\n",
    "# Secondary y-axis for number of mistakes with adjusted scale compression\n",
    "ax2 = ax1.twinx()\n",
    "ax2.plot(cutoffs, mistakes, marker='o', label=\"Mistakes\", color=\"red\", linestyle='dashed')\n",
    "ax2.set_ylabel(\"Number of Mistakes\", color=\"red\")\n",
    "ax2.tick_params(axis='y', labelcolor=\"red\")\n",
    "ax2.set_ylim(min(mistakes) , max(mistakes))  # Compressing the vertical range\n",
    "\n",
    "ax2.legend(loc=\"upper right\")\n",
    "\n",
    "# Add a separate x-axis line for better visibility\n",
    "ax1.axhline(y=0, color='black', linewidth=0.8, linestyle='--', alpha=0.7)\n",
    "\n",
    "# Title and layout adjustments\n",
    "plt.title(\"Performance Metrics and Mistakes Across Cutoffs (Compressed Right Axis)\", fontsize=16)\n",
    "fig.tight_layout()\n",
    "plt.show()\n"
   ],
   "metadata": {
    "collapsed": false
   }
  },
  {
   "cell_type": "code",
   "execution_count": null,
   "outputs": [],
   "source": [
    "eggim_scores = {}\n",
    "patients_dfs = []\n",
    "for i, patient_id in enumerate(patient_ids):\n",
    "    df_patient = df_togas[df_togas['patient_id'] == patient_id]\n",
    "    df_patient['pred'] = y_baseline_ordinals[i]\n",
    "    patients_dfs.append(df_patient)\n",
    "    eggim_square = compute_eggim_patient(df_patient,\n",
    "                                          target_variable='eggim_square')\n",
    "    eggim_global = compute_eggim_patient(df_patient,\n",
    "                                  target_variable='eggim_global')\n",
    "    eggim_pred = compute_eggim_patient(df_patient,\n",
    "                                  target_variable='pred')\n",
    "    eggim_scores[patient_ids[i]] = {'eggim_square': eggim_square, 'eggim_global': eggim_global,\n",
    "                                    'eggim_pred': eggim_pred}\n",
    "eggim_df = pd.DataFrame(eggim_scores).T"
   ],
   "metadata": {
    "collapsed": false
   }
  },
  {
   "cell_type": "code",
   "execution_count": null,
   "outputs": [],
   "source": [
    "patients_dfs = pd.concat(patients_dfs)\n",
    "patients_dfs.to_csv('baseline_scores.csv')\n",
    "eggim_df.to_csv(\"fe_eggim_revised.csv\")"
   ],
   "metadata": {
    "collapsed": false
   }
  },
  {
   "cell_type": "code",
   "execution_count": null,
   "outputs": [],
   "source": [
    "\n",
    "cutoff = 5\n",
    "y = np.array([1 if eggim >= cutoff else 0 for eggim in eggim_df['eggim_square'].values])\n",
    "y_pred = np.array([1 if eggim >= cutoff else 0 for eggim in eggim_df['eggim_pred'].values])\n",
    "\n",
    "print(np.sum(y != y_pred))\n",
    "\n",
    "calculate_eggim_metrics(np.array([1 if eggim >= cutoff else 0 for eggim in eggim_df['eggim_square'].values]),\n",
    "                                  np.array([1 if eggim >= cutoff else 0 for eggim in eggim_df['eggim_pred'].values]))"
   ],
   "metadata": {
    "collapsed": false
   }
  },
  {
   "cell_type": "code",
   "execution_count": null,
   "outputs": [],
   "source": [
    "eggim_df"
   ],
   "metadata": {
    "collapsed": false
   }
  },
  {
   "cell_type": "code",
   "execution_count": null,
   "outputs": [],
   "source": [
    "y = np.array([1 if eggim >= cutoff else 0 for eggim in eggim_df['eggim_square'].values])\n",
    "y_pred = np.array([1 if eggim >= cutoff else 0 for eggim in eggim_df['eggim_pred'].values])\n",
    "\n",
    "np.sum(y != y_pred)"
   ],
   "metadata": {
    "collapsed": false
   }
  },
  {
   "cell_type": "code",
   "execution_count": null,
   "outputs": [],
   "source": [
    "print(os.getcwd())"
   ],
   "metadata": {
    "collapsed": false
   }
  },
  {
   "cell_type": "code",
   "execution_count": null,
   "outputs": [],
   "source": [
    "# minimum error of patch vs global labels\n",
    "best_possible_eggim_mae = np.mean(np.abs(eggim_df.iloc[:, 1] -  eggim_df.iloc[:, 0]))"
   ],
   "metadata": {
    "collapsed": false
   }
  },
  {
   "cell_type": "code",
   "execution_count": null,
   "outputs": [],
   "source": [
    "# error of patch predictions vs patch labels\n",
    "patch_eggim_mae =  np.mean(np.abs(eggim_df.iloc[:, 0] -  eggim_df.iloc[:, 2]))"
   ],
   "metadata": {
    "collapsed": false
   }
  },
  {
   "cell_type": "code",
   "execution_count": null,
   "outputs": [],
   "source": [
    "patch_global_eggim_mae = np.mean(np.abs(eggim_df.iloc[:, 1] -  eggim_df.iloc[:, 2]))"
   ],
   "metadata": {
    "collapsed": false
   }
  },
  {
   "cell_type": "code",
   "execution_count": null,
   "outputs": [],
   "source": [
    "patch_eggim_mae"
   ],
   "metadata": {
    "collapsed": false
   }
  },
  {
   "cell_type": "code",
   "execution_count": null,
   "outputs": [],
   "source": [
    "# patch ground truth vs patch pred:\n",
    "patch_eggim_mae"
   ],
   "metadata": {
    "collapsed": false
   }
  },
  {
   "cell_type": "code",
   "execution_count": null,
   "outputs": [],
   "source": [
    "# global ground truth vs patch pred\n",
    "patch_global_eggim_mae"
   ],
   "metadata": {
    "collapsed": false
   }
  },
  {
   "cell_type": "code",
   "execution_count": null,
   "outputs": [],
   "source": [
    "# global ground truth vs patch pred \"adjusted\" with minimum error in square labels\n",
    "patch_global_eggim_mae - best_possible_eggim_mae"
   ],
   "metadata": {
    "collapsed": false
   }
  },
  {
   "cell_type": "code",
   "execution_count": null,
   "outputs": [],
   "source": [
    "eggim_df"
   ],
   "metadata": {
    "collapsed": false
   }
  },
  {
   "cell_type": "code",
   "execution_count": null,
   "outputs": [],
   "source": [
    "eggim_df.to_excel('eggim65.xlsx', index=True)"
   ],
   "metadata": {
    "collapsed": false
   }
  },
  {
   "cell_type": "code",
   "execution_count": null,
   "outputs": [],
   "source": [
    "!pip install openpyxl"
   ],
   "metadata": {
    "collapsed": false
   }
  },
  {
   "cell_type": "code",
   "execution_count": null,
   "outputs": [],
   "source": [
    "!ls"
   ],
   "metadata": {
    "collapsed": false
   }
  },
  {
   "cell_type": "code",
   "execution_count": null,
   "outputs": [],
   "source": [
    "!pwd"
   ],
   "metadata": {
    "collapsed": false
   }
  },
  {
   "cell_type": "code",
   "execution_count": null,
   "outputs": [],
   "source": [],
   "metadata": {
    "collapsed": false
   }
  }
 ],
 "metadata": {
  "kernelspec": {
   "display_name": "Python 3",
   "language": "python",
   "name": "python3"
  },
  "language_info": {
   "codemirror_mode": {
    "name": "ipython",
    "version": 2
   },
   "file_extension": ".py",
   "mimetype": "text/x-python",
   "name": "python",
   "nbconvert_exporter": "python",
   "pygments_lexer": "ipython2",
   "version": "2.7.6"
  }
 },
 "nbformat": 4,
 "nbformat_minor": 0
}
