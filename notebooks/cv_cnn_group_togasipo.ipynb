{
 "cells": [
  {
   "cell_type": "code",
   "execution_count": 1,
   "metadata": {
    "collapsed": true
   },
   "outputs": [],
   "source": [
    "import matplotlib.pyplot as plt\n",
    "import numpy as np\n",
    "import os\n",
    "import tensorflow as tf\n",
    "\n",
    "from keras.metrics import Precision, Recall, AUC, CategoricalAccuracy\n",
    "\n",
    "from custom_models.cnns import simple_cnn_bn\n",
    "from etl.load_dataset import DatasetProcessor, get_tf_eggim_patch_dataset\n",
    "from evaluation.metrics import categorical_accuracy, sensitivity_per_class, specificity_per_class"
   ]
  },
  {
   "cell_type": "code",
   "execution_count": 2,
   "outputs": [],
   "source": [
    "target_dir = '../test_files/EGGIMazing/Dataset'\n",
    "model_weights_directory = '../logs/crossvalidation/temp_splits/'\n",
    "batch_size = 32\n",
    "num_epochs = 100\n",
    "learning_rate = 1e-4\n",
    "num_folds = 5\n",
    "name = f'cnn_basic_da_togasipo_cv_5fold_{num_folds}'\n",
    "model_fold_dir = sorted(os.listdir(model_weights_directory))\n",
    "model_dirs = [os.path.join(os.path.join(model_weights_directory, x), 'weights.h5')\n",
    "              for x in model_fold_dir]"
   ],
   "metadata": {
    "collapsed": false
   }
  },
  {
   "cell_type": "code",
   "execution_count": 35,
   "outputs": [
    {
     "data": {
      "text/plain": "['../logs/crossvalidation/temp_splits/cnn_basic_da_togasipo_cv_5fold_0_20240814-160719/weights.h5',\n '../logs/crossvalidation/temp_splits/cnn_basic_da_togasipo_cv_5fold_1_20240814-161010/weights.h5',\n '../logs/crossvalidation/temp_splits/cnn_basic_da_togasipo_cv_5fold_2_20240814-161257/weights.h5',\n '../logs/crossvalidation/temp_splits/cnn_basic_da_togasipo_cv_5fold_3_20240814-161545/weights.h5',\n '../logs/crossvalidation/temp_splits/cnn_basic_da_togasipo_cv_5fold_4_20240814-161836/weights.h5',\n '../logs/crossvalidation/temp_splits/resnet50_da_togasipo_cv_5fold_0_20240814-160707/weights.h5',\n '../logs/crossvalidation/temp_splits/resnet50_da_togasipo_cv_5fold_1_20240814-161052/weights.h5',\n '../logs/crossvalidation/temp_splits/resnet50_da_togasipo_cv_5fold_2_20240814-161434/weights.h5',\n '../logs/crossvalidation/temp_splits/resnet50_da_togasipo_cv_5fold_3_20240814-161818/weights.h5',\n '../logs/crossvalidation/temp_splits/resnet50_da_togasipo_cv_5fold_4_20240814-162203/weights.h5']"
     },
     "execution_count": 35,
     "metadata": {},
     "output_type": "execute_result"
    }
   ],
   "source": [
    "model_dirs"
   ],
   "metadata": {
    "collapsed": false
   }
  },
  {
   "cell_type": "code",
   "execution_count": 3,
   "outputs": [
    {
     "name": "stdout",
     "output_type": "stream",
     "text": [
      "Metal device set to: Apple M1\n"
     ]
    },
    {
     "name": "stderr",
     "output_type": "stream",
     "text": [
      "2024-08-14 16:59:17.506835: I tensorflow/core/common_runtime/pluggable_device/pluggable_device_factory.cc:305] Could not identify NUMA node of platform GPU ID 0, defaulting to 0. Your kernel may not have been built with NUMA support.\n",
      "2024-08-14 16:59:17.506924: I tensorflow/core/common_runtime/pluggable_device/pluggable_device_factory.cc:271] Created TensorFlow device (/job:localhost/replica:0/task:0/device:GPU:0 with 0 MB memory) -> physical PluggableDevice (device: 0, name: METAL, pci bus id: <undefined>)\n",
      "2024-08-14 16:59:17.987278: W tensorflow/core/platform/profile_utils/cpu_utils.cc:128] Failed to get CPU frequency: 0 Hz\n",
      "2024-08-14 16:59:18.243976: I tensorflow/core/grappler/optimizers/custom_graph_optimizer_registry.cc:113] Plugin optimizer for device_type GPU is enabled.\n"
     ]
    },
    {
     "name": "stdout",
     "output_type": "stream",
     "text": [
      "2/2 [==============================] - 1s 194ms/step\n"
     ]
    },
    {
     "name": "stderr",
     "output_type": "stream",
     "text": [
      "2024-08-14 16:59:19.265631: I tensorflow/core/grappler/optimizers/custom_graph_optimizer_registry.cc:113] Plugin optimizer for device_type GPU is enabled.\n"
     ]
    },
    {
     "name": "stdout",
     "output_type": "stream",
     "text": [
      "3/3 [==============================] - 1s 131ms/step\n",
      "1/3 [=========>....................] - ETA: 0s"
     ]
    },
    {
     "name": "stderr",
     "output_type": "stream",
     "text": [
      "2024-08-14 16:59:20.198821: I tensorflow/core/grappler/optimizers/custom_graph_optimizer_registry.cc:113] Plugin optimizer for device_type GPU is enabled.\n"
     ]
    },
    {
     "name": "stdout",
     "output_type": "stream",
     "text": [
      "3/3 [==============================] - 1s 204ms/step\n",
      "1/3 [=========>....................] - ETA: 0s"
     ]
    },
    {
     "name": "stderr",
     "output_type": "stream",
     "text": [
      "2024-08-14 16:59:21.527674: I tensorflow/core/grappler/optimizers/custom_graph_optimizer_registry.cc:113] Plugin optimizer for device_type GPU is enabled.\n"
     ]
    },
    {
     "name": "stdout",
     "output_type": "stream",
     "text": [
      "3/3 [==============================] - 0s 131ms/step\n",
      "WARNING:tensorflow:5 out of the last 12 calls to <function Model.make_predict_function.<locals>.predict_function at 0x298fe1000> triggered tf.function retracing. Tracing is expensive and the excessive number of tracings could be due to (1) creating @tf.function repeatedly in a loop, (2) passing tensors with different shapes, (3) passing Python objects instead of tensors. For (1), please define your @tf.function outside of the loop. For (2), @tf.function has reduce_retracing=True option that can avoid unnecessary retracing. For (3), please refer to https://www.tensorflow.org/guide/function#controlling_retracing and https://www.tensorflow.org/api_docs/python/tf/function for  more details.\n",
      "1/3 [=========>....................] - ETA: 0s"
     ]
    },
    {
     "name": "stderr",
     "output_type": "stream",
     "text": [
      "2024-08-14 16:59:22.238601: I tensorflow/core/grappler/optimizers/custom_graph_optimizer_registry.cc:113] Plugin optimizer for device_type GPU is enabled.\n"
     ]
    },
    {
     "name": "stdout",
     "output_type": "stream",
     "text": [
      "3/3 [==============================] - 0s 133ms/step\n"
     ]
    }
   ],
   "source": [
    "from sklearn.metrics import confusion_matrix\n",
    "\n",
    "dp = DatasetProcessor(target_dir)\n",
    "df = dp.process()\n",
    "togas_ids_boolean = np.array([x.startswith('PT') for x in df['patient_id'].values])\n",
    "df_togas = df[togas_ids_boolean].reset_index(drop=True)\n",
    "\n",
    "split = dp.group_k_splits(df_togas, k=num_folds, train_size=0.7, val_size=0.1, test_size=0.2, random_state=42)\n",
    "metrics = []\n",
    "\n",
    "for fold, (train_idx, val_idx, test_idx) in enumerate(split):\n",
    "    tf_train_df = get_tf_eggim_patch_dataset(df_togas.loc[train_idx], num_classes=3)\n",
    "    tf_val_df = get_tf_eggim_patch_dataset(df_togas.loc[val_idx], num_classes=3)\n",
    "    tf_test_df = get_tf_eggim_patch_dataset(df_togas.loc[test_idx], num_classes=3)\n",
    "\n",
    "    tf_train_df = tf_train_df.batch(batch_size)\n",
    "    tf_val_df = tf_val_df.batch(batch_size)\n",
    "    tf_test_df = tf_test_df.batch(batch_size)\n",
    "\n",
    "    n_classes = 3  # Replace with the number of classes you have\n",
    "    model = simple_cnn_bn(input_shape=(224, 224, 3), n_classes=n_classes)\n",
    "    # Compile the model with Adam optimizer\n",
    "    model.compile(optimizer=tf.keras.optimizers.Adam(learning_rate=learning_rate),\n",
    "                  loss='categorical_crossentropy',\n",
    "                  metrics=[CategoricalAccuracy(name='cat_accuracy'), Precision(name='precision'), Recall(name='recall'),\n",
    "                           AUC(name='auc')])\n",
    "\n",
    "    name_fold = name + f'fold_{fold}'\n",
    "\n",
    "    model.load_weights(model_dirs[fold])\n",
    "\n",
    "    y_true = np.concatenate([y for (_, y) in tf_test_df])\n",
    "    y_pred = model.predict(tf_test_df)\n",
    "    y_true_ordinal = np.argmax(y_true, axis=-1) # [0 0 1] -> 2\n",
    "    y_pred_ordinal = np.argmax(y_pred, axis=-1)\n",
    "    y_pred_one_hot = np.zeros_like(y_pred)\n",
    "    y_pred_one_hot[np.arange(len(y_pred)), np.argmax(y_pred, axis=1)] = 1 # [0.2, 0.2, 0.6] -> [0, 0, 1]\n",
    "    conf_matrix = confusion_matrix(y_true_ordinal, y_pred_ordinal)\n",
    "    metrics.append([categorical_accuracy(y_true, y_pred_one_hot),\n",
    "                    specificity_per_class(conf_matrix), sensitivity_per_class(conf_matrix),\n",
    "                    conf_matrix])"
   ],
   "metadata": {
    "collapsed": false
   }
  },
  {
   "cell_type": "code",
   "execution_count": 16,
   "outputs": [],
   "source": [
    "cat_acc = np.array([x[0] for x in metrics])\n",
    "spec = np.array([x[1] for x in metrics])\n",
    "sens = np.array([x[2] for x in metrics])\n",
    "confs = np.array([x[3] for x in metrics])"
   ],
   "metadata": {
    "collapsed": false
   }
  },
  {
   "cell_type": "code",
   "execution_count": null,
   "outputs": [],
   "source": [],
   "metadata": {
    "collapsed": false
   }
  },
  {
   "cell_type": "code",
   "execution_count": 18,
   "outputs": [
    {
     "data": {
      "text/plain": "<Figure size 800x600 with 1 Axes>",
      "image/png": "[encoded data removed]"
     },
     "metadata": {},
     "output_type": "display_data"
    }
   ],
   "source": [
    "data = [cat_acc, np.mean(spec, axis=1), np.mean(sens, axis=1)]\n",
    "\n",
    "# Create the box plot\n",
    "plt.figure(figsize=(8, 6))\n",
    "plt.boxplot(data, labels=['Cat Acc', 'Spec', 'Sens'])\n",
    "plt.title('Box Plot of Metrics')\n",
    "plt.ylabel('Values')\n",
    "plt.grid(True)\n",
    "\n",
    "# Show the plot\n",
    "plt.show()"
   ],
   "metadata": {
    "collapsed": false
   }
  },
  {
   "cell_type": "code",
   "execution_count": 19,
   "outputs": [
    {
     "name": "stdout",
     "output_type": "stream",
     "text": [
      "Mean metrics\n",
      "[0.85410308 0.90642729 0.71086876]\n"
     ]
    }
   ],
   "source": [
    "print(\"Mean metrics\")\n",
    "print(np.mean(data, axis=1))"
   ],
   "metadata": {
    "collapsed": false
   }
  },
  {
   "cell_type": "code",
   "execution_count": 20,
   "outputs": [
    {
     "name": "stdout",
     "output_type": "stream",
     "text": [
      "Specificity per 0,1,2\n",
      "[0.82333916 0.9729847  0.922958  ]\n",
      "Sensitivity per 0,1,2\n",
      "[0.97030303 0.36558442 0.79671884]\n"
     ]
    }
   ],
   "source": [
    "print(\"Specificity per 0,1,2\")\n",
    "print(np.mean(spec, axis=0))\n",
    "\n",
    "print(\"Sensitivity per 0,1,2\")\n",
    "print(np.mean(sens, axis=0))"
   ],
   "metadata": {
    "collapsed": false
   }
  },
  {
   "cell_type": "code",
   "execution_count": 10,
   "outputs": [
    {
     "name": "stdout",
     "output_type": "stream",
     "text": [
      "[0.89090909 0.85714286 0.77777778 0.89393939 0.85074627]\n"
     ]
    }
   ],
   "source": [
    "print(cat_acc) # cat_acc"
   ],
   "metadata": {
    "collapsed": false
   }
  },
  {
   "cell_type": "code",
   "execution_count": 21,
   "outputs": [
    {
     "name": "stdout",
     "output_type": "stream",
     "text": [
      "[[0.72727273 1.         0.93478261]\n",
      " [0.83333333 1.         0.88636364]\n",
      " [0.74358974 0.96721311 0.90909091]\n",
      " [1.         0.91525424 0.95121951]\n",
      " [0.8125     0.98245614 0.93333333]]\n"
     ]
    }
   ],
   "source": [
    "print(spec) # sppec"
   ],
   "metadata": {
    "collapsed": false
   }
  },
  {
   "cell_type": "code",
   "execution_count": 22,
   "outputs": [
    {
     "name": "stdout",
     "output_type": "stream",
     "text": [
      "[[0.93181818 0.         0.88888889]\n",
      " [0.95       0.25       0.80769231]\n",
      " [0.96969697 0.36363636 0.71428571]\n",
      " [1.         0.71428571 0.8       ]\n",
      " [1.         0.5        0.77272727]]\n"
     ]
    }
   ],
   "source": [
    "print(sens)"
   ],
   "metadata": {
    "collapsed": false
   }
  },
  {
   "cell_type": "code",
   "execution_count": 24,
   "outputs": [
    {
     "name": "stdout",
     "output_type": "stream",
     "text": [
      "[[[41  0  3]\n",
      "  [ 2  0  0]\n",
      "  [ 1  0  8]]\n",
      "\n",
      " [[38  0  2]\n",
      "  [ 0  1  3]\n",
      "  [ 5  0 21]]\n",
      "\n",
      " [[32  1  0]\n",
      "  [ 3  4  4]\n",
      "  [ 7  1 20]]\n",
      "\n",
      " [[34  0  0]\n",
      "  [ 0  5  2]\n",
      "  [ 0  5 20]]\n",
      "\n",
      " [[35  0  0]\n",
      "  [ 2  5  3]\n",
      "  [ 4  1 17]]]\n"
     ]
    }
   ],
   "source": [
    "print(confs)"
   ],
   "metadata": {
    "collapsed": false
   }
  },
  {
   "cell_type": "code",
   "execution_count": null,
   "outputs": [],
   "source": [],
   "metadata": {
    "collapsed": false
   }
  }
 ],
 "metadata": {
  "kernelspec": {
   "display_name": "Python 3",
   "language": "python",
   "name": "python3"
  },
  "language_info": {
   "codemirror_mode": {
    "name": "ipython",
    "version": 2
   },
   "file_extension": ".py",
   "mimetype": "text/x-python",
   "name": "python",
   "nbconvert_exporter": "python",
   "pygments_lexer": "ipython2",
   "version": "2.7.6"
  }
 },
 "nbformat": 4,
 "nbformat_minor": 0
}
