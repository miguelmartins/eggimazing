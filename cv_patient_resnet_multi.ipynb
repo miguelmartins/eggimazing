{
 "cells": [
  {
   "cell_type": "raw",
   "metadata": {
    "collapsed": false,
    "pycharm": {
     "name": ""
    }
   },
   "source": []
  },
  {
   "cell_type": "code",
   "execution_count": 1,
   "metadata": {
    "collapsed": true
   },
   "outputs": [
    {
     "name": "stderr",
     "output_type": "stream",
     "text": [
      "2025-01-16 01:25:52.093534: E external/local_xla/xla/stream_executor/cuda/cuda_fft.cc:477] Unable to register cuFFT factory: Attempting to register factory for plugin cuFFT when one has already been registered\n",
      "WARNING: All log messages before absl::InitializeLog() is called are written to STDERR\n",
      "E0000 00:00:1736990752.110869  116664 cuda_dnn.cc:8310] Unable to register cuDNN factory: Attempting to register factory for plugin cuDNN when one has already been registered\n",
      "E0000 00:00:1736990752.115365  116664 cuda_blas.cc:1418] Unable to register cuBLAS factory: Attempting to register factory for plugin cuBLAS when one has already been registered\n",
      "2025-01-16 01:25:52.130767: I tensorflow/core/platform/cpu_feature_guard.cc:210] This TensorFlow binary is optimized to use available CPU instructions in performance-critical operations.\n",
      "To enable the following instructions: AVX2 FMA, in other operations, rebuild TensorFlow with the appropriate compiler flags.\n"
     ]
    }
   ],
   "source": [
    "import matplotlib.pyplot as plt\n",
    "import numpy as np\n",
    "import os\n",
    "import tensorflow as tf\n",
    "from keras.metrics import Precision, Recall, AUC, CategoricalAccuracy\n",
    "\n",
    "from custom_models.augmentation import basic_plus_color_augmentation, basic_augmentation\n",
    "from custom_models.bilinear_cnns import fe_resnet\n",
    "from custom_models.cnns import simple_cnn_bn, base_resnet50\n",
    "from custom_models.optimization_utilities import get_standard_callbacks\n",
    "from etl.load_dataset import DatasetProcessor, get_tf_eggim_patch_dataset\n",
    "from optimization.custom_losses import weighted_categorical_crossentropy"
   ]
  },
  {
   "cell_type": "code",
   "execution_count": 2,
   "metadata": {
    "collapsed": false
   },
   "outputs": [],
   "source": [
    "target_dir = '../2025-01_EGGIM_Dataset3'\n",
    "model_weights_directory = '../logs/'\n",
    "batch_size = 32\n",
    "num_epochs = 100\n",
    "learning_rate = 1e-4\n",
    "num_folds = 5\n",
    "name = f'cv_patient_resnet_multi'\n",
    "model_fold_dir = sorted(os.listdir(model_weights_directory))\n",
    "model_dirs = [os.path.join(os.path.join(model_weights_directory, x), 'weights.weights.h5')\n",
    "              for x in model_fold_dir if x.startswith(name)]"
   ]
  },
  {
   "cell_type": "code",
   "execution_count": 3,
   "metadata": {
    "collapsed": false
   },
   "outputs": [
    {
     "data": {
      "text/plain": [
       "['../logs/cv_patient_resnet_multi_65fold_0_20250116-010936/weights.weights.h5',\n",
       " '../logs/cv_patient_resnet_multi_65fold_0_20250116-011422/weights.weights.h5',\n",
       " '../logs/cv_patient_resnet_multi_65fold_1_20250116-011504/weights.weights.h5',\n",
       " '../logs/cv_patient_resnet_multi_65fold_2_20250116-011530/weights.weights.h5',\n",
       " '../logs/cv_patient_resnet_multi_65fold_3_20250116-011601/weights.weights.h5',\n",
       " '../logs/cv_patient_resnet_multi_65fold_4_20250116-011633/weights.weights.h5',\n",
       " '../logs/cv_patient_resnet_multi_65fold_5_20250116-011658/weights.weights.h5',\n",
       " '../logs/cv_patient_resnet_multi_65fold_6_20250116-011723/weights.weights.h5',\n",
       " '../logs/cv_patient_resnet_multi_65fold_7_20250116-011750/weights.weights.h5',\n",
       " '../logs/cv_patient_resnet_multi_65fold_8_20250116-011819/weights.weights.h5']"
      ]
     },
     "execution_count": 3,
     "metadata": {},
     "output_type": "execute_result"
    }
   ],
   "source": [
    "model_dirs"
   ]
  },
  {
   "cell_type": "code",
   "execution_count": 4,
   "metadata": {
    "collapsed": false
   },
   "outputs": [],
   "source": [
    "dp = DatasetProcessor(target_dir)\n",
    "df = dp.process()\n",
    "patient_ids = np.load('configs/new_patient_ids.npy', allow_pickle=True)\n",
    "\n",
    "togas_ids_boolean = np.array([x.startswith('PT') for x in df['patient_id'].values])\n",
    "df_togas = df[togas_ids_boolean].reset_index(drop=True)\n",
    "df_ipo = df[~togas_ids_boolean].reset_index(drop=True)\n"
   ]
  },
  {
   "cell_type": "code",
   "execution_count": 5,
   "metadata": {
    "collapsed": false
   },
   "outputs": [
    {
     "name": "stderr",
     "output_type": "stream",
     "text": [
      "I0000 00:00:1736990754.958253  116664 gpu_device.cc:2022] Created device /job:localhost/replica:0/task:0/device:GPU:0 with 9237 MB memory:  -> device: 0, name: NVIDIA GeForce RTX 3060, pci bus id: 0000:01:00.0, compute capability: 8.6\n",
      "/home/goda/Desktop/tese/venv_3.10.12/lib/python3.10/site-packages/keras/src/saving/saving_lib.py:757: UserWarning: Skipping variable loading for optimizer 'adam', because it has 2 variables whereas the saved optimizer has 10 variables. \n",
      "  saveable.load_own_variables(weights_store.get(inner_path))\n",
      "2025-01-16 01:25:57.449168: I tensorflow/core/framework/local_rendezvous.cc:405] Local rendezvous is aborting with status: OUT_OF_RANGE: End of sequence\n",
      "WARNING: All log messages before absl::InitializeLog() is called are written to STDERR\n",
      "I0000 00:00:1736990758.718905  116737 service.cc:148] XLA service 0x7aeab80036b0 initialized for platform CUDA (this does not guarantee that XLA will be used). Devices:\n",
      "I0000 00:00:1736990758.718918  116737 service.cc:156]   StreamExecutor device (0): NVIDIA GeForce RTX 3060, Compute Capability 8.6\n",
      "2025-01-16 01:25:58.791790: I tensorflow/compiler/mlir/tensorflow/utils/dump_mlir_util.cc:268] disabling MLIR crash reproducer, set env var `MLIR_CRASH_REPRODUCER_DIRECTORY` to enable.\n",
      "I0000 00:00:1736990759.195651  116737 cuda_dnn.cc:529] Loaded cuDNN version 90300\n",
      "2025-01-16 01:26:00.050809: I external/local_xla/xla/stream_executor/cuda/cuda_asm_compiler.cc:397] ptxas warning : Registers are spilled to local memory in function 'gemm_fusion_dot_1681_0', 8 bytes spill stores, 8 bytes spill loads\n",
      "\n",
      "2025-01-16 01:26:00.323531: I external/local_xla/xla/stream_executor/cuda/cuda_asm_compiler.cc:397] ptxas warning : Registers are spilled to local memory in function 'gemm_fusion_dot_1688', 4 bytes spill stores, 4 bytes spill loads\n",
      "\n",
      "2025-01-16 01:26:00.581117: I external/local_xla/xla/stream_executor/cuda/cuda_asm_compiler.cc:397] ptxas warning : Registers are spilled to local memory in function 'gemm_fusion_dot_1688', 248 bytes spill stores, 248 bytes spill loads\n",
      "\n"
     ]
    },
    {
     "name": "stdout",
     "output_type": "stream",
     "text": [
      "\u001b[1m1/1\u001b[0m \u001b[32m━━━━━━━━━━━━━━━━━━━━\u001b[0m\u001b[37m\u001b[0m \u001b[1m5s\u001b[0m 5s/step\n"
     ]
    },
    {
     "name": "stderr",
     "output_type": "stream",
     "text": [
      "I0000 00:00:1736990762.855177  116737 device_compiler.h:188] Compiled cluster using XLA!  This line is logged at most once for the lifetime of the process.\n",
      "/home/goda/Desktop/tese/eggimazing/evaluation/metrics.py:48: RuntimeWarning: invalid value encountered in scalar divide\n",
      "  sensitivity = TP / (TP + FN)\n"
     ]
    },
    {
     "name": "stdout",
     "output_type": "stream",
     "text": [
      "[[0.05749219 0.22240403 0.72010374]\n",
      " [0.0016332  0.06116532 0.93720144]\n",
      " [0.0024775  0.10153528 0.8959873 ]\n",
      " [0.00385269 0.053381   0.94276625]\n",
      " [0.00365513 0.11336123 0.8829837 ]\n",
      " [0.1417281  0.08275882 0.775513  ]\n",
      " [0.02803906 0.07106929 0.9008916 ]\n",
      " [0.00280055 0.03204879 0.96515065]\n",
      " [0.00903447 0.19179395 0.79917157]\n",
      " [0.01847201 0.0463182  0.93520975]\n",
      " [0.01515456 0.18063512 0.80421025]]\n",
      "[2 2 2 2 2 2 2 2 2 2 2]\n",
      "[[0. 0. 1.]\n",
      " [0. 0. 1.]\n",
      " [0. 0. 1.]\n",
      " [0. 0. 1.]\n",
      " [0. 0. 1.]\n",
      " [0. 0. 1.]\n",
      " [0. 0. 1.]\n",
      " [0. 0. 1.]\n",
      " [0. 0. 1.]\n",
      " [0. 0. 1.]\n",
      " [0. 0. 1.]]\n"
     ]
    },
    {
     "name": "stderr",
     "output_type": "stream",
     "text": [
      "/home/goda/Desktop/tese/venv_3.10.12/lib/python3.10/site-packages/keras/src/saving/saving_lib.py:757: UserWarning: Skipping variable loading for optimizer 'adam', because it has 2 variables whereas the saved optimizer has 10 variables. \n",
      "  saveable.load_own_variables(weights_store.get(inner_path))\n",
      "2025-01-16 01:26:04.345693: I tensorflow/core/framework/local_rendezvous.cc:405] Local rendezvous is aborting with status: OUT_OF_RANGE: End of sequence\n"
     ]
    },
    {
     "name": "stdout",
     "output_type": "stream",
     "text": [
      "\u001b[1m1/1\u001b[0m \u001b[32m━━━━━━━━━━━━━━━━━━━━\u001b[0m\u001b[37m\u001b[0m \u001b[1m2s\u001b[0m 2s/step\n",
      "[[0.38122797 0.27880943 0.3399626 ]\n",
      " [0.1269815  0.30141026 0.57160825]\n",
      " [0.27077106 0.20728421 0.5219447 ]\n",
      " [0.1632131  0.10679174 0.7299952 ]\n",
      " [0.16971858 0.00258271 0.8276987 ]\n",
      " [0.01355688 0.25621557 0.73022753]\n",
      " [0.03469994 0.08667723 0.8786229 ]\n",
      " [0.03963168 0.21602096 0.7443474 ]\n",
      " [0.02698625 0.05369876 0.91931504]\n",
      " [0.12481258 0.28775355 0.5874339 ]\n",
      " [0.45092013 0.32512626 0.22395359]]\n",
      "[0 2 2 2 2 2 2 2 2 2 0]\n",
      "[[1. 0. 0.]\n",
      " [0. 0. 1.]\n",
      " [0. 0. 1.]\n",
      " [0. 0. 1.]\n",
      " [0. 0. 1.]\n",
      " [0. 0. 1.]\n",
      " [0. 0. 1.]\n",
      " [0. 0. 1.]\n",
      " [0. 0. 1.]\n",
      " [0. 0. 1.]\n",
      " [1. 0. 0.]]\n"
     ]
    },
    {
     "name": "stderr",
     "output_type": "stream",
     "text": [
      "/home/goda/Desktop/tese/eggimazing/evaluation/metrics.py:27: RuntimeWarning: invalid value encountered in scalar divide\n",
      "  specificity = TN / (TN + FP)\n",
      "/home/goda/Desktop/tese/eggimazing/evaluation/metrics.py:48: RuntimeWarning: invalid value encountered in scalar divide\n",
      "  sensitivity = TP / (TP + FN)\n",
      "/home/goda/Desktop/tese/venv_3.10.12/lib/python3.10/site-packages/keras/src/saving/saving_lib.py:757: UserWarning: Skipping variable loading for optimizer 'adam', because it has 2 variables whereas the saved optimizer has 10 variables. \n",
      "  saveable.load_own_variables(weights_store.get(inner_path))\n",
      "2025-01-16 01:26:10.787060: I external/local_xla/xla/stream_executor/cuda/cuda_asm_compiler.cc:397] ptxas warning : Registers are spilled to local memory in function 'gemm_fusion_dot_1681_0', 8 bytes spill stores, 8 bytes spill loads\n",
      "\n",
      "2025-01-16 01:26:11.087288: I external/local_xla/xla/stream_executor/cuda/cuda_asm_compiler.cc:397] ptxas warning : Registers are spilled to local memory in function 'gemm_fusion_dot_1688', 4 bytes spill stores, 4 bytes spill loads\n",
      "\n",
      "2025-01-16 01:26:11.419397: I external/local_xla/xla/stream_executor/cuda/cuda_asm_compiler.cc:397] ptxas warning : Registers are spilled to local memory in function 'gemm_fusion_dot_1688', 320 bytes spill stores, 320 bytes spill loads\n",
      "\n"
     ]
    },
    {
     "name": "stdout",
     "output_type": "stream",
     "text": [
      "\u001b[1m1/1\u001b[0m \u001b[32m━━━━━━━━━━━━━━━━━━━━\u001b[0m\u001b[37m\u001b[0m \u001b[1m5s\u001b[0m 5s/step\n",
      "[[0.14754535 0.02066241 0.83179224]\n",
      " [0.03591707 0.07363568 0.89044726]\n",
      " [0.24805886 0.27107823 0.48086283]\n",
      " [0.07430986 0.08708341 0.8386067 ]\n",
      " [0.14004196 0.05277264 0.8071854 ]\n",
      " [0.09338601 0.2628064  0.6438076 ]\n",
      " [0.01336325 0.04507937 0.9415574 ]\n",
      " [0.14614534 0.16588649 0.6879682 ]\n",
      " [0.09270726 0.2742849  0.6330078 ]\n",
      " [0.425237   0.20831081 0.36645222]\n",
      " [0.04099268 0.17892571 0.7800816 ]\n",
      " [0.02857023 0.12703246 0.84439737]\n",
      " [0.00641031 0.01549549 0.97809416]\n",
      " [0.06819956 0.09826309 0.83353734]\n",
      " [0.45992368 0.19958642 0.34048986]]\n",
      "[2 2 2 2 2 2 2 2 2 0 2 2 2 2 0]\n",
      "[[0. 0. 1.]\n",
      " [0. 0. 1.]\n",
      " [0. 0. 1.]\n",
      " [0. 0. 1.]\n",
      " [0. 0. 1.]\n",
      " [0. 0. 1.]\n",
      " [0. 0. 1.]\n",
      " [0. 0. 1.]\n",
      " [0. 0. 1.]\n",
      " [1. 0. 0.]\n",
      " [0. 0. 1.]\n",
      " [0. 0. 1.]\n",
      " [0. 0. 1.]\n",
      " [0. 0. 1.]\n",
      " [1. 0. 0.]]\n"
     ]
    },
    {
     "name": "stderr",
     "output_type": "stream",
     "text": [
      "/home/goda/Desktop/tese/venv_3.10.12/lib/python3.10/site-packages/keras/src/saving/saving_lib.py:757: UserWarning: Skipping variable loading for optimizer 'adam', because it has 2 variables whereas the saved optimizer has 10 variables. \n",
      "  saveable.load_own_variables(weights_store.get(inner_path))\n",
      "2025-01-16 01:26:14.941470: I tensorflow/core/framework/local_rendezvous.cc:405] Local rendezvous is aborting with status: OUT_OF_RANGE: End of sequence\n",
      "2025-01-16 01:26:17.554726: I external/local_xla/xla/stream_executor/cuda/cuda_asm_compiler.cc:397] ptxas warning : Registers are spilled to local memory in function 'gemm_fusion_dot_1681_0', 8 bytes spill stores, 8 bytes spill loads\n",
      "\n",
      "2025-01-16 01:26:17.839474: I external/local_xla/xla/stream_executor/cuda/cuda_asm_compiler.cc:397] ptxas warning : Registers are spilled to local memory in function 'gemm_fusion_dot_1688', 4 bytes spill stores, 4 bytes spill loads\n",
      "\n",
      "2025-01-16 01:26:17.920087: I external/local_xla/xla/stream_executor/cuda/cuda_asm_compiler.cc:397] ptxas warning : Registers are spilled to local memory in function 'gemm_fusion_dot_1688', 72 bytes spill stores, 72 bytes spill loads\n",
      "\n"
     ]
    },
    {
     "name": "stdout",
     "output_type": "stream",
     "text": [
      "\u001b[1m1/1\u001b[0m \u001b[32m━━━━━━━━━━━━━━━━━━━━\u001b[0m\u001b[37m\u001b[0m \u001b[1m5s\u001b[0m 5s/step\n",
      "[[0.24441814 0.13381979 0.62176204]\n",
      " [0.24989818 0.46585804 0.2842438 ]\n",
      " [0.15545313 0.37578955 0.46875727]\n",
      " [0.14779046 0.24874617 0.60346335]\n",
      " [0.07528181 0.13602827 0.78869   ]\n",
      " [0.00383501 0.08506984 0.91109514]\n",
      " [0.03724576 0.09206546 0.87068874]\n",
      " [0.0082629  0.12812738 0.8636097 ]]\n",
      "[2 1 2 2 2 2 2 2]\n",
      "[[0. 0. 1.]\n",
      " [0. 1. 0.]\n",
      " [0. 0. 1.]\n",
      " [0. 0. 1.]\n",
      " [0. 0. 1.]\n",
      " [0. 0. 1.]\n",
      " [0. 0. 1.]\n",
      " [0. 0. 1.]]\n"
     ]
    },
    {
     "name": "stderr",
     "output_type": "stream",
     "text": [
      "/home/goda/Desktop/tese/venv_3.10.12/lib/python3.10/site-packages/keras/src/saving/saving_lib.py:757: UserWarning: Skipping variable loading for optimizer 'adam', because it has 2 variables whereas the saved optimizer has 10 variables. \n",
      "  saveable.load_own_variables(weights_store.get(inner_path))\n"
     ]
    },
    {
     "name": "stdout",
     "output_type": "stream",
     "text": [
      "WARNING:tensorflow:5 out of the last 5 calls to <function TensorFlowTrainer.make_predict_function.<locals>.one_step_on_data_distributed at 0x7aeb0060dea0> triggered tf.function retracing. Tracing is expensive and the excessive number of tracings could be due to (1) creating @tf.function repeatedly in a loop, (2) passing tensors with different shapes, (3) passing Python objects instead of tensors. For (1), please define your @tf.function outside of the loop. For (2), @tf.function has reduce_retracing=True option that can avoid unnecessary retracing. For (3), please refer to https://www.tensorflow.org/guide/function#controlling_retracing and https://www.tensorflow.org/api_docs/python/tf/function for  more details.\n",
      "\u001b[1m1/1\u001b[0m \u001b[32m━━━━━━━━━━━━━━━━━━━━\u001b[0m\u001b[37m\u001b[0m \u001b[1m3s\u001b[0m 3s/step\n",
      "[[0.04761116 0.13258788 0.8198009 ]\n",
      " [0.08463637 0.41969666 0.49566707]\n",
      " [0.02213711 0.18330118 0.7945617 ]\n",
      " [0.00888217 0.08234791 0.9087699 ]\n",
      " [0.02328803 0.08059202 0.89612   ]\n",
      " [0.19996583 0.06754623 0.73248786]\n",
      " [0.00769531 0.2596813  0.7326234 ]\n",
      " [0.00662585 0.10196916 0.89140505]\n",
      " [0.00557743 0.04954974 0.9448728 ]\n",
      " [0.06734315 0.48356605 0.4490908 ]\n",
      " [0.00321254 0.01623281 0.9805547 ]]\n",
      "[2 2 2 2 2 2 2 2 2 1 2]\n",
      "[[0. 0. 1.]\n",
      " [0. 0. 1.]\n",
      " [0. 0. 1.]\n",
      " [0. 0. 1.]\n",
      " [0. 0. 1.]\n",
      " [0. 0. 1.]\n",
      " [0. 0. 1.]\n",
      " [0. 0. 1.]\n",
      " [0. 0. 1.]\n",
      " [0. 1. 0.]\n",
      " [0. 0. 1.]]\n"
     ]
    },
    {
     "name": "stderr",
     "output_type": "stream",
     "text": [
      "/home/goda/Desktop/tese/venv_3.10.12/lib/python3.10/site-packages/keras/src/saving/saving_lib.py:757: UserWarning: Skipping variable loading for optimizer 'adam', because it has 2 variables whereas the saved optimizer has 10 variables. \n",
      "  saveable.load_own_variables(weights_store.get(inner_path))\n",
      "2025-01-16 01:26:28.064563: I external/local_xla/xla/stream_executor/cuda/cuda_asm_compiler.cc:397] ptxas warning : Registers are spilled to local memory in function 'gemm_fusion_dot_1681_0', 8 bytes spill stores, 8 bytes spill loads\n",
      "\n",
      "2025-01-16 01:26:28.669958: I external/local_xla/xla/stream_executor/cuda/cuda_asm_compiler.cc:397] ptxas warning : Registers are spilled to local memory in function 'gemm_fusion_dot_1688', 4 bytes spill stores, 4 bytes spill loads\n",
      "\n",
      "2025-01-16 01:26:28.835008: I external/local_xla/xla/stream_executor/cuda/cuda_asm_compiler.cc:397] ptxas warning : Registers are spilled to local memory in function 'gemm_fusion_dot_1688', 44 bytes spill stores, 44 bytes spill loads\n",
      "\n"
     ]
    },
    {
     "name": "stdout",
     "output_type": "stream",
     "text": [
      "WARNING:tensorflow:6 out of the last 6 calls to <function TensorFlowTrainer.make_predict_function.<locals>.one_step_on_data_distributed at 0x7aeb007b4d30> triggered tf.function retracing. Tracing is expensive and the excessive number of tracings could be due to (1) creating @tf.function repeatedly in a loop, (2) passing tensors with different shapes, (3) passing Python objects instead of tensors. For (1), please define your @tf.function outside of the loop. For (2), @tf.function has reduce_retracing=True option that can avoid unnecessary retracing. For (3), please refer to https://www.tensorflow.org/guide/function#controlling_retracing and https://www.tensorflow.org/api_docs/python/tf/function for  more details.\n",
      "\u001b[1m1/1\u001b[0m \u001b[32m━━━━━━━━━━━━━━━━━━━━\u001b[0m\u001b[37m\u001b[0m \u001b[1m5s\u001b[0m 5s/step\n",
      "[[0.27173424 0.4123605  0.31590533]\n",
      " [0.27377614 0.14465223 0.58157164]\n",
      " [0.1346887  0.32661211 0.53869915]\n",
      " [0.00197356 0.0158189  0.9822075 ]\n",
      " [0.03550347 0.10417595 0.8603206 ]\n",
      " [0.00420008 0.03533041 0.9604695 ]]\n",
      "[1 2 2 2 2 2]\n",
      "[[0. 1. 0.]\n",
      " [0. 0. 1.]\n",
      " [0. 0. 1.]\n",
      " [0. 0. 1.]\n",
      " [0. 0. 1.]\n",
      " [0. 0. 1.]]\n"
     ]
    },
    {
     "name": "stderr",
     "output_type": "stream",
     "text": [
      "/home/goda/Desktop/tese/venv_3.10.12/lib/python3.10/site-packages/keras/src/saving/saving_lib.py:757: UserWarning: Skipping variable loading for optimizer 'adam', because it has 2 variables whereas the saved optimizer has 10 variables. \n",
      "  saveable.load_own_variables(weights_store.get(inner_path))\n"
     ]
    },
    {
     "name": "stdout",
     "output_type": "stream",
     "text": [
      "\u001b[1m1/1\u001b[0m \u001b[32m━━━━━━━━━━━━━━━━━━━━\u001b[0m\u001b[37m\u001b[0m \u001b[1m3s\u001b[0m 3s/step\n",
      "[[6.71050191e-01 9.48925018e-02 2.34057277e-01]\n",
      " [3.31779127e-03 5.82003221e-02 9.38481867e-01]\n",
      " [1.29212055e-03 4.31320146e-02 9.55575883e-01]\n",
      " [1.84126914e-01 2.09182113e-01 6.06690943e-01]\n",
      " [1.53026553e-02 5.02451919e-02 9.34452176e-01]\n",
      " [3.08299839e-01 1.30160362e-01 5.61539769e-01]\n",
      " [2.07253397e-02 2.85834223e-01 6.93440437e-01]\n",
      " [5.48849814e-02 1.15449265e-01 8.29665780e-01]\n",
      " [4.59288276e-05 1.40742864e-03 9.98546660e-01]\n",
      " [3.71500328e-02 3.99643242e-01 5.63206732e-01]\n",
      " [2.81892002e-01 2.79753238e-01 4.38354790e-01]]\n",
      "[0 2 2 2 2 2 2 2 2 2 2]\n",
      "[[1. 0. 0.]\n",
      " [0. 0. 1.]\n",
      " [0. 0. 1.]\n",
      " [0. 0. 1.]\n",
      " [0. 0. 1.]\n",
      " [0. 0. 1.]\n",
      " [0. 0. 1.]\n",
      " [0. 0. 1.]\n",
      " [0. 0. 1.]\n",
      " [0. 0. 1.]\n",
      " [0. 0. 1.]]\n"
     ]
    },
    {
     "name": "stderr",
     "output_type": "stream",
     "text": [
      "/home/goda/Desktop/tese/venv_3.10.12/lib/python3.10/site-packages/keras/src/saving/saving_lib.py:757: UserWarning: Skipping variable loading for optimizer 'adam', because it has 2 variables whereas the saved optimizer has 10 variables. \n",
      "  saveable.load_own_variables(weights_store.get(inner_path))\n",
      "2025-01-16 01:26:36.483765: I tensorflow/core/framework/local_rendezvous.cc:405] Local rendezvous is aborting with status: OUT_OF_RANGE: End of sequence\n",
      "2025-01-16 01:26:39.022877: I external/local_xla/xla/stream_executor/cuda/cuda_asm_compiler.cc:397] ptxas warning : Registers are spilled to local memory in function 'gemm_fusion_dot_1681_0', 8 bytes spill stores, 8 bytes spill loads\n",
      "\n",
      "2025-01-16 01:26:39.415339: I external/local_xla/xla/stream_executor/cuda/cuda_asm_compiler.cc:397] ptxas warning : Registers are spilled to local memory in function 'gemm_fusion_dot_1688', 4 bytes spill stores, 4 bytes spill loads\n",
      "\n",
      "2025-01-16 01:26:39.750444: I external/local_xla/xla/stream_executor/cuda/cuda_asm_compiler.cc:397] ptxas warning : Registers are spilled to local memory in function 'gemm_fusion_dot_1688', 268 bytes spill stores, 268 bytes spill loads\n",
      "\n"
     ]
    },
    {
     "name": "stdout",
     "output_type": "stream",
     "text": [
      "\u001b[1m1/1\u001b[0m \u001b[32m━━━━━━━━━━━━━━━━━━━━\u001b[0m\u001b[37m\u001b[0m \u001b[1m6s\u001b[0m 6s/step\n",
      "[[0.09342028 0.04263591 0.8639439 ]\n",
      " [0.1609699  0.10081608 0.738214  ]\n",
      " [0.06044628 0.6903631  0.24919055]\n",
      " [0.01122472 0.12943427 0.859341  ]\n",
      " [0.00282816 0.04343185 0.95374   ]\n",
      " [0.06782135 0.36366522 0.56851345]\n",
      " [0.04549344 0.41462338 0.53988314]\n",
      " [0.00872047 0.13936442 0.8519151 ]\n",
      " [0.01305782 0.13609454 0.8508476 ]\n",
      " [0.02429535 0.16978996 0.8059147 ]\n",
      " [0.12644285 0.3916278  0.4819293 ]\n",
      " [0.02430838 0.12391811 0.8517735 ]]\n",
      "[2 2 1 2 2 2 2 2 2 2 2 2]\n",
      "[[0. 0. 1.]\n",
      " [0. 0. 1.]\n",
      " [0. 1. 0.]\n",
      " [0. 0. 1.]\n",
      " [0. 0. 1.]\n",
      " [0. 0. 1.]\n",
      " [0. 0. 1.]\n",
      " [0. 0. 1.]\n",
      " [0. 0. 1.]\n",
      " [0. 0. 1.]\n",
      " [0. 0. 1.]\n",
      " [0. 0. 1.]]\n"
     ]
    },
    {
     "name": "stderr",
     "output_type": "stream",
     "text": [
      "/home/goda/Desktop/tese/eggimazing/evaluation/metrics.py:48: RuntimeWarning: invalid value encountered in scalar divide\n",
      "  sensitivity = TP / (TP + FN)\n",
      "/home/goda/Desktop/tese/venv_3.10.12/lib/python3.10/site-packages/keras/src/saving/saving_lib.py:757: UserWarning: Skipping variable loading for optimizer 'adam', because it has 2 variables whereas the saved optimizer has 10 variables. \n",
      "  saveable.load_own_variables(weights_store.get(inner_path))\n",
      "2025-01-16 01:26:46.111166: I external/local_xla/xla/stream_executor/cuda/cuda_asm_compiler.cc:397] ptxas warning : Registers are spilled to local memory in function 'gemm_fusion_dot_1681_0', 8 bytes spill stores, 8 bytes spill loads\n",
      "\n",
      "2025-01-16 01:26:47.029630: I external/local_xla/xla/stream_executor/cuda/cuda_asm_compiler.cc:397] ptxas warning : Registers are spilled to local memory in function 'gemm_fusion_dot_1688', 4 bytes spill stores, 4 bytes spill loads\n",
      "\n",
      "2025-01-16 01:26:47.119769: I external/local_xla/xla/stream_executor/cuda/cuda_asm_compiler.cc:397] ptxas warning : Registers are spilled to local memory in function 'gemm_fusion_dot_1688', 292 bytes spill stores, 292 bytes spill loads\n",
      "\n"
     ]
    },
    {
     "name": "stdout",
     "output_type": "stream",
     "text": [
      "\u001b[1m1/1\u001b[0m \u001b[32m━━━━━━━━━━━━━━━━━━━━\u001b[0m\u001b[37m\u001b[0m \u001b[1m6s\u001b[0m 6s/step\n",
      "[[6.5424419e-03 4.7120824e-02 9.4633675e-01]\n",
      " [2.2331446e-01 1.8677941e-01 5.8990616e-01]\n",
      " [6.5087639e-02 2.6982769e-01 6.6508466e-01]\n",
      " [2.5603328e-02 4.1965389e-01 5.5474281e-01]\n",
      " [6.6992389e-03 4.4737712e-02 9.4856304e-01]\n",
      " [5.7093444e-04 1.5571160e-02 9.8385793e-01]\n",
      " [5.2159973e-03 1.8188709e-01 8.1289685e-01]\n",
      " [2.1164853e-02 6.1441611e-02 9.1739357e-01]\n",
      " [6.7401994e-03 5.3072911e-02 9.4018692e-01]\n",
      " [3.0308499e-03 2.3700848e-02 9.7326827e-01]\n",
      " [1.4738864e-02 1.9141072e-01 7.9385042e-01]\n",
      " [8.1706010e-03 2.0135744e-02 9.7169363e-01]\n",
      " [2.4051486e-02 1.0496654e-01 8.7098199e-01]]\n",
      "[2 2 2 2 2 2 2 2 2 2 2 2 2]\n",
      "[[0. 0. 1.]\n",
      " [0. 0. 1.]\n",
      " [0. 0. 1.]\n",
      " [0. 0. 1.]\n",
      " [0. 0. 1.]\n",
      " [0. 0. 1.]\n",
      " [0. 0. 1.]\n",
      " [0. 0. 1.]\n",
      " [0. 0. 1.]\n",
      " [0. 0. 1.]\n",
      " [0. 0. 1.]\n",
      " [0. 0. 1.]\n",
      " [0. 0. 1.]]\n"
     ]
    },
    {
     "name": "stderr",
     "output_type": "stream",
     "text": [
      "/home/goda/Desktop/tese/venv_3.10.12/lib/python3.10/site-packages/keras/src/saving/saving_lib.py:757: UserWarning: Skipping variable loading for optimizer 'adam', because it has 2 variables whereas the saved optimizer has 10 variables. \n",
      "  saveable.load_own_variables(weights_store.get(inner_path))\n",
      "2025-01-16 01:26:52.998078: I external/local_xla/xla/stream_executor/cuda/cuda_asm_compiler.cc:397] ptxas warning : Registers are spilled to local memory in function 'gemm_fusion_dot_1681_0', 8 bytes spill stores, 8 bytes spill loads\n",
      "\n",
      "2025-01-16 01:26:53.576142: I external/local_xla/xla/stream_executor/cuda/cuda_asm_compiler.cc:397] ptxas warning : Registers are spilled to local memory in function 'gemm_fusion_dot_1688', 4 bytes spill stores, 4 bytes spill loads\n",
      "\n",
      "2025-01-16 01:26:53.666842: I external/local_xla/xla/stream_executor/cuda/cuda_asm_compiler.cc:397] ptxas warning : Registers are spilled to local memory in function 'gemm_fusion_dot_1688', 316 bytes spill stores, 316 bytes spill loads\n",
      "\n"
     ]
    },
    {
     "name": "stdout",
     "output_type": "stream",
     "text": [
      "\u001b[1m1/1\u001b[0m \u001b[32m━━━━━━━━━━━━━━━━━━━━\u001b[0m\u001b[37m\u001b[0m \u001b[1m5s\u001b[0m 5s/step\n",
      "[[0.31873542 0.22695816 0.45430645]\n",
      " [0.08251809 0.5295691  0.38791284]\n",
      " [0.02302182 0.55816823 0.41880995]\n",
      " [0.05369617 0.21113262 0.7351712 ]\n",
      " [0.00943266 0.0465677  0.9439996 ]\n",
      " [0.20895943 0.50308883 0.28795174]\n",
      " [0.03342428 0.07147002 0.89510566]\n",
      " [0.01160545 0.05328893 0.9351056 ]\n",
      " [0.23241341 0.07541198 0.6921746 ]\n",
      " [0.34149134 0.43918642 0.21932223]\n",
      " [0.12180201 0.13838677 0.7398112 ]\n",
      " [0.01311289 0.04269737 0.94418967]\n",
      " [0.02585752 0.23214366 0.74199885]\n",
      " [0.01947005 0.5441292  0.43640077]]\n",
      "[2 1 1 2 2 1 2 2 2 1 2 2 2 1]\n",
      "[[0. 0. 1.]\n",
      " [0. 1. 0.]\n",
      " [0. 1. 0.]\n",
      " [0. 0. 1.]\n",
      " [0. 0. 1.]\n",
      " [0. 1. 0.]\n",
      " [0. 0. 1.]\n",
      " [0. 0. 1.]\n",
      " [0. 0. 1.]\n",
      " [0. 1. 0.]\n",
      " [0. 0. 1.]\n",
      " [0. 0. 1.]\n",
      " [0. 0. 1.]\n",
      " [0. 1. 0.]]\n"
     ]
    },
    {
     "ename": "IndexError",
     "evalue": "list index out of range",
     "output_type": "error",
     "traceback": [
      "\u001b[0;31m---------------------------------------------------------------------------\u001b[0m",
      "\u001b[0;31mIndexError\u001b[0m                                Traceback (most recent call last)",
      "Cell \u001b[0;32mIn[5], line 34\u001b[0m\n\u001b[1;32m     27\u001b[0m \u001b[38;5;66;03m# Compile the model with Adam optimizer 13:21\u001b[39;00m\n\u001b[1;32m     28\u001b[0m model\u001b[38;5;241m.\u001b[39mcompile(optimizer\u001b[38;5;241m=\u001b[39mtf\u001b[38;5;241m.\u001b[39mkeras\u001b[38;5;241m.\u001b[39moptimizers\u001b[38;5;241m.\u001b[39mAdam(learning_rate\u001b[38;5;241m=\u001b[39mlearning_rate),\n\u001b[1;32m     29\u001b[0m               metrics\u001b[38;5;241m=\u001b[39m[CategoricalAccuracy(name\u001b[38;5;241m=\u001b[39m\u001b[38;5;124m'\u001b[39m\u001b[38;5;124mcat_accuracy\u001b[39m\u001b[38;5;124m'\u001b[39m), Precision(name\u001b[38;5;241m=\u001b[39m\u001b[38;5;124m'\u001b[39m\u001b[38;5;124mprecision\u001b[39m\u001b[38;5;124m'\u001b[39m),\n\u001b[1;32m     30\u001b[0m                        Recall(name\u001b[38;5;241m=\u001b[39m\u001b[38;5;124m'\u001b[39m\u001b[38;5;124mrecall\u001b[39m\u001b[38;5;124m'\u001b[39m),\n\u001b[1;32m     31\u001b[0m                        AUC(name\u001b[38;5;241m=\u001b[39m\u001b[38;5;124m'\u001b[39m\u001b[38;5;124mauc\u001b[39m\u001b[38;5;124m'\u001b[39m)])\n\u001b[0;32m---> 34\u001b[0m model\u001b[38;5;241m.\u001b[39mload_weights(\u001b[43mmodel_dirs\u001b[49m\u001b[43m[\u001b[49m\u001b[43mfold\u001b[49m\u001b[43m]\u001b[49m)\n\u001b[1;32m     36\u001b[0m y_true \u001b[38;5;241m=\u001b[39m np\u001b[38;5;241m.\u001b[39mconcatenate([y \u001b[38;5;28;01mfor\u001b[39;00m (_, y) \u001b[38;5;129;01min\u001b[39;00m tf_test_df])\n\u001b[1;32m     37\u001b[0m y_pred \u001b[38;5;241m=\u001b[39m model\u001b[38;5;241m.\u001b[39mpredict(tf_test_df)\n",
      "\u001b[0;31mIndexError\u001b[0m: list index out of range"
     ]
    }
   ],
   "source": [
    "from sklearn.metrics import confusion_matrix\n",
    "\n",
    "from evaluation.metrics import categorical_accuracy\n",
    "\n",
    "from evaluation.metrics import specificity_per_class\n",
    "\n",
    "from evaluation.metrics import sensitivity_per_class\n",
    "\n",
    "metrics = []\n",
    "y_true_ordinals = []\n",
    "y_pred_ordinals = []\n",
    "split = dp.patient_wise_split(df_togas,\n",
    "                                      df_ipo,\n",
    "                                      patient_ids,\n",
    "                                      internal_train_size=0.9,\n",
    "                                      target_variable='eggim_square',\n",
    "                                      random_state=42)\n",
    "for fold, (df_train, df_val, df_test) in enumerate(split):\n",
    "    tf_test_df = get_tf_eggim_patch_dataset(df_test,\n",
    "                                            num_classes=3,\n",
    "                                            preprocess_fn=tf.keras.applications.resnet.preprocess_input)\n",
    "\n",
    "    tf_test_df = tf_test_df.batch(batch_size)\n",
    "\n",
    "    n_classes = 3  # Replace with the number of classes you have\n",
    "    model = base_resnet50(input_shape=(224, 224, 3), n_classes=n_classes)\n",
    "    # Compile the model with Adam optimizer 13:21\n",
    "    model.compile(optimizer=tf.keras.optimizers.Adam(learning_rate=learning_rate),\n",
    "                  metrics=[CategoricalAccuracy(name='cat_accuracy'), Precision(name='precision'),\n",
    "                           Recall(name='recall'),\n",
    "                           AUC(name='auc')])\n",
    "\n",
    "\n",
    "    model.load_weights(model_dirs[fold])\n",
    "\n",
    "    y_true = np.concatenate([y for (_, y) in tf_test_df])\n",
    "    y_pred = model.predict(tf_test_df)\n",
    "    y_true_ordinal = np.argmax(y_true, axis=-1) # [0 0 1] -> 2\n",
    "    y_pred_ordinal = np.argmax(y_pred, axis=-1)\n",
    "    y_true_ordinals.append(y_true_ordinal)\n",
    "    y_pred_ordinals.append(y_pred_ordinal)\n",
    "    y_pred_one_hot = np.zeros_like(y_pred)\n",
    "    y_pred_one_hot[np.arange(len(y_pred)), np.argmax(y_pred, axis=1)] = 1 # [0.2, 0.2, 0.6] -> [0, 0, 1]\n",
    "    print(y_pred)\n",
    "    print(y_pred_ordinal)\n",
    "    print(y_pred_one_hot)\n",
    "    conf_matrix = confusion_matrix(y_true_ordinal, y_pred_ordinal,\n",
    "                                   labels=[0, 1, 2])\n",
    "    metrics.append([categorical_accuracy(y_true, y_pred_one_hot),\n",
    "                    specificity_per_class(conf_matrix), sensitivity_per_class(conf_matrix),\n",
    "                    conf_matrix])"
   ]
  },
  {
   "cell_type": "code",
   "execution_count": 6,
   "metadata": {
    "collapsed": false
   },
   "outputs": [],
   "source": [
    "cat_acc = np.array([x[0] for x in metrics])\n",
    "spec = np.array([x[1] for x in metrics])\n",
    "sens = np.array([x[2] for x in metrics])\n",
    "confs = np.array([x[3] for x in metrics], dtype=object)"
   ]
  },
  {
   "cell_type": "code",
   "execution_count": null,
   "metadata": {
    "collapsed": false
   },
   "outputs": [
    {
     "name": "stderr",
     "output_type": "stream",
     "text": [
      "/tmp/ipykernel_114445/4237036052.py:5: MatplotlibDeprecationWarning: The 'labels' parameter of boxplot() has been renamed 'tick_labels' since Matplotlib 3.9; support for the old name will be dropped in 3.11.\n",
      "  plt.boxplot(data, labels=['Cat Acc', 'Spec', 'Sens'])\n"
     ]
    },
    {
     "data": {
      "image/png": "[encoded data removed]",
      "text/plain": [
       "<Figure size 800x600 with 1 Axes>"
      ]
     },
     "metadata": {},
     "output_type": "display_data"
    }
   ],
   "source": [
    "data = [cat_acc, np.nanmean(spec, axis=1), np.nanmean(sens, axis=1)]\n",
    "\n",
    "# Create the box plot\n",
    "plt.figure(figsize=(8, 6))\n",
    "plt.boxplot(data, labels=['Cat Acc', 'Spec', 'Sens'])\n",
    "plt.title('Box Plot of Metrics')\n",
    "plt.ylabel('Values')\n",
    "plt.grid(True)\n",
    "\n",
    "# Show the plot\n",
    "plt.show()"
   ]
  },
  {
   "cell_type": "code",
   "execution_count": 8,
   "metadata": {
    "collapsed": false
   },
   "outputs": [],
   "source": [
    "from evaluation.eggim import *\n",
    "def replace_landmark_name(landmark):\n",
    "    new_landmark_name = {'ii': 'distal body',\n",
    "                    'ix': 'distal lc',\n",
    "                    'vi': 'proximal ant lc',\n",
    "                    'vii': 'proximal ant gc/pw',\n",
    "                    'viii': 'incisura r',\n",
    "                    'x': 'upper body r',\n",
    "                    'xii': 'upper body ant'}\n",
    "    landmark_number = landmark.split('.')[0]\n",
    "    return new_landmark_name[landmark_number]\n",
    "\n",
    "dp = DatasetProcessor(target_dir)\n",
    "df = dp.process()\n",
    "df['landmark'] = df['landmark'].apply(replace_landmark_name)\n",
    "patient_ids = np.load('configs/new_patient_ids.npy', allow_pickle=True)\n",
    "\n",
    "togas_ids_boolean = np.array([x.startswith('PT') for x in df['patient_id'].values])\n",
    "df_togas = df[togas_ids_boolean].reset_index(drop=True)\n",
    "df_ipo = df[~togas_ids_boolean].reset_index(drop=True)\n"
   ]
  },
  {
   "cell_type": "code",
   "execution_count": null,
   "metadata": {
    "collapsed": false
   },
   "outputs": [
    {
     "name": "stdout",
     "output_type": "stream",
     "text": [
      "PT004\n",
      "PT005\n",
      "PT006\n",
      "PT009\n",
      "PT016\n",
      "PT020\n",
      "PT021\n",
      "PT022\n"
     ]
    },
    {
     "name": "stderr",
     "output_type": "stream",
     "text": [
      "/tmp/ipykernel_114445/2628975875.py:13: SettingWithCopyWarning: \n",
      "A value is trying to be set on a copy of a slice from a DataFrame.\n",
      "Try using .loc[row_indexer,col_indexer] = value instead\n",
      "\n",
      "See the caveats in the documentation: https://pandas.pydata.org/pandas-docs/stable/user_guide/indexing.html#returning-a-view-versus-a-copy\n",
      "  df_patient['pred'] = y_pred_ordinals[i]\n",
      "/tmp/ipykernel_114445/2628975875.py:13: SettingWithCopyWarning: \n",
      "A value is trying to be set on a copy of a slice from a DataFrame.\n",
      "Try using .loc[row_indexer,col_indexer] = value instead\n",
      "\n",
      "See the caveats in the documentation: https://pandas.pydata.org/pandas-docs/stable/user_guide/indexing.html#returning-a-view-versus-a-copy\n",
      "  df_patient['pred'] = y_pred_ordinals[i]\n",
      "/tmp/ipykernel_114445/2628975875.py:13: SettingWithCopyWarning: \n",
      "A value is trying to be set on a copy of a slice from a DataFrame.\n",
      "Try using .loc[row_indexer,col_indexer] = value instead\n",
      "\n",
      "See the caveats in the documentation: https://pandas.pydata.org/pandas-docs/stable/user_guide/indexing.html#returning-a-view-versus-a-copy\n",
      "  df_patient['pred'] = y_pred_ordinals[i]\n",
      "/tmp/ipykernel_114445/2628975875.py:13: SettingWithCopyWarning: \n",
      "A value is trying to be set on a copy of a slice from a DataFrame.\n",
      "Try using .loc[row_indexer,col_indexer] = value instead\n",
      "\n",
      "See the caveats in the documentation: https://pandas.pydata.org/pandas-docs/stable/user_guide/indexing.html#returning-a-view-versus-a-copy\n",
      "  df_patient['pred'] = y_pred_ordinals[i]\n",
      "/tmp/ipykernel_114445/2628975875.py:13: SettingWithCopyWarning: \n",
      "A value is trying to be set on a copy of a slice from a DataFrame.\n",
      "Try using .loc[row_indexer,col_indexer] = value instead\n",
      "\n",
      "See the caveats in the documentation: https://pandas.pydata.org/pandas-docs/stable/user_guide/indexing.html#returning-a-view-versus-a-copy\n",
      "  df_patient['pred'] = y_pred_ordinals[i]\n",
      "/tmp/ipykernel_114445/2628975875.py:13: SettingWithCopyWarning: \n",
      "A value is trying to be set on a copy of a slice from a DataFrame.\n",
      "Try using .loc[row_indexer,col_indexer] = value instead\n",
      "\n",
      "See the caveats in the documentation: https://pandas.pydata.org/pandas-docs/stable/user_guide/indexing.html#returning-a-view-versus-a-copy\n",
      "  df_patient['pred'] = y_pred_ordinals[i]\n",
      "/tmp/ipykernel_114445/2628975875.py:13: SettingWithCopyWarning: \n",
      "A value is trying to be set on a copy of a slice from a DataFrame.\n",
      "Try using .loc[row_indexer,col_indexer] = value instead\n",
      "\n",
      "See the caveats in the documentation: https://pandas.pydata.org/pandas-docs/stable/user_guide/indexing.html#returning-a-view-versus-a-copy\n",
      "  df_patient['pred'] = y_pred_ordinals[i]\n",
      "/tmp/ipykernel_114445/2628975875.py:13: SettingWithCopyWarning: \n",
      "A value is trying to be set on a copy of a slice from a DataFrame.\n",
      "Try using .loc[row_indexer,col_indexer] = value instead\n",
      "\n",
      "See the caveats in the documentation: https://pandas.pydata.org/pandas-docs/stable/user_guide/indexing.html#returning-a-view-versus-a-copy\n",
      "  df_patient['pred'] = y_pred_ordinals[i]\n"
     ]
    }
   ],
   "source": [
    "def compute_eggim_patient(patient_df, target_variable):\n",
    "    df = patient_df[['landmark', target_variable]].value_counts()\n",
    "    # we use index[0] to assume first landmark/score pair is correct\n",
    "    eggim_antrum_incisura = df['proximal ant lc'].index[0] + df['proximal ant gc/pw'].index[0] + df['incisura r'].index[0]\n",
    "    eggim_body_1 = (df['distal body'].index[0] + df['upper body ant'].index[0]) / 2\n",
    "    eggim_body_2 = (df['distal lc'].index[0]+ df['upper body r'].index[0]) / 2\n",
    "    return eggim_antrum_incisura + eggim_body_1 + eggim_body_2\n",
    "\n",
    "eggim_scores = {}\n",
    "for i, patient_id in enumerate(patient_ids):\n",
    "    print(patient_id)\n",
    "    df_patient = df_togas[df_togas['patient_id'] == patient_id]\n",
    "    df_patient['pred'] = y_pred_ordinals[i]\n",
    "    eggim_square = compute_eggim_patient(df_patient,\n",
    "                                          target_variable='eggim_square')\n",
    "    eggim_global = compute_eggim_patient(df_patient,\n",
    "                                  target_variable='eggim_global')\n",
    "    eggim_pred = compute_eggim_patient(df_patient,\n",
    "                                  target_variable='pred')\n",
    "    eggim_scores[patient_ids[i]] = {'eggim_square': eggim_square, 'eggim_global': eggim_global,\n",
    "                                    'eggim_pred': eggim_pred}\n",
    "eggim_df = pd.DataFrame(eggim_scores).T"
   ]
  },
  {
   "cell_type": "code",
   "execution_count": null,
   "metadata": {
    "collapsed": false
   },
   "outputs": [
    {
     "data": {
      "text/html": [
       "<div>\n",
       "<style scoped>\n",
       "    .dataframe tbody tr th:only-of-type {\n",
       "        vertical-align: middle;\n",
       "    }\n",
       "\n",
       "    .dataframe tbody tr th {\n",
       "        vertical-align: top;\n",
       "    }\n",
       "\n",
       "    .dataframe thead th {\n",
       "        text-align: right;\n",
       "    }\n",
       "</style>\n",
       "<table border=\"1\" class=\"dataframe\">\n",
       "  <thead>\n",
       "    <tr style=\"text-align: right;\">\n",
       "      <th></th>\n",
       "      <th>eggim_square</th>\n",
       "      <th>eggim_global</th>\n",
       "      <th>eggim_pred</th>\n",
       "    </tr>\n",
       "  </thead>\n",
       "  <tbody>\n",
       "    <tr>\n",
       "      <th>PT004</th>\n",
       "      <td>1.0</td>\n",
       "      <td>1.0</td>\n",
       "      <td>9.0</td>\n",
       "    </tr>\n",
       "    <tr>\n",
       "      <th>PT005</th>\n",
       "      <td>3.0</td>\n",
       "      <td>2.5</td>\n",
       "      <td>10.0</td>\n",
       "    </tr>\n",
       "    <tr>\n",
       "      <th>PT006</th>\n",
       "      <td>1.0</td>\n",
       "      <td>1.0</td>\n",
       "      <td>10.0</td>\n",
       "    </tr>\n",
       "    <tr>\n",
       "      <th>PT009</th>\n",
       "      <td>8.0</td>\n",
       "      <td>8.5</td>\n",
       "      <td>10.0</td>\n",
       "    </tr>\n",
       "    <tr>\n",
       "      <th>PT016</th>\n",
       "      <td>0.0</td>\n",
       "      <td>0.0</td>\n",
       "      <td>10.0</td>\n",
       "    </tr>\n",
       "    <tr>\n",
       "      <th>PT020</th>\n",
       "      <td>1.0</td>\n",
       "      <td>2.0</td>\n",
       "      <td>8.0</td>\n",
       "    </tr>\n",
       "    <tr>\n",
       "      <th>PT021</th>\n",
       "      <td>8.0</td>\n",
       "      <td>8.0</td>\n",
       "      <td>10.0</td>\n",
       "    </tr>\n",
       "    <tr>\n",
       "      <th>PT022</th>\n",
       "      <td>8.0</td>\n",
       "      <td>8.0</td>\n",
       "      <td>10.0</td>\n",
       "    </tr>\n",
       "  </tbody>\n",
       "</table>\n",
       "</div>"
      ],
      "text/plain": [
       "       eggim_square  eggim_global  eggim_pred\n",
       "PT004           1.0           1.0         9.0\n",
       "PT005           3.0           2.5        10.0\n",
       "PT006           1.0           1.0        10.0\n",
       "PT009           8.0           8.5        10.0\n",
       "PT016           0.0           0.0        10.0\n",
       "PT020           1.0           2.0         8.0\n",
       "PT021           8.0           8.0        10.0\n",
       "PT022           8.0           8.0        10.0"
      ]
     },
     "execution_count": 10,
     "metadata": {},
     "output_type": "execute_result"
    }
   ],
   "source": [
    "eggim_df"
   ]
  },
  {
   "cell_type": "code",
   "execution_count": 11,
   "metadata": {
    "collapsed": false
   },
   "outputs": [],
   "source": [
    "# minimum error of patch vs global labels\n",
    "best_possible_eggim_mae = np.mean(np.abs(eggim_df.iloc[:, 1] -  eggim_df.iloc[:, 0]))"
   ]
  },
  {
   "cell_type": "code",
   "execution_count": 12,
   "metadata": {
    "collapsed": false
   },
   "outputs": [],
   "source": [
    "# error of patch predictions vs patch labels\n",
    "patch_eggim_mae =  np.mean(np.abs(eggim_df.iloc[:, 0] -  eggim_df.iloc[:, 2]))"
   ]
  },
  {
   "cell_type": "code",
   "execution_count": 13,
   "metadata": {
    "collapsed": false
   },
   "outputs": [],
   "source": [
    "patch_global_eggim_mae = np.mean(np.abs(eggim_df.iloc[:, 1] -  eggim_df.iloc[:, 2]))"
   ]
  },
  {
   "cell_type": "code",
   "execution_count": null,
   "metadata": {
    "collapsed": false
   },
   "outputs": [
    {
     "data": {
      "text/plain": [
       "5.875"
      ]
     },
     "execution_count": 14,
     "metadata": {},
     "output_type": "execute_result"
    }
   ],
   "source": [
    "patch_eggim_mae"
   ]
  },
  {
   "cell_type": "code",
   "execution_count": null,
   "metadata": {
    "collapsed": false
   },
   "outputs": [
    {
     "data": {
      "text/plain": [
       "5.875"
      ]
     },
     "execution_count": 15,
     "metadata": {},
     "output_type": "execute_result"
    }
   ],
   "source": [
    "# patch ground truth vs patch pred:\n",
    "patch_eggim_mae"
   ]
  },
  {
   "cell_type": "code",
   "execution_count": null,
   "metadata": {
    "collapsed": false
   },
   "outputs": [
    {
     "data": {
      "text/plain": [
       "5.75"
      ]
     },
     "execution_count": 16,
     "metadata": {},
     "output_type": "execute_result"
    }
   ],
   "source": [
    "# global ground truth vs patch pred\n",
    "patch_global_eggim_mae"
   ]
  },
  {
   "cell_type": "code",
   "execution_count": null,
   "metadata": {
    "collapsed": false
   },
   "outputs": [
    {
     "data": {
      "text/plain": [
       "5.5"
      ]
     },
     "execution_count": 17,
     "metadata": {},
     "output_type": "execute_result"
    }
   ],
   "source": [
    "# global ground truth vs patch pred \"adjusted\" with minimum error in square labels\n",
    "patch_global_eggim_mae - best_possible_eggim_mae"
   ]
  },
  {
   "cell_type": "code",
   "execution_count": null,
   "metadata": {
    "collapsed": false
   },
   "outputs": [
    {
     "data": {
      "text/plain": [
       "0.25"
      ]
     },
     "execution_count": 18,
     "metadata": {},
     "output_type": "execute_result"
    }
   ],
   "source": [
    "best_possible_eggim_mae"
   ]
  },
  {
   "cell_type": "code",
   "execution_count": null,
   "metadata": {
    "collapsed": false
   },
   "outputs": [],
   "source": []
  }
 ],
 "metadata": {
  "kernelspec": {
   "display_name": "venv_3.10.12",
   "language": "python",
   "name": "python3"
  },
  "language_info": {
   "codemirror_mode": {
    "name": "ipython",
    "version": 3
   },
   "file_extension": ".py",
   "mimetype": "text/x-python",
   "name": "python",
   "nbconvert_exporter": "python",
   "pygments_lexer": "ipython3",
   "version": "3.10.12"
  }
 },
 "nbformat": 4,
 "nbformat_minor": 0
}
