{
 "cells": [
  {
   "cell_type": "code",
   "execution_count": 1,
   "metadata": {},
   "outputs": [
    {
     "name": "stderr",
     "output_type": "stream",
     "text": [
      "2025-01-24 13:46:44.283566: E external/local_xla/xla/stream_executor/cuda/cuda_fft.cc:485] Unable to register cuFFT factory: Attempting to register factory for plugin cuFFT when one has already been registered\n",
      "2025-01-24 13:46:44.317172: E external/local_xla/xla/stream_executor/cuda/cuda_dnn.cc:8454] Unable to register cuDNN factory: Attempting to register factory for plugin cuDNN when one has already been registered\n",
      "2025-01-24 13:46:44.327243: E external/local_xla/xla/stream_executor/cuda/cuda_blas.cc:1452] Unable to register cuBLAS factory: Attempting to register factory for plugin cuBLAS when one has already been registered\n",
      "2025-01-24 13:46:44.352702: I tensorflow/core/platform/cpu_feature_guard.cc:210] This TensorFlow binary is optimized to use available CPU instructions in performance-critical operations.\n",
      "To enable the following instructions: AVX2 FMA, in other operations, rebuild TensorFlow with the appropriate compiler flags.\n",
      "2025-01-24 13:46:46.195855: W tensorflow/compiler/tf2tensorrt/utils/py_utils.cc:38] TF-TRT Warning: Could not find TensorRT\n"
     ]
    }
   ],
   "source": [
    "from etl.load_dataset import DatasetProcessor, get_tf_eggim_patch_dataset\n",
    "from custom_models.cnns import base_resnet50\n",
    "import tensorflow as tf\n",
    "from keras.metrics import Precision, Recall, AUC, CategoricalAccuracy\n",
    "import numpy as np\n",
    "import os\n",
    "from sklearn.metrics import confusion_matrix\n",
    "import pandas as pd\n",
    "from sklearn.model_selection import StratifiedKFold"
   ]
  },
  {
   "cell_type": "code",
   "execution_count": 2,
   "metadata": {},
   "outputs": [],
   "source": [
    "target_dir = '../2025-01_EGGIM_Dataset3'\n",
    "patient_ids = np.load('configs/new_patient_ids.npy', allow_pickle=True)\n",
    "dp = DatasetProcessor(target_dir)\n",
    "df = dp.process()\n",
    "togas_ids_boolean = np.array([x.startswith('PT') for x in df['patient_id'].values])\n",
    "df_togas = df[togas_ids_boolean].reset_index(drop=True)\n",
    "df_ipo = df[~togas_ids_boolean].reset_index(drop=True)\n"
   ]
  },
  {
   "cell_type": "code",
   "execution_count": 3,
   "metadata": {},
   "outputs": [],
   "source": [
    "batch_size = 32\n",
    "learning_rate = 1e-4\n",
    "num_folds = 5\n",
    "n_classes =3\n",
    "\n",
    "name = f'../logs/cv_patient_resnet_multi_{num_folds}'"
   ]
  },
  {
   "cell_type": "code",
   "execution_count": 4,
   "metadata": {},
   "outputs": [
    {
     "name": "stderr",
     "output_type": "stream",
     "text": [
      "/home/goda/Desktop/tese/venv_3.10.12/lib/python3.10/site-packages/sklearn/model_selection/_split.py:805: UserWarning: The least populated class in y has only 1 members, which is less than n_splits=5.\n",
      "  warnings.warn(\n",
      "/home/goda/Desktop/tese/venv_3.10.12/lib/python3.10/site-packages/keras/src/saving/saving_lib.py:757: UserWarning: Skipping variable loading for optimizer 'adam', because it has 2 variables whereas the saved optimizer has 10 variables. \n",
      "  saveable.load_own_variables(weights_store.get(inner_path))\n",
      "2025-01-24 13:46:52.767550: I tensorflow/core/framework/local_rendezvous.cc:404] Local rendezvous is aborting with status: OUT_OF_RANGE: End of sequence\n"
     ]
    },
    {
     "name": "stdout",
     "output_type": "stream",
     "text": [
      "\u001b[1m1/1\u001b[0m \u001b[32m━━━━━━━━━━━━━━━━━━━━\u001b[0m\u001b[37m\u001b[0m \u001b[1m2s\u001b[0m 2s/step\n"
     ]
    },
    {
     "name": "stderr",
     "output_type": "stream",
     "text": [
      "2025-01-24 13:46:54.660846: I tensorflow/core/framework/local_rendezvous.cc:404] Local rendezvous is aborting with status: OUT_OF_RANGE: End of sequence\n"
     ]
    },
    {
     "name": "stdout",
     "output_type": "stream",
     "text": [
      "\u001b[1m1/1\u001b[0m \u001b[32m━━━━━━━━━━━━━━━━━━━━\u001b[0m\u001b[37m\u001b[0m \u001b[1m0s\u001b[0m 428ms/step\n",
      "\u001b[1m1/1\u001b[0m \u001b[32m━━━━━━━━━━━━━━━━━━━━\u001b[0m\u001b[37m\u001b[0m \u001b[1m0s\u001b[0m 460ms/step\n"
     ]
    },
    {
     "name": "stderr",
     "output_type": "stream",
     "text": [
      "2025-01-24 13:46:55.788245: I tensorflow/core/framework/local_rendezvous.cc:404] Local rendezvous is aborting with status: OUT_OF_RANGE: End of sequence\n"
     ]
    },
    {
     "name": "stdout",
     "output_type": "stream",
     "text": [
      "\u001b[1m1/1\u001b[0m \u001b[32m━━━━━━━━━━━━━━━━━━━━\u001b[0m\u001b[37m\u001b[0m \u001b[1m2s\u001b[0m 2s/step\n",
      "\u001b[1m1/1\u001b[0m \u001b[32m━━━━━━━━━━━━━━━━━━━━\u001b[0m\u001b[37m\u001b[0m \u001b[1m0s\u001b[0m 378ms/step\n",
      "\u001b[1m1/1\u001b[0m \u001b[32m━━━━━━━━━━━━━━━━━━━━\u001b[0m\u001b[37m\u001b[0m \u001b[1m0s\u001b[0m 377ms/step\n",
      "\u001b[1m1/1\u001b[0m \u001b[32m━━━━━━━━━━━━━━━━━━━━\u001b[0m\u001b[37m\u001b[0m \u001b[1m0s\u001b[0m 432ms/step\n"
     ]
    },
    {
     "name": "stderr",
     "output_type": "stream",
     "text": [
      "2025-01-24 13:46:59.109317: I tensorflow/core/framework/local_rendezvous.cc:404] Local rendezvous is aborting with status: OUT_OF_RANGE: End of sequence\n"
     ]
    },
    {
     "name": "stdout",
     "output_type": "stream",
     "text": [
      "\u001b[1m1/1\u001b[0m \u001b[32m━━━━━━━━━━━━━━━━━━━━\u001b[0m\u001b[37m\u001b[0m \u001b[1m0s\u001b[0m 462ms/step\n",
      "\u001b[1m1/1\u001b[0m \u001b[32m━━━━━━━━━━━━━━━━━━━━\u001b[0m\u001b[37m\u001b[0m \u001b[1m0s\u001b[0m 366ms/step\n",
      "\u001b[1m1/1\u001b[0m \u001b[32m━━━━━━━━━━━━━━━━━━━━\u001b[0m\u001b[37m\u001b[0m \u001b[1m0s\u001b[0m 411ms/step\n",
      "\u001b[1m1/1\u001b[0m \u001b[32m━━━━━━━━━━━━━━━━━━━━\u001b[0m\u001b[37m\u001b[0m \u001b[1m0s\u001b[0m 423ms/step\n",
      "\u001b[1m1/1\u001b[0m \u001b[32m━━━━━━━━━━━━━━━━━━━━\u001b[0m\u001b[37m\u001b[0m \u001b[1m0s\u001b[0m 357ms/step\n",
      "\u001b[1m1/1\u001b[0m \u001b[32m━━━━━━━━━━━━━━━━━━━━\u001b[0m\u001b[37m\u001b[0m \u001b[1m0s\u001b[0m 468ms/step\n"
     ]
    },
    {
     "name": "stderr",
     "output_type": "stream",
     "text": [
      "/home/goda/Desktop/tese/venv_3.10.12/lib/python3.10/site-packages/keras/src/saving/saving_lib.py:757: UserWarning: Skipping variable loading for optimizer 'adam', because it has 2 variables whereas the saved optimizer has 10 variables. \n",
      "  saveable.load_own_variables(weights_store.get(inner_path))\n"
     ]
    },
    {
     "name": "stdout",
     "output_type": "stream",
     "text": [
      "\u001b[1m1/1\u001b[0m \u001b[32m━━━━━━━━━━━━━━━━━━━━\u001b[0m\u001b[37m\u001b[0m \u001b[1m2s\u001b[0m 2s/step\n",
      "\u001b[1m1/1\u001b[0m \u001b[32m━━━━━━━━━━━━━━━━━━━━\u001b[0m\u001b[37m\u001b[0m \u001b[1m0s\u001b[0m 454ms/step\n"
     ]
    },
    {
     "name": "stderr",
     "output_type": "stream",
     "text": [
      "2025-01-24 13:47:06.478975: I tensorflow/core/framework/local_rendezvous.cc:404] Local rendezvous is aborting with status: OUT_OF_RANGE: End of sequence\n"
     ]
    },
    {
     "name": "stdout",
     "output_type": "stream",
     "text": [
      "\u001b[1m1/1\u001b[0m \u001b[32m━━━━━━━━━━━━━━━━━━━━\u001b[0m\u001b[37m\u001b[0m \u001b[1m2s\u001b[0m 2s/step\n",
      "\u001b[1m1/1\u001b[0m \u001b[32m━━━━━━━━━━━━━━━━━━━━\u001b[0m\u001b[37m\u001b[0m \u001b[1m0s\u001b[0m 432ms/step\n",
      "\u001b[1m1/1\u001b[0m \u001b[32m━━━━━━━━━━━━━━━━━━━━\u001b[0m\u001b[37m\u001b[0m \u001b[1m0s\u001b[0m 420ms/step\n",
      "\u001b[1m1/1\u001b[0m \u001b[32m━━━━━━━━━━━━━━━━━━━━\u001b[0m\u001b[37m\u001b[0m \u001b[1m0s\u001b[0m 425ms/step\n",
      "\u001b[1m1/1\u001b[0m \u001b[32m━━━━━━━━━━━━━━━━━━━━\u001b[0m\u001b[37m\u001b[0m \u001b[1m0s\u001b[0m 364ms/step\n",
      "\u001b[1m1/1\u001b[0m \u001b[32m━━━━━━━━━━━━━━━━━━━━\u001b[0m\u001b[37m\u001b[0m \u001b[1m0s\u001b[0m 424ms/step\n",
      "\u001b[1m1/1\u001b[0m \u001b[32m━━━━━━━━━━━━━━━━━━━━\u001b[0m\u001b[37m\u001b[0m \u001b[1m0s\u001b[0m 397ms/step\n",
      "\u001b[1m1/1\u001b[0m \u001b[32m━━━━━━━━━━━━━━━━━━━━\u001b[0m\u001b[37m\u001b[0m \u001b[1m0s\u001b[0m 363ms/step\n",
      "\u001b[1m1/1\u001b[0m \u001b[32m━━━━━━━━━━━━━━━━━━━━\u001b[0m\u001b[37m\u001b[0m \u001b[1m0s\u001b[0m 436ms/step\n",
      "\u001b[1m1/1\u001b[0m \u001b[32m━━━━━━━━━━━━━━━━━━━━\u001b[0m\u001b[37m\u001b[0m \u001b[1m0s\u001b[0m 418ms/step\n",
      "\u001b[1m1/1\u001b[0m \u001b[32m━━━━━━━━━━━━━━━━━━━━\u001b[0m\u001b[37m\u001b[0m \u001b[1m0s\u001b[0m 419ms/step\n"
     ]
    },
    {
     "name": "stderr",
     "output_type": "stream",
     "text": [
      "/home/goda/Desktop/tese/venv_3.10.12/lib/python3.10/site-packages/keras/src/saving/saving_lib.py:757: UserWarning: Skipping variable loading for optimizer 'adam', because it has 2 variables whereas the saved optimizer has 10 variables. \n",
      "  saveable.load_own_variables(weights_store.get(inner_path))\n"
     ]
    },
    {
     "name": "stdout",
     "output_type": "stream",
     "text": [
      "\u001b[1m1/1\u001b[0m \u001b[32m━━━━━━━━━━━━━━━━━━━━\u001b[0m\u001b[37m\u001b[0m \u001b[1m2s\u001b[0m 2s/step\n",
      "\u001b[1m1/1\u001b[0m \u001b[32m━━━━━━━━━━━━━━━━━━━━\u001b[0m\u001b[37m\u001b[0m \u001b[1m0s\u001b[0m 440ms/step\n",
      "\u001b[1m1/1\u001b[0m \u001b[32m━━━━━━━━━━━━━━━━━━━━\u001b[0m\u001b[37m\u001b[0m \u001b[1m0s\u001b[0m 408ms/step\n",
      "\u001b[1m1/1\u001b[0m \u001b[32m━━━━━━━━━━━━━━━━━━━━\u001b[0m\u001b[37m\u001b[0m \u001b[1m0s\u001b[0m 439ms/step\n",
      "\u001b[1m1/1\u001b[0m \u001b[32m━━━━━━━━━━━━━━━━━━━━\u001b[0m\u001b[37m\u001b[0m \u001b[1m0s\u001b[0m 394ms/step\n"
     ]
    },
    {
     "name": "stderr",
     "output_type": "stream",
     "text": [
      "2025-01-24 13:47:19.128822: I tensorflow/core/framework/local_rendezvous.cc:404] Local rendezvous is aborting with status: OUT_OF_RANGE: End of sequence\n"
     ]
    },
    {
     "name": "stdout",
     "output_type": "stream",
     "text": [
      "\u001b[1m1/1\u001b[0m \u001b[32m━━━━━━━━━━━━━━━━━━━━\u001b[0m\u001b[37m\u001b[0m \u001b[1m2s\u001b[0m 2s/step\n",
      "\u001b[1m1/1\u001b[0m \u001b[32m━━━━━━━━━━━━━━━━━━━━\u001b[0m\u001b[37m\u001b[0m \u001b[1m0s\u001b[0m 429ms/step\n",
      "\u001b[1m1/1\u001b[0m \u001b[32m━━━━━━━━━━━━━━━━━━━━\u001b[0m\u001b[37m\u001b[0m \u001b[1m0s\u001b[0m 348ms/step\n",
      "\u001b[1m1/1\u001b[0m \u001b[32m━━━━━━━━━━━━━━━━━━━━\u001b[0m\u001b[37m\u001b[0m \u001b[1m0s\u001b[0m 417ms/step\n",
      "\u001b[1m1/1\u001b[0m \u001b[32m━━━━━━━━━━━━━━━━━━━━\u001b[0m\u001b[37m\u001b[0m \u001b[1m0s\u001b[0m 395ms/step\n",
      "\u001b[1m1/1\u001b[0m \u001b[32m━━━━━━━━━━━━━━━━━━━━\u001b[0m\u001b[37m\u001b[0m \u001b[1m0s\u001b[0m 393ms/step\n",
      "\u001b[1m1/1\u001b[0m \u001b[32m━━━━━━━━━━━━━━━━━━━━\u001b[0m\u001b[37m\u001b[0m \u001b[1m0s\u001b[0m 357ms/step\n",
      "\u001b[1m1/1\u001b[0m \u001b[32m━━━━━━━━━━━━━━━━━━━━\u001b[0m\u001b[37m\u001b[0m \u001b[1m0s\u001b[0m 415ms/step\n"
     ]
    },
    {
     "name": "stderr",
     "output_type": "stream",
     "text": [
      "/home/goda/Desktop/tese/venv_3.10.12/lib/python3.10/site-packages/keras/src/saving/saving_lib.py:757: UserWarning: Skipping variable loading for optimizer 'adam', because it has 2 variables whereas the saved optimizer has 10 variables. \n",
      "  saveable.load_own_variables(weights_store.get(inner_path))\n"
     ]
    },
    {
     "name": "stdout",
     "output_type": "stream",
     "text": [
      "\u001b[1m1/1\u001b[0m \u001b[32m━━━━━━━━━━━━━━━━━━━━\u001b[0m\u001b[37m\u001b[0m \u001b[1m2s\u001b[0m 2s/step\n",
      "\u001b[1m1/1\u001b[0m \u001b[32m━━━━━━━━━━━━━━━━━━━━\u001b[0m\u001b[37m\u001b[0m \u001b[1m2s\u001b[0m 2s/step\n",
      "\u001b[1m1/1\u001b[0m \u001b[32m━━━━━━━━━━━━━━━━━━━━\u001b[0m\u001b[37m\u001b[0m \u001b[1m0s\u001b[0m 422ms/step\n",
      "\u001b[1m1/1\u001b[0m \u001b[32m━━━━━━━━━━━━━━━━━━━━\u001b[0m\u001b[37m\u001b[0m \u001b[1m0s\u001b[0m 378ms/step\n",
      "\u001b[1m1/1\u001b[0m \u001b[32m━━━━━━━━━━━━━━━━━━━━\u001b[0m\u001b[37m\u001b[0m \u001b[1m0s\u001b[0m 431ms/step\n",
      "\u001b[1m1/1\u001b[0m \u001b[32m━━━━━━━━━━━━━━━━━━━━\u001b[0m\u001b[37m\u001b[0m \u001b[1m0s\u001b[0m 422ms/step\n",
      "\u001b[1m1/1\u001b[0m \u001b[32m━━━━━━━━━━━━━━━━━━━━\u001b[0m\u001b[37m\u001b[0m \u001b[1m0s\u001b[0m 350ms/step\n",
      "\u001b[1m1/1\u001b[0m \u001b[32m━━━━━━━━━━━━━━━━━━━━\u001b[0m\u001b[37m\u001b[0m \u001b[1m0s\u001b[0m 400ms/step\n",
      "\u001b[1m1/1\u001b[0m \u001b[32m━━━━━━━━━━━━━━━━━━━━\u001b[0m\u001b[37m\u001b[0m \u001b[1m0s\u001b[0m 405ms/step\n",
      "\u001b[1m1/1\u001b[0m \u001b[32m━━━━━━━━━━━━━━━━━━━━\u001b[0m\u001b[37m\u001b[0m \u001b[1m0s\u001b[0m 310ms/step\n",
      "\u001b[1m1/1\u001b[0m \u001b[32m━━━━━━━━━━━━━━━━━━━━\u001b[0m\u001b[37m\u001b[0m \u001b[1m0s\u001b[0m 353ms/step\n",
      "\u001b[1m1/1\u001b[0m \u001b[32m━━━━━━━━━━━━━━━━━━━━\u001b[0m\u001b[37m\u001b[0m \u001b[1m0s\u001b[0m 399ms/step\n",
      "\u001b[1m1/1\u001b[0m \u001b[32m━━━━━━━━━━━━━━━━━━━━\u001b[0m\u001b[37m\u001b[0m \u001b[1m0s\u001b[0m 301ms/step\n"
     ]
    },
    {
     "name": "stderr",
     "output_type": "stream",
     "text": [
      "/home/goda/Desktop/tese/venv_3.10.12/lib/python3.10/site-packages/keras/src/saving/saving_lib.py:757: UserWarning: Skipping variable loading for optimizer 'adam', because it has 2 variables whereas the saved optimizer has 10 variables. \n",
      "  saveable.load_own_variables(weights_store.get(inner_path))\n"
     ]
    },
    {
     "name": "stdout",
     "output_type": "stream",
     "text": [
      "\u001b[1m1/1\u001b[0m \u001b[32m━━━━━━━━━━━━━━━━━━━━\u001b[0m\u001b[37m\u001b[0m \u001b[1m2s\u001b[0m 2s/step\n",
      "\u001b[1m1/1\u001b[0m \u001b[32m━━━━━━━━━━━━━━━━━━━━\u001b[0m\u001b[37m\u001b[0m \u001b[1m0s\u001b[0m 349ms/step\n",
      "\u001b[1m1/1\u001b[0m \u001b[32m━━━━━━━━━━━━━━━━━━━━\u001b[0m\u001b[37m\u001b[0m \u001b[1m2s\u001b[0m 2s/step\n",
      "\u001b[1m1/1\u001b[0m \u001b[32m━━━━━━━━━━━━━━━━━━━━\u001b[0m\u001b[37m\u001b[0m \u001b[1m0s\u001b[0m 368ms/step\n",
      "\u001b[1m1/1\u001b[0m \u001b[32m━━━━━━━━━━━━━━━━━━━━\u001b[0m\u001b[37m\u001b[0m \u001b[1m0s\u001b[0m 366ms/step\n",
      "\u001b[1m1/1\u001b[0m \u001b[32m━━━━━━━━━━━━━━━━━━━━\u001b[0m\u001b[37m\u001b[0m \u001b[1m0s\u001b[0m 420ms/step\n",
      "\u001b[1m1/1\u001b[0m \u001b[32m━━━━━━━━━━━━━━━━━━━━\u001b[0m\u001b[37m\u001b[0m \u001b[1m0s\u001b[0m 351ms/step\n",
      "\u001b[1m1/1\u001b[0m \u001b[32m━━━━━━━━━━━━━━━━━━━━\u001b[0m\u001b[37m\u001b[0m \u001b[1m0s\u001b[0m 298ms/step\n",
      "\u001b[1m1/1\u001b[0m \u001b[32m━━━━━━━━━━━━━━━━━━━━\u001b[0m\u001b[37m\u001b[0m \u001b[1m0s\u001b[0m 359ms/step\n",
      "\u001b[1m1/1\u001b[0m \u001b[32m━━━━━━━━━━━━━━━━━━━━\u001b[0m\u001b[37m\u001b[0m \u001b[1m0s\u001b[0m 343ms/step\n",
      "\u001b[1m1/1\u001b[0m \u001b[32m━━━━━━━━━━━━━━━━━━━━\u001b[0m\u001b[37m\u001b[0m \u001b[1m0s\u001b[0m 377ms/step\n"
     ]
    },
    {
     "name": "stderr",
     "output_type": "stream",
     "text": [
      "2025-01-24 13:47:44.819620: I tensorflow/core/framework/local_rendezvous.cc:404] Local rendezvous is aborting with status: OUT_OF_RANGE: End of sequence\n"
     ]
    },
    {
     "name": "stdout",
     "output_type": "stream",
     "text": [
      "\u001b[1m1/1\u001b[0m \u001b[32m━━━━━━━━━━━━━━━━━━━━\u001b[0m\u001b[37m\u001b[0m \u001b[1m0s\u001b[0m 371ms/step\n",
      "\u001b[1m1/1\u001b[0m \u001b[32m━━━━━━━━━━━━━━━━━━━━\u001b[0m\u001b[37m\u001b[0m \u001b[1m0s\u001b[0m 360ms/step\n"
     ]
    },
    {
     "data": {
      "text/plain": [
       "''"
      ]
     },
     "execution_count": 4,
     "metadata": {},
     "output_type": "execute_result"
    }
   ],
   "source": [
    "model_weights_directory = '../logs/'\n",
    "model_fold_dir = sorted(os.listdir(model_weights_directory))\n",
    "\n",
    "split = dp.patient_wise_split_x_fold(df_togas,df_ipo,patient_ids,n_folds=num_folds,internal_train_size=0.9,target_variable='eggim_square',random_state=42)\n",
    "eggim_values = []\n",
    "eggim_per_region = {'vi' : [], 'vii' : [], 'viii' : [], 'ix' : [], 'ii' : []}\n",
    "\n",
    "for fold, (df_train, df_val, df_test) in enumerate(split):\n",
    "    patients = df_test['patient_id'].unique()\n",
    "\n",
    "    n_classes = 3  # Replace with the number of classes you have\n",
    "    model = base_resnet50(input_shape=(224, 224, 3), n_classes=n_classes)\n",
    "    # Compile the model with Adam optimizer 13:21\n",
    "    model.compile(optimizer=tf.keras.optimizers.Adam(learning_rate=learning_rate),\n",
    "                  metrics=[CategoricalAccuracy(name='cat_accuracy'), Precision(name='precision'),\n",
    "                           Recall(name='recall'),\n",
    "                           AUC(name='auc')])\n",
    "\n",
    "\n",
    "    model.load_weights('../logs/' + model_fold_dir[fold] + '/weights.weights.h5')\n",
    "    \n",
    "    for patient in patients:\n",
    "        df_patient = df_togas[df_togas['patient_id'] == patient]\n",
    "        df_patient = df_patient[~df_patient['landmark'].duplicated(keep='first')]\n",
    "        landmarks = df_patient['landmark'].to_list()\n",
    "        tf_df_patient = get_tf_eggim_patch_dataset(df_patient,\n",
    "                                            num_classes=3,\n",
    "                                            preprocess_fn=tf.keras.applications.resnet.preprocess_input) \n",
    "        tf_df_patient = tf_df_patient.batch(batch_size)\n",
    "\n",
    "        y_true = np.concatenate([y for (_, y) in tf_df_patient])\n",
    "        y_pred = model.predict(tf_df_patient)\n",
    "        y_true_ordinal = np.argmax(y_true, axis=-1) # [0 0 1] -> 2\n",
    "        y_pred_ordinal = np.argmax(y_pred, axis=-1)\n",
    "\n",
    "        eggim_true = 0\n",
    "        eggim_pred = 0\n",
    "\n",
    "        first_group = 0\n",
    "        first_group_value_true = 0\n",
    "        first_group_value_pred = 0\n",
    "\n",
    "        last_group = 0\n",
    "        last_group_value_true = 0\n",
    "        last_group_value_pred = 0\n",
    "\n",
    "        for i in range(len(landmarks)):\n",
    "            if landmarks[i][:2] == 'vi' :\n",
    "                eggim_true += y_true_ordinal[i]\n",
    "                eggim_pred += y_pred_ordinal[i]\n",
    "                if landmarks[i][:4] == 'viii':\n",
    "                    eggim_per_region['viii'].append([y_true_ordinal[i],y_pred_ordinal[i]])\n",
    "                elif landmarks[i][:3] == 'vii':\n",
    "                    eggim_per_region['vii'].append([y_true_ordinal[i],y_pred_ordinal[i]])\n",
    "                else:\n",
    "                    eggim_per_region['vi'].append([y_true_ordinal[i],y_pred_ordinal[i]])\n",
    "            elif landmarks[i][:2] == 'ix' or landmarks[i][:2] == 'x.':\n",
    "                if first_group == 0:\n",
    "                    first_group = 1\n",
    "                    first_group_value_true = y_true_ordinal[i]\n",
    "                    first_group_value_pred = y_pred_ordinal[i]\n",
    "                else:\n",
    "                    first_group_value_true = (first_group_value_true + y_true_ordinal[i]) /2\n",
    "                    first_group_value_pred = (first_group_value_pred + y_pred_ordinal[i]) /2\n",
    "            else:\n",
    "                if last_group == 0:\n",
    "                    last_group = 1\n",
    "                    last_group_value_true = y_true_ordinal[i]\n",
    "                    last_group_value_pred = y_pred_ordinal[i]\n",
    "                else:\n",
    "                    last_group_value_true = (last_group_value_true + y_true_ordinal[i]) /2 \n",
    "                    last_group_value_pred = (last_group_value_pred + y_pred_ordinal[i]) /2\n",
    "\n",
    "        eggim_true += first_group_value_true\n",
    "        eggim_pred += first_group_value_pred\n",
    "        eggim_true += last_group_value_true\n",
    "        eggim_pred += last_group_value_pred\n",
    "\n",
    "        eggim_per_region['ix'].append([int(first_group_value_true),int(first_group_value_pred)])\n",
    "        eggim_per_region['ii'].append([int(last_group_value_true),int(last_group_value_pred)])\n",
    "\n",
    "        eggim_values.append([patient,eggim_true,eggim_pred]) \n",
    "    \n",
    ";"
   ]
  },
  {
   "cell_type": "code",
   "execution_count": 6,
   "metadata": {},
   "outputs": [
    {
     "data": {
      "text/plain": [
       "[['PT004', 1.0, 7.5],\n",
       " ['PT005', 3.0, 10.0],\n",
       " ['PT006', 2.0, 10.0],\n",
       " ['PT011', 5.0, 10.0],\n",
       " ['PT013', 1.0, 6.5],\n",
       " ['PT015', 0.0, 10.0],\n",
       " ['PT016', 0.0, 9.0],\n",
       " ['PT020', 2.0, 7.0],\n",
       " ['PT023', 1.5, 8.0],\n",
       " ['PT024', 7.0, 10.0],\n",
       " ['PT030', 0.5, 8.0],\n",
       " ['PT032', 4.0, 8.5],\n",
       " ['PT037', 1.0, 9.0],\n",
       " ['PT021', 8.0, 10.0],\n",
       " ['PT025', 3.0, 9.0],\n",
       " ['PT026', 2.0, 10.0],\n",
       " ['PT028', 5.0, 8.0],\n",
       " ['PT029', 7.0, 10.0],\n",
       " ['PT031', 0.0, 9.0],\n",
       " ['PT036', 2.5, 9.0],\n",
       " ['PT041', 1.0, 9.5],\n",
       " ['PT046', 1.0, 9.5],\n",
       " ['PT047', 0.0, 10.0],\n",
       " ['PT048', 1.0, 9.0],\n",
       " ['PT049', 1.0, 9.0],\n",
       " ['PT059', 4.5, 10.0],\n",
       " ['PT009', 9.0, 10.0],\n",
       " ['PT022', 8.0, 10.0],\n",
       " ['PT034', 3.5, 9.5],\n",
       " ['PT039', 2.5, 10.0],\n",
       " ['PT040', 6.0, 10.0],\n",
       " ['PT043', 5.5, 10.0],\n",
       " ['PT051', 0.5, 9.5],\n",
       " ['PT061', 1.0, 10.0],\n",
       " ['PT062', 4.0, 10.0],\n",
       " ['PT063', 1.0, 10.0],\n",
       " ['PT064', 1.5, 10.0],\n",
       " ['PT065', 0.0, 7.5],\n",
       " ['PT066', 1.0, 8.0],\n",
       " ['PT035', 8.5, 10.0],\n",
       " ['PT038', 3, 10],\n",
       " ['PT045', 5.0, 10.0],\n",
       " ['PT050', 3.0, 9.5],\n",
       " ['PT053', 6.0, 10.0],\n",
       " ['PT054', 2.0, 9.5],\n",
       " ['PT067', 0.0, 8.0],\n",
       " ['PT068', 1.0, 9.0],\n",
       " ['PT070', 4.0, 8.0],\n",
       " ['PT071', 0, 10],\n",
       " ['PT072', 1.5, 7.0],\n",
       " ['PT076', 1.0, 8.0],\n",
       " ['PT081', 5, 8],\n",
       " ['PT060', 8.0, 9.5],\n",
       " ['PT069', 2.0, 6.5],\n",
       " ['PT073', 0, 6],\n",
       " ['PT074', 3.0, 8.5],\n",
       " ['PT075', 4.5, 8.0],\n",
       " ['PT077', 0.0, 7.0],\n",
       " ['PT078', 1.0, 10.0],\n",
       " ['PT079', 1, 8],\n",
       " ['PT080', 1.0, 7.0],\n",
       " ['PT082', 5.0, 10.0],\n",
       " ['PT083', 0.0, 8.5],\n",
       " ['PT084', 6.0, 9.5],\n",
       " ['PT086', 2.0, 7.0]]"
      ]
     },
     "execution_count": 6,
     "metadata": {},
     "output_type": "execute_result"
    }
   ],
   "source": [
    "eggim_values"
   ]
  },
  {
   "cell_type": "code",
   "execution_count": 7,
   "metadata": {},
   "outputs": [],
   "source": [
    "y_true = []\n",
    "y_pred = []\n",
    "for values in eggim_values:\n",
    "    if values[1] < 5: y_true.append(0)\n",
    "    else: y_true.append(1)\n",
    "    if values[2] < 5: y_pred.append(0)\n",
    "    else: y_pred.append(1)\n"
   ]
  },
  {
   "cell_type": "code",
   "execution_count": 8,
   "metadata": {},
   "outputs": [],
   "source": [
    "cm = confusion_matrix(y_true,y_pred)\n",
    "cm_df = pd.DataFrame(cm, index=[f\"True {name}\" for name in ['0','1']],\n",
    "                     columns=[f\"Pred {name}\" for name in ['0','1']])\n"
   ]
  },
  {
   "cell_type": "code",
   "execution_count": 9,
   "metadata": {},
   "outputs": [
    {
     "data": {
      "text/html": [
       "<div>\n",
       "<style scoped>\n",
       "    .dataframe tbody tr th:only-of-type {\n",
       "        vertical-align: middle;\n",
       "    }\n",
       "\n",
       "    .dataframe tbody tr th {\n",
       "        vertical-align: top;\n",
       "    }\n",
       "\n",
       "    .dataframe thead th {\n",
       "        text-align: right;\n",
       "    }\n",
       "</style>\n",
       "<table border=\"1\" class=\"dataframe\">\n",
       "  <thead>\n",
       "    <tr style=\"text-align: right;\">\n",
       "      <th></th>\n",
       "      <th>Pred 0</th>\n",
       "      <th>Pred 1</th>\n",
       "    </tr>\n",
       "  </thead>\n",
       "  <tbody>\n",
       "    <tr>\n",
       "      <th>True 0</th>\n",
       "      <td>0</td>\n",
       "      <td>49</td>\n",
       "    </tr>\n",
       "    <tr>\n",
       "      <th>True 1</th>\n",
       "      <td>0</td>\n",
       "      <td>16</td>\n",
       "    </tr>\n",
       "  </tbody>\n",
       "</table>\n",
       "</div>"
      ],
      "text/plain": [
       "        Pred 0  Pred 1\n",
       "True 0       0      49\n",
       "True 1       0      16"
      ]
     },
     "execution_count": 9,
     "metadata": {},
     "output_type": "execute_result"
    }
   ],
   "source": [
    "cm_df"
   ]
  },
  {
   "cell_type": "code",
   "execution_count": 10,
   "metadata": {},
   "outputs": [
    {
     "data": {
      "text/plain": [
       "array([[ 0, 49],\n",
       "       [ 0, 16]])"
      ]
     },
     "execution_count": 10,
     "metadata": {},
     "output_type": "execute_result"
    }
   ],
   "source": [
    "cm"
   ]
  },
  {
   "cell_type": "code",
   "execution_count": 11,
   "metadata": {},
   "outputs": [],
   "source": [
    "accuracy = (cm[0][0] + cm[1][1]) / cm.sum()\n",
    "sensitivity = cm[1][1] / cm[1].sum()\n",
    "specificity = cm[0][0] / cm[0].sum()"
   ]
  },
  {
   "cell_type": "code",
   "execution_count": 35,
   "metadata": {},
   "outputs": [
    {
     "name": "stdout",
     "output_type": "stream",
     "text": [
      "(array([0.0667, 0.    , 1.    ]), array([0.0667, 0.    , 1.    ]), array([1.    , 0.7705, 0.2812]))\n",
      "(array([0.0244, 0.2105, 1.    ]), array([0.0244, 0.2105, 1.    ]), array([1.    , 0.6957, 0.3167]))\n",
      "(array([0.0645, 0.1667, 1.    ]), array([0.0645, 0.1667, 1.    ]), array([1.    , 0.9362, 0.1633]))\n",
      "(array([0.0976, 0.    , 1.    ]), array([0.0976, 0.    , 1.    ]), array([0.9167, 0.8727, 0.2549]))\n",
      "(array([0.  , 0.04, 1.  ]), array([0.  , 0.04, 1.  ]), array([1.    , 0.925 , 0.0769]))\n"
     ]
    }
   ],
   "source": [
    "def get_scores(cm):\n",
    "    acc = []\n",
    "    sen = np.diag(cm) / np.sum(cm, axis=1)\n",
    "    spe = []\n",
    "    for i in range(len(cm)):\n",
    "        acc.append(cm[i][i] / np.sum(cm[i]))\n",
    "        true_negatives = np.sum(cm) - (np.sum(cm[i, :]) + np.sum(cm[:, i]) - cm[i, i])\n",
    "        false_positives = np.sum(cm[:, i]) - cm[i, i]\n",
    "        spe.append(true_negatives / (true_negatives + false_positives))\n",
    "\n",
    "    return np.round(acc,4), np.round(sen,4), np.round(spe,4)\n",
    "\n",
    "all_regions_true = [row[0] for row in eggim_per_region['ii']]+[row[0] for row in eggim_per_region['ix']]+[row[0] for row in eggim_per_region['vi']]+[row[0] for row in eggim_per_region['vii']]+[row[0] for row in eggim_per_region['viii']]\n",
    "all_regions_pred = [row[1] for row in eggim_per_region['ii']]+[row[1] for row in eggim_per_region['ix']]+[row[1] for row in eggim_per_region['vi']]+[row[1] for row in eggim_per_region['vii']]+[row[1] for row in eggim_per_region['viii']]\n",
    "\n",
    "words = ['Acc','Sen','Spe']\n",
    "f = open('../results_per_region.csv','w')\n",
    "f.write('Metric,EGGIM 0,EGGIM 1,EGGIM 2,\\n')\n",
    "\n",
    "results = get_scores(confusion_matrix(all_regions_true,all_regions_pred))\n",
    "i = 0\n",
    "for result in results:\n",
    "    f.write(f\"Overall {words[i]},{result[0]},{result[1]},{result[2]},\\n\")\n",
    "    i += 1\n",
    "\n",
    "results = get_scores(confusion_matrix([row[0] for row in eggim_per_region['ii']],[row[1] for row in eggim_per_region['ii']]))\n",
    "i = 0\n",
    "for result in results:\n",
    "    f.write(f\"ii + xii {words[i]},{result[0]},{result[1]},{result[2]},\\n\")\n",
    "    i += 1\n",
    "\n",
    "results = get_scores(confusion_matrix([row[0] for row in eggim_per_region['ix']],[row[1] for row in eggim_per_region['ix']]))\n",
    "i = 0\n",
    "for result in results:\n",
    "    f.write(f\"ix + x {words[i]},{result[0]},{result[1]},{result[2]},\\n\")\n",
    "    i += 1\n",
    "\n",
    "results = get_scores(confusion_matrix([row[0] for row in eggim_per_region['vi']],[row[1] for row in eggim_per_region['vi']]))\n",
    "i = 0\n",
    "for result in results:\n",
    "    f.write(f\"vi {words[i]},{result[0]},{result[1]},{result[2]},\\n\")\n",
    "    i += 1\n",
    "\n",
    "results = get_scores(confusion_matrix([row[0] for row in eggim_per_region['vii']],[row[1] for row in eggim_per_region['vii']]))\n",
    "i = 0\n",
    "for result in results:\n",
    "    f.write(f\"vii {words[i]},{result[0]},{result[1]},{result[2]},\\n\")\n",
    "    i += 1\n",
    "\n",
    "results = get_scores(confusion_matrix([row[0] for row in eggim_per_region['viii']],[row[1] for row in eggim_per_region['viii']]))\n",
    "i = 0\n",
    "for result in results:\n",
    "    f.write(f\"viii {words[i]},{result[0]},{result[1]},{result[2]},\\n\")\n",
    "    i += 1\n",
    "\n",
    "\n",
    "f.close()"
   ]
  },
  {
   "cell_type": "code",
   "execution_count": 12,
   "metadata": {},
   "outputs": [],
   "source": [
    "def replace_landmark_name(landmark):\n",
    "    new_landmark_name = {'ii': 'ii',\n",
    "                    'ix': 'ix',\n",
    "                    'vi': 'vi',\n",
    "                    'vii': 'vii',\n",
    "                    'viii': 'viii',\n",
    "                    'x': 'x',\n",
    "                    'xii': 'xii'}\n",
    "    landmark_number = landmark.split('.')[0]\n",
    "    return new_landmark_name[landmark_number]"
   ]
  },
  {
   "cell_type": "code",
   "execution_count": 13,
   "metadata": {},
   "outputs": [],
   "source": [
    "df_patients = df_togas[df_togas['patient_id'].isin(patient_ids)].drop(['bbox','eggim_global','image_directory'],axis=1)\n",
    "df_patients = df_patients.drop_duplicates(subset=['patient_id','landmark'])\n",
    "df_patients['landmark'] = df_patients['landmark'].apply(replace_landmark_name)"
   ]
  },
  {
   "cell_type": "code",
   "execution_count": 14,
   "metadata": {},
   "outputs": [],
   "source": [
    "filtered_df = df_patients[df_patients['landmark'].isin(['ix','x'])]\n",
    "filtered_df = filtered_df.groupby(['patient_id'], as_index=False).agg({'eggim_square' : 'mean', 'landmark' : lambda x : 'ix'})\n",
    "\n",
    "df_patients = df_patients[~df_patients['landmark'].isin(['ix','x'])]\n",
    "\n",
    "df_patients = pd.concat([df_patients, filtered_df])"
   ]
  },
  {
   "cell_type": "code",
   "execution_count": 15,
   "metadata": {},
   "outputs": [],
   "source": [
    "filtered_df = df_patients[df_patients['landmark'].isin(['ii','xii'])]\n",
    "filtered_df = filtered_df.groupby(['patient_id'], as_index=False).agg({'eggim_square' : 'mean', 'landmark' : lambda x : 'ii'})\n",
    "\n",
    "df_patients = df_patients[~df_patients['landmark'].isin(['ii','xii'])]\n",
    "\n",
    "df_patients = pd.concat([df_patients, filtered_df])"
   ]
  },
  {
   "cell_type": "code",
   "execution_count": 16,
   "metadata": {},
   "outputs": [],
   "source": [
    "df_per_patient = df_patients.groupby(['patient_id'], as_index=False).sum()\n",
    "df_per_patient['eggim_square'] = df_per_patient['eggim_square'].astype(int)\n"
   ]
  },
  {
   "cell_type": "code",
   "execution_count": 17,
   "metadata": {},
   "outputs": [
    {
     "name": "stderr",
     "output_type": "stream",
     "text": [
      "/home/goda/Desktop/tese/venv_3.10.12/lib/python3.10/site-packages/sklearn/model_selection/_split.py:805: UserWarning: The least populated class in y has only 1 members, which is less than n_splits=5.\n",
      "  warnings.warn(\n"
     ]
    }
   ],
   "source": [
    "def get_folds(eggim,patients):\n",
    "    skf = StratifiedKFold(n_splits=5,shuffle=False)\n",
    "    folds = []\n",
    "    for _, (_, test_index) in enumerate(skf.split(patients,eggim)):\n",
    "        p_list = [patients[index] for index in test_index ]\n",
    "        folds.append(p_list)\n",
    "\n",
    "    return folds\n",
    "\n",
    "folds = get_folds(df_per_patient['eggim_square'].to_list(),df_per_patient['patient_id'].to_list())"
   ]
  }
 ],
 "metadata": {
  "kernelspec": {
   "display_name": "venv_3.10.12",
   "language": "python",
   "name": "python3"
  },
  "language_info": {
   "codemirror_mode": {
    "name": "ipython",
    "version": 3
   },
   "file_extension": ".py",
   "mimetype": "text/x-python",
   "name": "python",
   "nbconvert_exporter": "python",
   "pygments_lexer": "ipython3",
   "version": "3.10.12"
  }
 },
 "nbformat": 4,
 "nbformat_minor": 2
}
