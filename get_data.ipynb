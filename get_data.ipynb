{
 "cells": [
  {
   "cell_type": "code",
   "execution_count": 1,
   "metadata": {},
   "outputs": [
    {
     "name": "stderr",
     "output_type": "stream",
     "text": [
      "2025-01-22 22:13:31.601914: E external/local_xla/xla/stream_executor/cuda/cuda_fft.cc:477] Unable to register cuFFT factory: Attempting to register factory for plugin cuFFT when one has already been registered\n",
      "WARNING: All log messages before absl::InitializeLog() is called are written to STDERR\n",
      "E0000 00:00:1737584011.618238   24732 cuda_dnn.cc:8310] Unable to register cuDNN factory: Attempting to register factory for plugin cuDNN when one has already been registered\n",
      "E0000 00:00:1737584011.622598   24732 cuda_blas.cc:1418] Unable to register cuBLAS factory: Attempting to register factory for plugin cuBLAS when one has already been registered\n",
      "2025-01-22 22:13:31.638105: I tensorflow/core/platform/cpu_feature_guard.cc:210] This TensorFlow binary is optimized to use available CPU instructions in performance-critical operations.\n",
      "To enable the following instructions: AVX2 FMA, in other operations, rebuild TensorFlow with the appropriate compiler flags.\n"
     ]
    }
   ],
   "source": [
    "from etl.load_dataset import DatasetProcessor, get_tf_eggim_patch_dataset\n",
    "from custom_models.cnns import base_resnet50\n",
    "import tensorflow as tf\n",
    "from keras.metrics import Precision, Recall, AUC, CategoricalAccuracy\n",
    "from optimization.custom_losses import weighted_categorical_crossentropy\n",
    "from custom_models.augmentation import basic_plus_color_augmentation, basic_augmentation\n",
    "from custom_models.optimization_utilities import get_standard_callbacks\n",
    "import numpy as np\n",
    "import os\n",
    "from sklearn.metrics import confusion_matrix\n",
    "from evaluation.metrics import categorical_accuracy, sensitivity_per_class, specificity_per_class\n",
    "import pandas as pd\n",
    "from sklearn.model_selection import StratifiedKFold"
   ]
  },
  {
   "cell_type": "code",
   "execution_count": 2,
   "metadata": {},
   "outputs": [],
   "source": [
    "target_dir = '../2025-01_EGGIM_Dataset3'  # aqui foi o o que eu chamei no remote server, mas fica a criterio\n",
    "patient_ids = np.load('configs/new_patient_ids.npy', allow_pickle=True)\n",
    "dp = DatasetProcessor(target_dir)\n",
    "df = dp.process()\n",
    "togas_ids_boolean = np.array([x.startswith('PT') for x in df['patient_id'].values])\n",
    "df_togas = df[togas_ids_boolean].reset_index(drop=True)\n",
    "df_ipo = df[~togas_ids_boolean].reset_index(drop=True)\n"
   ]
  },
  {
   "cell_type": "code",
   "execution_count": 3,
   "metadata": {},
   "outputs": [
    {
     "name": "stdout",
     "output_type": "stream",
     "text": [
      "1280 866 414\n"
     ]
    }
   ],
   "source": [
    "print(len(df.index),len(df_togas.index),len(df_ipo.index))"
   ]
  },
  {
   "cell_type": "code",
   "execution_count": 4,
   "metadata": {},
   "outputs": [
    {
     "data": {
      "text/plain": [
       "(1280, 6)"
      ]
     },
     "execution_count": 4,
     "metadata": {},
     "output_type": "execute_result"
    }
   ],
   "source": [
    "df.shape"
   ]
  },
  {
   "cell_type": "code",
   "execution_count": 5,
   "metadata": {},
   "outputs": [],
   "source": [
    "batch_size = 32\n",
    "num_epochs = 2\n",
    "learning_rate = 1e-4\n",
    "num_folds = 5\n",
    "n_classes =3\n",
    "\n",
    "name = f'../logs/cv_patient_resnet_multi_{num_folds}'"
   ]
  },
  {
   "cell_type": "code",
   "execution_count": 7,
   "metadata": {},
   "outputs": [
    {
     "name": "stderr",
     "output_type": "stream",
     "text": [
      "/home/goda/Desktop/tese/venv_3.10.12/lib/python3.10/site-packages/sklearn/model_selection/_split.py:805: UserWarning: The least populated class in y has only 1 members, which is less than n_splits=5.\n",
      "  warnings.warn(\n"
     ]
    },
    {
     "name": "stdout",
     "output_type": "stream",
     "text": [
      "Epoch 1/2\n",
      "\u001b[1m46/46\u001b[0m \u001b[32m━━━━━━━━━━━━━━━━━━━━\u001b[0m\u001b[37m\u001b[0m \u001b[1m0s\u001b[0m 116ms/step - auc: 0.6494 - cat_accuracy: 0.4820 - loss: 1.3192 - precision: 0.4877 - recall: 0.3909\n",
      "Epoch 1: val_loss improved from inf to 3.26829, saving model to ../logs/cv_patient_resnet_multi_5fold_0_20250122-222454/weights.weights.h5\n",
      "\u001b[1m46/46\u001b[0m \u001b[32m━━━━━━━━━━━━━━━━━━━━\u001b[0m\u001b[37m\u001b[0m \u001b[1m19s\u001b[0m 232ms/step - auc: 0.6500 - cat_accuracy: 0.4825 - loss: 1.3245 - precision: 0.4883 - recall: 0.3920 - val_auc: 0.3603 - val_cat_accuracy: 0.2254 - val_loss: 3.2683 - val_precision: 0.2254 - val_recall: 0.2254 - learning_rate: 1.0000e-04\n",
      "Epoch 2/2\n",
      "\u001b[1m45/46\u001b[0m \u001b[32m━━━━━━━━━━━━━━━━━━━\u001b[0m\u001b[37m━\u001b[0m \u001b[1m0s\u001b[0m 56ms/step - auc: 0.5427 - cat_accuracy: 0.4101 - loss: 2.0407 - precision: 0.4196 - recall: 0.3933\n",
      "Epoch 2: val_loss improved from 3.26829 to 2.15696, saving model to ../logs/cv_patient_resnet_multi_5fold_0_20250122-222454/weights.weights.h5\n",
      "\u001b[1m46/46\u001b[0m \u001b[32m━━━━━━━━━━━━━━━━━━━━\u001b[0m\u001b[37m\u001b[0m \u001b[1m4s\u001b[0m 76ms/step - auc: 0.5494 - cat_accuracy: 0.4157 - loss: 2.0115 - precision: 0.4257 - recall: 0.3984 - val_auc: 0.3983 - val_cat_accuracy: 0.2394 - val_loss: 2.1570 - val_precision: 0.2459 - val_recall: 0.2113 - learning_rate: 1.0000e-04\n",
      "\u001b[1m5/5\u001b[0m \u001b[32m━━━━━━━━━━━━━━━━━━━━\u001b[0m\u001b[37m\u001b[0m \u001b[1m2s\u001b[0m 474ms/step - auc: 0.3384 - cat_accuracy: 0.2146 - loss: 2.4717 - precision: 0.1976 - recall: 0.1835\n",
      "Epoch 1/2\n",
      "\u001b[1m46/46\u001b[0m \u001b[32m━━━━━━━━━━━━━━━━━━━━\u001b[0m\u001b[37m\u001b[0m \u001b[1m0s\u001b[0m 116ms/step - auc: 0.6802 - cat_accuracy: 0.5003 - loss: 1.2073 - precision: 0.5339 - recall: 0.4190\n",
      "Epoch 1: val_loss improved from inf to 3.18919, saving model to ../logs/cv_patient_resnet_multi_5fold_1_20250122-222520/weights.weights.h5\n",
      "\u001b[1m46/46\u001b[0m \u001b[32m━━━━━━━━━━━━━━━━━━━━\u001b[0m\u001b[37m\u001b[0m \u001b[1m19s\u001b[0m 235ms/step - auc: 0.6810 - cat_accuracy: 0.5014 - loss: 1.2101 - precision: 0.5349 - recall: 0.4206 - val_auc: 0.4352 - val_cat_accuracy: 0.3099 - val_loss: 3.1892 - val_precision: 0.3099 - val_recall: 0.3099 - learning_rate: 1.0000e-04\n",
      "Epoch 2/2\n",
      "\u001b[1m45/46\u001b[0m \u001b[32m━━━━━━━━━━━━━━━━━━━\u001b[0m\u001b[37m━\u001b[0m \u001b[1m0s\u001b[0m 57ms/step - auc: 0.5660 - cat_accuracy: 0.4314 - loss: 1.8836 - precision: 0.4392 - recall: 0.4139\n",
      "Epoch 2: val_loss improved from 3.18919 to 2.24485, saving model to ../logs/cv_patient_resnet_multi_5fold_1_20250122-222520/weights.weights.h5\n",
      "\u001b[1m46/46\u001b[0m \u001b[32m━━━━━━━━━━━━━━━━━━━━\u001b[0m\u001b[37m\u001b[0m \u001b[1m4s\u001b[0m 78ms/step - auc: 0.5732 - cat_accuracy: 0.4371 - loss: 1.8566 - precision: 0.4452 - recall: 0.4194 - val_auc: 0.4931 - val_cat_accuracy: 0.2958 - val_loss: 2.2449 - val_precision: 0.2969 - val_recall: 0.2676 - learning_rate: 1.0000e-04\n",
      "\u001b[1m5/5\u001b[0m \u001b[32m━━━━━━━━━━━━━━━━━━━━\u001b[0m\u001b[37m\u001b[0m \u001b[1m0s\u001b[0m 63ms/step - auc: 0.4643 - cat_accuracy: 0.2840 - loss: 2.1860 - precision: 0.2972 - recall: 0.2734\n",
      "Epoch 1/2\n",
      "\u001b[1m46/46\u001b[0m \u001b[32m━━━━━━━━━━━━━━━━━━━━\u001b[0m\u001b[37m\u001b[0m \u001b[1m0s\u001b[0m 114ms/step - auc: 0.6688 - cat_accuracy: 0.4779 - loss: 1.2139 - precision: 0.5233 - recall: 0.3926\n",
      "Epoch 1: val_loss improved from inf to 3.35063, saving model to ../logs/cv_patient_resnet_multi_5fold_2_20250122-222545/weights.weights.h5\n",
      "\u001b[1m46/46\u001b[0m \u001b[32m━━━━━━━━━━━━━━━━━━━━\u001b[0m\u001b[37m\u001b[0m \u001b[1m18s\u001b[0m 234ms/step - auc: 0.6699 - cat_accuracy: 0.4793 - loss: 1.2166 - precision: 0.5246 - recall: 0.3947 - val_auc: 0.3999 - val_cat_accuracy: 0.2676 - val_loss: 3.3506 - val_precision: 0.2714 - val_recall: 0.2676 - learning_rate: 1.0000e-04\n",
      "Epoch 2/2\n",
      "\u001b[1m45/46\u001b[0m \u001b[32m━━━━━━━━━━━━━━━━━━━\u001b[0m\u001b[37m━\u001b[0m \u001b[1m0s\u001b[0m 56ms/step - auc: 0.5724 - cat_accuracy: 0.4196 - loss: 1.8842 - precision: 0.4333 - recall: 0.4079\n",
      "Epoch 2: val_loss improved from 3.35063 to 2.25480, saving model to ../logs/cv_patient_resnet_multi_5fold_2_20250122-222545/weights.weights.h5\n",
      "\u001b[1m46/46\u001b[0m \u001b[32m━━━━━━━━━━━━━━━━━━━━\u001b[0m\u001b[37m\u001b[0m \u001b[1m3s\u001b[0m 75ms/step - auc: 0.5791 - cat_accuracy: 0.4249 - loss: 1.8584 - precision: 0.4388 - recall: 0.4129 - val_auc: 0.4710 - val_cat_accuracy: 0.3099 - val_loss: 2.2548 - val_precision: 0.3333 - val_recall: 0.2958 - learning_rate: 1.0000e-04\n",
      "\u001b[1m5/5\u001b[0m \u001b[32m━━━━━━━━━━━━━━━━━━━━\u001b[0m\u001b[37m\u001b[0m \u001b[1m0s\u001b[0m 62ms/step - auc: 0.6264 - cat_accuracy: 0.4079 - loss: 1.8009 - precision: 0.4134 - recall: 0.3994\n",
      "Epoch 1/2\n",
      "\u001b[1m47/47\u001b[0m \u001b[32m━━━━━━━━━━━━━━━━━━━━\u001b[0m\u001b[37m\u001b[0m \u001b[1m0s\u001b[0m 104ms/step - auc: 0.6415 - cat_accuracy: 0.4781 - loss: 1.2527 - precision: 0.5049 - recall: 0.3769\n",
      "Epoch 1: val_loss improved from inf to 3.68850, saving model to ../logs/cv_patient_resnet_multi_5fold_3_20250122-222608/weights.weights.h5\n",
      "\u001b[1m47/47\u001b[0m \u001b[32m━━━━━━━━━━━━━━━━━━━━\u001b[0m\u001b[37m\u001b[0m \u001b[1m18s\u001b[0m 221ms/step - auc: 0.6432 - cat_accuracy: 0.4796 - loss: 1.2542 - precision: 0.5065 - recall: 0.3793 - val_auc: 0.3621 - val_cat_accuracy: 0.2466 - val_loss: 3.6885 - val_precision: 0.2500 - val_recall: 0.2466 - learning_rate: 1.0000e-04\n",
      "Epoch 2/2\n",
      "\u001b[1m46/47\u001b[0m \u001b[32m━━━━━━━━━━━━━━━━━━━\u001b[0m\u001b[37m━\u001b[0m \u001b[1m0s\u001b[0m 57ms/step - auc: 0.5713 - cat_accuracy: 0.4184 - loss: 1.9010 - precision: 0.4302 - recall: 0.4050\n",
      "Epoch 2: val_loss improved from 3.68850 to 2.35241, saving model to ../logs/cv_patient_resnet_multi_5fold_3_20250122-222608/weights.weights.h5\n",
      "\u001b[1m47/47\u001b[0m \u001b[32m━━━━━━━━━━━━━━━━━━━━\u001b[0m\u001b[37m\u001b[0m \u001b[1m4s\u001b[0m 90ms/step - auc: 0.5779 - cat_accuracy: 0.4239 - loss: 1.8745 - precision: 0.4361 - recall: 0.4102 - val_auc: 0.4583 - val_cat_accuracy: 0.2466 - val_loss: 2.3524 - val_precision: 0.2500 - val_recall: 0.2329 - learning_rate: 1.0000e-04\n",
      "\u001b[1m5/5\u001b[0m \u001b[32m━━━━━━━━━━━━━━━━━━━━\u001b[0m\u001b[37m\u001b[0m \u001b[1m2s\u001b[0m 457ms/step - auc: 0.5039 - cat_accuracy: 0.2735 - loss: 2.0923 - precision: 0.2751 - recall: 0.2534\n",
      "Epoch 1/2\n",
      "\u001b[1m47/47\u001b[0m \u001b[32m━━━━━━━━━━━━━━━━━━━━\u001b[0m\u001b[37m\u001b[0m \u001b[1m0s\u001b[0m 104ms/step - auc: 0.6976 - cat_accuracy: 0.5191 - loss: 1.1727 - precision: 0.5662 - recall: 0.4212\n",
      "Epoch 1: val_loss improved from inf to 3.96014, saving model to ../logs/cv_patient_resnet_multi_5fold_4_20250122-222634/weights.weights.h5\n",
      "\u001b[1m47/47\u001b[0m \u001b[32m━━━━━━━━━━━━━━━━━━━━\u001b[0m\u001b[37m\u001b[0m \u001b[1m18s\u001b[0m 219ms/step - auc: 0.6980 - cat_accuracy: 0.5199 - loss: 1.1766 - precision: 0.5667 - recall: 0.4227 - val_auc: 0.3274 - val_cat_accuracy: 0.1918 - val_loss: 3.9601 - val_precision: 0.1944 - val_recall: 0.1918 - learning_rate: 1.0000e-04\n",
      "Epoch 2/2\n",
      "\u001b[1m46/47\u001b[0m \u001b[32m━━━━━━━━━━━━━━━━━━━\u001b[0m\u001b[37m━\u001b[0m \u001b[1m0s\u001b[0m 56ms/step - auc: 0.5592 - cat_accuracy: 0.4324 - loss: 2.1643 - precision: 0.4401 - recall: 0.4181\n",
      "Epoch 2: val_loss improved from 3.96014 to 2.52583, saving model to ../logs/cv_patient_resnet_multi_5fold_4_20250122-222634/weights.weights.h5\n",
      "\u001b[1m47/47\u001b[0m \u001b[32m━━━━━━━━━━━━━━━━━━━━\u001b[0m\u001b[37m\u001b[0m \u001b[1m4s\u001b[0m 91ms/step - auc: 0.5655 - cat_accuracy: 0.4377 - loss: 2.1330 - precision: 0.4457 - recall: 0.4230 - val_auc: 0.3640 - val_cat_accuracy: 0.1918 - val_loss: 2.5258 - val_precision: 0.1884 - val_recall: 0.1781 - learning_rate: 1.0000e-04\n",
      "\u001b[1m5/5\u001b[0m \u001b[32m━━━━━━━━━━━━━━━━━━━━\u001b[0m\u001b[37m\u001b[0m \u001b[1m2s\u001b[0m 413ms/step - auc: 0.4099 - cat_accuracy: 0.2832 - loss: 1.9403 - precision: 0.2900 - recall: 0.2485\n"
     ]
    }
   ],
   "source": [
    "split = dp.patient_wise_split_x_fold(df_togas,df_ipo,patient_ids,n_folds=num_folds,internal_train_size=0.9,target_variable='eggim_square',random_state=42)\n",
    "i = 0\n",
    "for fold, (df_train, df_val, df_test) in enumerate(split):\n",
    "    tf_train_df = get_tf_eggim_patch_dataset(df_train,num_classes=3,\n",
    "                                             augmentation_fn=basic_augmentation,\n",
    "                                             preprocess_fn=tf.keras.applications.resnet.preprocess_input)\n",
    "    tf_val_df = get_tf_eggim_patch_dataset(df_val,\n",
    "                                           num_classes=3,\n",
    "                                           preprocess_fn=tf.keras.applications.resnet.preprocess_input)\n",
    "    tf_test_df = get_tf_eggim_patch_dataset(df_test,\n",
    "                                            num_classes=3,\n",
    "                                            preprocess_fn=tf.keras.applications.resnet.preprocess_input)\n",
    "    y_train = df_train['eggim_square']\n",
    "    class_counts = np.bincount(y_train)\n",
    "    class_weights_manual = {i: len(y_train) / (len(class_counts) * class_counts[i]) for i in\n",
    "                                range(len(class_counts))}\n",
    "    weights = tf.constant(list(class_weights_manual.values()), dtype=tf.float32)\n",
    "\n",
    "    tf_train_df = tf_train_df.batch(batch_size)\n",
    "    tf_val_df = tf_val_df.batch(batch_size)\n",
    "    tf_test_df = tf_test_df.batch(batch_size)\n",
    "\n",
    "    n_classes = 3  # Replace with the number of classes you have\n",
    "    model = base_resnet50(input_shape=(224, 224, 3), n_classes=n_classes)\n",
    "        # Compile the model with Adam optimizer 13:21\n",
    "    model.compile(optimizer=tf.keras.optimizers.Adam(learning_rate=learning_rate),\n",
    "                      loss=weighted_categorical_crossentropy(weights),\n",
    "                      metrics=[CategoricalAccuracy(name='cat_accuracy'), Precision(name='precision'),\n",
    "                               Recall(name='recall'),\n",
    "                               AUC(name='auc')])\n",
    "\n",
    "    name_fold = name + f'fold_{fold}'\n",
    "    checkpoint_dir, callbacks = get_standard_callbacks(name_fold, learning_rate)\n",
    "    model.fit(tf_train_df,\n",
    "                  validation_data=tf_val_df,\n",
    "                  epochs=num_epochs,\n",
    "                  callbacks=callbacks)\n",
    "    model.load_weights(f'{checkpoint_dir}/weights.weights.h5')\n",
    "    model.evaluate(tf_test_df)\n",
    "       "
   ]
  },
  {
   "cell_type": "code",
   "execution_count": 8,
   "metadata": {},
   "outputs": [
    {
     "name": "stderr",
     "output_type": "stream",
     "text": [
      "/home/goda/Desktop/tese/venv_3.10.12/lib/python3.10/site-packages/sklearn/model_selection/_split.py:805: UserWarning: The least populated class in y has only 1 members, which is less than n_splits=5.\n",
      "  warnings.warn(\n",
      "/home/goda/Desktop/tese/venv_3.10.12/lib/python3.10/site-packages/keras/src/saving/saving_lib.py:757: UserWarning: Skipping variable loading for optimizer 'adam', because it has 2 variables whereas the saved optimizer has 10 variables. \n",
      "  saveable.load_own_variables(weights_store.get(inner_path))\n",
      "2025-01-22 22:41:18.272266: I tensorflow/core/framework/local_rendezvous.cc:405] Local rendezvous is aborting with status: OUT_OF_RANGE: End of sequence\n"
     ]
    },
    {
     "name": "stdout",
     "output_type": "stream",
     "text": [
      "\u001b[1m1/1\u001b[0m \u001b[32m━━━━━━━━━━━━━━━━━━━━\u001b[0m\u001b[37m\u001b[0m \u001b[1m3s\u001b[0m 3s/step\n",
      "\u001b[1m1/1\u001b[0m \u001b[32m━━━━━━━━━━━━━━━━━━━━\u001b[0m\u001b[37m\u001b[0m \u001b[1m0s\u001b[0m 73ms/step\n"
     ]
    },
    {
     "name": "stderr",
     "output_type": "stream",
     "text": [
      "2025-01-22 22:41:21.040931: I tensorflow/core/framework/local_rendezvous.cc:405] Local rendezvous is aborting with status: OUT_OF_RANGE: End of sequence\n"
     ]
    },
    {
     "name": "stdout",
     "output_type": "stream",
     "text": [
      "\u001b[1m1/1\u001b[0m \u001b[32m━━━━━━━━━━━━━━━━━━━━\u001b[0m\u001b[37m\u001b[0m \u001b[1m0s\u001b[0m 74ms/step\n"
     ]
    },
    {
     "name": "stderr",
     "output_type": "stream",
     "text": [
      "2025-01-22 22:41:21.399941: I tensorflow/core/framework/local_rendezvous.cc:405] Local rendezvous is aborting with status: OUT_OF_RANGE: End of sequence\n",
      "2025-01-22 22:41:23.499335: I external/local_xla/xla/stream_executor/cuda/cuda_asm_compiler.cc:397] ptxas warning : Registers are spilled to local memory in function 'gemm_fusion_dot_1681_0', 8 bytes spill stores, 8 bytes spill loads\n",
      "\n",
      "2025-01-22 22:41:24.278392: I external/local_xla/xla/stream_executor/cuda/cuda_asm_compiler.cc:397] ptxas warning : Registers are spilled to local memory in function 'gemm_fusion_dot_1688', 4 bytes spill stores, 4 bytes spill loads\n",
      "\n",
      "2025-01-22 22:41:24.293579: I external/local_xla/xla/stream_executor/cuda/cuda_asm_compiler.cc:397] ptxas warning : Registers are spilled to local memory in function 'gemm_fusion_dot_1688', 44 bytes spill stores, 44 bytes spill loads\n",
      "\n"
     ]
    },
    {
     "name": "stdout",
     "output_type": "stream",
     "text": [
      "\u001b[1m1/1\u001b[0m \u001b[32m━━━━━━━━━━━━━━━━━━━━\u001b[0m\u001b[37m\u001b[0m \u001b[1m5s\u001b[0m 5s/step\n",
      "\u001b[1m1/1\u001b[0m \u001b[32m━━━━━━━━━━━━━━━━━━━━\u001b[0m\u001b[37m\u001b[0m \u001b[1m0s\u001b[0m 67ms/step\n",
      "\u001b[1m1/1\u001b[0m \u001b[32m━━━━━━━━━━━━━━━━━━━━\u001b[0m\u001b[37m\u001b[0m \u001b[1m0s\u001b[0m 69ms/step\n",
      "\u001b[1m1/1\u001b[0m \u001b[32m━━━━━━━━━━━━━━━━━━━━\u001b[0m\u001b[37m\u001b[0m \u001b[1m0s\u001b[0m 66ms/step\n",
      "\u001b[1m1/1\u001b[0m \u001b[32m━━━━━━━━━━━━━━━━━━━━\u001b[0m\u001b[37m\u001b[0m \u001b[1m0s\u001b[0m 69ms/step\n"
     ]
    },
    {
     "name": "stderr",
     "output_type": "stream",
     "text": [
      "2025-01-22 22:41:26.798783: I tensorflow/core/framework/local_rendezvous.cc:405] Local rendezvous is aborting with status: OUT_OF_RANGE: End of sequence\n"
     ]
    },
    {
     "name": "stdout",
     "output_type": "stream",
     "text": [
      "\u001b[1m1/1\u001b[0m \u001b[32m━━━━━━━━━━━━━━━━━━━━\u001b[0m\u001b[37m\u001b[0m \u001b[1m0s\u001b[0m 70ms/step\n",
      "\u001b[1m1/1\u001b[0m \u001b[32m━━━━━━━━━━━━━━━━━━━━\u001b[0m\u001b[37m\u001b[0m \u001b[1m0s\u001b[0m 66ms/step\n",
      "\u001b[1m1/1\u001b[0m \u001b[32m━━━━━━━━━━━━━━━━━━━━\u001b[0m\u001b[37m\u001b[0m \u001b[1m0s\u001b[0m 68ms/step\n",
      "\u001b[1m1/1\u001b[0m \u001b[32m━━━━━━━━━━━━━━━━━━━━\u001b[0m\u001b[37m\u001b[0m \u001b[1m0s\u001b[0m 64ms/step\n",
      "\u001b[1m1/1\u001b[0m \u001b[32m━━━━━━━━━━━━━━━━━━━━\u001b[0m\u001b[37m\u001b[0m \u001b[1m0s\u001b[0m 69ms/step\n"
     ]
    },
    {
     "name": "stderr",
     "output_type": "stream",
     "text": [
      "/home/goda/Desktop/tese/venv_3.10.12/lib/python3.10/site-packages/keras/src/saving/saving_lib.py:757: UserWarning: Skipping variable loading for optimizer 'adam', because it has 2 variables whereas the saved optimizer has 10 variables. \n",
      "  saveable.load_own_variables(weights_store.get(inner_path))\n"
     ]
    },
    {
     "name": "stdout",
     "output_type": "stream",
     "text": [
      "\u001b[1m1/1\u001b[0m \u001b[32m━━━━━━━━━━━━━━━━━━━━\u001b[0m\u001b[37m\u001b[0m \u001b[1m2s\u001b[0m 2s/step\n",
      "\u001b[1m1/1\u001b[0m \u001b[32m━━━━━━━━━━━━━━━━━━━━\u001b[0m\u001b[37m\u001b[0m \u001b[1m0s\u001b[0m 69ms/step\n"
     ]
    },
    {
     "name": "stderr",
     "output_type": "stream",
     "text": [
      "2025-01-22 22:41:31.713592: I tensorflow/core/framework/local_rendezvous.cc:405] Local rendezvous is aborting with status: OUT_OF_RANGE: End of sequence\n"
     ]
    },
    {
     "name": "stdout",
     "output_type": "stream",
     "text": [
      "\u001b[1m1/1\u001b[0m \u001b[32m━━━━━━━━━━━━━━━━━━━━\u001b[0m\u001b[37m\u001b[0m \u001b[1m2s\u001b[0m 2s/step\n",
      "\u001b[1m1/1\u001b[0m \u001b[32m━━━━━━━━━━━━━━━━━━━━\u001b[0m\u001b[37m\u001b[0m \u001b[1m0s\u001b[0m 66ms/step\n",
      "\u001b[1m1/1\u001b[0m \u001b[32m━━━━━━━━━━━━━━━━━━━━\u001b[0m\u001b[37m\u001b[0m \u001b[1m0s\u001b[0m 64ms/step\n",
      "\u001b[1m1/1\u001b[0m \u001b[32m━━━━━━━━━━━━━━━━━━━━\u001b[0m\u001b[37m\u001b[0m \u001b[1m0s\u001b[0m 66ms/step\n",
      "\u001b[1m1/1\u001b[0m \u001b[32m━━━━━━━━━━━━━━━━━━━━\u001b[0m\u001b[37m\u001b[0m \u001b[1m0s\u001b[0m 67ms/step\n",
      "\u001b[1m1/1\u001b[0m \u001b[32m━━━━━━━━━━━━━━━━━━━━\u001b[0m\u001b[37m\u001b[0m \u001b[1m0s\u001b[0m 66ms/step\n",
      "\u001b[1m1/1\u001b[0m \u001b[32m━━━━━━━━━━━━━━━━━━━━\u001b[0m\u001b[37m\u001b[0m \u001b[1m0s\u001b[0m 66ms/step\n",
      "\u001b[1m1/1\u001b[0m \u001b[32m━━━━━━━━━━━━━━━━━━━━\u001b[0m\u001b[37m\u001b[0m \u001b[1m0s\u001b[0m 66ms/step\n",
      "\u001b[1m1/1\u001b[0m \u001b[32m━━━━━━━━━━━━━━━━━━━━\u001b[0m\u001b[37m\u001b[0m \u001b[1m0s\u001b[0m 67ms/step\n",
      "\u001b[1m1/1\u001b[0m \u001b[32m━━━━━━━━━━━━━━━━━━━━\u001b[0m\u001b[37m\u001b[0m \u001b[1m0s\u001b[0m 65ms/step\n",
      "\u001b[1m1/1\u001b[0m \u001b[32m━━━━━━━━━━━━━━━━━━━━\u001b[0m\u001b[37m\u001b[0m \u001b[1m0s\u001b[0m 65ms/step\n"
     ]
    },
    {
     "name": "stderr",
     "output_type": "stream",
     "text": [
      "/home/goda/Desktop/tese/venv_3.10.12/lib/python3.10/site-packages/keras/src/saving/saving_lib.py:757: UserWarning: Skipping variable loading for optimizer 'adam', because it has 2 variables whereas the saved optimizer has 10 variables. \n",
      "  saveable.load_own_variables(weights_store.get(inner_path))\n"
     ]
    },
    {
     "name": "stdout",
     "output_type": "stream",
     "text": [
      "\u001b[1m1/1\u001b[0m \u001b[32m━━━━━━━━━━━━━━━━━━━━\u001b[0m\u001b[37m\u001b[0m \u001b[1m2s\u001b[0m 2s/step\n",
      "\u001b[1m1/1\u001b[0m \u001b[32m━━━━━━━━━━━━━━━━━━━━\u001b[0m\u001b[37m\u001b[0m \u001b[1m0s\u001b[0m 67ms/step\n",
      "\u001b[1m1/1\u001b[0m \u001b[32m━━━━━━━━━━━━━━━━━━━━\u001b[0m\u001b[37m\u001b[0m \u001b[1m0s\u001b[0m 68ms/step\n",
      "\u001b[1m1/1\u001b[0m \u001b[32m━━━━━━━━━━━━━━━━━━━━\u001b[0m\u001b[37m\u001b[0m \u001b[1m0s\u001b[0m 64ms/step\n",
      "\u001b[1m1/1\u001b[0m \u001b[32m━━━━━━━━━━━━━━━━━━━━\u001b[0m\u001b[37m\u001b[0m \u001b[1m0s\u001b[0m 66ms/step\n"
     ]
    },
    {
     "name": "stderr",
     "output_type": "stream",
     "text": [
      "2025-01-22 22:41:40.245801: I tensorflow/core/framework/local_rendezvous.cc:405] Local rendezvous is aborting with status: OUT_OF_RANGE: End of sequence\n"
     ]
    },
    {
     "name": "stdout",
     "output_type": "stream",
     "text": [
      "\u001b[1m1/1\u001b[0m \u001b[32m━━━━━━━━━━━━━━━━━━━━\u001b[0m\u001b[37m\u001b[0m \u001b[1m2s\u001b[0m 2s/step\n",
      "\u001b[1m1/1\u001b[0m \u001b[32m━━━━━━━━━━━━━━━━━━━━\u001b[0m\u001b[37m\u001b[0m \u001b[1m0s\u001b[0m 68ms/step\n",
      "\u001b[1m1/1\u001b[0m \u001b[32m━━━━━━━━━━━━━━━━━━━━\u001b[0m\u001b[37m\u001b[0m \u001b[1m0s\u001b[0m 66ms/step\n",
      "\u001b[1m1/1\u001b[0m \u001b[32m━━━━━━━━━━━━━━━━━━━━\u001b[0m\u001b[37m\u001b[0m \u001b[1m0s\u001b[0m 70ms/step\n",
      "\u001b[1m1/1\u001b[0m \u001b[32m━━━━━━━━━━━━━━━━━━━━\u001b[0m\u001b[37m\u001b[0m \u001b[1m0s\u001b[0m 65ms/step\n",
      "\u001b[1m1/1\u001b[0m \u001b[32m━━━━━━━━━━━━━━━━━━━━\u001b[0m\u001b[37m\u001b[0m \u001b[1m0s\u001b[0m 67ms/step\n",
      "\u001b[1m1/1\u001b[0m \u001b[32m━━━━━━━━━━━━━━━━━━━━\u001b[0m\u001b[37m\u001b[0m \u001b[1m0s\u001b[0m 63ms/step\n",
      "\u001b[1m1/1\u001b[0m \u001b[32m━━━━━━━━━━━━━━━━━━━━\u001b[0m\u001b[37m\u001b[0m \u001b[1m0s\u001b[0m 64ms/step\n"
     ]
    },
    {
     "name": "stderr",
     "output_type": "stream",
     "text": [
      "/home/goda/Desktop/tese/venv_3.10.12/lib/python3.10/site-packages/keras/src/saving/saving_lib.py:757: UserWarning: Skipping variable loading for optimizer 'adam', because it has 2 variables whereas the saved optimizer has 10 variables. \n",
      "  saveable.load_own_variables(weights_store.get(inner_path))\n"
     ]
    },
    {
     "name": "stdout",
     "output_type": "stream",
     "text": [
      "\u001b[1m1/1\u001b[0m \u001b[32m━━━━━━━━━━━━━━━━━━━━\u001b[0m\u001b[37m\u001b[0m \u001b[1m2s\u001b[0m 2s/step\n"
     ]
    },
    {
     "name": "stderr",
     "output_type": "stream",
     "text": [
      "2025-01-22 22:41:49.965858: I external/local_xla/xla/stream_executor/cuda/cuda_asm_compiler.cc:397] ptxas warning : Registers are spilled to local memory in function 'gemm_fusion_dot_1681_0', 8 bytes spill stores, 8 bytes spill loads\n",
      "\n",
      "2025-01-22 22:41:50.388751: I external/local_xla/xla/stream_executor/cuda/cuda_asm_compiler.cc:397] ptxas warning : Registers are spilled to local memory in function 'gemm_fusion_dot_1688', 4 bytes spill stores, 4 bytes spill loads\n",
      "\n",
      "2025-01-22 22:41:50.403949: I external/local_xla/xla/stream_executor/cuda/cuda_asm_compiler.cc:397] ptxas warning : Registers are spilled to local memory in function 'gemm_fusion_dot_1688', 72 bytes spill stores, 72 bytes spill loads\n",
      "\n"
     ]
    },
    {
     "name": "stdout",
     "output_type": "stream",
     "text": [
      "\u001b[1m1/1\u001b[0m \u001b[32m━━━━━━━━━━━━━━━━━━━━\u001b[0m\u001b[37m\u001b[0m \u001b[1m5s\u001b[0m 5s/step\n",
      "\u001b[1m1/1\u001b[0m \u001b[32m━━━━━━━━━━━━━━━━━━━━\u001b[0m\u001b[37m\u001b[0m \u001b[1m0s\u001b[0m 71ms/step\n",
      "\u001b[1m1/1\u001b[0m \u001b[32m━━━━━━━━━━━━━━━━━━━━\u001b[0m\u001b[37m\u001b[0m \u001b[1m1s\u001b[0m 1s/step\n",
      "\u001b[1m1/1\u001b[0m \u001b[32m━━━━━━━━━━━━━━━━━━━━\u001b[0m\u001b[37m\u001b[0m \u001b[1m0s\u001b[0m 66ms/step\n",
      "\u001b[1m1/1\u001b[0m \u001b[32m━━━━━━━━━━━━━━━━━━━━\u001b[0m\u001b[37m\u001b[0m \u001b[1m0s\u001b[0m 67ms/step\n",
      "\u001b[1m1/1\u001b[0m \u001b[32m━━━━━━━━━━━━━━━━━━━━\u001b[0m\u001b[37m\u001b[0m \u001b[1m0s\u001b[0m 67ms/step\n",
      "\u001b[1m1/1\u001b[0m \u001b[32m━━━━━━━━━━━━━━━━━━━━\u001b[0m\u001b[37m\u001b[0m \u001b[1m0s\u001b[0m 65ms/step\n",
      "\u001b[1m1/1\u001b[0m \u001b[32m━━━━━━━━━━━━━━━━━━━━\u001b[0m\u001b[37m\u001b[0m \u001b[1m0s\u001b[0m 69ms/step\n",
      "\u001b[1m1/1\u001b[0m \u001b[32m━━━━━━━━━━━━━━━━━━━━\u001b[0m\u001b[37m\u001b[0m \u001b[1m0s\u001b[0m 67ms/step\n",
      "\u001b[1m1/1\u001b[0m \u001b[32m━━━━━━━━━━━━━━━━━━━━\u001b[0m\u001b[37m\u001b[0m \u001b[1m0s\u001b[0m 66ms/step\n",
      "\u001b[1m1/1\u001b[0m \u001b[32m━━━━━━━━━━━━━━━━━━━━\u001b[0m\u001b[37m\u001b[0m \u001b[1m0s\u001b[0m 66ms/step\n",
      "\u001b[1m1/1\u001b[0m \u001b[32m━━━━━━━━━━━━━━━━━━━━\u001b[0m\u001b[37m\u001b[0m \u001b[1m0s\u001b[0m 64ms/step\n"
     ]
    },
    {
     "name": "stderr",
     "output_type": "stream",
     "text": [
      "/home/goda/Desktop/tese/venv_3.10.12/lib/python3.10/site-packages/keras/src/saving/saving_lib.py:757: UserWarning: Skipping variable loading for optimizer 'adam', because it has 2 variables whereas the saved optimizer has 10 variables. \n",
      "  saveable.load_own_variables(weights_store.get(inner_path))\n"
     ]
    },
    {
     "name": "stdout",
     "output_type": "stream",
     "text": [
      "\u001b[1m1/1\u001b[0m \u001b[32m━━━━━━━━━━━━━━━━━━━━\u001b[0m\u001b[37m\u001b[0m \u001b[1m2s\u001b[0m 2s/step\n",
      "\u001b[1m1/1\u001b[0m \u001b[32m━━━━━━━━━━━━━━━━━━━━\u001b[0m\u001b[37m\u001b[0m \u001b[1m0s\u001b[0m 66ms/step\n",
      "\u001b[1m1/1\u001b[0m \u001b[32m━━━━━━━━━━━━━━━━━━━━\u001b[0m\u001b[37m\u001b[0m \u001b[1m3s\u001b[0m 3s/step\n",
      "\u001b[1m1/1\u001b[0m \u001b[32m━━━━━━━━━━━━━━━━━━━━\u001b[0m\u001b[37m\u001b[0m \u001b[1m0s\u001b[0m 76ms/step\n",
      "\u001b[1m1/1\u001b[0m \u001b[32m━━━━━━━━━━━━━━━━━━━━\u001b[0m\u001b[37m\u001b[0m \u001b[1m0s\u001b[0m 71ms/step\n",
      "\u001b[1m1/1\u001b[0m \u001b[32m━━━━━━━━━━━━━━━━━━━━\u001b[0m\u001b[37m\u001b[0m \u001b[1m1s\u001b[0m 1s/step\n",
      "\u001b[1m1/1\u001b[0m \u001b[32m━━━━━━━━━━━━━━━━━━━━\u001b[0m\u001b[37m\u001b[0m \u001b[1m0s\u001b[0m 69ms/step\n",
      "\u001b[1m1/1\u001b[0m \u001b[32m━━━━━━━━━━━━━━━━━━━━\u001b[0m\u001b[37m\u001b[0m \u001b[1m0s\u001b[0m 67ms/step\n",
      "\u001b[1m1/1\u001b[0m \u001b[32m━━━━━━━━━━━━━━━━━━━━\u001b[0m\u001b[37m\u001b[0m \u001b[1m0s\u001b[0m 67ms/step\n",
      "\u001b[1m1/1\u001b[0m \u001b[32m━━━━━━━━━━━━━━━━━━━━\u001b[0m\u001b[37m\u001b[0m \u001b[1m0s\u001b[0m 67ms/step\n",
      "\u001b[1m1/1\u001b[0m \u001b[32m━━━━━━━━━━━━━━━━━━━━\u001b[0m\u001b[37m\u001b[0m \u001b[1m0s\u001b[0m 69ms/step\n",
      "\u001b[1m1/1\u001b[0m \u001b[32m━━━━━━━━━━━━━━━━━━━━\u001b[0m\u001b[37m\u001b[0m \u001b[1m0s\u001b[0m 72ms/step\n"
     ]
    },
    {
     "name": "stderr",
     "output_type": "stream",
     "text": [
      "2025-01-22 22:42:04.837064: I tensorflow/core/framework/local_rendezvous.cc:405] Local rendezvous is aborting with status: OUT_OF_RANGE: End of sequence\n"
     ]
    },
    {
     "name": "stdout",
     "output_type": "stream",
     "text": [
      "\u001b[1m1/1\u001b[0m \u001b[32m━━━━━━━━━━━━━━━━━━━━\u001b[0m\u001b[37m\u001b[0m \u001b[1m0s\u001b[0m 72ms/step\n"
     ]
    },
    {
     "data": {
      "text/plain": [
       "''"
      ]
     },
     "execution_count": 8,
     "metadata": {},
     "output_type": "execute_result"
    }
   ],
   "source": [
    "model_weights_directory = '../logs/'\n",
    "model_fold_dir = sorted(os.listdir(model_weights_directory))\n",
    "\n",
    "split = dp.patient_wise_split_x_fold(df_togas,df_ipo,patient_ids,n_folds=num_folds,internal_train_size=0.9,target_variable='eggim_square',random_state=42)\n",
    "eggim_values = []\n",
    "\n",
    "for fold, (df_train, df_val, df_test) in enumerate(split):\n",
    "    patients = df_test['patient_id'].unique()\n",
    "\n",
    "    n_classes = 3  # Replace with the number of classes you have\n",
    "    model = base_resnet50(input_shape=(224, 224, 3), n_classes=n_classes)\n",
    "    # Compile the model with Adam optimizer 13:21\n",
    "    model.compile(optimizer=tf.keras.optimizers.Adam(learning_rate=learning_rate),\n",
    "                  metrics=[CategoricalAccuracy(name='cat_accuracy'), Precision(name='precision'),\n",
    "                           Recall(name='recall'),\n",
    "                           AUC(name='auc')])\n",
    "\n",
    "\n",
    "    model.load_weights('../logs/' + model_fold_dir[fold] + '/weights.weights.h5')\n",
    "    \n",
    "    for patient in patients:\n",
    "        df_patient = df_togas[df_togas['patient_id'] == patient]\n",
    "        df_patient = df_patient[~df_patient['landmark'].duplicated(keep='first')]\n",
    "        landmarks = df_patient['landmark'].to_list()\n",
    "        tf_df_patient = get_tf_eggim_patch_dataset(df_patient,\n",
    "                                            num_classes=3,\n",
    "                                            preprocess_fn=tf.keras.applications.resnet.preprocess_input) \n",
    "        tf_df_patient = tf_df_patient.batch(batch_size)\n",
    "\n",
    "        y_true = np.concatenate([y for (_, y) in tf_df_patient])\n",
    "        y_pred = model.predict(tf_df_patient)\n",
    "        y_true_ordinal = np.argmax(y_true, axis=-1) # [0 0 1] -> 2\n",
    "        y_pred_ordinal = np.argmax(y_pred, axis=-1)\n",
    "\n",
    "        eggim_true = 0\n",
    "        eggim_pred = 0\n",
    "\n",
    "        first_group = 0\n",
    "        first_group_value_true = 0\n",
    "        first_group_value_pred = 0\n",
    "\n",
    "        last_group = 0\n",
    "        last_group_value_true = 0\n",
    "        last_group_value_pred = 0\n",
    "\n",
    "        for i in range(len(landmarks)):\n",
    "            if landmarks[i][:2] == 'vi' :\n",
    "                eggim_true += y_true_ordinal[i]\n",
    "                eggim_pred += y_pred_ordinal[i]\n",
    "            elif landmarks[i][:2] == 'ix' or landmarks[i][:2] == 'x.':\n",
    "                if first_group == 0:\n",
    "                    first_group = 1\n",
    "                    first_group_value_true = y_true_ordinal[i]\n",
    "                    first_group_value_pred = y_pred_ordinal[i]\n",
    "                else:\n",
    "                    first_group_value_true = (first_group_value_true + y_true_ordinal[i]) /2\n",
    "                    first_group_value_pred = (first_group_value_pred + y_pred_ordinal[i]) /2\n",
    "            else:\n",
    "                if last_group == 0:\n",
    "                    last_group = 1\n",
    "                    last_group_value_true = y_true_ordinal[i]\n",
    "                    last_group_value_pred = y_pred_ordinal[i]\n",
    "                else:\n",
    "                    last_group_value_true = (last_group_value_true + y_true_ordinal[i]) /2 \n",
    "                    last_group_value_pred = (last_group_value_pred + y_pred_ordinal[i]) /2\n",
    "\n",
    "        eggim_true += first_group_value_true\n",
    "        eggim_pred += first_group_value_pred\n",
    "        eggim_true += last_group_value_true\n",
    "        eggim_pred += last_group_value_pred\n",
    "\n",
    "        eggim_values.append([patient,eggim_true,eggim_pred]) \n",
    "    \n",
    ";"
   ]
  },
  {
   "cell_type": "code",
   "execution_count": 9,
   "metadata": {},
   "outputs": [
    {
     "data": {
      "text/plain": [
       "[['PT004', 1.0, 9.0],\n",
       " ['PT005', 3.0, 9.0],\n",
       " ['PT006', 2.0, 9.0],\n",
       " ['PT011', 5.0, 10.0],\n",
       " ['PT013', 1.0, 6.5],\n",
       " ['PT015', 0.0, 10.0],\n",
       " ['PT016', 0.0, 10.0],\n",
       " ['PT020', 2.0, 9.5],\n",
       " ['PT023', 1.5, 8.0],\n",
       " ['PT024', 7.0, 10.0],\n",
       " ['PT030', 0.5, 8.0],\n",
       " ['PT032', 4.0, 9.5],\n",
       " ['PT037', 1.0, 10.0],\n",
       " ['PT021', 8.0, 10.0],\n",
       " ['PT025', 3.0, 9.0],\n",
       " ['PT026', 2.0, 9.0],\n",
       " ['PT028', 5.0, 8.5],\n",
       " ['PT029', 7.0, 10.0],\n",
       " ['PT031', 0.0, 10.0],\n",
       " ['PT036', 2.5, 9.0],\n",
       " ['PT041', 1.0, 8.5],\n",
       " ['PT046', 1.0, 9.5],\n",
       " ['PT047', 0.0, 10.0],\n",
       " ['PT048', 1.0, 8.0],\n",
       " ['PT049', 1.0, 10.0],\n",
       " ['PT059', 4.5, 9.0],\n",
       " ['PT009', 9.0, 10.0],\n",
       " ['PT022', 8.0, 10.0],\n",
       " ['PT034', 3.5, 10.0],\n",
       " ['PT039', 2.5, 9.0],\n",
       " ['PT040', 6.0, 10.0],\n",
       " ['PT043', 5.5, 10.0],\n",
       " ['PT051', 0.5, 10.0],\n",
       " ['PT061', 1.0, 10.0],\n",
       " ['PT062', 4.0, 10.0],\n",
       " ['PT063', 1.0, 10.0],\n",
       " ['PT064', 1.5, 10.0],\n",
       " ['PT065', 0.0, 9.0],\n",
       " ['PT066', 1.0, 8.5],\n",
       " ['PT035', 8.5, 10.0],\n",
       " ['PT038', 3, 10],\n",
       " ['PT045', 5.0, 10.0],\n",
       " ['PT050', 3.0, 9.5],\n",
       " ['PT053', 6.0, 10.0],\n",
       " ['PT054', 2.0, 9.5],\n",
       " ['PT067', 0.0, 10.0],\n",
       " ['PT068', 1.0, 9.0],\n",
       " ['PT070', 4.0, 7.5],\n",
       " ['PT071', 0, 10],\n",
       " ['PT072', 1.5, 7.5],\n",
       " ['PT076', 1.0, 7.5],\n",
       " ['PT081', 5, 9],\n",
       " ['PT060', 8.0, 9.5],\n",
       " ['PT069', 2.0, 7.0],\n",
       " ['PT073', 0, 5],\n",
       " ['PT074', 3.0, 8.0],\n",
       " ['PT075', 4.5, 6.0],\n",
       " ['PT077', 0.0, 5.5],\n",
       " ['PT078', 1.0, 8.5],\n",
       " ['PT079', 1, 8],\n",
       " ['PT080', 1.0, 6.5],\n",
       " ['PT082', 5.0, 10.0],\n",
       " ['PT083', 0.0, 6.5],\n",
       " ['PT084', 6.0, 8.0],\n",
       " ['PT086', 2.0, 6.0]]"
      ]
     },
     "execution_count": 9,
     "metadata": {},
     "output_type": "execute_result"
    }
   ],
   "source": [
    "eggim_values"
   ]
  },
  {
   "cell_type": "code",
   "execution_count": 10,
   "metadata": {},
   "outputs": [],
   "source": [
    "y_true = []\n",
    "y_pred = []\n",
    "for values in eggim_values:\n",
    "    if values[1] < 5: y_true.append(0)\n",
    "    else: values[1] = y_true.append(1)\n",
    "    if values[2] < 5: y_pred.append(0)\n",
    "    else: values[2] = y_pred.append(1)\n"
   ]
  },
  {
   "cell_type": "code",
   "execution_count": 11,
   "metadata": {},
   "outputs": [
    {
     "data": {
      "text/html": [
       "<div>\n",
       "<style scoped>\n",
       "    .dataframe tbody tr th:only-of-type {\n",
       "        vertical-align: middle;\n",
       "    }\n",
       "\n",
       "    .dataframe tbody tr th {\n",
       "        vertical-align: top;\n",
       "    }\n",
       "\n",
       "    .dataframe thead th {\n",
       "        text-align: right;\n",
       "    }\n",
       "</style>\n",
       "<table border=\"1\" class=\"dataframe\">\n",
       "  <thead>\n",
       "    <tr style=\"text-align: right;\">\n",
       "      <th></th>\n",
       "      <th>Pred 0</th>\n",
       "      <th>Pred 1</th>\n",
       "    </tr>\n",
       "  </thead>\n",
       "  <tbody>\n",
       "    <tr>\n",
       "      <th>True 0</th>\n",
       "      <td>0</td>\n",
       "      <td>49</td>\n",
       "    </tr>\n",
       "    <tr>\n",
       "      <th>True 1</th>\n",
       "      <td>0</td>\n",
       "      <td>16</td>\n",
       "    </tr>\n",
       "  </tbody>\n",
       "</table>\n",
       "</div>"
      ],
      "text/plain": [
       "        Pred 0  Pred 1\n",
       "True 0       0      49\n",
       "True 1       0      16"
      ]
     },
     "execution_count": 11,
     "metadata": {},
     "output_type": "execute_result"
    }
   ],
   "source": [
    "cm = confusion_matrix(y_true,y_pred)\n",
    "cm_df = pd.DataFrame(cm, index=[f\"True {name}\" for name in ['0','1']],\n",
    "                     columns=[f\"Pred {name}\" for name in ['0','1']])\n",
    "\n",
    "cm_df"
   ]
  },
  {
   "cell_type": "code",
   "execution_count": 4,
   "metadata": {},
   "outputs": [],
   "source": [
    "def replace_landmark_name(landmark):\n",
    "    new_landmark_name = {'ii': 'ii',\n",
    "                    'ix': 'ix',\n",
    "                    'vi': 'vi',\n",
    "                    'vii': 'vii',\n",
    "                    'viii': 'viii',\n",
    "                    'x': 'x',\n",
    "                    'xii': 'xii'}\n",
    "    landmark_number = landmark.split('.')[0]\n",
    "    return new_landmark_name[landmark_number]"
   ]
  },
  {
   "cell_type": "code",
   "execution_count": 5,
   "metadata": {},
   "outputs": [
    {
     "data": {
      "text/html": [
       "<div>\n",
       "<style scoped>\n",
       "    .dataframe tbody tr th:only-of-type {\n",
       "        vertical-align: middle;\n",
       "    }\n",
       "\n",
       "    .dataframe tbody tr th {\n",
       "        vertical-align: top;\n",
       "    }\n",
       "\n",
       "    .dataframe thead th {\n",
       "        text-align: right;\n",
       "    }\n",
       "</style>\n",
       "<table border=\"1\" class=\"dataframe\">\n",
       "  <thead>\n",
       "    <tr style=\"text-align: right;\">\n",
       "      <th></th>\n",
       "      <th>eggim_square</th>\n",
       "      <th>landmark</th>\n",
       "      <th>patient_id</th>\n",
       "    </tr>\n",
       "  </thead>\n",
       "  <tbody>\n",
       "    <tr>\n",
       "      <th>807</th>\n",
       "      <td>1</td>\n",
       "      <td>vii</td>\n",
       "      <td>PT081</td>\n",
       "    </tr>\n",
       "    <tr>\n",
       "      <th>808</th>\n",
       "      <td>1</td>\n",
       "      <td>vi</td>\n",
       "      <td>PT081</td>\n",
       "    </tr>\n",
       "    <tr>\n",
       "      <th>809</th>\n",
       "      <td>1</td>\n",
       "      <td>viii</td>\n",
       "      <td>PT081</td>\n",
       "    </tr>\n",
       "    <tr>\n",
       "      <th>810</th>\n",
       "      <td>2</td>\n",
       "      <td>ix</td>\n",
       "      <td>PT081</td>\n",
       "    </tr>\n",
       "    <tr>\n",
       "      <th>811</th>\n",
       "      <td>0</td>\n",
       "      <td>xii</td>\n",
       "      <td>PT081</td>\n",
       "    </tr>\n",
       "  </tbody>\n",
       "</table>\n",
       "</div>"
      ],
      "text/plain": [
       "     eggim_square landmark patient_id\n",
       "807             1      vii      PT081\n",
       "808             1       vi      PT081\n",
       "809             1     viii      PT081\n",
       "810             2       ix      PT081\n",
       "811             0      xii      PT081"
      ]
     },
     "execution_count": 5,
     "metadata": {},
     "output_type": "execute_result"
    }
   ],
   "source": [
    "df_patients = df_togas[df_togas['patient_id'].isin(patient_ids)].drop(['bbox','eggim_global','image_directory'],axis=1)\n",
    "df_patients = df_patients.drop_duplicates(subset=['patient_id','landmark'])\n",
    "df_patients['landmark'] = df_patients['landmark'].apply(replace_landmark_name)\n",
    "\n",
    "df_patients[df_patients['patient_id'] == 'PT081']"
   ]
  },
  {
   "cell_type": "code",
   "execution_count": 6,
   "metadata": {},
   "outputs": [],
   "source": [
    "filtered_df = df_patients[df_patients['landmark'].isin(['ix','x'])]\n",
    "filtered_df = filtered_df.groupby(['patient_id'], as_index=False).agg({'eggim_square' : 'mean', 'landmark' : lambda x : 'ix'})\n",
    "\n",
    "df_patients = df_patients[~df_patients['landmark'].isin(['ix','x'])]\n",
    "\n",
    "df_patients = pd.concat([df_patients, filtered_df])"
   ]
  },
  {
   "cell_type": "code",
   "execution_count": 7,
   "metadata": {},
   "outputs": [],
   "source": [
    "filtered_df = df_patients[df_patients['landmark'].isin(['ii','xii'])]\n",
    "filtered_df = filtered_df.groupby(['patient_id'], as_index=False).agg({'eggim_square' : 'mean', 'landmark' : lambda x : 'ii'})\n",
    "\n",
    "df_patients = df_patients[~df_patients['landmark'].isin(['ii','xii'])]\n",
    "\n",
    "df_patients = pd.concat([df_patients, filtered_df])"
   ]
  },
  {
   "cell_type": "code",
   "execution_count": 8,
   "metadata": {},
   "outputs": [
    {
     "data": {
      "text/html": [
       "<div>\n",
       "<style scoped>\n",
       "    .dataframe tbody tr th:only-of-type {\n",
       "        vertical-align: middle;\n",
       "    }\n",
       "\n",
       "    .dataframe tbody tr th {\n",
       "        vertical-align: top;\n",
       "    }\n",
       "\n",
       "    .dataframe thead th {\n",
       "        text-align: right;\n",
       "    }\n",
       "</style>\n",
       "<table border=\"1\" class=\"dataframe\">\n",
       "  <thead>\n",
       "    <tr style=\"text-align: right;\">\n",
       "      <th></th>\n",
       "      <th>eggim_square</th>\n",
       "      <th>landmark</th>\n",
       "      <th>patient_id</th>\n",
       "    </tr>\n",
       "  </thead>\n",
       "  <tbody>\n",
       "    <tr>\n",
       "      <th>8</th>\n",
       "      <td>0.0</td>\n",
       "      <td>vi</td>\n",
       "      <td>PT004</td>\n",
       "    </tr>\n",
       "    <tr>\n",
       "      <th>9</th>\n",
       "      <td>1.0</td>\n",
       "      <td>viii</td>\n",
       "      <td>PT004</td>\n",
       "    </tr>\n",
       "    <tr>\n",
       "      <th>16</th>\n",
       "      <td>0.0</td>\n",
       "      <td>vii</td>\n",
       "      <td>PT004</td>\n",
       "    </tr>\n",
       "    <tr>\n",
       "      <th>18</th>\n",
       "      <td>0.0</td>\n",
       "      <td>vii</td>\n",
       "      <td>PT005</td>\n",
       "    </tr>\n",
       "    <tr>\n",
       "      <th>19</th>\n",
       "      <td>1.0</td>\n",
       "      <td>vi</td>\n",
       "      <td>PT005</td>\n",
       "    </tr>\n",
       "    <tr>\n",
       "      <th>...</th>\n",
       "      <td>...</td>\n",
       "      <td>...</td>\n",
       "      <td>...</td>\n",
       "    </tr>\n",
       "    <tr>\n",
       "      <th>60</th>\n",
       "      <td>0.0</td>\n",
       "      <td>ii</td>\n",
       "      <td>PT081</td>\n",
       "    </tr>\n",
       "    <tr>\n",
       "      <th>61</th>\n",
       "      <td>0.0</td>\n",
       "      <td>ii</td>\n",
       "      <td>PT082</td>\n",
       "    </tr>\n",
       "    <tr>\n",
       "      <th>62</th>\n",
       "      <td>0.0</td>\n",
       "      <td>ii</td>\n",
       "      <td>PT083</td>\n",
       "    </tr>\n",
       "    <tr>\n",
       "      <th>63</th>\n",
       "      <td>0.0</td>\n",
       "      <td>ii</td>\n",
       "      <td>PT084</td>\n",
       "    </tr>\n",
       "    <tr>\n",
       "      <th>64</th>\n",
       "      <td>0.0</td>\n",
       "      <td>ii</td>\n",
       "      <td>PT086</td>\n",
       "    </tr>\n",
       "  </tbody>\n",
       "</table>\n",
       "<p>325 rows × 3 columns</p>\n",
       "</div>"
      ],
      "text/plain": [
       "    eggim_square landmark patient_id\n",
       "8            0.0       vi      PT004\n",
       "9            1.0     viii      PT004\n",
       "16           0.0      vii      PT004\n",
       "18           0.0      vii      PT005\n",
       "19           1.0       vi      PT005\n",
       "..           ...      ...        ...\n",
       "60           0.0       ii      PT081\n",
       "61           0.0       ii      PT082\n",
       "62           0.0       ii      PT083\n",
       "63           0.0       ii      PT084\n",
       "64           0.0       ii      PT086\n",
       "\n",
       "[325 rows x 3 columns]"
      ]
     },
     "execution_count": 8,
     "metadata": {},
     "output_type": "execute_result"
    }
   ],
   "source": [
    "df_patients"
   ]
  },
  {
   "cell_type": "code",
   "execution_count": 9,
   "metadata": {},
   "outputs": [],
   "source": [
    "df_per_patient = df_patients.groupby(['patient_id'], as_index=False).sum()\n",
    "df_per_patient['eggim_square'] = df_per_patient['eggim_square'].astype(int)\n"
   ]
  },
  {
   "cell_type": "code",
   "execution_count": 10,
   "metadata": {},
   "outputs": [
    {
     "data": {
      "text/html": [
       "<div>\n",
       "<style scoped>\n",
       "    .dataframe tbody tr th:only-of-type {\n",
       "        vertical-align: middle;\n",
       "    }\n",
       "\n",
       "    .dataframe tbody tr th {\n",
       "        vertical-align: top;\n",
       "    }\n",
       "\n",
       "    .dataframe thead th {\n",
       "        text-align: right;\n",
       "    }\n",
       "</style>\n",
       "<table border=\"1\" class=\"dataframe\">\n",
       "  <thead>\n",
       "    <tr style=\"text-align: right;\">\n",
       "      <th></th>\n",
       "      <th>patient_id</th>\n",
       "      <th>eggim_square</th>\n",
       "      <th>landmark</th>\n",
       "    </tr>\n",
       "  </thead>\n",
       "  <tbody>\n",
       "    <tr>\n",
       "      <th>0</th>\n",
       "      <td>PT004</td>\n",
       "      <td>1</td>\n",
       "      <td>viviiiviiixii</td>\n",
       "    </tr>\n",
       "    <tr>\n",
       "      <th>1</th>\n",
       "      <td>PT005</td>\n",
       "      <td>3</td>\n",
       "      <td>viiviviiiixii</td>\n",
       "    </tr>\n",
       "    <tr>\n",
       "      <th>2</th>\n",
       "      <td>PT006</td>\n",
       "      <td>2</td>\n",
       "      <td>viiiviiviixii</td>\n",
       "    </tr>\n",
       "    <tr>\n",
       "      <th>3</th>\n",
       "      <td>PT009</td>\n",
       "      <td>9</td>\n",
       "      <td>viiviviiiixii</td>\n",
       "    </tr>\n",
       "    <tr>\n",
       "      <th>4</th>\n",
       "      <td>PT011</td>\n",
       "      <td>5</td>\n",
       "      <td>viviiviiiixii</td>\n",
       "    </tr>\n",
       "    <tr>\n",
       "      <th>...</th>\n",
       "      <td>...</td>\n",
       "      <td>...</td>\n",
       "      <td>...</td>\n",
       "    </tr>\n",
       "    <tr>\n",
       "      <th>60</th>\n",
       "      <td>PT081</td>\n",
       "      <td>5</td>\n",
       "      <td>viiviviiiixii</td>\n",
       "    </tr>\n",
       "    <tr>\n",
       "      <th>61</th>\n",
       "      <td>PT082</td>\n",
       "      <td>5</td>\n",
       "      <td>viiviviiiixii</td>\n",
       "    </tr>\n",
       "    <tr>\n",
       "      <th>62</th>\n",
       "      <td>PT083</td>\n",
       "      <td>0</td>\n",
       "      <td>viiviviiiixii</td>\n",
       "    </tr>\n",
       "    <tr>\n",
       "      <th>63</th>\n",
       "      <td>PT084</td>\n",
       "      <td>6</td>\n",
       "      <td>viiviviiiixii</td>\n",
       "    </tr>\n",
       "    <tr>\n",
       "      <th>64</th>\n",
       "      <td>PT086</td>\n",
       "      <td>2</td>\n",
       "      <td>viiviviiiixii</td>\n",
       "    </tr>\n",
       "  </tbody>\n",
       "</table>\n",
       "<p>65 rows × 3 columns</p>\n",
       "</div>"
      ],
      "text/plain": [
       "   patient_id  eggim_square       landmark\n",
       "0       PT004             1  viviiiviiixii\n",
       "1       PT005             3  viiviviiiixii\n",
       "2       PT006             2  viiiviiviixii\n",
       "3       PT009             9  viiviviiiixii\n",
       "4       PT011             5  viviiviiiixii\n",
       "..        ...           ...            ...\n",
       "60      PT081             5  viiviviiiixii\n",
       "61      PT082             5  viiviviiiixii\n",
       "62      PT083             0  viiviviiiixii\n",
       "63      PT084             6  viiviviiiixii\n",
       "64      PT086             2  viiviviiiixii\n",
       "\n",
       "[65 rows x 3 columns]"
      ]
     },
     "execution_count": 10,
     "metadata": {},
     "output_type": "execute_result"
    }
   ],
   "source": [
    "df_per_patient"
   ]
  },
  {
   "cell_type": "code",
   "execution_count": 18,
   "metadata": {},
   "outputs": [
    {
     "name": "stderr",
     "output_type": "stream",
     "text": [
      "/home/goda/Desktop/tese/venv_3.10.12/lib/python3.10/site-packages/sklearn/model_selection/_split.py:805: UserWarning: The least populated class in y has only 1 members, which is less than n_splits=5.\n",
      "  warnings.warn(\n"
     ]
    },
    {
     "data": {
      "text/plain": [
       "[['PT004',\n",
       "  'PT005',\n",
       "  'PT006',\n",
       "  'PT011',\n",
       "  'PT013',\n",
       "  'PT015',\n",
       "  'PT016',\n",
       "  'PT020',\n",
       "  'PT023',\n",
       "  'PT024',\n",
       "  'PT030',\n",
       "  'PT032',\n",
       "  'PT037'],\n",
       " ['PT021',\n",
       "  'PT025',\n",
       "  'PT026',\n",
       "  'PT028',\n",
       "  'PT029',\n",
       "  'PT031',\n",
       "  'PT036',\n",
       "  'PT041',\n",
       "  'PT046',\n",
       "  'PT047',\n",
       "  'PT048',\n",
       "  'PT049',\n",
       "  'PT059'],\n",
       " ['PT009',\n",
       "  'PT022',\n",
       "  'PT034',\n",
       "  'PT039',\n",
       "  'PT040',\n",
       "  'PT043',\n",
       "  'PT051',\n",
       "  'PT061',\n",
       "  'PT062',\n",
       "  'PT063',\n",
       "  'PT064',\n",
       "  'PT065',\n",
       "  'PT066'],\n",
       " ['PT035',\n",
       "  'PT038',\n",
       "  'PT045',\n",
       "  'PT050',\n",
       "  'PT053',\n",
       "  'PT054',\n",
       "  'PT067',\n",
       "  'PT068',\n",
       "  'PT070',\n",
       "  'PT071',\n",
       "  'PT072',\n",
       "  'PT076',\n",
       "  'PT081'],\n",
       " ['PT060',\n",
       "  'PT069',\n",
       "  'PT073',\n",
       "  'PT074',\n",
       "  'PT075',\n",
       "  'PT077',\n",
       "  'PT078',\n",
       "  'PT079',\n",
       "  'PT080',\n",
       "  'PT082',\n",
       "  'PT083',\n",
       "  'PT084',\n",
       "  'PT086']]"
      ]
     },
     "execution_count": 18,
     "metadata": {},
     "output_type": "execute_result"
    }
   ],
   "source": [
    "def get_folds(eggim,patients):\n",
    "    skf = StratifiedKFold(n_splits=5,shuffle=False)\n",
    "    folds = []\n",
    "    for _, (_, test_index) in enumerate(skf.split(patients,eggim)):\n",
    "        p_list = [patients[index] for index in test_index ]\n",
    "        folds.append(p_list)\n",
    "\n",
    "    return folds\n",
    "\n",
    "folds = get_folds(df_per_patient['eggim_square'].to_list(),df_per_patient['patient_id'].to_list())\n",
    "folds"
   ]
  }
 ],
 "metadata": {
  "kernelspec": {
   "display_name": "venv_3.10.12",
   "language": "python",
   "name": "python3"
  },
  "language_info": {
   "codemirror_mode": {
    "name": "ipython",
    "version": 3
   },
   "file_extension": ".py",
   "mimetype": "text/x-python",
   "name": "python",
   "nbconvert_exporter": "python",
   "pygments_lexer": "ipython3",
   "version": "3.10.12"
  }
 },
 "nbformat": 4,
 "nbformat_minor": 2
}
